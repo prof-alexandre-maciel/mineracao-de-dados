{
  "nbformat": 4,
  "nbformat_minor": 0,
  "metadata": {
    "colab": {
      "name": "Assign4.ipynb",
      "provenance": [],
      "include_colab_link": true
    },
    "kernelspec": {
      "name": "python3",
      "display_name": "Python 3"
    }
  },
  "cells": [
    {
      "cell_type": "markdown",
      "metadata": {
        "id": "view-in-github",
        "colab_type": "text"
      },
      "source": [
        "<a href=\"https://colab.research.google.com/github/renanalencar/projeto-md-emocoes/blob/main/entregas/Assign4.ipynb\" target=\"_parent\"><img src=\"https://colab.research.google.com/assets/colab-badge.svg\" alt=\"Open In Colab\"/></a>"
      ]
    },
    {
      "cell_type": "markdown",
      "metadata": {
        "id": "8XLnwTUTL2vk"
      },
      "source": [
        "Exemplo de conexão do Google Colab com banco de dados SQLite.  \n",
        "Retirado de https://www.plus2net.com/python/sqlite-colab.php  \n",
        "https://datacarpentry.org/python-ecology-lesson/09-working-with-sql/index.html  \n",
        "https://www.geeksforgeeks.org/absolute-and-relative-frequency-in-pandas/  \n",
        "https://medium.com/data-hackers/uma-introdu%C3%A7%C3%A3o-simples-ao-pandas-1e15eea37fa1  "
      ]
    },
    {
      "cell_type": "code",
      "metadata": {
        "id": "EBy22bMZUeq1",
        "colab": {
          "base_uri": "https://localhost:8080/"
        },
        "outputId": "a0b71c7b-044e-414a-cba1-0d90a3b10852"
      },
      "source": [
        "from google.colab import drive\n",
        "drive.mount('/content/drive')"
      ],
      "execution_count": null,
      "outputs": [
        {
          "output_type": "stream",
          "text": [
            "Drive already mounted at /content/drive; to attempt to forcibly remount, call drive.mount(\"/content/drive\", force_remount=True).\n"
          ],
          "name": "stdout"
        }
      ]
    },
    {
      "cell_type": "code",
      "metadata": {
        "colab": {
          "base_uri": "https://localhost:8080/",
          "height": 297
        },
        "id": "-VZ9quOLd2D6",
        "outputId": "9aed9044-73dc-453f-ff23-c61e8290baea"
      },
      "source": [
        "# importar os pacotes necessários\n",
        "import pandas as pd\n",
        "import numpy as np\n",
        "import matplotlib.pyplot as plt\n",
        "import seaborn as sns\n",
        "\n",
        "%matplotlib inline\n",
        "\n",
        "import sqlite3\n",
        "\n",
        "# ler os resultados da query do sqlite para uma DataFrame pandas\n",
        "con = sqlite3.connect(\"/content/drive/Shareddrives/MINERAÇÃO DE DADOS ENG74291/Database/database.sqlite\")\n",
        "df = pd.read_sql_query(\"SELECT * from logs\", con)\n",
        "con.close()\n",
        "\n",
        "# visualizar as 8 primeiras entradas no dataset\n",
        "df.head(8)"
      ],
      "execution_count": null,
      "outputs": [
        {
          "output_type": "execute_result",
          "data": {
            "text/html": [
              "<div>\n",
              "<style scoped>\n",
              "    .dataframe tbody tr th:only-of-type {\n",
              "        vertical-align: middle;\n",
              "    }\n",
              "\n",
              "    .dataframe tbody tr th {\n",
              "        vertical-align: top;\n",
              "    }\n",
              "\n",
              "    .dataframe thead th {\n",
              "        text-align: right;\n",
              "    }\n",
              "</style>\n",
              "<table border=\"1\" class=\"dataframe\">\n",
              "  <thead>\n",
              "    <tr style=\"text-align: right;\">\n",
              "      <th></th>\n",
              "      <th>fk_game</th>\n",
              "      <th>timestamp</th>\n",
              "      <th>uuid</th>\n",
              "      <th>data</th>\n",
              "    </tr>\n",
              "  </thead>\n",
              "  <tbody>\n",
              "    <tr>\n",
              "      <th>0</th>\n",
              "      <td>1</td>\n",
              "      <td>1605668523</td>\n",
              "      <td>2</td>\n",
              "      <td>[{\"t\":1605668522404,\"d\":\"\\\"menu_start\\\"\"}]</td>\n",
              "    </tr>\n",
              "    <tr>\n",
              "      <th>1</th>\n",
              "      <td>1</td>\n",
              "      <td>1605708233</td>\n",
              "      <td>4</td>\n",
              "      <td>[{\"t\":1605708215118,\"d\":\"\\\"menu_start\\\"\"}]</td>\n",
              "    </tr>\n",
              "    <tr>\n",
              "      <th>2</th>\n",
              "      <td>1</td>\n",
              "      <td>1605708235</td>\n",
              "      <td>4</td>\n",
              "      <td>[{\"t\":1605708216674,\"d\":\"\\\"tutorial_start\\\"\"}]</td>\n",
              "    </tr>\n",
              "    <tr>\n",
              "      <th>3</th>\n",
              "      <td>1</td>\n",
              "      <td>1605708240</td>\n",
              "      <td>4</td>\n",
              "      <td>[{\"t\":1605708216758,\"d\":\"{\\\"turn\\\":0,\\\"s\\\":{\\\"...</td>\n",
              "    </tr>\n",
              "    <tr>\n",
              "      <th>4</th>\n",
              "      <td>1</td>\n",
              "      <td>1605708245</td>\n",
              "      <td>4</td>\n",
              "      <td>[{\"t\":1605708222102,\"d\":\"{\\\"e\\\":[{\\\"emotion\\\":...</td>\n",
              "    </tr>\n",
              "    <tr>\n",
              "      <th>5</th>\n",
              "      <td>1</td>\n",
              "      <td>1605708249</td>\n",
              "      <td>4</td>\n",
              "      <td>[{\"t\":1605708226838,\"d\":\"{\\\"e\\\":[{\\\"emotion\\\":...</td>\n",
              "    </tr>\n",
              "    <tr>\n",
              "      <th>6</th>\n",
              "      <td>1</td>\n",
              "      <td>1605708254</td>\n",
              "      <td>4</td>\n",
              "      <td>[{\"t\":1605708230524,\"d\":\"{\\\"e\\\":[{\\\"emotion\\\":...</td>\n",
              "    </tr>\n",
              "    <tr>\n",
              "      <th>7</th>\n",
              "      <td>1</td>\n",
              "      <td>1605708259</td>\n",
              "      <td>4</td>\n",
              "      <td>[{\"t\":1605708235935,\"d\":\"{\\\"e\\\":[{\\\"emotion\\\":...</td>\n",
              "    </tr>\n",
              "  </tbody>\n",
              "</table>\n",
              "</div>"
            ],
            "text/plain": [
              "   fk_game   timestamp uuid                                               data\n",
              "0        1  1605668523    2         [{\"t\":1605668522404,\"d\":\"\\\"menu_start\\\"\"}]\n",
              "1        1  1605708233    4         [{\"t\":1605708215118,\"d\":\"\\\"menu_start\\\"\"}]\n",
              "2        1  1605708235    4     [{\"t\":1605708216674,\"d\":\"\\\"tutorial_start\\\"\"}]\n",
              "3        1  1605708240    4  [{\"t\":1605708216758,\"d\":\"{\\\"turn\\\":0,\\\"s\\\":{\\\"...\n",
              "4        1  1605708245    4  [{\"t\":1605708222102,\"d\":\"{\\\"e\\\":[{\\\"emotion\\\":...\n",
              "5        1  1605708249    4  [{\"t\":1605708226838,\"d\":\"{\\\"e\\\":[{\\\"emotion\\\":...\n",
              "6        1  1605708254    4  [{\"t\":1605708230524,\"d\":\"{\\\"e\\\":[{\\\"emotion\\\":...\n",
              "7        1  1605708259    4  [{\"t\":1605708235935,\"d\":\"{\\\"e\\\":[{\\\"emotion\\\":..."
            ]
          },
          "metadata": {
            "tags": []
          },
          "execution_count": 3
        }
      ]
    },
    {
      "cell_type": "code",
      "metadata": {
        "colab": {
          "base_uri": "https://localhost:8080/"
        },
        "id": "hs20OboTi7TM",
        "outputId": "bbbf7d89-26ab-411a-ec73-1e66e3a82d91"
      },
      "source": [
        "# verificar o tamanho do DataFrame\n",
        "print(\"Variáveis:\\t {}\\n\".format(df.shape[1]))\n",
        "print(\"Entradas:\\t {}\".format(df.shape[0]))"
      ],
      "execution_count": null,
      "outputs": [
        {
          "output_type": "stream",
          "text": [
            "Variáveis:\t 4\n",
            "\n",
            "Entradas:\t 8463\n"
          ],
          "name": "stdout"
        }
      ]
    },
    {
      "cell_type": "code",
      "metadata": {
        "colab": {
          "base_uri": "https://localhost:8080/"
        },
        "id": "pzaPdqgHjNvl",
        "outputId": "d55f8e2a-4d8a-4dfa-ac94-c83d1664c9d1"
      },
      "source": [
        "# vizualisar os nomes das colunas\n",
        "df.columns"
      ],
      "execution_count": null,
      "outputs": [
        {
          "output_type": "execute_result",
          "data": {
            "text/plain": [
              "Index(['fk_game', 'timestamp', 'uuid', 'data'], dtype='object')"
            ]
          },
          "metadata": {
            "tags": []
          },
          "execution_count": 5
        }
      ]
    },
    {
      "cell_type": "code",
      "metadata": {
        "colab": {
          "base_uri": "https://localhost:8080/"
        },
        "id": "jd7pEp-JjUBN",
        "outputId": "8ae1aa76-fe10-4906-d484-a3d0a7e15a15"
      },
      "source": [
        "# descobrir os tipos das variáveis\n",
        "df.dtypes"
      ],
      "execution_count": null,
      "outputs": [
        {
          "output_type": "execute_result",
          "data": {
            "text/plain": [
              "fk_game       int64\n",
              "timestamp     int64\n",
              "uuid         object\n",
              "data         object\n",
              "dtype: object"
            ]
          },
          "metadata": {
            "tags": []
          },
          "execution_count": 6
        }
      ]
    },
    {
      "cell_type": "code",
      "metadata": {
        "colab": {
          "base_uri": "https://localhost:8080/"
        },
        "id": "YpGGvS4kjZdO",
        "outputId": "d49edb81-54b1-416a-c887-1f9b0ae89462"
      },
      "source": [
        "# visualizar os dados inexistentes das colunas\n",
        "(df.isnull().sum()/ df.shape[0]).sort_values(ascending=False)"
      ],
      "execution_count": null,
      "outputs": [
        {
          "output_type": "execute_result",
          "data": {
            "text/plain": [
              "data         0.0\n",
              "uuid         0.0\n",
              "timestamp    0.0\n",
              "fk_game      0.0\n",
              "dtype: float64"
            ]
          },
          "metadata": {
            "tags": []
          },
          "execution_count": 7
        }
      ]
    },
    {
      "cell_type": "code",
      "metadata": {
        "colab": {
          "base_uri": "https://localhost:8080/",
          "height": 297
        },
        "id": "flUrAT2Pjbz0",
        "outputId": "95506c88-8874-46e0-fc04-9a969d78b9d1"
      },
      "source": [
        "# visualizar o resultado estatístico do DataFrame\n",
        "df.describe()"
      ],
      "execution_count": null,
      "outputs": [
        {
          "output_type": "execute_result",
          "data": {
            "text/html": [
              "<div>\n",
              "<style scoped>\n",
              "    .dataframe tbody tr th:only-of-type {\n",
              "        vertical-align: middle;\n",
              "    }\n",
              "\n",
              "    .dataframe tbody tr th {\n",
              "        vertical-align: top;\n",
              "    }\n",
              "\n",
              "    .dataframe thead th {\n",
              "        text-align: right;\n",
              "    }\n",
              "</style>\n",
              "<table border=\"1\" class=\"dataframe\">\n",
              "  <thead>\n",
              "    <tr style=\"text-align: right;\">\n",
              "      <th></th>\n",
              "      <th>fk_game</th>\n",
              "      <th>timestamp</th>\n",
              "    </tr>\n",
              "  </thead>\n",
              "  <tbody>\n",
              "    <tr>\n",
              "      <th>count</th>\n",
              "      <td>8463.000000</td>\n",
              "      <td>8.463000e+03</td>\n",
              "    </tr>\n",
              "    <tr>\n",
              "      <th>mean</th>\n",
              "      <td>1.702470</td>\n",
              "      <td>1.606952e+09</td>\n",
              "    </tr>\n",
              "    <tr>\n",
              "      <th>std</th>\n",
              "      <td>0.887212</td>\n",
              "      <td>1.776110e+06</td>\n",
              "    </tr>\n",
              "    <tr>\n",
              "      <th>min</th>\n",
              "      <td>-1.000000</td>\n",
              "      <td>1.605669e+09</td>\n",
              "    </tr>\n",
              "    <tr>\n",
              "      <th>25%</th>\n",
              "      <td>1.000000</td>\n",
              "      <td>1.605900e+09</td>\n",
              "    </tr>\n",
              "    <tr>\n",
              "      <th>50%</th>\n",
              "      <td>2.000000</td>\n",
              "      <td>1.606164e+09</td>\n",
              "    </tr>\n",
              "    <tr>\n",
              "      <th>75%</th>\n",
              "      <td>2.000000</td>\n",
              "      <td>1.607635e+09</td>\n",
              "    </tr>\n",
              "    <tr>\n",
              "      <th>max</th>\n",
              "      <td>3.000000</td>\n",
              "      <td>1.613068e+09</td>\n",
              "    </tr>\n",
              "  </tbody>\n",
              "</table>\n",
              "</div>"
            ],
            "text/plain": [
              "           fk_game     timestamp\n",
              "count  8463.000000  8.463000e+03\n",
              "mean      1.702470  1.606952e+09\n",
              "std       0.887212  1.776110e+06\n",
              "min      -1.000000  1.605669e+09\n",
              "25%       1.000000  1.605900e+09\n",
              "50%       2.000000  1.606164e+09\n",
              "75%       2.000000  1.607635e+09\n",
              "max       3.000000  1.613068e+09"
            ]
          },
          "metadata": {
            "tags": []
          },
          "execution_count": 8
        }
      ]
    },
    {
      "cell_type": "code",
      "metadata": {
        "id": "xAJHQuhSMYIO"
      },
      "source": [
        "print(df / len(data)) "
      ],
      "execution_count": null,
      "outputs": []
    },
    {
      "cell_type": "code",
      "metadata": {
        "id": "BVYLKJUNjiIn",
        "colab": {
          "base_uri": "https://localhost:8080/"
        },
        "outputId": "347cbb51-5f37-4def-ec87-a111e4773e8a"
      },
      "source": [
        "# visualizar a média do atributo numérico\n",
        "mean_atributo_numerico = df.timestamp.mean()\n",
        "print(round(mean_atributo_numerico,2))"
      ],
      "execution_count": null,
      "outputs": [
        {
          "output_type": "stream",
          "text": [
            "1606952408.46\n"
          ],
          "name": "stdout"
        }
      ]
    },
    {
      "cell_type": "code",
      "metadata": {
        "colab": {
          "base_uri": "https://localhost:8080/"
        },
        "id": "bqrCt4z5JxJ8",
        "outputId": "b6950a6e-1308-477e-aed0-48d55128189c"
      },
      "source": [
        "# valores max e min do atributo numérico\n",
        "max_atributo_numerico = df.timestamp.max()\n",
        "min_atributo_numerico = df.timestamp.min()\n",
        "\n",
        "# visualizar os valores máximos e mínimos\n",
        "print(\"Min:\\t{}\".format(min_atributo_numerico))\n",
        "print(\"Max:\\t{}\".format(max_atributo_numerico))"
      ],
      "execution_count": null,
      "outputs": [
        {
          "output_type": "stream",
          "text": [
            "Min:\t1605668523\n",
            "Max:\t1613068223\n"
          ],
          "name": "stdout"
        }
      ]
    },
    {
      "cell_type": "code",
      "metadata": {
        "colab": {
          "base_uri": "https://localhost:8080/",
          "height": 349
        },
        "id": "tgeonrPEKEHn",
        "outputId": "473738f3-3025-40d4-be60-74717a600f01"
      },
      "source": [
        "# plotar um histograma do atributo numérico\n",
        "df.timestamp.plot(kind=\"hist\",figsize=(5,5), title=\"histograma do atributo numérico\");"
      ],
      "execution_count": null,
      "outputs": [
        {
          "output_type": "display_data",
          "data": {
            "image/png": "[encoded data removed]",
            "text/plain": [
              "<Figure size 360x360 with 1 Axes>"
            ]
          },
          "metadata": {
            "tags": [],
            "needs_background": "light"
          }
        }
      ]
    },
    {
      "cell_type": "code",
      "metadata": {
        "colab": {
          "base_uri": "https://localhost:8080/",
          "height": 224
        },
        "id": "TCqSym3pKY4R",
        "outputId": "a456480e-1cc6-44c3-d812-8ebbf4724823"
      },
      "source": [
        "# plotar bloxplot de atributo numérico\n",
        "df.timestamp.plot(kind='box', vert=False, figsize=(15, 3),)\n",
        "plt.show()"
      ],
      "execution_count": null,
      "outputs": [
        {
          "output_type": "display_data",
          "data": {
            "image/png": "[encoded data removed]",
            "text/plain": [
              "<Figure size 1080x216 with 1 Axes>"
            ]
          },
          "metadata": {
            "tags": [],
            "needs_background": "light"
          }
        }
      ]
    },
    {
      "cell_type": "code",
      "metadata": {
        "colab": {
          "base_uri": "https://localhost:8080/",
          "height": 297
        },
        "id": "nqj9B4JYLi2g",
        "outputId": "0d26e904-3911-4aa4-bb62-436195cb600a"
      },
      "source": [
        "# gráfico de dispersão\n",
        "df.plot.scatter(x='timestamp', y='fk_game')"
      ],
      "execution_count": null,
      "outputs": [
        {
          "output_type": "execute_result",
          "data": {
            "text/plain": [
              "<matplotlib.axes._subplots.AxesSubplot at 0x7f142c408410>"
            ]
          },
          "metadata": {
            "tags": []
          },
          "execution_count": 17
        },
        {
          "output_type": "display_data",
          "data": {
            "image/png": "[encoded data removed]",
            "text/plain": [
              "<Figure size 432x288 with 1 Axes>"
            ]
          },
          "metadata": {
            "tags": [],
            "needs_background": "light"
          }
        }
      ]
    }
  ]
}