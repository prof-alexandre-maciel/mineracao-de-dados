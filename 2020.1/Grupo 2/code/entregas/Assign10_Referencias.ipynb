{
  "nbformat": 4,
  "nbformat_minor": 0,
  "metadata": {
    "colab": {
      "name": "Assign10_Referencias.ipynb",
      "provenance": [],
      "include_colab_link": true
    },
    "kernelspec": {
      "name": "python3",
      "display_name": "Python 3"
    },
    "language_info": {
      "name": "python"
    }
  },
  "cells": [
    {
      "cell_type": "markdown",
      "metadata": {
        "id": "view-in-github",
        "colab_type": "text"
      },
      "source": [
        "<a href=\"https://colab.research.google.com/github/renanalencar/projeto-md-emocoes/blob/main/Assign10_Referencias.ipynb\" target=\"_parent\"><img src=\"https://colab.research.google.com/assets/colab-badge.svg\" alt=\"Open In Colab\"/></a>"
      ]
    },
    {
      "cell_type": "code",
      "metadata": {
        "id": "ULg4-CATfxt_"
      },
      "source": [
        ""
      ],
      "execution_count": null,
      "outputs": []
    },
    {
      "cell_type": "markdown",
      "metadata": {
        "id": "Pp5gHSvWf3zz"
      },
      "source": [
        "# Regras de Associação"
      ]
    },
    {
      "cell_type": "markdown",
      "metadata": {
        "id": "JZWdPB8Af9QW"
      },
      "source": [
        "# 1. Algoritmo A Priori\n",
        "\n",
        "Referências:\n",
        "\n",
        "\n",
        "*   [Implementing Apriori algorithm in Python](https://www.geeksforgeeks.org/implementing-apriori-algorithm-in-python/)\n",
        "*   [Association Rule Learning with Scikit-learn](https://www.kaggle.com/sangwookchn/association-rule-learning-with-scikit-learn)\n",
        "*   [Apriori: Association Rule Mining In-depth Explanation and Python Implementation](https://towardsdatascience.com/apriori-association-rule-mining-explanation-and-python-implementation-290b42afdfc6)\n",
        "*   [Introduction to Apriori Algorithm in Python](https://intellipaat.com/blog/data-science-apriori-algorithm/)\n",
        "\n"
      ]
    },
    {
      "cell_type": "code",
      "metadata": {
        "id": "C9kUXlgqg3di"
      },
      "source": [
        ""
      ],
      "execution_count": null,
      "outputs": []
    },
    {
      "cell_type": "markdown",
      "metadata": {
        "id": "ibieiASxg4AI"
      },
      "source": [
        "#2. Algoritmo FP-Growth\n",
        "\n",
        "Referências:\n",
        "\n",
        "\n",
        "*   [Understand and Build FP-Growth Algorithm in Python](https://towardsdatascience.com/understand-and-build-fp-growth-algorithm-in-python-d8b989bab342)\n",
        "*   [Implementing Apriori and FP-growth](https://www.oreilly.com/library/view/practical-machine-learning/9781784399689/ch07s02.html)\n",
        "*   [FP Growth: Frequent Pattern Generation in Data Mining with Python Implementation](https://towardsdatascience.com/fp-growth-frequent-pattern-generation-in-data-mining-with-python-implementation-244e561ab1c3)\n",
        "\n",
        "\n"
      ]
    },
    {
      "cell_type": "code",
      "metadata": {
        "id": "Al66ZtrAhQ01"
      },
      "source": [
        ""
      ],
      "execution_count": null,
      "outputs": []
    }
  ]
}