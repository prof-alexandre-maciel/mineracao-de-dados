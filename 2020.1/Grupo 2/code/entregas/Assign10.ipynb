{
  "nbformat": 4,
  "nbformat_minor": 0,
  "metadata": {
    "colab": {
      "name": "Assign10.ipynb",
      "provenance": [],
      "collapsed_sections": [],
      "include_colab_link": true
    },
    "kernelspec": {
      "name": "python3",
      "display_name": "Python 3"
    },
    "language_info": {
      "name": "python"
    }
  },
  "cells": [
    {
      "cell_type": "markdown",
      "metadata": {
        "id": "view-in-github",
        "colab_type": "text"
      },
      "source": [
        "<a href=\"https://colab.research.google.com/github/renanalencar/projeto-md-emocoes/blob/main/Assign10.ipynb\" target=\"_parent\"><img src=\"https://colab.research.google.com/assets/colab-badge.svg\" alt=\"Open In Colab\"/></a>"
      ]
    },
    {
      "cell_type": "markdown",
      "metadata": {
        "id": "1X_X5OVwrygf"
      },
      "source": [
        ""
      ]
    },
    {
      "cell_type": "code",
      "metadata": {
        "id": "Y7T5mWjiDqfa"
      },
      "source": [
        "import pandas as pd\n",
        "import numpy as np\n",
        "import matplotlib.pyplot as plt\n",
        "import seaborn as sns\n",
        "from sklearn.preprocessing import MinMaxScaler\n",
        "from mlxtend.preprocessing import TransactionEncoder\n",
        "from mlxtend.frequent_patterns import apriori,association_rules\n",
        "from mlxtend.frequent_patterns import association_rules\n",
        "import itertools\n",
        "import warnings\n",
        "warnings.filterwarnings(\"ignore\")\n",
        "warnings.simplefilter(action='ignore', category=FutureWarning)\n",
        "\n",
        "%matplotlib inline\n",
        "\n",
        "from google.colab import drive\n",
        "drive.mount('/content/drive', force_remount=True)"
      ],
      "execution_count": null,
      "outputs": []
    },
    {
      "cell_type": "markdown",
      "metadata": {
        "id": "0eRLyfyjFaUX"
      },
      "source": [
        "# Tratando os dados"
      ]
    },
    {
      "cell_type": "code",
      "metadata": {
        "colab": {
          "base_uri": "https://localhost:8080/",
          "height": 297
        },
        "id": "Nvgvq2fHEx_w",
        "outputId": "b58a6ef5-8d65-4779-9878-2e8d952998a0"
      },
      "source": [
        "arquivo_tedio = \"/content/drive/Shareddrives/MINERAÇÃO DE DADOS ENG74291/Database/cluster01_tedio_estresse/dadosTedioB_cluster1.xlsx\"\n",
        "df_tedio = pd.read_excel(arquivo_tedio)\n",
        "\n",
        "# deixar no dataframe somente com as linhas correspondentes ao game_id 1\n",
        "df_tedio = df_tedio.drop(columns=['timestamp', 'game_name', 'uuid', 'p1', 'p2', 'p3', 'p4', 'p5', 'p6', 'p7', 'p8', 'p9', 'p10', 'p11', 'p12', 'p13', 'p14', 'p15', 'p16', 'p17', 'p18', 'p19', 'p20', 'p21', 'p22', 'p23','p24'])\n",
        "\n",
        "filtro  = df_tedio[\"game_id\"] == 1\n",
        "df_tedio = df_tedio[filtro]\n",
        "df_tedio = df_tedio.drop(columns=['game_id'])\n",
        "\n",
        "# visualizar as 8 primeiras entradas do df\n",
        "df_tedio.head(8)"
      ],
      "execution_count": null,
      "outputs": [
        {
          "output_type": "execute_result",
          "data": {
            "text/html": [
              "<div>\n",
              "<style scoped>\n",
              "    .dataframe tbody tr th:only-of-type {\n",
              "        vertical-align: middle;\n",
              "    }\n",
              "\n",
              "    .dataframe tbody tr th {\n",
              "        vertical-align: top;\n",
              "    }\n",
              "\n",
              "    .dataframe thead th {\n",
              "        text-align: right;\n",
              "    }\n",
              "</style>\n",
              "<table border=\"1\" class=\"dataframe\">\n",
              "  <thead>\n",
              "    <tr style=\"text-align: right;\">\n",
              "      <th></th>\n",
              "      <th>angry</th>\n",
              "      <th>disgusted</th>\n",
              "      <th>fear</th>\n",
              "      <th>sad</th>\n",
              "      <th>surprised</th>\n",
              "      <th>happy</th>\n",
              "    </tr>\n",
              "  </thead>\n",
              "  <tbody>\n",
              "    <tr>\n",
              "      <th>0</th>\n",
              "      <td>0.034800</td>\n",
              "      <td>0.057187</td>\n",
              "      <td>0.010910</td>\n",
              "      <td>0.125495</td>\n",
              "      <td>0.191988</td>\n",
              "      <td>0.131196</td>\n",
              "    </tr>\n",
              "    <tr>\n",
              "      <th>1</th>\n",
              "      <td>0.040922</td>\n",
              "      <td>0.065980</td>\n",
              "      <td>0.009346</td>\n",
              "      <td>0.123534</td>\n",
              "      <td>0.117035</td>\n",
              "      <td>0.136284</td>\n",
              "    </tr>\n",
              "    <tr>\n",
              "      <th>2</th>\n",
              "      <td>0.029513</td>\n",
              "      <td>0.050042</td>\n",
              "      <td>0.009480</td>\n",
              "      <td>0.120868</td>\n",
              "      <td>0.194130</td>\n",
              "      <td>0.185262</td>\n",
              "    </tr>\n",
              "    <tr>\n",
              "      <th>3</th>\n",
              "      <td>0.037817</td>\n",
              "      <td>0.071314</td>\n",
              "      <td>0.010974</td>\n",
              "      <td>0.166960</td>\n",
              "      <td>0.150470</td>\n",
              "      <td>0.122635</td>\n",
              "    </tr>\n",
              "    <tr>\n",
              "      <th>4</th>\n",
              "      <td>0.040636</td>\n",
              "      <td>0.067900</td>\n",
              "      <td>0.010229</td>\n",
              "      <td>0.137022</td>\n",
              "      <td>0.154919</td>\n",
              "      <td>0.132826</td>\n",
              "    </tr>\n",
              "    <tr>\n",
              "      <th>5</th>\n",
              "      <td>0.024871</td>\n",
              "      <td>0.045830</td>\n",
              "      <td>0.008720</td>\n",
              "      <td>0.153731</td>\n",
              "      <td>0.235671</td>\n",
              "      <td>0.183499</td>\n",
              "    </tr>\n",
              "    <tr>\n",
              "      <th>6</th>\n",
              "      <td>0.042983</td>\n",
              "      <td>0.077609</td>\n",
              "      <td>0.011438</td>\n",
              "      <td>0.175638</td>\n",
              "      <td>0.128352</td>\n",
              "      <td>0.108902</td>\n",
              "    </tr>\n",
              "    <tr>\n",
              "      <th>7</th>\n",
              "      <td>0.037752</td>\n",
              "      <td>0.062227</td>\n",
              "      <td>0.010248</td>\n",
              "      <td>0.155643</td>\n",
              "      <td>0.159876</td>\n",
              "      <td>0.125097</td>\n",
              "    </tr>\n",
              "  </tbody>\n",
              "</table>\n",
              "</div>"
            ],
            "text/plain": [
              "      angry  disgusted      fear       sad  surprised     happy\n",
              "0  0.034800   0.057187  0.010910  0.125495   0.191988  0.131196\n",
              "1  0.040922   0.065980  0.009346  0.123534   0.117035  0.136284\n",
              "2  0.029513   0.050042  0.009480  0.120868   0.194130  0.185262\n",
              "3  0.037817   0.071314  0.010974  0.166960   0.150470  0.122635\n",
              "4  0.040636   0.067900  0.010229  0.137022   0.154919  0.132826\n",
              "5  0.024871   0.045830  0.008720  0.153731   0.235671  0.183499\n",
              "6  0.042983   0.077609  0.011438  0.175638   0.128352  0.108902\n",
              "7  0.037752   0.062227  0.010248  0.155643   0.159876  0.125097"
            ]
          },
          "metadata": {
            "tags": []
          },
          "execution_count": 3
        }
      ]
    },
    {
      "cell_type": "markdown",
      "metadata": {
        "id": "zOBULP3CFbt6"
      },
      "source": [
        "## Ajustando valores contínuos\n"
      ]
    },
    {
      "cell_type": "code",
      "metadata": {
        "colab": {
          "base_uri": "https://localhost:8080/"
        },
        "id": "3EAhdbJiFh40",
        "outputId": "5946d3d2-39e8-4661-c83b-28343de35703"
      },
      "source": [
        "matrix = df_tedio.to_numpy()\n",
        "\n",
        "matrix"
      ],
      "execution_count": null,
      "outputs": [
        {
          "output_type": "execute_result",
          "data": {
            "text/plain": [
              "array([[0.03479982, 0.05718747, 0.01091015, 0.12549546, 0.19198831,\n",
              "        0.13119609],\n",
              "       [0.04092193, 0.06597964, 0.00934601, 0.1235335 , 0.11703547,\n",
              "        0.1362838 ],\n",
              "       [0.02951298, 0.05004201, 0.00948046, 0.12086825, 0.19413033,\n",
              "        0.18526204],\n",
              "       ...,\n",
              "       [0.43974007, 0.6773404 , 0.03127823, 0.08544805, 0.00248411,\n",
              "        0.00528486],\n",
              "       [0.22045008, 0.46955588, 0.02042898, 0.09037666, 0.00441339,\n",
              "        0.01749024],\n",
              "       [0.49184734, 0.68961991, 0.02856505, 0.08411918, 0.00161628,\n",
              "        0.00458242]])"
            ]
          },
          "metadata": {
            "tags": []
          },
          "execution_count": 4
        }
      ]
    },
    {
      "cell_type": "code",
      "metadata": {
        "colab": {
          "base_uri": "https://localhost:8080/"
        },
        "id": "6UQ-s0g6Jrta",
        "outputId": "9be5795d-4d28-4311-d740-c1ed28406e0d"
      },
      "source": [
        "matrix.T"
      ],
      "execution_count": null,
      "outputs": [
        {
          "output_type": "execute_result",
          "data": {
            "text/plain": [
              "array([[0.03479982, 0.04092193, 0.02951298, ..., 0.43974007, 0.22045008,\n",
              "        0.49184734],\n",
              "       [0.05718747, 0.06597964, 0.05004201, ..., 0.6773404 , 0.46955588,\n",
              "        0.68961991],\n",
              "       [0.01091015, 0.00934601, 0.00948046, ..., 0.03127823, 0.02042898,\n",
              "        0.02856505],\n",
              "       [0.12549546, 0.1235335 , 0.12086825, ..., 0.08544805, 0.09037666,\n",
              "        0.08411918],\n",
              "       [0.19198831, 0.11703547, 0.19413033, ..., 0.00248411, 0.00441339,\n",
              "        0.00161628],\n",
              "       [0.13119609, 0.1362838 , 0.18526204, ..., 0.00528486, 0.01749024,\n",
              "        0.00458242]])"
            ]
          },
          "metadata": {
            "tags": []
          },
          "execution_count": 4
        }
      ]
    },
    {
      "cell_type": "code",
      "metadata": {
        "colab": {
          "base_uri": "https://localhost:8080/",
          "height": 419
        },
        "id": "8c8JRcmuJ6p4",
        "outputId": "7b272d96-1f55-42c8-fa7d-72cd1e3f8016"
      },
      "source": [
        "np_data = np.linalg.pinv(matrix.T)\n",
        "data = pd.DataFrame(np_data, columns = ['angry', 'disgusted','fear','sad','surprised','happy'])\n",
        "data"
      ],
      "execution_count": null,
      "outputs": [
        {
          "output_type": "execute_result",
          "data": {
            "text/html": [
              "<div>\n",
              "<style scoped>\n",
              "    .dataframe tbody tr th:only-of-type {\n",
              "        vertical-align: middle;\n",
              "    }\n",
              "\n",
              "    .dataframe tbody tr th {\n",
              "        vertical-align: top;\n",
              "    }\n",
              "\n",
              "    .dataframe thead th {\n",
              "        text-align: right;\n",
              "    }\n",
              "</style>\n",
              "<table border=\"1\" class=\"dataframe\">\n",
              "  <thead>\n",
              "    <tr style=\"text-align: right;\">\n",
              "      <th></th>\n",
              "      <th>angry</th>\n",
              "      <th>disgusted</th>\n",
              "      <th>fear</th>\n",
              "      <th>sad</th>\n",
              "      <th>surprised</th>\n",
              "      <th>happy</th>\n",
              "    </tr>\n",
              "  </thead>\n",
              "  <tbody>\n",
              "    <tr>\n",
              "      <th>0</th>\n",
              "      <td>-0.000209</td>\n",
              "      <td>0.000341</td>\n",
              "      <td>-0.001301</td>\n",
              "      <td>0.000022</td>\n",
              "      <td>0.001023</td>\n",
              "      <td>-0.000107</td>\n",
              "    </tr>\n",
              "    <tr>\n",
              "      <th>1</th>\n",
              "      <td>-0.000139</td>\n",
              "      <td>0.000221</td>\n",
              "      <td>-0.000716</td>\n",
              "      <td>0.000101</td>\n",
              "      <td>0.000450</td>\n",
              "      <td>0.000080</td>\n",
              "    </tr>\n",
              "    <tr>\n",
              "      <th>2</th>\n",
              "      <td>-0.000091</td>\n",
              "      <td>0.000175</td>\n",
              "      <td>-0.001172</td>\n",
              "      <td>-0.000028</td>\n",
              "      <td>0.000916</td>\n",
              "      <td>0.000102</td>\n",
              "    </tr>\n",
              "    <tr>\n",
              "      <th>3</th>\n",
              "      <td>-0.000341</td>\n",
              "      <td>0.000437</td>\n",
              "      <td>-0.001105</td>\n",
              "      <td>0.000201</td>\n",
              "      <td>0.000695</td>\n",
              "      <td>-0.000101</td>\n",
              "    </tr>\n",
              "    <tr>\n",
              "      <th>4</th>\n",
              "      <td>-0.000222</td>\n",
              "      <td>0.000334</td>\n",
              "      <td>-0.001053</td>\n",
              "      <td>0.000098</td>\n",
              "      <td>0.000736</td>\n",
              "      <td>-0.000038</td>\n",
              "    </tr>\n",
              "    <tr>\n",
              "      <th>...</th>\n",
              "      <td>...</td>\n",
              "      <td>...</td>\n",
              "      <td>...</td>\n",
              "      <td>...</td>\n",
              "      <td>...</td>\n",
              "      <td>...</td>\n",
              "    </tr>\n",
              "    <tr>\n",
              "      <th>5427</th>\n",
              "      <td>-0.002450</td>\n",
              "      <td>0.003551</td>\n",
              "      <td>-0.000513</td>\n",
              "      <td>0.000073</td>\n",
              "      <td>0.000504</td>\n",
              "      <td>-0.000886</td>\n",
              "    </tr>\n",
              "    <tr>\n",
              "      <th>5428</th>\n",
              "      <td>-0.001750</td>\n",
              "      <td>0.002997</td>\n",
              "      <td>-0.000344</td>\n",
              "      <td>0.000030</td>\n",
              "      <td>0.000417</td>\n",
              "      <td>-0.000799</td>\n",
              "    </tr>\n",
              "    <tr>\n",
              "      <th>5429</th>\n",
              "      <td>-0.001974</td>\n",
              "      <td>0.003317</td>\n",
              "      <td>-0.000527</td>\n",
              "      <td>0.000022</td>\n",
              "      <td>0.000524</td>\n",
              "      <td>-0.000887</td>\n",
              "    </tr>\n",
              "    <tr>\n",
              "      <th>5430</th>\n",
              "      <td>-0.002627</td>\n",
              "      <td>0.003339</td>\n",
              "      <td>-0.000506</td>\n",
              "      <td>0.000150</td>\n",
              "      <td>0.000413</td>\n",
              "      <td>-0.000763</td>\n",
              "    </tr>\n",
              "    <tr>\n",
              "      <th>5431</th>\n",
              "      <td>-0.001350</td>\n",
              "      <td>0.002828</td>\n",
              "      <td>-0.000582</td>\n",
              "      <td>-0.000005</td>\n",
              "      <td>0.000513</td>\n",
              "      <td>-0.000823</td>\n",
              "    </tr>\n",
              "  </tbody>\n",
              "</table>\n",
              "<p>5432 rows × 6 columns</p>\n",
              "</div>"
            ],
            "text/plain": [
              "         angry  disgusted      fear       sad  surprised     happy\n",
              "0    -0.000209   0.000341 -0.001301  0.000022   0.001023 -0.000107\n",
              "1    -0.000139   0.000221 -0.000716  0.000101   0.000450  0.000080\n",
              "2    -0.000091   0.000175 -0.001172 -0.000028   0.000916  0.000102\n",
              "3    -0.000341   0.000437 -0.001105  0.000201   0.000695 -0.000101\n",
              "4    -0.000222   0.000334 -0.001053  0.000098   0.000736 -0.000038\n",
              "...        ...        ...       ...       ...        ...       ...\n",
              "5427 -0.002450   0.003551 -0.000513  0.000073   0.000504 -0.000886\n",
              "5428 -0.001750   0.002997 -0.000344  0.000030   0.000417 -0.000799\n",
              "5429 -0.001974   0.003317 -0.000527  0.000022   0.000524 -0.000887\n",
              "5430 -0.002627   0.003339 -0.000506  0.000150   0.000413 -0.000763\n",
              "5431 -0.001350   0.002828 -0.000582 -0.000005   0.000513 -0.000823\n",
              "\n",
              "[5432 rows x 6 columns]"
            ]
          },
          "metadata": {
            "tags": []
          },
          "execution_count": 5
        }
      ]
    },
    {
      "cell_type": "code",
      "metadata": {
        "id": "DPgBcHzXLlBt"
      },
      "source": [
        "data[data <= 0] = 0\n",
        "data[data > 0] = 1"
      ],
      "execution_count": null,
      "outputs": []
    },
    {
      "cell_type": "markdown",
      "metadata": {
        "id": "1zQ_q_HDMaTC"
      },
      "source": [
        "\n",
        "# Correlação"
      ]
    },
    {
      "cell_type": "code",
      "metadata": {
        "colab": {
          "base_uri": "https://localhost:8080/",
          "height": 607
        },
        "id": "K_elUQVxMcB8",
        "outputId": "582351af-df9d-401c-d713-b9db62db95d5"
      },
      "source": [
        "plt.figure(figsize=(20, 10))\n",
        "sns.heatmap(data.corr(),\n",
        "            annot = True,\n",
        "            fmt = '.2f',\n",
        "            cmap='Blues')\n",
        "plt.title('Correlação entre variáveis do dataset de tédio')\n",
        "plt.show()"
      ],
      "execution_count": null,
      "outputs": [
        {
          "output_type": "display_data",
          "data": {
            "image/png": "[encoded data removed]",
            "text/plain": [
              "<Figure size 1440x720 with 2 Axes>"
            ]
          },
          "metadata": {
            "tags": [],
            "needs_background": "light"
          }
        }
      ]
    },
    {
      "cell_type": "code",
      "metadata": {
        "colab": {
          "base_uri": "https://localhost:8080/"
        },
        "id": "YUs20zyxM2q1",
        "outputId": "0adac013-abb1-4fa9-80e3-d00417fe0a26"
      },
      "source": [
        "data.sum()"
      ],
      "execution_count": null,
      "outputs": [
        {
          "output_type": "execute_result",
          "data": {
            "text/plain": [
              "angry        3299.0\n",
              "disgusted    2682.0\n",
              "fear         2964.0\n",
              "sad          2935.0\n",
              "surprised    2416.0\n",
              "happy        2700.0\n",
              "dtype: float64"
            ]
          },
          "metadata": {
            "tags": []
          },
          "execution_count": 8
        }
      ]
    },
    {
      "cell_type": "code",
      "metadata": {
        "colab": {
          "base_uri": "https://localhost:8080/",
          "height": 299
        },
        "id": "qP1xZJVFU4AK",
        "outputId": "3bcee2a8-a21f-4e24-bdda-05b6cd111a1f"
      },
      "source": [
        "# criar os conjuntos de dados e classes para treinamento e teste\n",
        "from sklearn.model_selection import train_test_split\n",
        "\n",
        "X_treinamento, X_teste, y_treinamento, y_teste = train_test_split(data.drop(columns=['angry']), data.angry, test_size=0.3)\n",
        "\n",
        "from sklearn.ensemble import RandomForestClassifier\n",
        "clf_RFC  = RandomForestClassifier()\n",
        "clf_RFC.fit(X_treinamento, y_treinamento)\n",
        "\n",
        "# Mostrando importância de cada feature\n",
        "clf_RFC.feature_importances_\n",
        "\n",
        "importances = pd.Series(data=clf_RFC.feature_importances_, index=data.columns[1:6])\n",
        "sns.barplot(x=importances, y=importances.index, orient='h').set_title('Importância de cada feature')"
      ],
      "execution_count": null,
      "outputs": [
        {
          "output_type": "execute_result",
          "data": {
            "text/plain": [
              "Text(0.5, 1.0, 'Importância de cada feature')"
            ]
          },
          "metadata": {
            "tags": []
          },
          "execution_count": 49
        },
        {
          "output_type": "display_data",
          "data": {
            "image/png": "[encoded data removed]",
            "text/plain": [
              "<Figure size 432x288 with 1 Axes>"
            ]
          },
          "metadata": {
            "tags": [],
            "needs_background": "light"
          }
        }
      ]
    },
    {
      "cell_type": "code",
      "metadata": {
        "colab": {
          "base_uri": "https://localhost:8080/",
          "height": 281
        },
        "id": "Q1cMZ8keV3Wj",
        "outputId": "b85537c2-5154-4eea-e12d-eadd4363c67d"
      },
      "source": [
        "p = data.copy()\n",
        "for i in range(1, len(p.columns)+1):\n",
        "    p[\"Cat\"] = np.where(p[p.columns[i]] == 1, 1, 0)\n",
        "    p[p.columns[i]]= i\n",
        "    g =sns.scatterplot(p.index, p[p.columns[i]], hue = p.Cat, legend = False)\n",
        "    g.yaxis.set_label_text('Capturas')\n",
        "    g.set_yticks(np.arange(1, len(p.columns)))\n",
        "    g.set_xticks(data.index)\n",
        "    g.set_yticklabels(data.columns)\n",
        "    plt.title(\"Estrutura de dados\")"
      ],
      "execution_count": null,
      "outputs": [
        {
          "output_type": "display_data",
          "data": {
            "image/png": "[encoded data removed]",
            "text/plain": [
              "<Figure size 432x288 with 1 Axes>"
            ]
          },
          "metadata": {
            "tags": [],
            "needs_background": "light"
          }
        }
      ]
    },
    {
      "cell_type": "code",
      "metadata": {
        "colab": {
          "base_uri": "https://localhost:8080/"
        },
        "id": "Jd91jrs0M_BV",
        "outputId": "dfcde7b7-ef46-40b2-9e4a-49dce4779569"
      },
      "source": [
        "!pip install apyori\n",
        "from apyori import apriori as apyori\n",
        "\n",
        "apyori(data)\n",
        "# apriori(data, use_colnames=True)"
      ],
      "execution_count": null,
      "outputs": [
        {
          "output_type": "stream",
          "text": [
            "Requirement already satisfied: apyori in /usr/local/lib/python3.7/dist-packages (1.1.2)\n"
          ],
          "name": "stdout"
        },
        {
          "output_type": "execute_result",
          "data": {
            "text/plain": [
              "<generator object apriori at 0x7efdee625c50>"
            ]
          },
          "metadata": {
            "tags": []
          },
          "execution_count": 12
        }
      ]
    },
    {
      "cell_type": "markdown",
      "metadata": {
        "id": "OgcD4_4iqPG4"
      },
      "source": [
        "# Apriori"
      ]
    },
    {
      "cell_type": "markdown",
      "metadata": {
        "id": "42k6YsDEpQgA"
      },
      "source": [
        "Cálculo do Suporte com mínimo de 60%."
      ]
    },
    {
      "cell_type": "code",
      "metadata": {
        "colab": {
          "base_uri": "https://localhost:8080/",
          "height": 78
        },
        "id": "8MxSDXWBSLAr",
        "outputId": "bcab0a19-a2f8-4d93-c197-c8e787ae634f"
      },
      "source": [
        "apriori(data, min_support=0.6, use_colnames=True)"
      ],
      "execution_count": null,
      "outputs": [
        {
          "output_type": "execute_result",
          "data": {
            "text/html": [
              "<div>\n",
              "<style scoped>\n",
              "    .dataframe tbody tr th:only-of-type {\n",
              "        vertical-align: middle;\n",
              "    }\n",
              "\n",
              "    .dataframe tbody tr th {\n",
              "        vertical-align: top;\n",
              "    }\n",
              "\n",
              "    .dataframe thead th {\n",
              "        text-align: right;\n",
              "    }\n",
              "</style>\n",
              "<table border=\"1\" class=\"dataframe\">\n",
              "  <thead>\n",
              "    <tr style=\"text-align: right;\">\n",
              "      <th></th>\n",
              "      <th>support</th>\n",
              "      <th>itemsets</th>\n",
              "    </tr>\n",
              "  </thead>\n",
              "  <tbody>\n",
              "    <tr>\n",
              "      <th>0</th>\n",
              "      <td>0.607327</td>\n",
              "      <td>(angry)</td>\n",
              "    </tr>\n",
              "  </tbody>\n",
              "</table>\n",
              "</div>"
            ],
            "text/plain": [
              "    support itemsets\n",
              "0  0.607327  (angry)"
            ]
          },
          "metadata": {
            "tags": []
          },
          "execution_count": 10
        }
      ]
    },
    {
      "cell_type": "markdown",
      "metadata": {
        "id": "9519RsHYpZbZ"
      },
      "source": [
        "Selecionando e filtrando os resultados."
      ]
    },
    {
      "cell_type": "code",
      "metadata": {
        "colab": {
          "base_uri": "https://localhost:8080/",
          "height": 78
        },
        "id": "s14OXRbDSdjK",
        "outputId": "bdd983cf-e493-430a-bebf-cc863e45bb3f"
      },
      "source": [
        "frequent_itemsets = apriori(data, min_support=0.6, use_colnames=True)\n",
        "frequent_itemsets['length'] = frequent_itemsets['itemsets'].apply(lambda x: len(x))\n",
        "frequent_itemsets"
      ],
      "execution_count": null,
      "outputs": [
        {
          "output_type": "execute_result",
          "data": {
            "text/html": [
              "<div>\n",
              "<style scoped>\n",
              "    .dataframe tbody tr th:only-of-type {\n",
              "        vertical-align: middle;\n",
              "    }\n",
              "\n",
              "    .dataframe tbody tr th {\n",
              "        vertical-align: top;\n",
              "    }\n",
              "\n",
              "    .dataframe thead th {\n",
              "        text-align: right;\n",
              "    }\n",
              "</style>\n",
              "<table border=\"1\" class=\"dataframe\">\n",
              "  <thead>\n",
              "    <tr style=\"text-align: right;\">\n",
              "      <th></th>\n",
              "      <th>support</th>\n",
              "      <th>itemsets</th>\n",
              "      <th>length</th>\n",
              "    </tr>\n",
              "  </thead>\n",
              "  <tbody>\n",
              "    <tr>\n",
              "      <th>0</th>\n",
              "      <td>0.607327</td>\n",
              "      <td>(angry)</td>\n",
              "      <td>1</td>\n",
              "    </tr>\n",
              "  </tbody>\n",
              "</table>\n",
              "</div>"
            ],
            "text/plain": [
              "    support itemsets  length\n",
              "0  0.607327  (angry)       1"
            ]
          },
          "metadata": {
            "tags": []
          },
          "execution_count": 11
        }
      ]
    },
    {
      "cell_type": "code",
      "metadata": {
        "colab": {
          "base_uri": "https://localhost:8080/",
          "height": 48
        },
        "id": "Ax3rq3nTSi6q",
        "outputId": "8bbc01b1-5f49-4d3c-f6b4-0cb6d304cffc"
      },
      "source": [
        "frequent_itemsets[ (frequent_itemsets['length'] == 2) &\n",
        "                   (frequent_itemsets['support'] >= 0.7) ]"
      ],
      "execution_count": null,
      "outputs": [
        {
          "output_type": "execute_result",
          "data": {
            "text/html": [
              "<div>\n",
              "<style scoped>\n",
              "    .dataframe tbody tr th:only-of-type {\n",
              "        vertical-align: middle;\n",
              "    }\n",
              "\n",
              "    .dataframe tbody tr th {\n",
              "        vertical-align: top;\n",
              "    }\n",
              "\n",
              "    .dataframe thead th {\n",
              "        text-align: right;\n",
              "    }\n",
              "</style>\n",
              "<table border=\"1\" class=\"dataframe\">\n",
              "  <thead>\n",
              "    <tr style=\"text-align: right;\">\n",
              "      <th></th>\n",
              "      <th>support</th>\n",
              "      <th>itemsets</th>\n",
              "      <th>length</th>\n",
              "    </tr>\n",
              "  </thead>\n",
              "  <tbody>\n",
              "  </tbody>\n",
              "</table>\n",
              "</div>"
            ],
            "text/plain": [
              "Empty DataFrame\n",
              "Columns: [support, itemsets, length]\n",
              "Index: []"
            ]
          },
          "metadata": {
            "tags": []
          },
          "execution_count": 12
        }
      ]
    },
    {
      "cell_type": "code",
      "metadata": {
        "colab": {
          "base_uri": "https://localhost:8080/",
          "height": 48
        },
        "id": "DWUB_htDSk5y",
        "outputId": "92092dcb-fa56-4bbb-ae42-37e68d29f84d"
      },
      "source": [
        "frequent_itemsets[ frequent_itemsets['itemsets'] == {'angry', 'disgusted'} ]"
      ],
      "execution_count": null,
      "outputs": [
        {
          "output_type": "execute_result",
          "data": {
            "text/html": [
              "<div>\n",
              "<style scoped>\n",
              "    .dataframe tbody tr th:only-of-type {\n",
              "        vertical-align: middle;\n",
              "    }\n",
              "\n",
              "    .dataframe tbody tr th {\n",
              "        vertical-align: top;\n",
              "    }\n",
              "\n",
              "    .dataframe thead th {\n",
              "        text-align: right;\n",
              "    }\n",
              "</style>\n",
              "<table border=\"1\" class=\"dataframe\">\n",
              "  <thead>\n",
              "    <tr style=\"text-align: right;\">\n",
              "      <th></th>\n",
              "      <th>support</th>\n",
              "      <th>itemsets</th>\n",
              "      <th>length</th>\n",
              "    </tr>\n",
              "  </thead>\n",
              "  <tbody>\n",
              "  </tbody>\n",
              "</table>\n",
              "</div>"
            ],
            "text/plain": [
              "Empty DataFrame\n",
              "Columns: [support, itemsets, length]\n",
              "Index: []"
            ]
          },
          "metadata": {
            "tags": []
          },
          "execution_count": 14
        }
      ]
    },
    {
      "cell_type": "code",
      "metadata": {
        "colab": {
          "base_uri": "https://localhost:8080/",
          "height": 228
        },
        "id": "N0YSMoqpRigb",
        "outputId": "02e27f8e-4436-4875-f168-6e9997eea758"
      },
      "source": [
        "te = TransactionEncoder()\n",
        "oht_ary = te.fit(data).transform(data, sparse=True)\n",
        "sparse_df = pd.DataFrame.sparse.from_spmatrix(oht_ary, columns=te.columns_)\n",
        "sparse_df"
      ],
      "execution_count": null,
      "outputs": [
        {
          "output_type": "execute_result",
          "data": {
            "text/html": [
              "<div>\n",
              "<style scoped>\n",
              "    .dataframe tbody tr th:only-of-type {\n",
              "        vertical-align: middle;\n",
              "    }\n",
              "\n",
              "    .dataframe tbody tr th {\n",
              "        vertical-align: top;\n",
              "    }\n",
              "\n",
              "    .dataframe thead th {\n",
              "        text-align: right;\n",
              "    }\n",
              "</style>\n",
              "<table border=\"1\" class=\"dataframe\">\n",
              "  <thead>\n",
              "    <tr style=\"text-align: right;\">\n",
              "      <th></th>\n",
              "      <th>a</th>\n",
              "      <th>d</th>\n",
              "      <th>e</th>\n",
              "      <th>f</th>\n",
              "      <th>g</th>\n",
              "      <th>h</th>\n",
              "      <th>i</th>\n",
              "      <th>n</th>\n",
              "      <th>p</th>\n",
              "      <th>r</th>\n",
              "      <th>s</th>\n",
              "      <th>t</th>\n",
              "      <th>u</th>\n",
              "      <th>y</th>\n",
              "    </tr>\n",
              "  </thead>\n",
              "  <tbody>\n",
              "    <tr>\n",
              "      <th>0</th>\n",
              "      <td>1</td>\n",
              "      <td>0</td>\n",
              "      <td>0</td>\n",
              "      <td>0</td>\n",
              "      <td>1</td>\n",
              "      <td>0</td>\n",
              "      <td>0</td>\n",
              "      <td>1</td>\n",
              "      <td>0</td>\n",
              "      <td>1</td>\n",
              "      <td>0</td>\n",
              "      <td>0</td>\n",
              "      <td>0</td>\n",
              "      <td>1</td>\n",
              "    </tr>\n",
              "    <tr>\n",
              "      <th>1</th>\n",
              "      <td>0</td>\n",
              "      <td>1</td>\n",
              "      <td>1</td>\n",
              "      <td>0</td>\n",
              "      <td>1</td>\n",
              "      <td>0</td>\n",
              "      <td>1</td>\n",
              "      <td>0</td>\n",
              "      <td>0</td>\n",
              "      <td>0</td>\n",
              "      <td>1</td>\n",
              "      <td>1</td>\n",
              "      <td>1</td>\n",
              "      <td>0</td>\n",
              "    </tr>\n",
              "    <tr>\n",
              "      <th>2</th>\n",
              "      <td>1</td>\n",
              "      <td>0</td>\n",
              "      <td>1</td>\n",
              "      <td>1</td>\n",
              "      <td>0</td>\n",
              "      <td>0</td>\n",
              "      <td>0</td>\n",
              "      <td>0</td>\n",
              "      <td>0</td>\n",
              "      <td>1</td>\n",
              "      <td>0</td>\n",
              "      <td>0</td>\n",
              "      <td>0</td>\n",
              "      <td>0</td>\n",
              "    </tr>\n",
              "    <tr>\n",
              "      <th>3</th>\n",
              "      <td>1</td>\n",
              "      <td>1</td>\n",
              "      <td>0</td>\n",
              "      <td>0</td>\n",
              "      <td>0</td>\n",
              "      <td>0</td>\n",
              "      <td>0</td>\n",
              "      <td>0</td>\n",
              "      <td>0</td>\n",
              "      <td>0</td>\n",
              "      <td>1</td>\n",
              "      <td>0</td>\n",
              "      <td>0</td>\n",
              "      <td>0</td>\n",
              "    </tr>\n",
              "    <tr>\n",
              "      <th>4</th>\n",
              "      <td>0</td>\n",
              "      <td>1</td>\n",
              "      <td>1</td>\n",
              "      <td>0</td>\n",
              "      <td>0</td>\n",
              "      <td>0</td>\n",
              "      <td>1</td>\n",
              "      <td>0</td>\n",
              "      <td>1</td>\n",
              "      <td>1</td>\n",
              "      <td>1</td>\n",
              "      <td>0</td>\n",
              "      <td>1</td>\n",
              "      <td>0</td>\n",
              "    </tr>\n",
              "    <tr>\n",
              "      <th>5</th>\n",
              "      <td>1</td>\n",
              "      <td>0</td>\n",
              "      <td>0</td>\n",
              "      <td>0</td>\n",
              "      <td>0</td>\n",
              "      <td>1</td>\n",
              "      <td>0</td>\n",
              "      <td>0</td>\n",
              "      <td>1</td>\n",
              "      <td>0</td>\n",
              "      <td>0</td>\n",
              "      <td>0</td>\n",
              "      <td>0</td>\n",
              "      <td>1</td>\n",
              "    </tr>\n",
              "  </tbody>\n",
              "</table>\n",
              "</div>"
            ],
            "text/plain": [
              "   a  d  e  f  g  h  i  n  p  r  s  t  u  y\n",
              "0  1  0  0  0  1  0  0  1  0  1  0  0  0  1\n",
              "1  0  1  1  0  1  0  1  0  0  0  1  1  1  0\n",
              "2  1  0  1  1  0  0  0  0  0  1  0  0  0  0\n",
              "3  1  1  0  0  0  0  0  0  0  0  1  0  0  0\n",
              "4  0  1  1  0  0  0  1  0  1  1  1  0  1  0\n",
              "5  1  0  0  0  0  1  0  0  1  0  0  0  0  1"
            ]
          },
          "metadata": {
            "tags": []
          },
          "execution_count": 15
        }
      ]
    },
    {
      "cell_type": "code",
      "metadata": {
        "colab": {
          "base_uri": "https://localhost:8080/",
          "height": 228
        },
        "id": "L3wYDJaVRrBK",
        "outputId": "b11df3e8-a517-43e4-aff1-68e6e00fde93"
      },
      "source": [
        "apriori(sparse_df, min_support=0.5, use_colnames=True)"
      ],
      "execution_count": null,
      "outputs": [
        {
          "output_type": "execute_result",
          "data": {
            "text/html": [
              "<div>\n",
              "<style scoped>\n",
              "    .dataframe tbody tr th:only-of-type {\n",
              "        vertical-align: middle;\n",
              "    }\n",
              "\n",
              "    .dataframe tbody tr th {\n",
              "        vertical-align: top;\n",
              "    }\n",
              "\n",
              "    .dataframe thead th {\n",
              "        text-align: right;\n",
              "    }\n",
              "</style>\n",
              "<table border=\"1\" class=\"dataframe\">\n",
              "  <thead>\n",
              "    <tr style=\"text-align: right;\">\n",
              "      <th></th>\n",
              "      <th>support</th>\n",
              "      <th>itemsets</th>\n",
              "    </tr>\n",
              "  </thead>\n",
              "  <tbody>\n",
              "    <tr>\n",
              "      <th>0</th>\n",
              "      <td>0.666667</td>\n",
              "      <td>(a)</td>\n",
              "    </tr>\n",
              "    <tr>\n",
              "      <th>1</th>\n",
              "      <td>0.500000</td>\n",
              "      <td>(d)</td>\n",
              "    </tr>\n",
              "    <tr>\n",
              "      <th>2</th>\n",
              "      <td>0.500000</td>\n",
              "      <td>(e)</td>\n",
              "    </tr>\n",
              "    <tr>\n",
              "      <th>3</th>\n",
              "      <td>0.500000</td>\n",
              "      <td>(r)</td>\n",
              "    </tr>\n",
              "    <tr>\n",
              "      <th>4</th>\n",
              "      <td>0.500000</td>\n",
              "      <td>(s)</td>\n",
              "    </tr>\n",
              "    <tr>\n",
              "      <th>5</th>\n",
              "      <td>0.500000</td>\n",
              "      <td>(s, d)</td>\n",
              "    </tr>\n",
              "  </tbody>\n",
              "</table>\n",
              "</div>"
            ],
            "text/plain": [
              "    support itemsets\n",
              "0  0.666667      (a)\n",
              "1  0.500000      (d)\n",
              "2  0.500000      (e)\n",
              "3  0.500000      (r)\n",
              "4  0.500000      (s)\n",
              "5  0.500000   (s, d)"
            ]
          },
          "metadata": {
            "tags": []
          },
          "execution_count": 16
        }
      ]
    },
    {
      "cell_type": "markdown",
      "metadata": {
        "id": "KsZQkylVpqKa"
      },
      "source": [
        "Definindo um valor limite para o valor de suporte e calculando o valor de suporte. "
      ]
    },
    {
      "cell_type": "code",
      "metadata": {
        "colab": {
          "base_uri": "https://localhost:8080/",
          "height": 558
        },
        "id": "6G6-Mig8IFjj",
        "outputId": "df00986e-28ce-4041-a628-276d6102dbc8"
      },
      "source": [
        "df_new = apriori(data, min_support = 0.2, use_colnames = True)\n",
        "df_new"
      ],
      "execution_count": null,
      "outputs": [
        {
          "output_type": "execute_result",
          "data": {
            "text/html": [
              "<div>\n",
              "<style scoped>\n",
              "    .dataframe tbody tr th:only-of-type {\n",
              "        vertical-align: middle;\n",
              "    }\n",
              "\n",
              "    .dataframe tbody tr th {\n",
              "        vertical-align: top;\n",
              "    }\n",
              "\n",
              "    .dataframe thead th {\n",
              "        text-align: right;\n",
              "    }\n",
              "</style>\n",
              "<table border=\"1\" class=\"dataframe\">\n",
              "  <thead>\n",
              "    <tr style=\"text-align: right;\">\n",
              "      <th></th>\n",
              "      <th>support</th>\n",
              "      <th>itemsets</th>\n",
              "    </tr>\n",
              "  </thead>\n",
              "  <tbody>\n",
              "    <tr>\n",
              "      <th>0</th>\n",
              "      <td>0.607327</td>\n",
              "      <td>(angry)</td>\n",
              "    </tr>\n",
              "    <tr>\n",
              "      <th>1</th>\n",
              "      <td>0.493741</td>\n",
              "      <td>(disgusted)</td>\n",
              "    </tr>\n",
              "    <tr>\n",
              "      <th>2</th>\n",
              "      <td>0.545655</td>\n",
              "      <td>(fear)</td>\n",
              "    </tr>\n",
              "    <tr>\n",
              "      <th>3</th>\n",
              "      <td>0.540317</td>\n",
              "      <td>(sad)</td>\n",
              "    </tr>\n",
              "    <tr>\n",
              "      <th>4</th>\n",
              "      <td>0.444772</td>\n",
              "      <td>(surprised)</td>\n",
              "    </tr>\n",
              "    <tr>\n",
              "      <th>5</th>\n",
              "      <td>0.497054</td>\n",
              "      <td>(happy)</td>\n",
              "    </tr>\n",
              "    <tr>\n",
              "      <th>6</th>\n",
              "      <td>0.347938</td>\n",
              "      <td>(angry, fear)</td>\n",
              "    </tr>\n",
              "    <tr>\n",
              "      <th>7</th>\n",
              "      <td>0.288660</td>\n",
              "      <td>(angry, sad)</td>\n",
              "    </tr>\n",
              "    <tr>\n",
              "      <th>8</th>\n",
              "      <td>0.207658</td>\n",
              "      <td>(angry, surprised)</td>\n",
              "    </tr>\n",
              "    <tr>\n",
              "      <th>9</th>\n",
              "      <td>0.385677</td>\n",
              "      <td>(happy, angry)</td>\n",
              "    </tr>\n",
              "    <tr>\n",
              "      <th>10</th>\n",
              "      <td>0.242636</td>\n",
              "      <td>(fear, disgusted)</td>\n",
              "    </tr>\n",
              "    <tr>\n",
              "      <th>11</th>\n",
              "      <td>0.272091</td>\n",
              "      <td>(disgusted, sad)</td>\n",
              "    </tr>\n",
              "    <tr>\n",
              "      <th>12</th>\n",
              "      <td>0.292526</td>\n",
              "      <td>(surprised, disgusted)</td>\n",
              "    </tr>\n",
              "    <tr>\n",
              "      <th>13</th>\n",
              "      <td>0.231959</td>\n",
              "      <td>(fear, sad)</td>\n",
              "    </tr>\n",
              "    <tr>\n",
              "      <th>14</th>\n",
              "      <td>0.399300</td>\n",
              "      <td>(happy, fear)</td>\n",
              "    </tr>\n",
              "    <tr>\n",
              "      <th>15</th>\n",
              "      <td>0.249080</td>\n",
              "      <td>(surprised, sad)</td>\n",
              "    </tr>\n",
              "    <tr>\n",
              "      <th>16</th>\n",
              "      <td>0.301546</td>\n",
              "      <td>(happy, angry, fear)</td>\n",
              "    </tr>\n",
              "  </tbody>\n",
              "</table>\n",
              "</div>"
            ],
            "text/plain": [
              "     support                itemsets\n",
              "0   0.607327                 (angry)\n",
              "1   0.493741             (disgusted)\n",
              "2   0.545655                  (fear)\n",
              "3   0.540317                   (sad)\n",
              "4   0.444772             (surprised)\n",
              "5   0.497054                 (happy)\n",
              "6   0.347938           (angry, fear)\n",
              "7   0.288660            (angry, sad)\n",
              "8   0.207658      (angry, surprised)\n",
              "9   0.385677          (happy, angry)\n",
              "10  0.242636       (fear, disgusted)\n",
              "11  0.272091        (disgusted, sad)\n",
              "12  0.292526  (surprised, disgusted)\n",
              "13  0.231959             (fear, sad)\n",
              "14  0.399300           (happy, fear)\n",
              "15  0.249080        (surprised, sad)\n",
              "16  0.301546    (happy, angry, fear)"
            ]
          },
          "metadata": {
            "tags": []
          },
          "execution_count": 17
        }
      ]
    },
    {
      "cell_type": "markdown",
      "metadata": {
        "id": "ylpZwn6bp83o"
      },
      "source": [
        "Vendo os valores de interpretação usando a função da regra de associação."
      ]
    },
    {
      "cell_type": "code",
      "metadata": {
        "colab": {
          "base_uri": "https://localhost:8080/",
          "height": 348
        },
        "id": "ntZIPCETIrC7",
        "outputId": "ba366836-ffb6-4ec8-9cb4-c041841f960f"
      },
      "source": [
        "df_ar = association_rules(df_new, metric = \"confidence\", min_threshold = 0.6)\n",
        "df_ar"
      ],
      "execution_count": null,
      "outputs": [
        {
          "output_type": "execute_result",
          "data": {
            "text/html": [
              "<div>\n",
              "<style scoped>\n",
              "    .dataframe tbody tr th:only-of-type {\n",
              "        vertical-align: middle;\n",
              "    }\n",
              "\n",
              "    .dataframe tbody tr th {\n",
              "        vertical-align: top;\n",
              "    }\n",
              "\n",
              "    .dataframe thead th {\n",
              "        text-align: right;\n",
              "    }\n",
              "</style>\n",
              "<table border=\"1\" class=\"dataframe\">\n",
              "  <thead>\n",
              "    <tr style=\"text-align: right;\">\n",
              "      <th></th>\n",
              "      <th>antecedents</th>\n",
              "      <th>consequents</th>\n",
              "      <th>antecedent support</th>\n",
              "      <th>consequent support</th>\n",
              "      <th>support</th>\n",
              "      <th>confidence</th>\n",
              "      <th>lift</th>\n",
              "      <th>leverage</th>\n",
              "      <th>conviction</th>\n",
              "    </tr>\n",
              "  </thead>\n",
              "  <tbody>\n",
              "    <tr>\n",
              "      <th>0</th>\n",
              "      <td>(fear)</td>\n",
              "      <td>(angry)</td>\n",
              "      <td>0.545655</td>\n",
              "      <td>0.607327</td>\n",
              "      <td>0.347938</td>\n",
              "      <td>0.637652</td>\n",
              "      <td>1.049932</td>\n",
              "      <td>0.016547</td>\n",
              "      <td>1.083690</td>\n",
              "    </tr>\n",
              "    <tr>\n",
              "      <th>1</th>\n",
              "      <td>(happy)</td>\n",
              "      <td>(angry)</td>\n",
              "      <td>0.497054</td>\n",
              "      <td>0.607327</td>\n",
              "      <td>0.385677</td>\n",
              "      <td>0.775926</td>\n",
              "      <td>1.277608</td>\n",
              "      <td>0.083803</td>\n",
              "      <td>1.752425</td>\n",
              "    </tr>\n",
              "    <tr>\n",
              "      <th>2</th>\n",
              "      <td>(angry)</td>\n",
              "      <td>(happy)</td>\n",
              "      <td>0.607327</td>\n",
              "      <td>0.497054</td>\n",
              "      <td>0.385677</td>\n",
              "      <td>0.635041</td>\n",
              "      <td>1.277608</td>\n",
              "      <td>0.083803</td>\n",
              "      <td>1.378087</td>\n",
              "    </tr>\n",
              "    <tr>\n",
              "      <th>3</th>\n",
              "      <td>(surprised)</td>\n",
              "      <td>(disgusted)</td>\n",
              "      <td>0.444772</td>\n",
              "      <td>0.493741</td>\n",
              "      <td>0.292526</td>\n",
              "      <td>0.657699</td>\n",
              "      <td>1.332073</td>\n",
              "      <td>0.072924</td>\n",
              "      <td>1.478987</td>\n",
              "    </tr>\n",
              "    <tr>\n",
              "      <th>4</th>\n",
              "      <td>(happy)</td>\n",
              "      <td>(fear)</td>\n",
              "      <td>0.497054</td>\n",
              "      <td>0.545655</td>\n",
              "      <td>0.399300</td>\n",
              "      <td>0.803333</td>\n",
              "      <td>1.472236</td>\n",
              "      <td>0.128080</td>\n",
              "      <td>2.310227</td>\n",
              "    </tr>\n",
              "    <tr>\n",
              "      <th>5</th>\n",
              "      <td>(fear)</td>\n",
              "      <td>(happy)</td>\n",
              "      <td>0.545655</td>\n",
              "      <td>0.497054</td>\n",
              "      <td>0.399300</td>\n",
              "      <td>0.731781</td>\n",
              "      <td>1.472236</td>\n",
              "      <td>0.128080</td>\n",
              "      <td>1.875133</td>\n",
              "    </tr>\n",
              "    <tr>\n",
              "      <th>6</th>\n",
              "      <td>(angry, happy)</td>\n",
              "      <td>(fear)</td>\n",
              "      <td>0.385677</td>\n",
              "      <td>0.545655</td>\n",
              "      <td>0.301546</td>\n",
              "      <td>0.781862</td>\n",
              "      <td>1.432885</td>\n",
              "      <td>0.091099</td>\n",
              "      <td>2.082827</td>\n",
              "    </tr>\n",
              "    <tr>\n",
              "      <th>7</th>\n",
              "      <td>(happy, fear)</td>\n",
              "      <td>(angry)</td>\n",
              "      <td>0.399300</td>\n",
              "      <td>0.607327</td>\n",
              "      <td>0.301546</td>\n",
              "      <td>0.755187</td>\n",
              "      <td>1.243460</td>\n",
              "      <td>0.059040</td>\n",
              "      <td>1.603970</td>\n",
              "    </tr>\n",
              "    <tr>\n",
              "      <th>8</th>\n",
              "      <td>(angry, fear)</td>\n",
              "      <td>(happy)</td>\n",
              "      <td>0.347938</td>\n",
              "      <td>0.497054</td>\n",
              "      <td>0.301546</td>\n",
              "      <td>0.866667</td>\n",
              "      <td>1.743605</td>\n",
              "      <td>0.128602</td>\n",
              "      <td>3.772091</td>\n",
              "    </tr>\n",
              "    <tr>\n",
              "      <th>9</th>\n",
              "      <td>(happy)</td>\n",
              "      <td>(angry, fear)</td>\n",
              "      <td>0.497054</td>\n",
              "      <td>0.347938</td>\n",
              "      <td>0.301546</td>\n",
              "      <td>0.606667</td>\n",
              "      <td>1.743605</td>\n",
              "      <td>0.128602</td>\n",
              "      <td>1.657784</td>\n",
              "    </tr>\n",
              "  </tbody>\n",
              "</table>\n",
              "</div>"
            ],
            "text/plain": [
              "      antecedents    consequents  ...  leverage  conviction\n",
              "0          (fear)        (angry)  ...  0.016547    1.083690\n",
              "1         (happy)        (angry)  ...  0.083803    1.752425\n",
              "2         (angry)        (happy)  ...  0.083803    1.378087\n",
              "3     (surprised)    (disgusted)  ...  0.072924    1.478987\n",
              "4         (happy)         (fear)  ...  0.128080    2.310227\n",
              "5          (fear)        (happy)  ...  0.128080    1.875133\n",
              "6  (angry, happy)         (fear)  ...  0.091099    2.082827\n",
              "7   (happy, fear)        (angry)  ...  0.059040    1.603970\n",
              "8   (angry, fear)        (happy)  ...  0.128602    3.772091\n",
              "9         (happy)  (angry, fear)  ...  0.128602    1.657784\n",
              "\n",
              "[10 rows x 9 columns]"
            ]
          },
          "metadata": {
            "tags": []
          },
          "execution_count": 18
        }
      ]
    },
    {
      "cell_type": "code",
      "metadata": {
        "colab": {
          "base_uri": "https://localhost:8080/"
        },
        "id": "z-2caPtEMniC",
        "outputId": "814cc194-a926-4c94-883c-39d5092c6b8b"
      },
      "source": [
        "df_results = list(df_ar)\n",
        "print(len(df_results))"
      ],
      "execution_count": null,
      "outputs": [
        {
          "output_type": "stream",
          "text": [
            "9\n"
          ],
          "name": "stdout"
        }
      ]
    },
    {
      "cell_type": "code",
      "metadata": {
        "colab": {
          "base_uri": "https://localhost:8080/"
        },
        "id": "_Z-qOiTZM5Kj",
        "outputId": "06b54b22-992b-4f47-f2e0-5bd930533c37"
      },
      "source": [
        "df_results"
      ],
      "execution_count": null,
      "outputs": [
        {
          "output_type": "execute_result",
          "data": {
            "text/plain": [
              "['antecedents',\n",
              " 'consequents',\n",
              " 'antecedent support',\n",
              " 'consequent support',\n",
              " 'support',\n",
              " 'confidence',\n",
              " 'lift',\n",
              " 'leverage',\n",
              " 'conviction']"
            ]
          },
          "metadata": {
            "tags": []
          },
          "execution_count": 21
        }
      ]
    },
    {
      "cell_type": "markdown",
      "metadata": {
        "id": "e3FZjB3sqHGq"
      },
      "source": [
        "# FP-Growth(Frequent Pattern Growth) utilizando pyfpgrowth\n",
        "\n",
        "\n"
      ]
    },
    {
      "cell_type": "code",
      "metadata": {
        "id": "6qho3xCnxKcj",
        "colab": {
          "base_uri": "https://localhost:8080/"
        },
        "outputId": "c7e90df9-6924-4eef-dcf2-9f8341bebd86"
      },
      "source": [
        "!pip install pyfpgrowth"
      ],
      "execution_count": null,
      "outputs": [
        {
          "output_type": "stream",
          "text": [
            "Collecting pyfpgrowth\n",
            "\u001b[?25l  Downloading https://files.pythonhosted.org/packages/d2/4c/8b7cd90b4118ff0286d6584909b99e1ca5642bdc9072fa5a8dd361c864a0/pyfpgrowth-1.0.tar.gz (1.6MB)\n",
            "\r\u001b[K     |▏                               | 10kB 14.6MB/s eta 0:00:01\r\u001b[K     |▍                               | 20kB 21.0MB/s eta 0:00:01\r\u001b[K     |▋                               | 30kB 24.5MB/s eta 0:00:01\r\u001b[K     |▉                               | 40kB 28.3MB/s eta 0:00:01\r\u001b[K     |█                               | 51kB 24.9MB/s eta 0:00:01\r\u001b[K     |█▏                              | 61kB 18.3MB/s eta 0:00:01\r\u001b[K     |█▍                              | 71kB 19.6MB/s eta 0:00:01\r\u001b[K     |█▋                              | 81kB 17.8MB/s eta 0:00:01\r\u001b[K     |█▉                              | 92kB 18.9MB/s eta 0:00:01\r\u001b[K     |██                              | 102kB 20.0MB/s eta 0:00:01\r\u001b[K     |██▏                             | 112kB 20.0MB/s eta 0:00:01\r\u001b[K     |██▍                             | 122kB 20.0MB/s eta 0:00:01\r\u001b[K     |██▋                             | 133kB 20.0MB/s eta 0:00:01\r\u001b[K     |██▉                             | 143kB 20.0MB/s eta 0:00:01\r\u001b[K     |███                             | 153kB 20.0MB/s eta 0:00:01\r\u001b[K     |███▏                            | 163kB 20.0MB/s eta 0:00:01\r\u001b[K     |███▍                            | 174kB 20.0MB/s eta 0:00:01\r\u001b[K     |███▋                            | 184kB 20.0MB/s eta 0:00:01\r\u001b[K     |███▉                            | 194kB 20.0MB/s eta 0:00:01\r\u001b[K     |████                            | 204kB 20.0MB/s eta 0:00:01\r\u001b[K     |████▏                           | 215kB 20.0MB/s eta 0:00:01\r\u001b[K     |████▍                           | 225kB 20.0MB/s eta 0:00:01\r\u001b[K     |████▋                           | 235kB 20.0MB/s eta 0:00:01\r\u001b[K     |████▉                           | 245kB 20.0MB/s eta 0:00:01\r\u001b[K     |█████                           | 256kB 20.0MB/s eta 0:00:01\r\u001b[K     |█████▏                          | 266kB 20.0MB/s eta 0:00:01\r\u001b[K     |█████▍                          | 276kB 20.0MB/s eta 0:00:01\r\u001b[K     |█████▋                          | 286kB 20.0MB/s eta 0:00:01\r\u001b[K     |█████▉                          | 296kB 20.0MB/s eta 0:00:01\r\u001b[K     |██████                          | 307kB 20.0MB/s eta 0:00:01\r\u001b[K     |██████▏                         | 317kB 20.0MB/s eta 0:00:01\r\u001b[K     |██████▍                         | 327kB 20.0MB/s eta 0:00:01\r\u001b[K     |██████▋                         | 337kB 20.0MB/s eta 0:00:01\r\u001b[K     |██████▉                         | 348kB 20.0MB/s eta 0:00:01\r\u001b[K     |███████                         | 358kB 20.0MB/s eta 0:00:01\r\u001b[K     |███████▏                        | 368kB 20.0MB/s eta 0:00:01\r\u001b[K     |███████▍                        | 378kB 20.0MB/s eta 0:00:01\r\u001b[K     |███████▋                        | 389kB 20.0MB/s eta 0:00:01\r\u001b[K     |███████▉                        | 399kB 20.0MB/s eta 0:00:01\r\u001b[K     |████████                        | 409kB 20.0MB/s eta 0:00:01\r\u001b[K     |████████▏                       | 419kB 20.0MB/s eta 0:00:01\r\u001b[K     |████████▍                       | 430kB 20.0MB/s eta 0:00:01\r\u001b[K     |████████▋                       | 440kB 20.0MB/s eta 0:00:01\r\u001b[K     |████████▉                       | 450kB 20.0MB/s eta 0:00:01\r\u001b[K     |█████████                       | 460kB 20.0MB/s eta 0:00:01\r\u001b[K     |█████████▏                      | 471kB 20.0MB/s eta 0:00:01\r\u001b[K     |█████████▍                      | 481kB 20.0MB/s eta 0:00:01\r\u001b[K     |█████████▋                      | 491kB 20.0MB/s eta 0:00:01\r\u001b[K     |█████████▉                      | 501kB 20.0MB/s eta 0:00:01\r\u001b[K     |██████████                      | 512kB 20.0MB/s eta 0:00:01\r\u001b[K     |██████████▏                     | 522kB 20.0MB/s eta 0:00:01\r\u001b[K     |██████████▍                     | 532kB 20.0MB/s eta 0:00:01\r\u001b[K     |██████████▋                     | 542kB 20.0MB/s eta 0:00:01\r\u001b[K     |██████████▉                     | 552kB 20.0MB/s eta 0:00:01\r\u001b[K     |███████████                     | 563kB 20.0MB/s eta 0:00:01\r\u001b[K     |███████████▏                    | 573kB 20.0MB/s eta 0:00:01\r\u001b[K     |███████████▍                    | 583kB 20.0MB/s eta 0:00:01\r\u001b[K     |███████████▋                    | 593kB 20.0MB/s eta 0:00:01\r\u001b[K     |███████████▉                    | 604kB 20.0MB/s eta 0:00:01\r\u001b[K     |████████████                    | 614kB 20.0MB/s eta 0:00:01\r\u001b[K     |████████████▏                   | 624kB 20.0MB/s eta 0:00:01\r\u001b[K     |████████████▍                   | 634kB 20.0MB/s eta 0:00:01\r\u001b[K     |████████████▋                   | 645kB 20.0MB/s eta 0:00:01\r\u001b[K     |████████████▊                   | 655kB 20.0MB/s eta 0:00:01\r\u001b[K     |█████████████                   | 665kB 20.0MB/s eta 0:00:01\r\u001b[K     |█████████████▏                  | 675kB 20.0MB/s eta 0:00:01\r\u001b[K     |█████████████▍                  | 686kB 20.0MB/s eta 0:00:01\r\u001b[K     |█████████████▋                  | 696kB 20.0MB/s eta 0:00:01\r\u001b[K     |█████████████▊                  | 706kB 20.0MB/s eta 0:00:01\r\u001b[K     |██████████████                  | 716kB 20.0MB/s eta 0:00:01\r\u001b[K     |██████████████▏                 | 727kB 20.0MB/s eta 0:00:01\r\u001b[K     |██████████████▍                 | 737kB 20.0MB/s eta 0:00:01\r\u001b[K     |██████████████▋                 | 747kB 20.0MB/s eta 0:00:01\r\u001b[K     |██████████████▊                 | 757kB 20.0MB/s eta 0:00:01\r\u001b[K     |███████████████                 | 768kB 20.0MB/s eta 0:00:01\r\u001b[K     |███████████████▏                | 778kB 20.0MB/s eta 0:00:01\r\u001b[K     |███████████████▍                | 788kB 20.0MB/s eta 0:00:01\r\u001b[K     |███████████████▋                | 798kB 20.0MB/s eta 0:00:01\r\u001b[K     |███████████████▊                | 808kB 20.0MB/s eta 0:00:01\r\u001b[K     |████████████████                | 819kB 20.0MB/s eta 0:00:01\r\u001b[K     |████████████████▏               | 829kB 20.0MB/s eta 0:00:01\r\u001b[K     |████████████████▍               | 839kB 20.0MB/s eta 0:00:01\r\u001b[K     |████████████████▋               | 849kB 20.0MB/s eta 0:00:01\r\u001b[K     |████████████████▊               | 860kB 20.0MB/s eta 0:00:01\r\u001b[K     |█████████████████               | 870kB 20.0MB/s eta 0:00:01\r\u001b[K     |█████████████████▏              | 880kB 20.0MB/s eta 0:00:01\r\u001b[K     |█████████████████▍              | 890kB 20.0MB/s eta 0:00:01\r\u001b[K     |█████████████████▋              | 901kB 20.0MB/s eta 0:00:01\r\u001b[K     |█████████████████▊              | 911kB 20.0MB/s eta 0:00:01\r\u001b[K     |██████████████████              | 921kB 20.0MB/s eta 0:00:01\r\u001b[K     |██████████████████▏             | 931kB 20.0MB/s eta 0:00:01\r\u001b[K     |██████████████████▍             | 942kB 20.0MB/s eta 0:00:01\r\u001b[K     |██████████████████▋             | 952kB 20.0MB/s eta 0:00:01\r\u001b[K     |██████████████████▊             | 962kB 20.0MB/s eta 0:00:01\r\u001b[K     |███████████████████             | 972kB 20.0MB/s eta 0:00:01\r\u001b[K     |███████████████████▏            | 983kB 20.0MB/s eta 0:00:01\r\u001b[K     |███████████████████▍            | 993kB 20.0MB/s eta 0:00:01\r\u001b[K     |███████████████████▋            | 1.0MB 20.0MB/s eta 0:00:01\r\u001b[K     |███████████████████▊            | 1.0MB 20.0MB/s eta 0:00:01\r\u001b[K     |████████████████████            | 1.0MB 20.0MB/s eta 0:00:01\r\u001b[K     |████████████████████▏           | 1.0MB 20.0MB/s eta 0:00:01\r\u001b[K     |████████████████████▍           | 1.0MB 20.0MB/s eta 0:00:01\r\u001b[K     |████████████████████▋           | 1.1MB 20.0MB/s eta 0:00:01\r\u001b[K     |████████████████████▊           | 1.1MB 20.0MB/s eta 0:00:01\r\u001b[K     |█████████████████████           | 1.1MB 20.0MB/s eta 0:00:01\r\u001b[K     |█████████████████████▏          | 1.1MB 20.0MB/s eta 0:00:01\r\u001b[K     |█████████████████████▍          | 1.1MB 20.0MB/s eta 0:00:01\r\u001b[K     |█████████████████████▋          | 1.1MB 20.0MB/s eta 0:00:01\r\u001b[K     |█████████████████████▊          | 1.1MB 20.0MB/s eta 0:00:01\r\u001b[K     |██████████████████████          | 1.1MB 20.0MB/s eta 0:00:01\r\u001b[K     |██████████████████████▏         | 1.1MB 20.0MB/s eta 0:00:01\r\u001b[K     |██████████████████████▍         | 1.1MB 20.0MB/s eta 0:00:01\r\u001b[K     |██████████████████████▋         | 1.2MB 20.0MB/s eta 0:00:01\r\u001b[K     |██████████████████████▊         | 1.2MB 20.0MB/s eta 0:00:01\r\u001b[K     |███████████████████████         | 1.2MB 20.0MB/s eta 0:00:01\r\u001b[K     |███████████████████████▏        | 1.2MB 20.0MB/s eta 0:00:01\r\u001b[K     |███████████████████████▍        | 1.2MB 20.0MB/s eta 0:00:01\r\u001b[K     |███████████████████████▋        | 1.2MB 20.0MB/s eta 0:00:01\r\u001b[K     |███████████████████████▊        | 1.2MB 20.0MB/s eta 0:00:01\r\u001b[K     |████████████████████████        | 1.2MB 20.0MB/s eta 0:00:01\r\u001b[K     |████████████████████████▏       | 1.2MB 20.0MB/s eta 0:00:01\r\u001b[K     |████████████████████████▍       | 1.2MB 20.0MB/s eta 0:00:01\r\u001b[K     |████████████████████████▌       | 1.3MB 20.0MB/s eta 0:00:01\r\u001b[K     |████████████████████████▊       | 1.3MB 20.0MB/s eta 0:00:01\r\u001b[K     |█████████████████████████       | 1.3MB 20.0MB/s eta 0:00:01\r\u001b[K     |█████████████████████████▏      | 1.3MB 20.0MB/s eta 0:00:01\r\u001b[K     |█████████████████████████▍      | 1.3MB 20.0MB/s eta 0:00:01\r\u001b[K     |█████████████████████████▌      | 1.3MB 20.0MB/s eta 0:00:01\r\u001b[K     |█████████████████████████▊      | 1.3MB 20.0MB/s eta 0:00:01\r\u001b[K     |██████████████████████████      | 1.3MB 20.0MB/s eta 0:00:01\r\u001b[K     |██████████████████████████▏     | 1.3MB 20.0MB/s eta 0:00:01\r\u001b[K     |██████████████████████████▍     | 1.4MB 20.0MB/s eta 0:00:01\r\u001b[K     |██████████████████████████▌     | 1.4MB 20.0MB/s eta 0:00:01\r\u001b[K     |██████████████████████████▊     | 1.4MB 20.0MB/s eta 0:00:01\r\u001b[K     |███████████████████████████     | 1.4MB 20.0MB/s eta 0:00:01\r\u001b[K     |███████████████████████████▏    | 1.4MB 20.0MB/s eta 0:00:01\r\u001b[K     |███████████████████████████▍    | 1.4MB 20.0MB/s eta 0:00:01\r\u001b[K     |███████████████████████████▌    | 1.4MB 20.0MB/s eta 0:00:01\r\u001b[K     |███████████████████████████▊    | 1.4MB 20.0MB/s eta 0:00:01\r\u001b[K     |████████████████████████████    | 1.4MB 20.0MB/s eta 0:00:01\r\u001b[K     |████████████████████████████▏   | 1.4MB 20.0MB/s eta 0:00:01\r\u001b[K     |████████████████████████████▍   | 1.5MB 20.0MB/s eta 0:00:01\r\u001b[K     |████████████████████████████▌   | 1.5MB 20.0MB/s eta 0:00:01\r\u001b[K     |████████████████████████████▊   | 1.5MB 20.0MB/s eta 0:00:01\r\u001b[K     |█████████████████████████████   | 1.5MB 20.0MB/s eta 0:00:01\r\u001b[K     |█████████████████████████████▏  | 1.5MB 20.0MB/s eta 0:00:01\r\u001b[K     |█████████████████████████████▍  | 1.5MB 20.0MB/s eta 0:00:01\r\u001b[K     |█████████████████████████████▌  | 1.5MB 20.0MB/s eta 0:00:01\r\u001b[K     |█████████████████████████████▊  | 1.5MB 20.0MB/s eta 0:00:01\r\u001b[K     |██████████████████████████████  | 1.5MB 20.0MB/s eta 0:00:01\r\u001b[K     |██████████████████████████████▏ | 1.5MB 20.0MB/s eta 0:00:01\r\u001b[K     |██████████████████████████████▍ | 1.6MB 20.0MB/s eta 0:00:01\r\u001b[K     |██████████████████████████████▌ | 1.6MB 20.0MB/s eta 0:00:01\r\u001b[K     |██████████████████████████████▊ | 1.6MB 20.0MB/s eta 0:00:01\r\u001b[K     |███████████████████████████████ | 1.6MB 20.0MB/s eta 0:00:01\r\u001b[K     |███████████████████████████████▏| 1.6MB 20.0MB/s eta 0:00:01\r\u001b[K     |███████████████████████████████▍| 1.6MB 20.0MB/s eta 0:00:01\r\u001b[K     |███████████████████████████████▌| 1.6MB 20.0MB/s eta 0:00:01\r\u001b[K     |███████████████████████████████▊| 1.6MB 20.0MB/s eta 0:00:01\r\u001b[K     |████████████████████████████████| 1.6MB 20.0MB/s eta 0:00:01\r\u001b[K     |████████████████████████████████| 1.6MB 20.0MB/s \n",
            "\u001b[?25hBuilding wheels for collected packages: pyfpgrowth\n",
            "  Building wheel for pyfpgrowth (setup.py) ... \u001b[?25l\u001b[?25hdone\n",
            "  Created wheel for pyfpgrowth: filename=pyfpgrowth-1.0-py2.py3-none-any.whl size=5477 sha256=7a83a2059310f7e6c3a14507115b7d53b483c119a0df5cc002b7e16d66e2e371\n",
            "  Stored in directory: /root/.cache/pip/wheels/3b/3f/0d/a04bb8b17887c1eca7d0f1a48d4aa0c09c96eb221ff7fa56c1\n",
            "Successfully built pyfpgrowth\n",
            "Installing collected packages: pyfpgrowth\n",
            "Successfully installed pyfpgrowth-1.0\n"
          ],
          "name": "stdout"
        }
      ]
    },
    {
      "cell_type": "code",
      "metadata": {
        "id": "DLQDuDGbzLJ5"
      },
      "source": [
        "import pyfpgrowth"
      ],
      "execution_count": null,
      "outputs": []
    },
    {
      "cell_type": "markdown",
      "metadata": {
        "id": "9XumOW4KDaGH"
      },
      "source": [
        "Encontrar padrões frequentes em capturas que ocorrem acima do limite de suporte"
      ]
    },
    {
      "cell_type": "code",
      "metadata": {
        "id": "8cVu6TN0zdA4"
      },
      "source": [
        "patterns = pyfpgrowth.find_frequent_patterns(data, 2)"
      ],
      "execution_count": null,
      "outputs": []
    },
    {
      "cell_type": "code",
      "metadata": {
        "colab": {
          "base_uri": "https://localhost:8080/"
        },
        "id": "cJ8Trg1FzjW0",
        "outputId": "27d0ac66-d5ac-42d8-f0f0-e215ea6406b8"
      },
      "source": [
        "patterns"
      ],
      "execution_count": null,
      "outputs": [
        {
          "output_type": "execute_result",
          "data": {
            "text/plain": [
              "{('a',): 4,\n",
              " ('a', 'p'): 2,\n",
              " ('a', 'p', 'y'): 2,\n",
              " ('a', 'r'): 2,\n",
              " ('a', 'y'): 2,\n",
              " ('d',): 4,\n",
              " ('d', 'e'): 3,\n",
              " ('d', 'e', 'i'): 3,\n",
              " ('d', 'e', 'i', 'r'): 2,\n",
              " ('d', 'e', 'i', 'r', 's'): 2,\n",
              " ('d', 'e', 'i', 's'): 3,\n",
              " ('d', 'e', 'r'): 2,\n",
              " ('d', 'e', 'r', 's'): 2,\n",
              " ('d', 'e', 'r', 's', 'u'): 2,\n",
              " ('d', 'e', 'r', 'u'): 2,\n",
              " ('d', 'e', 's'): 6,\n",
              " ('d', 'e', 's', 'u'): 3,\n",
              " ('d', 'e', 'u'): 3,\n",
              " ('d', 'g'): 2,\n",
              " ('d', 'g', 's'): 2,\n",
              " ('d', 'i'): 3,\n",
              " ('d', 'i', 'r'): 2,\n",
              " ('d', 'i', 'r', 's'): 2,\n",
              " ('d', 'i', 's'): 6,\n",
              " ('d', 'r'): 2,\n",
              " ('d', 'r', 's'): 2,\n",
              " ('d', 'r', 's', 'u'): 2,\n",
              " ('d', 'r', 'u'): 2,\n",
              " ('d', 's'): 7,\n",
              " ('d', 's', 'u'): 6,\n",
              " ('d', 'u'): 3,\n",
              " ('e', 'i'): 2,\n",
              " ('e', 'i', 'r'): 2,\n",
              " ('e', 'i', 'r', 's'): 2,\n",
              " ('e', 'i', 's'): 4,\n",
              " ('e', 'r'): 3,\n",
              " ('e', 'r', 's'): 4,\n",
              " ('e', 'r', 's', 'u'): 2,\n",
              " ('e', 'r', 'u'): 2,\n",
              " ('e', 's'): 4,\n",
              " ('e', 's', 's'): 2,\n",
              " ('e', 's', 'u'): 4,\n",
              " ('e', 'u'): 2,\n",
              " ('g',): 2,\n",
              " ('g', 's'): 2,\n",
              " ('i', 'r'): 2,\n",
              " ('i', 'r', 's'): 4,\n",
              " ('i', 's'): 4,\n",
              " ('i', 's', 's'): 2,\n",
              " ('p', 'r'): 2,\n",
              " ('p', 'r', 's'): 4,\n",
              " ('p', 's'): 2,\n",
              " ('p', 'y'): 2,\n",
              " ('r', 's'): 4,\n",
              " ('r', 's', 's'): 2,\n",
              " ('r', 's', 'u'): 4,\n",
              " ('r', 'u'): 2,\n",
              " ('s',): 5,\n",
              " ('s', 's'): 2,\n",
              " ('s', 's', 'u'): 2,\n",
              " ('s', 'u'): 4}"
            ]
          },
          "metadata": {
            "tags": []
          },
          "execution_count": 30
        }
      ]
    },
    {
      "cell_type": "markdown",
      "metadata": {
        "id": "E6MH-KlsDP0x"
      },
      "source": [
        "Use gerar regras de associação para encontrar padrões que estão associados a outro com uma certa probabilidade mínima"
      ]
    },
    {
      "cell_type": "code",
      "metadata": {
        "id": "YjNOFVnLzhwo"
      },
      "source": [
        "rules = pyfpgrowth.generate_association_rules(patterns, 0.7)"
      ],
      "execution_count": null,
      "outputs": []
    },
    {
      "cell_type": "code",
      "metadata": {
        "colab": {
          "base_uri": "https://localhost:8080/"
        },
        "id": "gceIujWezmZg",
        "outputId": "1823851d-7f6e-4d3f-ad55-b5705a96cd13"
      },
      "source": [
        "rules"
      ],
      "execution_count": null,
      "outputs": [
        {
          "output_type": "execute_result",
          "data": {
            "text/plain": [
              "{('a', 'p'): (('y',), 1.0),\n",
              " ('a', 'y'): (('p',), 1.0),\n",
              " ('d',): (('s',), 1.75),\n",
              " ('d', 'e'): (('s',), 2.0),\n",
              " ('d', 'e', 'i'): (('s',), 1.0),\n",
              " ('d', 'e', 'i', 'r'): (('s',), 1.0),\n",
              " ('d', 'e', 'r'): (('s',), 1.0),\n",
              " ('d', 'e', 'r', 's'): (('u',), 1.0),\n",
              " ('d', 'e', 'r', 'u'): (('s',), 1.0),\n",
              " ('d', 'e', 'u'): (('s',), 1.0),\n",
              " ('d', 'g'): (('s',), 1.0),\n",
              " ('d', 'i'): (('s',), 2.0),\n",
              " ('d', 'i', 'r'): (('e', 's'), 1.0),\n",
              " ('d', 'i', 'r', 's'): (('e',), 1.0),\n",
              " ('d', 'r'): (('s',), 1.0),\n",
              " ('d', 'r', 's'): (('e',), 1.0),\n",
              " ('d', 'r', 's', 'u'): (('e',), 1.0),\n",
              " ('d', 'r', 'u'): (('e', 's'), 1.0),\n",
              " ('d', 's'): (('e',), 0.8571428571428571),\n",
              " ('d', 'u'): (('s',), 2.0),\n",
              " ('e', 'i'): (('d', 'r', 's'), 1.0),\n",
              " ('e', 'i', 'r'): (('d', 's'), 1.0),\n",
              " ('e', 'i', 'r', 's'): (('d',), 1.0),\n",
              " ('e', 'i', 's'): (('d',), 0.75),\n",
              " ('e', 'r'): (('s',), 1.3333333333333333),\n",
              " ('e', 'r', 's', 'u'): (('d',), 1.0),\n",
              " ('e', 'r', 'u'): (('d', 's'), 1.0),\n",
              " ('e', 's'): (('r',), 1.0),\n",
              " ('e', 's', 'u'): (('d',), 0.75),\n",
              " ('e', 'u'): (('d', 'r', 's'), 1.0),\n",
              " ('g',): (('d', 's'), 1.0),\n",
              " ('g', 's'): (('d',), 1.0),\n",
              " ('i', 'r'): (('d', 'e', 's'), 1.0),\n",
              " ('i', 's'): (('d',), 1.5),\n",
              " ('p', 'r'): (('s',), 2.0),\n",
              " ('p', 's'): (('r',), 2.0),\n",
              " ('p', 'y'): (('a',), 1.0),\n",
              " ('r', 's'): (('p',), 1.0),\n",
              " ('r', 'u'): (('d', 'e', 's'), 1.0),\n",
              " ('s',): (('d',), 1.4),\n",
              " ('s', 's'): (('r',), 1.0),\n",
              " ('s', 'u'): (('d',), 1.5)}"
            ]
          },
          "metadata": {
            "tags": []
          },
          "execution_count": 32
        }
      ]
    },
    {
      "cell_type": "markdown",
      "metadata": {
        "id": "WNjshAjTCkEP"
      },
      "source": [
        "## FP-Growth utilizando o Spark"
      ]
    },
    {
      "cell_type": "markdown",
      "metadata": {
        "id": "je3i12aFCl13"
      },
      "source": [
        "### Referência"
      ]
    },
    {
      "cell_type": "markdown",
      "metadata": {
        "id": "26OGUTidCqdH"
      },
      "source": [
        "* [Market Basket Analysis using PySpark](https://towardsdatascience.com/market-basket-analysis-using-pysparks-fpgrowth-55c37ebd95c0)"
      ]
    },
    {
      "cell_type": "code",
      "metadata": {
        "id": "Y3N-wdqg_1RB"
      },
      "source": [
        "%%capture\n",
        "!sudo apt-get update --fix-missing\n",
        "!apt-get install openjdk-8-jdk-headless -qq > /dev/null\n",
        "!wget -q https://archive.apache.org/dist/spark/spark-3.0.0/spark-3.0.0-bin-hadoop3.2.tgz\n",
        "#!wget -q https://downloads.apache.org/spark/spark-3.0.0/spark-3.0.0-bin-hadoop3.2.tgz\n",
        "!mv spark-3.0.0-bin-hadoop3.2.tgz sparkkk\n",
        "!tar xf sparkkk\n",
        "!pip install -q findspark"
      ],
      "execution_count": null,
      "outputs": []
    },
    {
      "cell_type": "code",
      "metadata": {
        "colab": {
          "base_uri": "https://localhost:8080/",
          "height": 221
        },
        "id": "4jGbprpY_6Yf",
        "outputId": "8d57c78b-f980-4d82-ddf5-509f93d6ec9b"
      },
      "source": [
        "import os\n",
        "os.environ[\"JAVA_HOME\"] = \"/usr/lib/jvm/java-8-openjdk-amd64\"\n",
        "os.environ[\"SPARK_HOME\"] = \"/content/spark-3.0.0-bin-hadoop3.2\"\n",
        "import findspark\n",
        "findspark.init()\n",
        "from pyspark.sql import SparkSession\n",
        "spark = SparkSession.builder.master(\"local[*]\").getOrCreate()\n",
        "spark = SparkSession \\\n",
        ".builder \\\n",
        ".appName('fpgrowth') \\\n",
        ".getOrCreate()\n",
        "spark"
      ],
      "execution_count": null,
      "outputs": [
        {
          "output_type": "execute_result",
          "data": {
            "text/html": [
              "\n",
              "            <div>\n",
              "                <p><b>SparkSession - in-memory</b></p>\n",
              "                \n",
              "        <div>\n",
              "            <p><b>SparkContext</b></p>\n",
              "\n",
              "            <p><a href=\"http://0aa8345c31aa:4040\">Spark UI</a></p>\n",
              "\n",
              "            <dl>\n",
              "              <dt>Version</dt>\n",
              "                <dd><code>v3.0.0</code></dd>\n",
              "              <dt>Master</dt>\n",
              "                <dd><code>local[*]</code></dd>\n",
              "              <dt>AppName</dt>\n",
              "                <dd><code>pyspark-shell</code></dd>\n",
              "            </dl>\n",
              "        </div>\n",
              "        \n",
              "            </div>\n",
              "        "
            ],
            "text/plain": [
              "<pyspark.sql.session.SparkSession at 0x7fbfa2e65850>"
            ]
          },
          "metadata": {
            "tags": []
          },
          "execution_count": 34
        }
      ]
    },
    {
      "cell_type": "code",
      "metadata": {
        "id": "aHXDbY1R_7ZA"
      },
      "source": [
        "from pyspark.sql import functions as F\n",
        "from pyspark.ml.fpm import FPGrowth\n",
        "import pandas\n",
        "sparkdata = spark.createDataFrame(data)"
      ],
      "execution_count": null,
      "outputs": []
    },
    {
      "cell_type": "code",
      "metadata": {
        "id": "MVh60utRABxH"
      },
      "source": [
        "capturedata = sparkdata.dropDuplicates(['angry', 'disgusted']).sort('angry')\n",
        "capturedata = capturedata.groupBy(\"angry\").agg(F.collect_list(\"disgusted\")).sort('angry')"
      ],
      "execution_count": null,
      "outputs": []
    },
    {
      "cell_type": "markdown",
      "metadata": {
        "id": "KnYAlTTNEVWW"
      },
      "source": [
        " Executando o FP-Growth minerando um conjuntos de itens frequentes usando support, lift, e confidence"
      ]
    },
    {
      "cell_type": "code",
      "metadata": {
        "id": "mMGaWvxwAUw_"
      },
      "source": [
        "fpGrowth = FPGrowth(itemsCol=\"collect_list(disgusted)\", minSupport=0.006, minConfidence=0.006)\n",
        "model = fpGrowth.fit(capturedata)"
      ],
      "execution_count": null,
      "outputs": []
    },
    {
      "cell_type": "markdown",
      "metadata": {
        "id": "yCHdChGvES2e"
      },
      "source": [
        "Exibir conjuntos de itens frequentes."
      ]
    },
    {
      "cell_type": "code",
      "metadata": {
        "id": "hdprMVbBERpn",
        "colab": {
          "base_uri": "https://localhost:8080/"
        },
        "outputId": "e0a49914-c94b-48b1-e6b2-6be19b3f73be"
      },
      "source": [
        "model.freqItemsets.show()\n",
        "items = model.freqItemsets"
      ],
      "execution_count": null,
      "outputs": [
        {
          "output_type": "stream",
          "text": [
            "+----------+----+\n",
            "|     items|freq|\n",
            "+----------+----+\n",
            "|     [0.0]|   2|\n",
            "|     [1.0]|   2|\n",
            "|[1.0, 0.0]|   2|\n",
            "+----------+----+\n",
            "\n"
          ],
          "name": "stdout"
        }
      ]
    },
    {
      "cell_type": "markdown",
      "metadata": {
        "id": "G-2-zcwXDyN-"
      },
      "source": [
        "Exibir regras de associação geradas."
      ]
    },
    {
      "cell_type": "code",
      "metadata": {
        "id": "7_PqAoE1DxH-",
        "colab": {
          "base_uri": "https://localhost:8080/"
        },
        "outputId": "a8bdd9c1-5517-4416-9643-f5d42828af4a"
      },
      "source": [
        "model.associationRules.show()\n",
        "rules = model.associationRules"
      ],
      "execution_count": null,
      "outputs": [
        {
          "output_type": "stream",
          "text": [
            "+----------+----------+----------+----+\n",
            "|antecedent|consequent|confidence|lift|\n",
            "+----------+----------+----------+----+\n",
            "|     [1.0]|     [0.0]|       1.0| 1.0|\n",
            "|     [0.0]|     [1.0]|       1.0| 1.0|\n",
            "+----------+----------+----------+----+\n",
            "\n"
          ],
          "name": "stdout"
        }
      ]
    },
    {
      "cell_type": "markdown",
      "metadata": {
        "id": "pFT4yLrEDtE2"
      },
      "source": [
        "Examinar os itens de entrada em relação a todas as regras de associação e resumir os consequentes como predição"
      ]
    },
    {
      "cell_type": "code",
      "metadata": {
        "id": "-20mr-c8Dp5O",
        "colab": {
          "base_uri": "https://localhost:8080/"
        },
        "outputId": "68195bb8-ca8a-4c4e-bcbf-3e3207c124d3"
      },
      "source": [
        "model.transform(capturedata).show()\n",
        "transformed = model.transform(capturedata)"
      ],
      "execution_count": null,
      "outputs": [
        {
          "output_type": "stream",
          "text": [
            "+-----+-----------------------+----------+\n",
            "|angry|collect_list(disgusted)|prediction|\n",
            "+-----+-----------------------+----------+\n",
            "|  0.0|             [1.0, 0.0]|        []|\n",
            "|  1.0|             [1.0, 0.0]|        []|\n",
            "+-----+-----------------------+----------+\n",
            "\n"
          ],
          "name": "stdout"
        }
      ]
    },
    {
      "cell_type": "code",
      "metadata": {
        "colab": {
          "base_uri": "https://localhost:8080/",
          "height": 138
        },
        "id": "qrxdQD7bCX54",
        "outputId": "545072cd-c84a-4701-c7ff-6f3271752fd3"
      },
      "source": [
        "result_pdf = items.select(\"*\").toPandas()\n",
        "result_pdf.head()"
      ],
      "execution_count": null,
      "outputs": [
        {
          "output_type": "execute_result",
          "data": {
            "text/html": [
              "<div>\n",
              "<style scoped>\n",
              "    .dataframe tbody tr th:only-of-type {\n",
              "        vertical-align: middle;\n",
              "    }\n",
              "\n",
              "    .dataframe tbody tr th {\n",
              "        vertical-align: top;\n",
              "    }\n",
              "\n",
              "    .dataframe thead th {\n",
              "        text-align: right;\n",
              "    }\n",
              "</style>\n",
              "<table border=\"1\" class=\"dataframe\">\n",
              "  <thead>\n",
              "    <tr style=\"text-align: right;\">\n",
              "      <th></th>\n",
              "      <th>items</th>\n",
              "      <th>freq</th>\n",
              "    </tr>\n",
              "  </thead>\n",
              "  <tbody>\n",
              "    <tr>\n",
              "      <th>0</th>\n",
              "      <td>[0.0]</td>\n",
              "      <td>2</td>\n",
              "    </tr>\n",
              "    <tr>\n",
              "      <th>1</th>\n",
              "      <td>[1.0]</td>\n",
              "      <td>2</td>\n",
              "    </tr>\n",
              "    <tr>\n",
              "      <th>2</th>\n",
              "      <td>[1.0, 0.0]</td>\n",
              "      <td>2</td>\n",
              "    </tr>\n",
              "  </tbody>\n",
              "</table>\n",
              "</div>"
            ],
            "text/plain": [
              "        items  freq\n",
              "0       [0.0]     2\n",
              "1       [1.0]     2\n",
              "2  [1.0, 0.0]     2"
            ]
          },
          "metadata": {
            "tags": []
          },
          "execution_count": 41
        }
      ]
    },
    {
      "cell_type": "code",
      "metadata": {
        "colab": {
          "base_uri": "https://localhost:8080/",
          "height": 108
        },
        "id": "ODC4rIyzCdW3",
        "outputId": "972dbce4-5c72-4c25-b293-c3e30f4bcb38"
      },
      "source": [
        "rules_pdf = rules.select(\"*\").toPandas()\n",
        "rules_pdf.head()"
      ],
      "execution_count": null,
      "outputs": [
        {
          "output_type": "execute_result",
          "data": {
            "text/html": [
              "<div>\n",
              "<style scoped>\n",
              "    .dataframe tbody tr th:only-of-type {\n",
              "        vertical-align: middle;\n",
              "    }\n",
              "\n",
              "    .dataframe tbody tr th {\n",
              "        vertical-align: top;\n",
              "    }\n",
              "\n",
              "    .dataframe thead th {\n",
              "        text-align: right;\n",
              "    }\n",
              "</style>\n",
              "<table border=\"1\" class=\"dataframe\">\n",
              "  <thead>\n",
              "    <tr style=\"text-align: right;\">\n",
              "      <th></th>\n",
              "      <th>antecedent</th>\n",
              "      <th>consequent</th>\n",
              "      <th>confidence</th>\n",
              "      <th>lift</th>\n",
              "    </tr>\n",
              "  </thead>\n",
              "  <tbody>\n",
              "    <tr>\n",
              "      <th>0</th>\n",
              "      <td>[1.0]</td>\n",
              "      <td>[0.0]</td>\n",
              "      <td>1.0</td>\n",
              "      <td>1.0</td>\n",
              "    </tr>\n",
              "    <tr>\n",
              "      <th>1</th>\n",
              "      <td>[0.0]</td>\n",
              "      <td>[1.0]</td>\n",
              "      <td>1.0</td>\n",
              "      <td>1.0</td>\n",
              "    </tr>\n",
              "  </tbody>\n",
              "</table>\n",
              "</div>"
            ],
            "text/plain": [
              "  antecedent consequent  confidence  lift\n",
              "0      [1.0]      [0.0]         1.0   1.0\n",
              "1      [0.0]      [1.0]         1.0   1.0"
            ]
          },
          "metadata": {
            "tags": []
          },
          "execution_count": 42
        }
      ]
    }
  ]
}