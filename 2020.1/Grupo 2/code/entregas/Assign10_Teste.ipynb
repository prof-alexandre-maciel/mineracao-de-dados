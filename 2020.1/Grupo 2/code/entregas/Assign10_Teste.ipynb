{
  "nbformat": 4,
  "nbformat_minor": 0,
  "metadata": {
    "colab": {
      "name": "Assign10_Teste.ipynb",
      "provenance": [],
      "collapsed_sections": [
        "G-hQQmtZfWAi",
        "Pfj2Us3x6w-_",
        "KALvPmSznaO0"
      ],
      "include_colab_link": true
    },
    "kernelspec": {
      "name": "python3",
      "display_name": "Python 3"
    },
    "language_info": {
      "name": "python"
    }
  },
  "cells": [
    {
      "cell_type": "markdown",
      "metadata": {
        "id": "view-in-github",
        "colab_type": "text"
      },
      "source": [
        "<a href=\"https://colab.research.google.com/github/renanalencar/projeto-md-emocoes/blob/main/Assign10_Teste.ipynb\" target=\"_parent\"><img src=\"https://colab.research.google.com/assets/colab-badge.svg\" alt=\"Open In Colab\"/></a>"
      ]
    },
    {
      "cell_type": "markdown",
      "metadata": {
        "id": "H0-VWNpyeGOj"
      },
      "source": [
        "# Atividade 10\n"
      ]
    },
    {
      "cell_type": "markdown",
      "metadata": {
        "id": "G-hQQmtZfWAi"
      },
      "source": [
        "## Descrição da atividade"
      ]
    },
    {
      "cell_type": "markdown",
      "metadata": {
        "id": "BGsD7iQpA3rt"
      },
      "source": [
        "1. Escolha algum algoritmo de REGRA DE ASSOCIAÇÃO apresentados na aula, aplique ao seu projeto.\n",
        "- Lembre-se de variar os parâmetros.\n",
        "\n",
        "\n",
        "2. Defina a metodologia experimental.\n",
        "- Divisão da base de dados, range de parâmetros e métricas de avaliação.\n",
        "\n",
        "\n",
        "3. Descreva os resultados obtidos.\n",
        "\n",
        "\n",
        "4. Entregue a seção 2.2, 3.4 e 4.1 do artigo."
      ]
    },
    {
      "cell_type": "markdown",
      "metadata": {
        "id": "Pfj2Us3x6w-_"
      },
      "source": [
        "## Referências:"
      ]
    },
    {
      "cell_type": "markdown",
      "metadata": {
        "id": "csxb-fSvVVKK"
      },
      "source": [
        "\n",
        "* [Aula 10 - Regras de Associação](https://drive.google.com/file/d/16ybZx_CleXpl0u5T4GndIcefZ0EBBi_0/view)\n",
        "\n",
        "*   [Implementing Apriori algorithm in Python](https://www.geeksforgeeks.org/implementing-apriori-algorithm-in-python/)\n",
        "*   [Association Rule Learning with Scikit-learn](https://www.kaggle.com/sangwookchn/association-rule-learning-with-scikit-learn)\n",
        "\n",
        "*   [Introduction to Apriori Algorithm in Python](https://intellipaat.com/blog/data-science-apriori-algorithm/)\n",
        "* [Apriori: Association Rule Mining In-depth Explanation and Python Implementation](https://towardsdatascience.com/apriori-association-rule-mining-explanation-and-python-implementation-290b42afdfc6)\n",
        "* [Association Rule Mining via Apriori Algorithm in Python](https://stackabuse.com/association-rule-mining-via-apriori-algorithm-in-python/)\n",
        "* [Frequent Itemsets via Apriori Algorithm](http://rasbt.github.io/mlxtend/user_guide/frequent_patterns/apriori/)\n",
        "*   [Understand and Build FP-Growth Algorithm in Python](https://towardsdatascience.com/understand-and-build-fp-growth-algorithm-in-python-d8b989bab342)\n",
        "*   [Implementing Apriori and FP-growth](https://www.oreilly.com/library/view/practical-machine-learning/9781784399689/ch07s02.html)\n",
        "*   [FP Growth: Frequent Pattern Generation in Data Mining with Python Implementation](https://towardsdatascience.com/fp-growth-frequent-pattern-generation-in-data-mining-with-python-implementation-244e561ab1c3)\n",
        "\n"
      ]
    },
    {
      "cell_type": "markdown",
      "metadata": {
        "id": "KALvPmSznaO0"
      },
      "source": [
        "## Bibliotecas Utilizadas"
      ]
    },
    {
      "cell_type": "code",
      "metadata": {
        "colab": {
          "base_uri": "https://localhost:8080/"
        },
        "id": "2HupMYQXF0Wz",
        "outputId": "b51cf33c-e54f-4b82-9eed-dac6671152de"
      },
      "source": [
        "import pandas as pd\n",
        "import numpy as np\n",
        "import matplotlib.pyplot as plt\n",
        "import seaborn as sns\n",
        "from sklearn.preprocessing import MinMaxScaler\n",
        "from mlxtend.preprocessing import TransactionEncoder\n",
        "from mlxtend.frequent_patterns import apriori,association_rules\n",
        "from mlxtend.frequent_patterns import association_rules\n",
        "import itertools\n",
        "import warnings\n",
        "warnings.filterwarnings(\"ignore\")\n",
        "warnings.simplefilter(action='ignore', category=FutureWarning)\n",
        "\n",
        "%matplotlib inline\n",
        "\n",
        "from google.colab import drive\n",
        "drive.mount('/content/drive', force_remount=True)"
      ],
      "execution_count": null,
      "outputs": [
        {
          "output_type": "stream",
          "text": [
            "Mounted at /content/drive\n"
          ],
          "name": "stdout"
        }
      ]
    },
    {
      "cell_type": "markdown",
      "metadata": {
        "id": "pD2YTHRYFwfz"
      },
      "source": [
        "## Base"
      ]
    },
    {
      "cell_type": "markdown",
      "metadata": {
        "id": "JSr8dtCNnkaS"
      },
      "source": [
        "A base é de dados singulares, logo foi criada uma lógica, após normalização dos dados. Os campos que apresentarem valores expressivos, maiores que 0.5, terão seus campos setados para \"1\" e aqueles que não atenderem a regra terão serão setados para \"0\". "
      ]
    },
    {
      "cell_type": "code",
      "metadata": {
        "id": "0OrHn8E9JNG7"
      },
      "source": [
        "path = '/content/drive/Shareddrives/MINERAÇÃO DE DADOS ENG74291/Assign10/dadosTedioB.xlsx'\n",
        "dataset = pd.read_excel(path, index_col=0)\n",
        "dataset.drop([\"game_name\"], axis=1,inplace=True)\n",
        "dataset = dataset.dropna()\n",
        "dataset.reset_index(drop=True,inplace=True)\n",
        "\n",
        "scaler = MinMaxScaler(feature_range=(0,1))\n",
        "scaler.fit(dataset)\n",
        "dataset2 = scaler.transform(dataset)\n",
        "\n",
        "dataset2 = pd.DataFrame(dataset2)\n",
        "dataset2.columns = dataset.columns\n",
        "\n",
        "for i in dataset2.columns:\n",
        "  for j in dataset2.index:\n",
        "    if dataset2[i][j] >= 0.5:\n",
        "      dataset2[i][j]= 1\n",
        "    else:  \n",
        "       dataset2[i][j] = 0\n",
        "\n",
        "dataset = pd.DataFrame(dataset2)\n",
        "dataset = dataset.rename_axis(columns=None)\n",
        "\n",
        "df = dataset.loc[:,'p1':'p24']"
      ],
      "execution_count": null,
      "outputs": []
    },
    {
      "cell_type": "markdown",
      "metadata": {
        "id": "wB8ltKUOol6q"
      },
      "source": [
        "Mostrar o resutado após transformação"
      ]
    },
    {
      "cell_type": "code",
      "metadata": {
        "colab": {
          "base_uri": "https://localhost:8080/",
          "height": 198
        },
        "id": "Sjt07E7DSvi6",
        "outputId": "6d7c9460-c111-4235-a058-d212b2d90f6a"
      },
      "source": [
        "df.head(5)"
      ],
      "execution_count": null,
      "outputs": [
        {
          "output_type": "execute_result",
          "data": {
            "text/html": [
              "<div>\n",
              "<style scoped>\n",
              "    .dataframe tbody tr th:only-of-type {\n",
              "        vertical-align: middle;\n",
              "    }\n",
              "\n",
              "    .dataframe tbody tr th {\n",
              "        vertical-align: top;\n",
              "    }\n",
              "\n",
              "    .dataframe thead th {\n",
              "        text-align: right;\n",
              "    }\n",
              "</style>\n",
              "<table border=\"1\" class=\"dataframe\">\n",
              "  <thead>\n",
              "    <tr style=\"text-align: right;\">\n",
              "      <th></th>\n",
              "      <th>p1</th>\n",
              "      <th>p2</th>\n",
              "      <th>p3</th>\n",
              "      <th>p4</th>\n",
              "      <th>p5</th>\n",
              "      <th>p6</th>\n",
              "      <th>p7</th>\n",
              "      <th>p8</th>\n",
              "      <th>p9</th>\n",
              "      <th>p10</th>\n",
              "      <th>p11</th>\n",
              "      <th>p12</th>\n",
              "      <th>p13</th>\n",
              "      <th>p14</th>\n",
              "      <th>p15</th>\n",
              "      <th>p16</th>\n",
              "      <th>p17</th>\n",
              "      <th>p18</th>\n",
              "      <th>p19</th>\n",
              "      <th>p20</th>\n",
              "      <th>p21</th>\n",
              "      <th>p22</th>\n",
              "      <th>p23</th>\n",
              "      <th>p24</th>\n",
              "    </tr>\n",
              "  </thead>\n",
              "  <tbody>\n",
              "    <tr>\n",
              "      <th>0</th>\n",
              "      <td>1.0</td>\n",
              "      <td>0.0</td>\n",
              "      <td>0.0</td>\n",
              "      <td>0.0</td>\n",
              "      <td>1.0</td>\n",
              "      <td>0.0</td>\n",
              "      <td>1.0</td>\n",
              "      <td>0.0</td>\n",
              "      <td>1.0</td>\n",
              "      <td>0.0</td>\n",
              "      <td>1.0</td>\n",
              "      <td>1.0</td>\n",
              "      <td>0.0</td>\n",
              "      <td>1.0</td>\n",
              "      <td>0.0</td>\n",
              "      <td>0.0</td>\n",
              "      <td>0.0</td>\n",
              "      <td>1.0</td>\n",
              "      <td>1.0</td>\n",
              "      <td>1.0</td>\n",
              "      <td>1.0</td>\n",
              "      <td>0.0</td>\n",
              "      <td>1.0</td>\n",
              "      <td>0.0</td>\n",
              "    </tr>\n",
              "    <tr>\n",
              "      <th>1</th>\n",
              "      <td>1.0</td>\n",
              "      <td>0.0</td>\n",
              "      <td>0.0</td>\n",
              "      <td>0.0</td>\n",
              "      <td>1.0</td>\n",
              "      <td>0.0</td>\n",
              "      <td>1.0</td>\n",
              "      <td>0.0</td>\n",
              "      <td>0.0</td>\n",
              "      <td>0.0</td>\n",
              "      <td>1.0</td>\n",
              "      <td>1.0</td>\n",
              "      <td>1.0</td>\n",
              "      <td>1.0</td>\n",
              "      <td>0.0</td>\n",
              "      <td>1.0</td>\n",
              "      <td>0.0</td>\n",
              "      <td>0.0</td>\n",
              "      <td>1.0</td>\n",
              "      <td>0.0</td>\n",
              "      <td>1.0</td>\n",
              "      <td>0.0</td>\n",
              "      <td>1.0</td>\n",
              "      <td>0.0</td>\n",
              "    </tr>\n",
              "    <tr>\n",
              "      <th>2</th>\n",
              "      <td>1.0</td>\n",
              "      <td>0.0</td>\n",
              "      <td>0.0</td>\n",
              "      <td>0.0</td>\n",
              "      <td>1.0</td>\n",
              "      <td>0.0</td>\n",
              "      <td>1.0</td>\n",
              "      <td>0.0</td>\n",
              "      <td>1.0</td>\n",
              "      <td>0.0</td>\n",
              "      <td>1.0</td>\n",
              "      <td>1.0</td>\n",
              "      <td>1.0</td>\n",
              "      <td>0.0</td>\n",
              "      <td>0.0</td>\n",
              "      <td>1.0</td>\n",
              "      <td>0.0</td>\n",
              "      <td>1.0</td>\n",
              "      <td>1.0</td>\n",
              "      <td>1.0</td>\n",
              "      <td>1.0</td>\n",
              "      <td>0.0</td>\n",
              "      <td>1.0</td>\n",
              "      <td>0.0</td>\n",
              "    </tr>\n",
              "    <tr>\n",
              "      <th>3</th>\n",
              "      <td>1.0</td>\n",
              "      <td>0.0</td>\n",
              "      <td>0.0</td>\n",
              "      <td>0.0</td>\n",
              "      <td>1.0</td>\n",
              "      <td>0.0</td>\n",
              "      <td>1.0</td>\n",
              "      <td>0.0</td>\n",
              "      <td>1.0</td>\n",
              "      <td>0.0</td>\n",
              "      <td>1.0</td>\n",
              "      <td>1.0</td>\n",
              "      <td>1.0</td>\n",
              "      <td>0.0</td>\n",
              "      <td>0.0</td>\n",
              "      <td>1.0</td>\n",
              "      <td>0.0</td>\n",
              "      <td>0.0</td>\n",
              "      <td>1.0</td>\n",
              "      <td>1.0</td>\n",
              "      <td>1.0</td>\n",
              "      <td>0.0</td>\n",
              "      <td>1.0</td>\n",
              "      <td>0.0</td>\n",
              "    </tr>\n",
              "    <tr>\n",
              "      <th>4</th>\n",
              "      <td>1.0</td>\n",
              "      <td>0.0</td>\n",
              "      <td>0.0</td>\n",
              "      <td>0.0</td>\n",
              "      <td>1.0</td>\n",
              "      <td>0.0</td>\n",
              "      <td>1.0</td>\n",
              "      <td>0.0</td>\n",
              "      <td>1.0</td>\n",
              "      <td>0.0</td>\n",
              "      <td>1.0</td>\n",
              "      <td>1.0</td>\n",
              "      <td>0.0</td>\n",
              "      <td>0.0</td>\n",
              "      <td>0.0</td>\n",
              "      <td>1.0</td>\n",
              "      <td>0.0</td>\n",
              "      <td>0.0</td>\n",
              "      <td>1.0</td>\n",
              "      <td>1.0</td>\n",
              "      <td>1.0</td>\n",
              "      <td>0.0</td>\n",
              "      <td>1.0</td>\n",
              "      <td>0.0</td>\n",
              "    </tr>\n",
              "  </tbody>\n",
              "</table>\n",
              "</div>"
            ],
            "text/plain": [
              "    p1   p2   p3   p4   p5   p6   p7  ...  p18  p19  p20  p21  p22  p23  p24\n",
              "0  1.0  0.0  0.0  0.0  1.0  0.0  1.0  ...  1.0  1.0  1.0  1.0  0.0  1.0  0.0\n",
              "1  1.0  0.0  0.0  0.0  1.0  0.0  1.0  ...  0.0  1.0  0.0  1.0  0.0  1.0  0.0\n",
              "2  1.0  0.0  0.0  0.0  1.0  0.0  1.0  ...  1.0  1.0  1.0  1.0  0.0  1.0  0.0\n",
              "3  1.0  0.0  0.0  0.0  1.0  0.0  1.0  ...  0.0  1.0  1.0  1.0  0.0  1.0  0.0\n",
              "4  1.0  0.0  0.0  0.0  1.0  0.0  1.0  ...  0.0  1.0  1.0  1.0  0.0  1.0  0.0\n",
              "\n",
              "[5 rows x 24 columns]"
            ]
          },
          "metadata": {
            "tags": []
          },
          "execution_count": 3
        }
      ]
    },
    {
      "cell_type": "markdown",
      "metadata": {
        "id": "zFqRjT4ioquS"
      },
      "source": [
        "Este código é para a transformação, no nosso caso não foi necessário devido a transformação anterior. A nossa base diverge deste tipo de estudo."
      ]
    },
    {
      "cell_type": "code",
      "metadata": {
        "id": "zGcg9OgKR9e6"
      },
      "source": [
        "# # Transformação desnecessária\n",
        "# te = TransactionEncoder()\n",
        "# te_ary = te.fit(dataset).transform(dataset)\n",
        "# df = pd.DataFrame(te_ary, columns=te.columns_)\n",
        "# df"
      ],
      "execution_count": null,
      "outputs": []
    },
    {
      "cell_type": "code",
      "metadata": {
        "colab": {
          "base_uri": "https://localhost:8080/"
        },
        "id": "MtcjAGmjHO87",
        "outputId": "3e234eb9-b388-4f2e-98cd-152f4e0f4a7e"
      },
      "source": [
        "df.shape"
      ],
      "execution_count": null,
      "outputs": [
        {
          "output_type": "execute_result",
          "data": {
            "text/plain": [
              "(35955, 24)"
            ]
          },
          "metadata": {
            "tags": []
          },
          "execution_count": 7
        }
      ]
    },
    {
      "cell_type": "code",
      "metadata": {
        "id": "uBE9UBGg5XwH",
        "colab": {
          "base_uri": "https://localhost:8080/",
          "height": 899
        },
        "outputId": "aec8eb96-a50a-4ab0-9452-df4ebd7b9407"
      },
      "source": [
        "import seaborn as sns\n",
        "\n",
        "df_tratado = pd.DataFrame(df)\n",
        "df_tratado['angry'] =  dataset['angry']\n",
        "\n",
        "filtro = df_tratado['angry'] >= 0.5\n",
        "if df_tratado[filtro] is True:\n",
        "      df_tratado['angry'] = 1\n",
        "\n",
        "plt.figure(figsize=(30, 15))\n",
        "sns.heatmap(df_tratado.corr(),\n",
        "            annot = True,\n",
        "            fmt = '.2f',\n",
        "            cmap='Blues')\n",
        "plt.title('Correlação entre variáveis do dataset de tédio')\n",
        "plt.show()"
      ],
      "execution_count": null,
      "outputs": [
        {
          "output_type": "display_data",
          "data": {
            "image/png": "[encoded data removed]",
            "text/plain": [
              "<Figure size 2160x1080 with 2 Axes>"
            ]
          },
          "metadata": {
            "tags": [],
            "needs_background": "light"
          }
        }
      ]
    },
    {
      "cell_type": "code",
      "metadata": {
        "id": "t1Ux4KhS6Q0m",
        "colab": {
          "base_uri": "https://localhost:8080/",
          "height": 299
        },
        "outputId": "69611dab-7b95-4e87-89dd-7993c3827bfb"
      },
      "source": [
        "# criar os conjuntos de dados e classes para treinamento e teste\n",
        "from sklearn.model_selection import train_test_split\n",
        "\n",
        "X_treinamento, X_teste, y_treinamento, y_teste = train_test_split(df_tratado.drop(columns=['angry']), df_tratado.angry, test_size=0.3)\n",
        "\n",
        "from sklearn.ensemble import RandomForestClassifier\n",
        "clf_RFC  = RandomForestClassifier()\n",
        "clf_RFC.fit(X_treinamento, y_treinamento)\n",
        "\n",
        "# Mostrando importância de cada feature\n",
        "clf_RFC.feature_importances_\n",
        "\n",
        "importances = pd.Series(data=clf_RFC.feature_importances_, index=df_tratado.columns[0:24])\n",
        "sns.barplot(x=importances, y=importances.index, orient='h').set_title('Importância de cada feature')"
      ],
      "execution_count": null,
      "outputs": [
        {
          "output_type": "execute_result",
          "data": {
            "text/plain": [
              "Text(0.5, 1.0, 'Importância de cada feature')"
            ]
          },
          "metadata": {
            "tags": []
          },
          "execution_count": 19
        },
        {
          "output_type": "display_data",
          "data": {
            "image/png": "[encoded data removed]",
            "text/plain": [
              "<Figure size 432x288 with 1 Axes>"
            ]
          },
          "metadata": {
            "tags": [],
            "needs_background": "light"
          }
        }
      ]
    },
    {
      "cell_type": "markdown",
      "metadata": {
        "id": "dmRSxJ3wo_3j"
      },
      "source": [
        "Gráfico, mas achei o resultado meio estranho. Qualquer coisa podemos mudar ou alterar o tipo de gráfico."
      ]
    },
    {
      "cell_type": "code",
      "metadata": {
        "id": "iMLqCpGNK84y",
        "colab": {
          "base_uri": "https://localhost:8080/",
          "height": 281
        },
        "outputId": "55f55f13-b1f5-4007-b910-c0560785116d"
      },
      "source": [
        "p = df.copy()\n",
        "for i in range(1, len(p.columns)+1):\n",
        "    p[\"Cat\"] = np.where(p[p.columns[i]] == 1, 1, 0)\n",
        "    p[p.columns[i]]= i\n",
        "    g =sns.scatterplot(p.index, p[p.columns[i]], hue = p.Cat, legend = False)\n",
        "    g.yaxis.set_label_text('Capturas')\n",
        "    g.set_yticks(np.arange(1, len(p.columns)))\n",
        "    g.set_xticks(df.index)\n",
        "    g.set_yticklabels(df.columns)\n",
        "    plt.title(\"Estrutura de dados\")"
      ],
      "execution_count": null,
      "outputs": [
        {
          "output_type": "display_data",
          "data": {
            "image/png": "[encoded data removed]",
            "text/plain": [
              "<Figure size 432x288 with 1 Axes>"
            ]
          },
          "metadata": {
            "tags": [],
            "needs_background": "light"
          }
        }
      ]
    },
    {
      "cell_type": "markdown",
      "metadata": {
        "id": "Z8B-IuQepJzZ"
      },
      "source": [
        "Encontrar a frequência de itens."
      ]
    },
    {
      "cell_type": "code",
      "metadata": {
        "colab": {
          "base_uri": "https://localhost:8080/"
        },
        "id": "qCbe-bjWLBSy",
        "outputId": "1cd72a4f-b7dc-4bcc-84c9-9384c400554f"
      },
      "source": [
        "\n",
        "df.sum()"
      ],
      "execution_count": null,
      "outputs": [
        {
          "output_type": "execute_result",
          "data": {
            "text/plain": [
              "p1     35899.0\n",
              "p2       123.0\n",
              "p3      2048.0\n",
              "p4       313.0\n",
              "p5     27674.0\n",
              "p6     20262.0\n",
              "p7     23453.0\n",
              "p8     24525.0\n",
              "p9     18139.0\n",
              "p10    20296.0\n",
              "p11    23440.0\n",
              "p12    17729.0\n",
              "p13    23202.0\n",
              "p14    16758.0\n",
              "p15    16179.0\n",
              "p16    17687.0\n",
              "p17    13378.0\n",
              "p18    19659.0\n",
              "p19    23813.0\n",
              "p20    25892.0\n",
              "p21    26860.0\n",
              "p22    13086.0\n",
              "p23    21172.0\n",
              "p24     1118.0\n",
              "dtype: float64"
            ]
          },
          "metadata": {
            "tags": []
          },
          "execution_count": 7
        }
      ]
    },
    {
      "cell_type": "markdown",
      "metadata": {
        "id": "OgcD4_4iqPG4"
      },
      "source": [
        "## Apriori"
      ]
    },
    {
      "cell_type": "markdown",
      "metadata": {
        "id": "42k6YsDEpQgA"
      },
      "source": [
        "Cálculo do Suporte com mínimo de 60%."
      ]
    },
    {
      "cell_type": "code",
      "metadata": {
        "colab": {
          "base_uri": "https://localhost:8080/",
          "height": 618
        },
        "id": "8MxSDXWBSLAr",
        "outputId": "5e528492-9fb1-4d87-8b41-c479c8c7e96f"
      },
      "source": [
        "apriori(df, min_support=0.6, use_colnames=True)"
      ],
      "execution_count": null,
      "outputs": [
        {
          "output_type": "execute_result",
          "data": {
            "text/html": [
              "<div>\n",
              "<style scoped>\n",
              "    .dataframe tbody tr th:only-of-type {\n",
              "        vertical-align: middle;\n",
              "    }\n",
              "\n",
              "    .dataframe tbody tr th {\n",
              "        vertical-align: top;\n",
              "    }\n",
              "\n",
              "    .dataframe thead th {\n",
              "        text-align: right;\n",
              "    }\n",
              "</style>\n",
              "<table border=\"1\" class=\"dataframe\">\n",
              "  <thead>\n",
              "    <tr style=\"text-align: right;\">\n",
              "      <th></th>\n",
              "      <th>support</th>\n",
              "      <th>itemsets</th>\n",
              "    </tr>\n",
              "  </thead>\n",
              "  <tbody>\n",
              "    <tr>\n",
              "      <th>0</th>\n",
              "      <td>0.998442</td>\n",
              "      <td>(p1)</td>\n",
              "    </tr>\n",
              "    <tr>\n",
              "      <th>1</th>\n",
              "      <td>0.769684</td>\n",
              "      <td>(p5)</td>\n",
              "    </tr>\n",
              "    <tr>\n",
              "      <th>2</th>\n",
              "      <td>0.652288</td>\n",
              "      <td>(p7)</td>\n",
              "    </tr>\n",
              "    <tr>\n",
              "      <th>3</th>\n",
              "      <td>0.682103</td>\n",
              "      <td>(p8)</td>\n",
              "    </tr>\n",
              "    <tr>\n",
              "      <th>4</th>\n",
              "      <td>0.651926</td>\n",
              "      <td>(p11)</td>\n",
              "    </tr>\n",
              "    <tr>\n",
              "      <th>5</th>\n",
              "      <td>0.645307</td>\n",
              "      <td>(p13)</td>\n",
              "    </tr>\n",
              "    <tr>\n",
              "      <th>6</th>\n",
              "      <td>0.662300</td>\n",
              "      <td>(p19)</td>\n",
              "    </tr>\n",
              "    <tr>\n",
              "      <th>7</th>\n",
              "      <td>0.720122</td>\n",
              "      <td>(p20)</td>\n",
              "    </tr>\n",
              "    <tr>\n",
              "      <th>8</th>\n",
              "      <td>0.747045</td>\n",
              "      <td>(p21)</td>\n",
              "    </tr>\n",
              "    <tr>\n",
              "      <th>9</th>\n",
              "      <td>0.769072</td>\n",
              "      <td>(p1, p5)</td>\n",
              "    </tr>\n",
              "    <tr>\n",
              "      <th>10</th>\n",
              "      <td>0.651537</td>\n",
              "      <td>(p7, p1)</td>\n",
              "    </tr>\n",
              "    <tr>\n",
              "      <th>11</th>\n",
              "      <td>0.681074</td>\n",
              "      <td>(p1, p8)</td>\n",
              "    </tr>\n",
              "    <tr>\n",
              "      <th>12</th>\n",
              "      <td>0.650953</td>\n",
              "      <td>(p1, p11)</td>\n",
              "    </tr>\n",
              "    <tr>\n",
              "      <th>13</th>\n",
              "      <td>0.644584</td>\n",
              "      <td>(p1, p13)</td>\n",
              "    </tr>\n",
              "    <tr>\n",
              "      <th>14</th>\n",
              "      <td>0.661104</td>\n",
              "      <td>(p1, p19)</td>\n",
              "    </tr>\n",
              "    <tr>\n",
              "      <th>15</th>\n",
              "      <td>0.719010</td>\n",
              "      <td>(p1, p20)</td>\n",
              "    </tr>\n",
              "    <tr>\n",
              "      <th>16</th>\n",
              "      <td>0.746044</td>\n",
              "      <td>(p1, p21)</td>\n",
              "    </tr>\n",
              "    <tr>\n",
              "      <th>17</th>\n",
              "      <td>0.604005</td>\n",
              "      <td>(p21, p5)</td>\n",
              "    </tr>\n",
              "    <tr>\n",
              "      <th>18</th>\n",
              "      <td>0.603560</td>\n",
              "      <td>(p1, p21, p5)</td>\n",
              "    </tr>\n",
              "  </tbody>\n",
              "</table>\n",
              "</div>"
            ],
            "text/plain": [
              "     support       itemsets\n",
              "0   0.998442           (p1)\n",
              "1   0.769684           (p5)\n",
              "2   0.652288           (p7)\n",
              "3   0.682103           (p8)\n",
              "4   0.651926          (p11)\n",
              "5   0.645307          (p13)\n",
              "6   0.662300          (p19)\n",
              "7   0.720122          (p20)\n",
              "8   0.747045          (p21)\n",
              "9   0.769072       (p1, p5)\n",
              "10  0.651537       (p7, p1)\n",
              "11  0.681074       (p1, p8)\n",
              "12  0.650953      (p1, p11)\n",
              "13  0.644584      (p1, p13)\n",
              "14  0.661104      (p1, p19)\n",
              "15  0.719010      (p1, p20)\n",
              "16  0.746044      (p1, p21)\n",
              "17  0.604005      (p21, p5)\n",
              "18  0.603560  (p1, p21, p5)"
            ]
          },
          "metadata": {
            "tags": []
          },
          "execution_count": 8
        }
      ]
    },
    {
      "cell_type": "markdown",
      "metadata": {
        "id": "9519RsHYpZbZ"
      },
      "source": [
        "Selecionando e filtrando os resultados."
      ]
    },
    {
      "cell_type": "code",
      "metadata": {
        "colab": {
          "base_uri": "https://localhost:8080/",
          "height": 618
        },
        "id": "s14OXRbDSdjK",
        "outputId": "7a0267a5-0f19-423e-b820-9b5737586919"
      },
      "source": [
        "frequent_itemsets = apriori(df, min_support=0.6, use_colnames=True)\n",
        "frequent_itemsets['length'] = frequent_itemsets['itemsets'].apply(lambda x: len(x))\n",
        "frequent_itemsets"
      ],
      "execution_count": null,
      "outputs": [
        {
          "output_type": "execute_result",
          "data": {
            "text/html": [
              "<div>\n",
              "<style scoped>\n",
              "    .dataframe tbody tr th:only-of-type {\n",
              "        vertical-align: middle;\n",
              "    }\n",
              "\n",
              "    .dataframe tbody tr th {\n",
              "        vertical-align: top;\n",
              "    }\n",
              "\n",
              "    .dataframe thead th {\n",
              "        text-align: right;\n",
              "    }\n",
              "</style>\n",
              "<table border=\"1\" class=\"dataframe\">\n",
              "  <thead>\n",
              "    <tr style=\"text-align: right;\">\n",
              "      <th></th>\n",
              "      <th>support</th>\n",
              "      <th>itemsets</th>\n",
              "      <th>length</th>\n",
              "    </tr>\n",
              "  </thead>\n",
              "  <tbody>\n",
              "    <tr>\n",
              "      <th>0</th>\n",
              "      <td>0.998442</td>\n",
              "      <td>(p1)</td>\n",
              "      <td>1</td>\n",
              "    </tr>\n",
              "    <tr>\n",
              "      <th>1</th>\n",
              "      <td>0.769684</td>\n",
              "      <td>(p5)</td>\n",
              "      <td>1</td>\n",
              "    </tr>\n",
              "    <tr>\n",
              "      <th>2</th>\n",
              "      <td>0.652288</td>\n",
              "      <td>(p7)</td>\n",
              "      <td>1</td>\n",
              "    </tr>\n",
              "    <tr>\n",
              "      <th>3</th>\n",
              "      <td>0.682103</td>\n",
              "      <td>(p8)</td>\n",
              "      <td>1</td>\n",
              "    </tr>\n",
              "    <tr>\n",
              "      <th>4</th>\n",
              "      <td>0.651926</td>\n",
              "      <td>(p11)</td>\n",
              "      <td>1</td>\n",
              "    </tr>\n",
              "    <tr>\n",
              "      <th>5</th>\n",
              "      <td>0.645307</td>\n",
              "      <td>(p13)</td>\n",
              "      <td>1</td>\n",
              "    </tr>\n",
              "    <tr>\n",
              "      <th>6</th>\n",
              "      <td>0.662300</td>\n",
              "      <td>(p19)</td>\n",
              "      <td>1</td>\n",
              "    </tr>\n",
              "    <tr>\n",
              "      <th>7</th>\n",
              "      <td>0.720122</td>\n",
              "      <td>(p20)</td>\n",
              "      <td>1</td>\n",
              "    </tr>\n",
              "    <tr>\n",
              "      <th>8</th>\n",
              "      <td>0.747045</td>\n",
              "      <td>(p21)</td>\n",
              "      <td>1</td>\n",
              "    </tr>\n",
              "    <tr>\n",
              "      <th>9</th>\n",
              "      <td>0.769072</td>\n",
              "      <td>(p1, p5)</td>\n",
              "      <td>2</td>\n",
              "    </tr>\n",
              "    <tr>\n",
              "      <th>10</th>\n",
              "      <td>0.651537</td>\n",
              "      <td>(p7, p1)</td>\n",
              "      <td>2</td>\n",
              "    </tr>\n",
              "    <tr>\n",
              "      <th>11</th>\n",
              "      <td>0.681074</td>\n",
              "      <td>(p1, p8)</td>\n",
              "      <td>2</td>\n",
              "    </tr>\n",
              "    <tr>\n",
              "      <th>12</th>\n",
              "      <td>0.650953</td>\n",
              "      <td>(p1, p11)</td>\n",
              "      <td>2</td>\n",
              "    </tr>\n",
              "    <tr>\n",
              "      <th>13</th>\n",
              "      <td>0.644584</td>\n",
              "      <td>(p1, p13)</td>\n",
              "      <td>2</td>\n",
              "    </tr>\n",
              "    <tr>\n",
              "      <th>14</th>\n",
              "      <td>0.661104</td>\n",
              "      <td>(p1, p19)</td>\n",
              "      <td>2</td>\n",
              "    </tr>\n",
              "    <tr>\n",
              "      <th>15</th>\n",
              "      <td>0.719010</td>\n",
              "      <td>(p1, p20)</td>\n",
              "      <td>2</td>\n",
              "    </tr>\n",
              "    <tr>\n",
              "      <th>16</th>\n",
              "      <td>0.746044</td>\n",
              "      <td>(p1, p21)</td>\n",
              "      <td>2</td>\n",
              "    </tr>\n",
              "    <tr>\n",
              "      <th>17</th>\n",
              "      <td>0.604005</td>\n",
              "      <td>(p21, p5)</td>\n",
              "      <td>2</td>\n",
              "    </tr>\n",
              "    <tr>\n",
              "      <th>18</th>\n",
              "      <td>0.603560</td>\n",
              "      <td>(p1, p21, p5)</td>\n",
              "      <td>3</td>\n",
              "    </tr>\n",
              "  </tbody>\n",
              "</table>\n",
              "</div>"
            ],
            "text/plain": [
              "     support       itemsets  length\n",
              "0   0.998442           (p1)       1\n",
              "1   0.769684           (p5)       1\n",
              "2   0.652288           (p7)       1\n",
              "3   0.682103           (p8)       1\n",
              "4   0.651926          (p11)       1\n",
              "5   0.645307          (p13)       1\n",
              "6   0.662300          (p19)       1\n",
              "7   0.720122          (p20)       1\n",
              "8   0.747045          (p21)       1\n",
              "9   0.769072       (p1, p5)       2\n",
              "10  0.651537       (p7, p1)       2\n",
              "11  0.681074       (p1, p8)       2\n",
              "12  0.650953      (p1, p11)       2\n",
              "13  0.644584      (p1, p13)       2\n",
              "14  0.661104      (p1, p19)       2\n",
              "15  0.719010      (p1, p20)       2\n",
              "16  0.746044      (p1, p21)       2\n",
              "17  0.604005      (p21, p5)       2\n",
              "18  0.603560  (p1, p21, p5)       3"
            ]
          },
          "metadata": {
            "tags": []
          },
          "execution_count": 9
        }
      ]
    },
    {
      "cell_type": "code",
      "metadata": {
        "colab": {
          "base_uri": "https://localhost:8080/",
          "height": 138
        },
        "id": "Ax3rq3nTSi6q",
        "outputId": "54f7d1ed-e113-4044-8fdf-03c8b26447df"
      },
      "source": [
        "frequent_itemsets[ (frequent_itemsets['length'] == 2) &\n",
        "                   (frequent_itemsets['support'] >= 0.7) ]"
      ],
      "execution_count": null,
      "outputs": [
        {
          "output_type": "execute_result",
          "data": {
            "text/html": [
              "<div>\n",
              "<style scoped>\n",
              "    .dataframe tbody tr th:only-of-type {\n",
              "        vertical-align: middle;\n",
              "    }\n",
              "\n",
              "    .dataframe tbody tr th {\n",
              "        vertical-align: top;\n",
              "    }\n",
              "\n",
              "    .dataframe thead th {\n",
              "        text-align: right;\n",
              "    }\n",
              "</style>\n",
              "<table border=\"1\" class=\"dataframe\">\n",
              "  <thead>\n",
              "    <tr style=\"text-align: right;\">\n",
              "      <th></th>\n",
              "      <th>support</th>\n",
              "      <th>itemsets</th>\n",
              "      <th>length</th>\n",
              "    </tr>\n",
              "  </thead>\n",
              "  <tbody>\n",
              "    <tr>\n",
              "      <th>9</th>\n",
              "      <td>0.769072</td>\n",
              "      <td>(p1, p5)</td>\n",
              "      <td>2</td>\n",
              "    </tr>\n",
              "    <tr>\n",
              "      <th>15</th>\n",
              "      <td>0.719010</td>\n",
              "      <td>(p1, p20)</td>\n",
              "      <td>2</td>\n",
              "    </tr>\n",
              "    <tr>\n",
              "      <th>16</th>\n",
              "      <td>0.746044</td>\n",
              "      <td>(p1, p21)</td>\n",
              "      <td>2</td>\n",
              "    </tr>\n",
              "  </tbody>\n",
              "</table>\n",
              "</div>"
            ],
            "text/plain": [
              "     support   itemsets  length\n",
              "9   0.769072   (p1, p5)       2\n",
              "15  0.719010  (p1, p20)       2\n",
              "16  0.746044  (p1, p21)       2"
            ]
          },
          "metadata": {
            "tags": []
          },
          "execution_count": 10
        }
      ]
    },
    {
      "cell_type": "code",
      "metadata": {
        "colab": {
          "base_uri": "https://localhost:8080/",
          "height": 78
        },
        "id": "DWUB_htDSk5y",
        "outputId": "0fa4285c-3e43-444a-cf9b-d26a24986264"
      },
      "source": [
        "frequent_itemsets[ frequent_itemsets['itemsets'] == {'p1', 'p13'} ]"
      ],
      "execution_count": null,
      "outputs": [
        {
          "output_type": "execute_result",
          "data": {
            "text/html": [
              "<div>\n",
              "<style scoped>\n",
              "    .dataframe tbody tr th:only-of-type {\n",
              "        vertical-align: middle;\n",
              "    }\n",
              "\n",
              "    .dataframe tbody tr th {\n",
              "        vertical-align: top;\n",
              "    }\n",
              "\n",
              "    .dataframe thead th {\n",
              "        text-align: right;\n",
              "    }\n",
              "</style>\n",
              "<table border=\"1\" class=\"dataframe\">\n",
              "  <thead>\n",
              "    <tr style=\"text-align: right;\">\n",
              "      <th></th>\n",
              "      <th>support</th>\n",
              "      <th>itemsets</th>\n",
              "      <th>length</th>\n",
              "    </tr>\n",
              "  </thead>\n",
              "  <tbody>\n",
              "    <tr>\n",
              "      <th>13</th>\n",
              "      <td>0.644584</td>\n",
              "      <td>(p1, p13)</td>\n",
              "      <td>2</td>\n",
              "    </tr>\n",
              "  </tbody>\n",
              "</table>\n",
              "</div>"
            ],
            "text/plain": [
              "     support   itemsets  length\n",
              "13  0.644584  (p1, p13)       2"
            ]
          },
          "metadata": {
            "tags": []
          },
          "execution_count": 11
        }
      ]
    },
    {
      "cell_type": "code",
      "metadata": {
        "colab": {
          "base_uri": "https://localhost:8080/",
          "height": 768
        },
        "id": "N0YSMoqpRigb",
        "outputId": "b5887230-161f-478d-f6ea-01f3d6ecc07e"
      },
      "source": [
        "te = TransactionEncoder()\n",
        "oht_ary = te.fit(df).transform(df, sparse=True)\n",
        "sparse_df = pd.DataFrame.sparse.from_spmatrix(oht_ary, columns=te.columns_)\n",
        "sparse_df"
      ],
      "execution_count": null,
      "outputs": [
        {
          "output_type": "execute_result",
          "data": {
            "text/html": [
              "<div>\n",
              "<style scoped>\n",
              "    .dataframe tbody tr th:only-of-type {\n",
              "        vertical-align: middle;\n",
              "    }\n",
              "\n",
              "    .dataframe tbody tr th {\n",
              "        vertical-align: top;\n",
              "    }\n",
              "\n",
              "    .dataframe thead th {\n",
              "        text-align: right;\n",
              "    }\n",
              "</style>\n",
              "<table border=\"1\" class=\"dataframe\">\n",
              "  <thead>\n",
              "    <tr style=\"text-align: right;\">\n",
              "      <th></th>\n",
              "      <th>0</th>\n",
              "      <th>1</th>\n",
              "      <th>2</th>\n",
              "      <th>3</th>\n",
              "      <th>4</th>\n",
              "      <th>5</th>\n",
              "      <th>6</th>\n",
              "      <th>7</th>\n",
              "      <th>8</th>\n",
              "      <th>9</th>\n",
              "      <th>p</th>\n",
              "    </tr>\n",
              "  </thead>\n",
              "  <tbody>\n",
              "    <tr>\n",
              "      <th>0</th>\n",
              "      <td>0</td>\n",
              "      <td>1</td>\n",
              "      <td>0</td>\n",
              "      <td>0</td>\n",
              "      <td>0</td>\n",
              "      <td>0</td>\n",
              "      <td>0</td>\n",
              "      <td>0</td>\n",
              "      <td>0</td>\n",
              "      <td>0</td>\n",
              "      <td>True</td>\n",
              "    </tr>\n",
              "    <tr>\n",
              "      <th>1</th>\n",
              "      <td>0</td>\n",
              "      <td>0</td>\n",
              "      <td>1</td>\n",
              "      <td>0</td>\n",
              "      <td>0</td>\n",
              "      <td>0</td>\n",
              "      <td>0</td>\n",
              "      <td>0</td>\n",
              "      <td>0</td>\n",
              "      <td>0</td>\n",
              "      <td>True</td>\n",
              "    </tr>\n",
              "    <tr>\n",
              "      <th>2</th>\n",
              "      <td>0</td>\n",
              "      <td>0</td>\n",
              "      <td>0</td>\n",
              "      <td>1</td>\n",
              "      <td>0</td>\n",
              "      <td>0</td>\n",
              "      <td>0</td>\n",
              "      <td>0</td>\n",
              "      <td>0</td>\n",
              "      <td>0</td>\n",
              "      <td>True</td>\n",
              "    </tr>\n",
              "    <tr>\n",
              "      <th>3</th>\n",
              "      <td>0</td>\n",
              "      <td>0</td>\n",
              "      <td>0</td>\n",
              "      <td>0</td>\n",
              "      <td>1</td>\n",
              "      <td>0</td>\n",
              "      <td>0</td>\n",
              "      <td>0</td>\n",
              "      <td>0</td>\n",
              "      <td>0</td>\n",
              "      <td>True</td>\n",
              "    </tr>\n",
              "    <tr>\n",
              "      <th>4</th>\n",
              "      <td>0</td>\n",
              "      <td>0</td>\n",
              "      <td>0</td>\n",
              "      <td>0</td>\n",
              "      <td>0</td>\n",
              "      <td>1</td>\n",
              "      <td>0</td>\n",
              "      <td>0</td>\n",
              "      <td>0</td>\n",
              "      <td>0</td>\n",
              "      <td>True</td>\n",
              "    </tr>\n",
              "    <tr>\n",
              "      <th>5</th>\n",
              "      <td>0</td>\n",
              "      <td>0</td>\n",
              "      <td>0</td>\n",
              "      <td>0</td>\n",
              "      <td>0</td>\n",
              "      <td>0</td>\n",
              "      <td>1</td>\n",
              "      <td>0</td>\n",
              "      <td>0</td>\n",
              "      <td>0</td>\n",
              "      <td>True</td>\n",
              "    </tr>\n",
              "    <tr>\n",
              "      <th>6</th>\n",
              "      <td>0</td>\n",
              "      <td>0</td>\n",
              "      <td>0</td>\n",
              "      <td>0</td>\n",
              "      <td>0</td>\n",
              "      <td>0</td>\n",
              "      <td>0</td>\n",
              "      <td>1</td>\n",
              "      <td>0</td>\n",
              "      <td>0</td>\n",
              "      <td>True</td>\n",
              "    </tr>\n",
              "    <tr>\n",
              "      <th>7</th>\n",
              "      <td>0</td>\n",
              "      <td>0</td>\n",
              "      <td>0</td>\n",
              "      <td>0</td>\n",
              "      <td>0</td>\n",
              "      <td>0</td>\n",
              "      <td>0</td>\n",
              "      <td>0</td>\n",
              "      <td>1</td>\n",
              "      <td>0</td>\n",
              "      <td>True</td>\n",
              "    </tr>\n",
              "    <tr>\n",
              "      <th>8</th>\n",
              "      <td>0</td>\n",
              "      <td>0</td>\n",
              "      <td>0</td>\n",
              "      <td>0</td>\n",
              "      <td>0</td>\n",
              "      <td>0</td>\n",
              "      <td>0</td>\n",
              "      <td>0</td>\n",
              "      <td>0</td>\n",
              "      <td>1</td>\n",
              "      <td>True</td>\n",
              "    </tr>\n",
              "    <tr>\n",
              "      <th>9</th>\n",
              "      <td>1</td>\n",
              "      <td>1</td>\n",
              "      <td>0</td>\n",
              "      <td>0</td>\n",
              "      <td>0</td>\n",
              "      <td>0</td>\n",
              "      <td>0</td>\n",
              "      <td>0</td>\n",
              "      <td>0</td>\n",
              "      <td>0</td>\n",
              "      <td>True</td>\n",
              "    </tr>\n",
              "    <tr>\n",
              "      <th>10</th>\n",
              "      <td>0</td>\n",
              "      <td>1</td>\n",
              "      <td>0</td>\n",
              "      <td>0</td>\n",
              "      <td>0</td>\n",
              "      <td>0</td>\n",
              "      <td>0</td>\n",
              "      <td>0</td>\n",
              "      <td>0</td>\n",
              "      <td>0</td>\n",
              "      <td>True</td>\n",
              "    </tr>\n",
              "    <tr>\n",
              "      <th>11</th>\n",
              "      <td>0</td>\n",
              "      <td>1</td>\n",
              "      <td>1</td>\n",
              "      <td>0</td>\n",
              "      <td>0</td>\n",
              "      <td>0</td>\n",
              "      <td>0</td>\n",
              "      <td>0</td>\n",
              "      <td>0</td>\n",
              "      <td>0</td>\n",
              "      <td>True</td>\n",
              "    </tr>\n",
              "    <tr>\n",
              "      <th>12</th>\n",
              "      <td>0</td>\n",
              "      <td>1</td>\n",
              "      <td>0</td>\n",
              "      <td>1</td>\n",
              "      <td>0</td>\n",
              "      <td>0</td>\n",
              "      <td>0</td>\n",
              "      <td>0</td>\n",
              "      <td>0</td>\n",
              "      <td>0</td>\n",
              "      <td>True</td>\n",
              "    </tr>\n",
              "    <tr>\n",
              "      <th>13</th>\n",
              "      <td>0</td>\n",
              "      <td>1</td>\n",
              "      <td>0</td>\n",
              "      <td>0</td>\n",
              "      <td>1</td>\n",
              "      <td>0</td>\n",
              "      <td>0</td>\n",
              "      <td>0</td>\n",
              "      <td>0</td>\n",
              "      <td>0</td>\n",
              "      <td>True</td>\n",
              "    </tr>\n",
              "    <tr>\n",
              "      <th>14</th>\n",
              "      <td>0</td>\n",
              "      <td>1</td>\n",
              "      <td>0</td>\n",
              "      <td>0</td>\n",
              "      <td>0</td>\n",
              "      <td>1</td>\n",
              "      <td>0</td>\n",
              "      <td>0</td>\n",
              "      <td>0</td>\n",
              "      <td>0</td>\n",
              "      <td>True</td>\n",
              "    </tr>\n",
              "    <tr>\n",
              "      <th>15</th>\n",
              "      <td>0</td>\n",
              "      <td>1</td>\n",
              "      <td>0</td>\n",
              "      <td>0</td>\n",
              "      <td>0</td>\n",
              "      <td>0</td>\n",
              "      <td>1</td>\n",
              "      <td>0</td>\n",
              "      <td>0</td>\n",
              "      <td>0</td>\n",
              "      <td>True</td>\n",
              "    </tr>\n",
              "    <tr>\n",
              "      <th>16</th>\n",
              "      <td>0</td>\n",
              "      <td>1</td>\n",
              "      <td>0</td>\n",
              "      <td>0</td>\n",
              "      <td>0</td>\n",
              "      <td>0</td>\n",
              "      <td>0</td>\n",
              "      <td>1</td>\n",
              "      <td>0</td>\n",
              "      <td>0</td>\n",
              "      <td>True</td>\n",
              "    </tr>\n",
              "    <tr>\n",
              "      <th>17</th>\n",
              "      <td>0</td>\n",
              "      <td>1</td>\n",
              "      <td>0</td>\n",
              "      <td>0</td>\n",
              "      <td>0</td>\n",
              "      <td>0</td>\n",
              "      <td>0</td>\n",
              "      <td>0</td>\n",
              "      <td>1</td>\n",
              "      <td>0</td>\n",
              "      <td>True</td>\n",
              "    </tr>\n",
              "    <tr>\n",
              "      <th>18</th>\n",
              "      <td>0</td>\n",
              "      <td>1</td>\n",
              "      <td>0</td>\n",
              "      <td>0</td>\n",
              "      <td>0</td>\n",
              "      <td>0</td>\n",
              "      <td>0</td>\n",
              "      <td>0</td>\n",
              "      <td>0</td>\n",
              "      <td>1</td>\n",
              "      <td>True</td>\n",
              "    </tr>\n",
              "    <tr>\n",
              "      <th>19</th>\n",
              "      <td>1</td>\n",
              "      <td>0</td>\n",
              "      <td>1</td>\n",
              "      <td>0</td>\n",
              "      <td>0</td>\n",
              "      <td>0</td>\n",
              "      <td>0</td>\n",
              "      <td>0</td>\n",
              "      <td>0</td>\n",
              "      <td>0</td>\n",
              "      <td>True</td>\n",
              "    </tr>\n",
              "    <tr>\n",
              "      <th>20</th>\n",
              "      <td>0</td>\n",
              "      <td>1</td>\n",
              "      <td>1</td>\n",
              "      <td>0</td>\n",
              "      <td>0</td>\n",
              "      <td>0</td>\n",
              "      <td>0</td>\n",
              "      <td>0</td>\n",
              "      <td>0</td>\n",
              "      <td>0</td>\n",
              "      <td>True</td>\n",
              "    </tr>\n",
              "    <tr>\n",
              "      <th>21</th>\n",
              "      <td>0</td>\n",
              "      <td>0</td>\n",
              "      <td>1</td>\n",
              "      <td>0</td>\n",
              "      <td>0</td>\n",
              "      <td>0</td>\n",
              "      <td>0</td>\n",
              "      <td>0</td>\n",
              "      <td>0</td>\n",
              "      <td>0</td>\n",
              "      <td>True</td>\n",
              "    </tr>\n",
              "    <tr>\n",
              "      <th>22</th>\n",
              "      <td>0</td>\n",
              "      <td>0</td>\n",
              "      <td>1</td>\n",
              "      <td>1</td>\n",
              "      <td>0</td>\n",
              "      <td>0</td>\n",
              "      <td>0</td>\n",
              "      <td>0</td>\n",
              "      <td>0</td>\n",
              "      <td>0</td>\n",
              "      <td>True</td>\n",
              "    </tr>\n",
              "    <tr>\n",
              "      <th>23</th>\n",
              "      <td>0</td>\n",
              "      <td>0</td>\n",
              "      <td>1</td>\n",
              "      <td>0</td>\n",
              "      <td>1</td>\n",
              "      <td>0</td>\n",
              "      <td>0</td>\n",
              "      <td>0</td>\n",
              "      <td>0</td>\n",
              "      <td>0</td>\n",
              "      <td>True</td>\n",
              "    </tr>\n",
              "  </tbody>\n",
              "</table>\n",
              "</div>"
            ],
            "text/plain": [
              "    0  1  2  3  4  5  6  7  8  9     p\n",
              "0   0  1  0  0  0  0  0  0  0  0  True\n",
              "1   0  0  1  0  0  0  0  0  0  0  True\n",
              "2   0  0  0  1  0  0  0  0  0  0  True\n",
              "3   0  0  0  0  1  0  0  0  0  0  True\n",
              "4   0  0  0  0  0  1  0  0  0  0  True\n",
              "5   0  0  0  0  0  0  1  0  0  0  True\n",
              "6   0  0  0  0  0  0  0  1  0  0  True\n",
              "7   0  0  0  0  0  0  0  0  1  0  True\n",
              "8   0  0  0  0  0  0  0  0  0  1  True\n",
              "9   1  1  0  0  0  0  0  0  0  0  True\n",
              "10  0  1  0  0  0  0  0  0  0  0  True\n",
              "11  0  1  1  0  0  0  0  0  0  0  True\n",
              "12  0  1  0  1  0  0  0  0  0  0  True\n",
              "13  0  1  0  0  1  0  0  0  0  0  True\n",
              "14  0  1  0  0  0  1  0  0  0  0  True\n",
              "15  0  1  0  0  0  0  1  0  0  0  True\n",
              "16  0  1  0  0  0  0  0  1  0  0  True\n",
              "17  0  1  0  0  0  0  0  0  1  0  True\n",
              "18  0  1  0  0  0  0  0  0  0  1  True\n",
              "19  1  0  1  0  0  0  0  0  0  0  True\n",
              "20  0  1  1  0  0  0  0  0  0  0  True\n",
              "21  0  0  1  0  0  0  0  0  0  0  True\n",
              "22  0  0  1  1  0  0  0  0  0  0  True\n",
              "23  0  0  1  0  1  0  0  0  0  0  True"
            ]
          },
          "metadata": {
            "tags": []
          },
          "execution_count": 13
        }
      ]
    },
    {
      "cell_type": "code",
      "metadata": {
        "colab": {
          "base_uri": "https://localhost:8080/",
          "height": 138
        },
        "id": "L3wYDJaVRrBK",
        "outputId": "d1ec608b-9c2c-43a5-dfb6-730a3066e165"
      },
      "source": [
        "apriori(sparse_df, min_support=0.5, use_colnames=True)"
      ],
      "execution_count": null,
      "outputs": [
        {
          "output_type": "execute_result",
          "data": {
            "text/html": [
              "<div>\n",
              "<style scoped>\n",
              "    .dataframe tbody tr th:only-of-type {\n",
              "        vertical-align: middle;\n",
              "    }\n",
              "\n",
              "    .dataframe tbody tr th {\n",
              "        vertical-align: top;\n",
              "    }\n",
              "\n",
              "    .dataframe thead th {\n",
              "        text-align: right;\n",
              "    }\n",
              "</style>\n",
              "<table border=\"1\" class=\"dataframe\">\n",
              "  <thead>\n",
              "    <tr style=\"text-align: right;\">\n",
              "      <th></th>\n",
              "      <th>support</th>\n",
              "      <th>itemsets</th>\n",
              "    </tr>\n",
              "  </thead>\n",
              "  <tbody>\n",
              "    <tr>\n",
              "      <th>0</th>\n",
              "      <td>0.5</td>\n",
              "      <td>(1)</td>\n",
              "    </tr>\n",
              "    <tr>\n",
              "      <th>1</th>\n",
              "      <td>1.0</td>\n",
              "      <td>(p)</td>\n",
              "    </tr>\n",
              "    <tr>\n",
              "      <th>2</th>\n",
              "      <td>0.5</td>\n",
              "      <td>(p, 1)</td>\n",
              "    </tr>\n",
              "  </tbody>\n",
              "</table>\n",
              "</div>"
            ],
            "text/plain": [
              "   support itemsets\n",
              "0      0.5      (1)\n",
              "1      1.0      (p)\n",
              "2      0.5   (p, 1)"
            ]
          },
          "metadata": {
            "tags": []
          },
          "execution_count": 14
        }
      ]
    },
    {
      "cell_type": "markdown",
      "metadata": {
        "id": "KsZQkylVpqKa"
      },
      "source": [
        "Definindo um valor limite para o valor de suporte e calculando o valor de suporte. "
      ]
    },
    {
      "cell_type": "code",
      "metadata": {
        "colab": {
          "base_uri": "https://localhost:8080/",
          "height": 407
        },
        "id": "6G6-Mig8IFjj",
        "outputId": "b0007415-329e-47a8-ef30-b13159203625"
      },
      "source": [
        "df_new = apriori(df, min_support = 0.2, use_colnames = True)\n",
        "df_new"
      ],
      "execution_count": null,
      "outputs": [
        {
          "output_type": "execute_result",
          "data": {
            "text/html": [
              "<div>\n",
              "<style scoped>\n",
              "    .dataframe tbody tr th:only-of-type {\n",
              "        vertical-align: middle;\n",
              "    }\n",
              "\n",
              "    .dataframe tbody tr th {\n",
              "        vertical-align: top;\n",
              "    }\n",
              "\n",
              "    .dataframe thead th {\n",
              "        text-align: right;\n",
              "    }\n",
              "</style>\n",
              "<table border=\"1\" class=\"dataframe\">\n",
              "  <thead>\n",
              "    <tr style=\"text-align: right;\">\n",
              "      <th></th>\n",
              "      <th>support</th>\n",
              "      <th>itemsets</th>\n",
              "    </tr>\n",
              "  </thead>\n",
              "  <tbody>\n",
              "    <tr>\n",
              "      <th>0</th>\n",
              "      <td>0.998442</td>\n",
              "      <td>(p1)</td>\n",
              "    </tr>\n",
              "    <tr>\n",
              "      <th>1</th>\n",
              "      <td>0.769684</td>\n",
              "      <td>(p5)</td>\n",
              "    </tr>\n",
              "    <tr>\n",
              "      <th>2</th>\n",
              "      <td>0.563538</td>\n",
              "      <td>(p6)</td>\n",
              "    </tr>\n",
              "    <tr>\n",
              "      <th>3</th>\n",
              "      <td>0.652288</td>\n",
              "      <td>(p7)</td>\n",
              "    </tr>\n",
              "    <tr>\n",
              "      <th>4</th>\n",
              "      <td>0.682103</td>\n",
              "      <td>(p8)</td>\n",
              "    </tr>\n",
              "    <tr>\n",
              "      <th>...</th>\n",
              "      <td>...</td>\n",
              "      <td>...</td>\n",
              "    </tr>\n",
              "    <tr>\n",
              "      <th>2468</th>\n",
              "      <td>0.218996</td>\n",
              "      <td>(p21, p8, p10, p1, p20, p5, p13)</td>\n",
              "    </tr>\n",
              "    <tr>\n",
              "      <th>2469</th>\n",
              "      <td>0.212961</td>\n",
              "      <td>(p21, p8, p11, p1, p20, p5, p13)</td>\n",
              "    </tr>\n",
              "    <tr>\n",
              "      <th>2470</th>\n",
              "      <td>0.210430</td>\n",
              "      <td>(p21, p8, p1, p20, p18, p5, p13)</td>\n",
              "    </tr>\n",
              "    <tr>\n",
              "      <th>2471</th>\n",
              "      <td>0.202920</td>\n",
              "      <td>(p21, p11, p1, p20, p18, p5, p13)</td>\n",
              "    </tr>\n",
              "    <tr>\n",
              "      <th>2472</th>\n",
              "      <td>0.201196</td>\n",
              "      <td>(p21, p11, p7, p1, p20, p18, p13)</td>\n",
              "    </tr>\n",
              "  </tbody>\n",
              "</table>\n",
              "<p>2473 rows × 2 columns</p>\n",
              "</div>"
            ],
            "text/plain": [
              "       support                           itemsets\n",
              "0     0.998442                               (p1)\n",
              "1     0.769684                               (p5)\n",
              "2     0.563538                               (p6)\n",
              "3     0.652288                               (p7)\n",
              "4     0.682103                               (p8)\n",
              "...        ...                                ...\n",
              "2468  0.218996   (p21, p8, p10, p1, p20, p5, p13)\n",
              "2469  0.212961   (p21, p8, p11, p1, p20, p5, p13)\n",
              "2470  0.210430   (p21, p8, p1, p20, p18, p5, p13)\n",
              "2471  0.202920  (p21, p11, p1, p20, p18, p5, p13)\n",
              "2472  0.201196  (p21, p11, p7, p1, p20, p18, p13)\n",
              "\n",
              "[2473 rows x 2 columns]"
            ]
          },
          "metadata": {
            "tags": []
          },
          "execution_count": 15
        }
      ]
    },
    {
      "cell_type": "markdown",
      "metadata": {
        "id": "ylpZwn6bp83o"
      },
      "source": [
        "Vendo os valores de interpretação usando a função da regra de associação."
      ]
    },
    {
      "cell_type": "code",
      "metadata": {
        "colab": {
          "base_uri": "https://localhost:8080/",
          "height": 407
        },
        "id": "ntZIPCETIrC7",
        "outputId": "c3b8deb6-91d3-41cf-e1d1-a2de01d536d0"
      },
      "source": [
        "df_ar = association_rules(df_new, metric = \"confidence\", min_threshold = 0.6)\n",
        "df_ar"
      ],
      "execution_count": null,
      "outputs": [
        {
          "output_type": "execute_result",
          "data": {
            "text/html": [
              "<div>\n",
              "<style scoped>\n",
              "    .dataframe tbody tr th:only-of-type {\n",
              "        vertical-align: middle;\n",
              "    }\n",
              "\n",
              "    .dataframe tbody tr th {\n",
              "        vertical-align: top;\n",
              "    }\n",
              "\n",
              "    .dataframe thead th {\n",
              "        text-align: right;\n",
              "    }\n",
              "</style>\n",
              "<table border=\"1\" class=\"dataframe\">\n",
              "  <thead>\n",
              "    <tr style=\"text-align: right;\">\n",
              "      <th></th>\n",
              "      <th>antecedents</th>\n",
              "      <th>consequents</th>\n",
              "      <th>antecedent support</th>\n",
              "      <th>consequent support</th>\n",
              "      <th>support</th>\n",
              "      <th>confidence</th>\n",
              "      <th>lift</th>\n",
              "      <th>leverage</th>\n",
              "      <th>conviction</th>\n",
              "    </tr>\n",
              "  </thead>\n",
              "  <tbody>\n",
              "    <tr>\n",
              "      <th>0</th>\n",
              "      <td>(p1)</td>\n",
              "      <td>(p5)</td>\n",
              "      <td>0.998442</td>\n",
              "      <td>0.769684</td>\n",
              "      <td>0.769072</td>\n",
              "      <td>0.770272</td>\n",
              "      <td>1.000764</td>\n",
              "      <td>0.000587</td>\n",
              "      <td>1.002559</td>\n",
              "    </tr>\n",
              "    <tr>\n",
              "      <th>1</th>\n",
              "      <td>(p5)</td>\n",
              "      <td>(p1)</td>\n",
              "      <td>0.769684</td>\n",
              "      <td>0.998442</td>\n",
              "      <td>0.769072</td>\n",
              "      <td>0.999205</td>\n",
              "      <td>1.000764</td>\n",
              "      <td>0.000587</td>\n",
              "      <td>1.959196</td>\n",
              "    </tr>\n",
              "    <tr>\n",
              "      <th>2</th>\n",
              "      <td>(p6)</td>\n",
              "      <td>(p1)</td>\n",
              "      <td>0.563538</td>\n",
              "      <td>0.998442</td>\n",
              "      <td>0.563065</td>\n",
              "      <td>0.999161</td>\n",
              "      <td>1.000720</td>\n",
              "      <td>0.000405</td>\n",
              "      <td>1.856360</td>\n",
              "    </tr>\n",
              "    <tr>\n",
              "      <th>3</th>\n",
              "      <td>(p7)</td>\n",
              "      <td>(p1)</td>\n",
              "      <td>0.652288</td>\n",
              "      <td>0.998442</td>\n",
              "      <td>0.651537</td>\n",
              "      <td>0.998849</td>\n",
              "      <td>1.000407</td>\n",
              "      <td>0.000265</td>\n",
              "      <td>1.352893</td>\n",
              "    </tr>\n",
              "    <tr>\n",
              "      <th>4</th>\n",
              "      <td>(p1)</td>\n",
              "      <td>(p7)</td>\n",
              "      <td>0.998442</td>\n",
              "      <td>0.652288</td>\n",
              "      <td>0.651537</td>\n",
              "      <td>0.652553</td>\n",
              "      <td>1.000407</td>\n",
              "      <td>0.000265</td>\n",
              "      <td>1.000764</td>\n",
              "    </tr>\n",
              "    <tr>\n",
              "      <th>...</th>\n",
              "      <td>...</td>\n",
              "      <td>...</td>\n",
              "      <td>...</td>\n",
              "      <td>...</td>\n",
              "      <td>...</td>\n",
              "      <td>...</td>\n",
              "      <td>...</td>\n",
              "      <td>...</td>\n",
              "      <td>...</td>\n",
              "    </tr>\n",
              "    <tr>\n",
              "      <th>17725</th>\n",
              "      <td>(p11, p20, p18)</td>\n",
              "      <td>(p7, p21, p1, p13)</td>\n",
              "      <td>0.333278</td>\n",
              "      <td>0.372966</td>\n",
              "      <td>0.201196</td>\n",
              "      <td>0.603689</td>\n",
              "      <td>1.618615</td>\n",
              "      <td>0.076895</td>\n",
              "      <td>1.582174</td>\n",
              "    </tr>\n",
              "    <tr>\n",
              "      <th>17726</th>\n",
              "      <td>(p11, p18, p13)</td>\n",
              "      <td>(p7, p21, p1, p20)</td>\n",
              "      <td>0.281602</td>\n",
              "      <td>0.377472</td>\n",
              "      <td>0.201196</td>\n",
              "      <td>0.714469</td>\n",
              "      <td>1.892775</td>\n",
              "      <td>0.094899</td>\n",
              "      <td>2.180248</td>\n",
              "    </tr>\n",
              "    <tr>\n",
              "      <th>17727</th>\n",
              "      <td>(p7, p20, p13)</td>\n",
              "      <td>(p21, p11, p1, p18)</td>\n",
              "      <td>0.335113</td>\n",
              "      <td>0.307384</td>\n",
              "      <td>0.201196</td>\n",
              "      <td>0.600382</td>\n",
              "      <td>1.953196</td>\n",
              "      <td>0.098187</td>\n",
              "      <td>1.733194</td>\n",
              "    </tr>\n",
              "    <tr>\n",
              "      <th>17728</th>\n",
              "      <td>(p7, p18, p13)</td>\n",
              "      <td>(p20, p21, p11, p1)</td>\n",
              "      <td>0.293005</td>\n",
              "      <td>0.384369</td>\n",
              "      <td>0.201196</td>\n",
              "      <td>0.686664</td>\n",
              "      <td>1.786468</td>\n",
              "      <td>0.088574</td>\n",
              "      <td>1.964759</td>\n",
              "    </tr>\n",
              "    <tr>\n",
              "      <th>17729</th>\n",
              "      <td>(p20, p18, p13)</td>\n",
              "      <td>(p7, p21, p11, p1)</td>\n",
              "      <td>0.333500</td>\n",
              "      <td>0.363927</td>\n",
              "      <td>0.201196</td>\n",
              "      <td>0.603286</td>\n",
              "      <td>1.657710</td>\n",
              "      <td>0.079826</td>\n",
              "      <td>1.603353</td>\n",
              "    </tr>\n",
              "  </tbody>\n",
              "</table>\n",
              "<p>17730 rows × 9 columns</p>\n",
              "</div>"
            ],
            "text/plain": [
              "           antecedents          consequents  ...  leverage  conviction\n",
              "0                 (p1)                 (p5)  ...  0.000587    1.002559\n",
              "1                 (p5)                 (p1)  ...  0.000587    1.959196\n",
              "2                 (p6)                 (p1)  ...  0.000405    1.856360\n",
              "3                 (p7)                 (p1)  ...  0.000265    1.352893\n",
              "4                 (p1)                 (p7)  ...  0.000265    1.000764\n",
              "...                ...                  ...  ...       ...         ...\n",
              "17725  (p11, p20, p18)   (p7, p21, p1, p13)  ...  0.076895    1.582174\n",
              "17726  (p11, p18, p13)   (p7, p21, p1, p20)  ...  0.094899    2.180248\n",
              "17727   (p7, p20, p13)  (p21, p11, p1, p18)  ...  0.098187    1.733194\n",
              "17728   (p7, p18, p13)  (p20, p21, p11, p1)  ...  0.088574    1.964759\n",
              "17729  (p20, p18, p13)   (p7, p21, p11, p1)  ...  0.079826    1.603353\n",
              "\n",
              "[17730 rows x 9 columns]"
            ]
          },
          "metadata": {
            "tags": []
          },
          "execution_count": 16
        }
      ]
    },
    {
      "cell_type": "code",
      "metadata": {
        "colab": {
          "base_uri": "https://localhost:8080/"
        },
        "id": "z-2caPtEMniC",
        "outputId": "a72cd1de-cb69-4165-bf69-faa30533d670"
      },
      "source": [
        "df_results = list(df_ar)\n",
        "print(len(df_results))"
      ],
      "execution_count": null,
      "outputs": [
        {
          "output_type": "stream",
          "text": [
            "9\n"
          ],
          "name": "stdout"
        }
      ]
    },
    {
      "cell_type": "code",
      "metadata": {
        "colab": {
          "base_uri": "https://localhost:8080/"
        },
        "id": "_Z-qOiTZM5Kj",
        "outputId": "76efc4c6-c3ad-450a-a6d9-09bdbea96359"
      },
      "source": [
        "df_results"
      ],
      "execution_count": null,
      "outputs": [
        {
          "output_type": "execute_result",
          "data": {
            "text/plain": [
              "['antecedents',\n",
              " 'consequents',\n",
              " 'antecedent support',\n",
              " 'consequent support',\n",
              " 'support',\n",
              " 'confidence',\n",
              " 'lift',\n",
              " 'leverage',\n",
              " 'conviction']"
            ]
          },
          "metadata": {
            "tags": []
          },
          "execution_count": 18
        }
      ]
    },
    {
      "cell_type": "markdown",
      "metadata": {
        "id": "e3FZjB3sqHGq"
      },
      "source": [
        "# FP-Growth(Frequent Pattern Growth) utilizando pyfpgrowth\n",
        "\n",
        "\n"
      ]
    },
    {
      "cell_type": "code",
      "metadata": {
        "id": "6qho3xCnxKcj"
      },
      "source": [
        "!pip install pyfpgrowth"
      ],
      "execution_count": null,
      "outputs": []
    },
    {
      "cell_type": "code",
      "metadata": {
        "id": "DLQDuDGbzLJ5"
      },
      "source": [
        "import pyfpgrowth"
      ],
      "execution_count": null,
      "outputs": []
    },
    {
      "cell_type": "markdown",
      "metadata": {
        "id": "9XumOW4KDaGH"
      },
      "source": [
        "Encontrar padrões frequentes em capturas que ocorrem acima do limite de suporte"
      ]
    },
    {
      "cell_type": "code",
      "metadata": {
        "id": "8cVu6TN0zdA4"
      },
      "source": [
        "patterns = pyfpgrowth.find_frequent_patterns(df, 2)"
      ],
      "execution_count": null,
      "outputs": []
    },
    {
      "cell_type": "code",
      "metadata": {
        "colab": {
          "base_uri": "https://localhost:8080/"
        },
        "id": "cJ8Trg1FzjW0",
        "outputId": "f3e1f936-245b-4a59-ed4e-db8fe63597f0"
      },
      "source": [
        "patterns"
      ],
      "execution_count": null,
      "outputs": [
        {
          "output_type": "execute_result",
          "data": {
            "text/plain": [
              "{('0',): 2,\n",
              " ('0', 'p'): 2,\n",
              " ('1',): 13,\n",
              " ('1', '2'): 2,\n",
              " ('1', '2', 'p'): 2,\n",
              " ('1', 'p'): 13,\n",
              " ('2',): 8,\n",
              " ('2', 'p'): 8,\n",
              " ('3',): 3,\n",
              " ('3', 'p'): 3,\n",
              " ('4',): 3,\n",
              " ('4', 'p'): 3,\n",
              " ('5',): 2,\n",
              " ('5', 'p'): 2,\n",
              " ('6',): 2,\n",
              " ('6', 'p'): 2,\n",
              " ('7',): 2,\n",
              " ('7', 'p'): 2,\n",
              " ('8',): 2,\n",
              " ('8', 'p'): 2,\n",
              " ('9',): 2,\n",
              " ('9', 'p'): 2,\n",
              " ('p',): 24}"
            ]
          },
          "metadata": {
            "tags": []
          },
          "execution_count": 32
        }
      ]
    },
    {
      "cell_type": "markdown",
      "metadata": {
        "id": "E6MH-KlsDP0x"
      },
      "source": [
        "Use gerar regras de associação para encontrar padrões que estão associados a outro com uma certa probabilidade mínima"
      ]
    },
    {
      "cell_type": "code",
      "metadata": {
        "id": "YjNOFVnLzhwo"
      },
      "source": [
        "rules = pyfpgrowth.generate_association_rules(patterns, 0.7)"
      ],
      "execution_count": null,
      "outputs": []
    },
    {
      "cell_type": "code",
      "metadata": {
        "colab": {
          "base_uri": "https://localhost:8080/"
        },
        "id": "gceIujWezmZg",
        "outputId": "b0144a04-31e0-485f-cdd8-747e10eb1341"
      },
      "source": [
        "rules"
      ],
      "execution_count": null,
      "outputs": [
        {
          "output_type": "execute_result",
          "data": {
            "text/plain": [
              "{('0',): (('p',), 1.0),\n",
              " ('1',): (('p',), 1.0),\n",
              " ('1', '2'): (('p',), 1.0),\n",
              " ('2',): (('p',), 1.0),\n",
              " ('3',): (('p',), 1.0),\n",
              " ('4',): (('p',), 1.0),\n",
              " ('5',): (('p',), 1.0),\n",
              " ('6',): (('p',), 1.0),\n",
              " ('7',): (('p',), 1.0),\n",
              " ('8',): (('p',), 1.0),\n",
              " ('9',): (('p',), 1.0)}"
            ]
          },
          "metadata": {
            "tags": []
          },
          "execution_count": 34
        }
      ]
    },
    {
      "cell_type": "markdown",
      "metadata": {
        "id": "WNjshAjTCkEP"
      },
      "source": [
        "## FP-Growth utilizando o Spark"
      ]
    },
    {
      "cell_type": "markdown",
      "metadata": {
        "id": "je3i12aFCl13"
      },
      "source": [
        "### Referência"
      ]
    },
    {
      "cell_type": "markdown",
      "metadata": {
        "id": "26OGUTidCqdH"
      },
      "source": [
        "* [Market Basket Analysis using PySpark](https://towardsdatascience.com/market-basket-analysis-using-pysparks-fpgrowth-55c37ebd95c0)"
      ]
    },
    {
      "cell_type": "code",
      "metadata": {
        "id": "Y3N-wdqg_1RB"
      },
      "source": [
        "%%capture\n",
        "!sudo apt-get update --fix-missing\n",
        "!apt-get install openjdk-8-jdk-headless -qq > /dev/null\n",
        "!wget -q https://archive.apache.org/dist/spark/spark-3.0.0/spark-3.0.0-bin-hadoop3.2.tgz\n",
        "#!wget -q https://downloads.apache.org/spark/spark-3.0.0/spark-3.0.0-bin-hadoop3.2.tgz\n",
        "!mv spark-3.0.0-bin-hadoop3.2.tgz sparkkk\n",
        "!tar xf sparkkk\n",
        "!pip install -q findspark"
      ],
      "execution_count": null,
      "outputs": []
    },
    {
      "cell_type": "code",
      "metadata": {
        "colab": {
          "base_uri": "https://localhost:8080/",
          "height": 221
        },
        "id": "4jGbprpY_6Yf",
        "outputId": "76598076-7ae3-4a30-9f2a-ce376f3d3a2a"
      },
      "source": [
        "import os\n",
        "os.environ[\"JAVA_HOME\"] = \"/usr/lib/jvm/java-8-openjdk-amd64\"\n",
        "os.environ[\"SPARK_HOME\"] = \"/content/spark-3.0.0-bin-hadoop3.2\"\n",
        "import findspark\n",
        "findspark.init()\n",
        "from pyspark.sql import SparkSession\n",
        "spark = SparkSession.builder.master(\"local[*]\").getOrCreate()\n",
        "spark = SparkSession \\\n",
        ".builder \\\n",
        ".appName('fpgrowth') \\\n",
        ".getOrCreate()\n",
        "spark"
      ],
      "execution_count": null,
      "outputs": [
        {
          "output_type": "execute_result",
          "data": {
            "text/html": [
              "\n",
              "            <div>\n",
              "                <p><b>SparkSession - in-memory</b></p>\n",
              "                \n",
              "        <div>\n",
              "            <p><b>SparkContext</b></p>\n",
              "\n",
              "            <p><a href=\"http://5a07fced8300:4040\">Spark UI</a></p>\n",
              "\n",
              "            <dl>\n",
              "              <dt>Version</dt>\n",
              "                <dd><code>v3.1.1</code></dd>\n",
              "              <dt>Master</dt>\n",
              "                <dd><code>local[*]</code></dd>\n",
              "              <dt>AppName</dt>\n",
              "                <dd><code>pyspark-shell</code></dd>\n",
              "            </dl>\n",
              "        </div>\n",
              "        \n",
              "            </div>\n",
              "        "
            ],
            "text/plain": [
              "<pyspark.sql.session.SparkSession at 0x7f3c94d43dd0>"
            ]
          },
          "metadata": {
            "tags": []
          },
          "execution_count": 83
        }
      ]
    },
    {
      "cell_type": "code",
      "metadata": {
        "id": "aHXDbY1R_7ZA"
      },
      "source": [
        "from pyspark.sql import functions as F\n",
        "from pyspark.ml.fpm import FPGrowth\n",
        "import pandas\n",
        "sparkdata = spark.createDataFrame(df)"
      ],
      "execution_count": null,
      "outputs": []
    },
    {
      "cell_type": "code",
      "metadata": {
        "id": "MVh60utRABxH"
      },
      "source": [
        "capturedata = sparkdata.dropDuplicates(['p1', 'p5']).sort('p1')\n",
        "capturedata = capturedata.groupBy(\"p1\").agg(F.collect_list(\"p5\")).sort('p1')"
      ],
      "execution_count": null,
      "outputs": []
    },
    {
      "cell_type": "markdown",
      "metadata": {
        "id": "KnYAlTTNEVWW"
      },
      "source": [
        " Executando o FP-Growth minerando um conjuntos de itens frequentes usando support, lift, e confidence"
      ]
    },
    {
      "cell_type": "code",
      "metadata": {
        "id": "mMGaWvxwAUw_"
      },
      "source": [
        "fpGrowth = FPGrowth(itemsCol=\"collect_list(p5)\", minSupport=0.006, minConfidence=0.006)\n",
        "model = fpGrowth.fit(capturedata)"
      ],
      "execution_count": null,
      "outputs": []
    },
    {
      "cell_type": "markdown",
      "metadata": {
        "id": "yCHdChGvES2e"
      },
      "source": [
        "Exibir conjuntos de itens frequentes."
      ]
    },
    {
      "cell_type": "code",
      "metadata": {
        "id": "hdprMVbBERpn"
      },
      "source": [
        "model.freqItemsets.show()\n",
        "items = model.freqItemsets"
      ],
      "execution_count": null,
      "outputs": []
    },
    {
      "cell_type": "markdown",
      "metadata": {
        "id": "G-2-zcwXDyN-"
      },
      "source": [
        "Exibir regras de associação geradas."
      ]
    },
    {
      "cell_type": "code",
      "metadata": {
        "id": "7_PqAoE1DxH-"
      },
      "source": [
        "model.associationRules.show()\n",
        "rules = model.associationRules"
      ],
      "execution_count": null,
      "outputs": []
    },
    {
      "cell_type": "markdown",
      "metadata": {
        "id": "pFT4yLrEDtE2"
      },
      "source": [
        "Examinar os itens de entrada em relação a todas as regras de associação e resumir os consequentes como predição"
      ]
    },
    {
      "cell_type": "code",
      "metadata": {
        "id": "-20mr-c8Dp5O"
      },
      "source": [
        "model.transform(capturedata).show()\n",
        "transformed = model.transform(capturedata)"
      ],
      "execution_count": null,
      "outputs": []
    },
    {
      "cell_type": "code",
      "metadata": {
        "colab": {
          "base_uri": "https://localhost:8080/",
          "height": 138
        },
        "id": "qrxdQD7bCX54",
        "outputId": "e176954f-80f1-4e79-ca6b-dc39581d6f3c"
      },
      "source": [
        "result_pdf = items.select(\"*\").toPandas()\n",
        "result_pdf.head()"
      ],
      "execution_count": null,
      "outputs": [
        {
          "output_type": "execute_result",
          "data": {
            "text/html": [
              "<div>\n",
              "<style scoped>\n",
              "    .dataframe tbody tr th:only-of-type {\n",
              "        vertical-align: middle;\n",
              "    }\n",
              "\n",
              "    .dataframe tbody tr th {\n",
              "        vertical-align: top;\n",
              "    }\n",
              "\n",
              "    .dataframe thead th {\n",
              "        text-align: right;\n",
              "    }\n",
              "</style>\n",
              "<table border=\"1\" class=\"dataframe\">\n",
              "  <thead>\n",
              "    <tr style=\"text-align: right;\">\n",
              "      <th></th>\n",
              "      <th>items</th>\n",
              "      <th>freq</th>\n",
              "    </tr>\n",
              "  </thead>\n",
              "  <tbody>\n",
              "    <tr>\n",
              "      <th>0</th>\n",
              "      <td>[0.0]</td>\n",
              "      <td>2</td>\n",
              "    </tr>\n",
              "    <tr>\n",
              "      <th>1</th>\n",
              "      <td>[1.0]</td>\n",
              "      <td>2</td>\n",
              "    </tr>\n",
              "    <tr>\n",
              "      <th>2</th>\n",
              "      <td>[1.0, 0.0]</td>\n",
              "      <td>2</td>\n",
              "    </tr>\n",
              "  </tbody>\n",
              "</table>\n",
              "</div>"
            ],
            "text/plain": [
              "        items  freq\n",
              "0       [0.0]     2\n",
              "1       [1.0]     2\n",
              "2  [1.0, 0.0]     2"
            ]
          },
          "metadata": {
            "tags": []
          },
          "execution_count": 87
        }
      ]
    },
    {
      "cell_type": "code",
      "metadata": {
        "colab": {
          "base_uri": "https://localhost:8080/",
          "height": 108
        },
        "id": "ODC4rIyzCdW3",
        "outputId": "d37468dc-8bfd-493e-e7a9-cc6c1eb07b14"
      },
      "source": [
        "rules_pdf = rules.select(\"*\").toPandas()\n",
        "rules_pdf.head()"
      ],
      "execution_count": null,
      "outputs": [
        {
          "output_type": "execute_result",
          "data": {
            "text/html": [
              "<div>\n",
              "<style scoped>\n",
              "    .dataframe tbody tr th:only-of-type {\n",
              "        vertical-align: middle;\n",
              "    }\n",
              "\n",
              "    .dataframe tbody tr th {\n",
              "        vertical-align: top;\n",
              "    }\n",
              "\n",
              "    .dataframe thead th {\n",
              "        text-align: right;\n",
              "    }\n",
              "</style>\n",
              "<table border=\"1\" class=\"dataframe\">\n",
              "  <thead>\n",
              "    <tr style=\"text-align: right;\">\n",
              "      <th></th>\n",
              "      <th>antecedent</th>\n",
              "      <th>consequent</th>\n",
              "      <th>confidence</th>\n",
              "      <th>lift</th>\n",
              "      <th>support</th>\n",
              "    </tr>\n",
              "  </thead>\n",
              "  <tbody>\n",
              "    <tr>\n",
              "      <th>0</th>\n",
              "      <td>[1.0]</td>\n",
              "      <td>[0.0]</td>\n",
              "      <td>1.0</td>\n",
              "      <td>1.0</td>\n",
              "      <td>1.0</td>\n",
              "    </tr>\n",
              "    <tr>\n",
              "      <th>1</th>\n",
              "      <td>[0.0]</td>\n",
              "      <td>[1.0]</td>\n",
              "      <td>1.0</td>\n",
              "      <td>1.0</td>\n",
              "      <td>1.0</td>\n",
              "    </tr>\n",
              "  </tbody>\n",
              "</table>\n",
              "</div>"
            ],
            "text/plain": [
              "  antecedent consequent  confidence  lift  support\n",
              "0      [1.0]      [0.0]         1.0   1.0      1.0\n",
              "1      [0.0]      [1.0]         1.0   1.0      1.0"
            ]
          },
          "metadata": {
            "tags": []
          },
          "execution_count": 88
        }
      ]
    }
  ]
}