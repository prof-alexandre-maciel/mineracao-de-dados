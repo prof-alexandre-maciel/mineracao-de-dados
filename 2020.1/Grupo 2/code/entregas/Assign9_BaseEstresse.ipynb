{
  "nbformat": 4,
  "nbformat_minor": 0,
  "metadata": {
    "colab": {
      "name": "Assign9_BaseEstresse.ipynb",
      "provenance": [],
      "toc_visible": true,
      "machine_shape": "hm",
      "include_colab_link": true
    },
    "kernelspec": {
      "display_name": "Python 3",
      "name": "python3"
    },
    "language_info": {
      "name": "python"
    }
  },
  "cells": [
    {
      "cell_type": "markdown",
      "metadata": {
        "id": "view-in-github",
        "colab_type": "text"
      },
      "source": [
        "<a href=\"https://colab.research.google.com/github/renanalencar/projeto-md-emocoes/blob/main/Assign9_BaseEstresse.ipynb\" target=\"_parent\"><img src=\"https://colab.research.google.com/assets/colab-badge.svg\" alt=\"Open In Colab\"/></a>"
      ]
    },
    {
      "cell_type": "markdown",
      "metadata": {
        "id": "5pOn8CDHEtl1"
      },
      "source": [
        "# 1. Dados"
      ]
    },
    {
      "cell_type": "code",
      "metadata": {
        "id": "Uvx59ETwExt9",
        "colab": {
          "base_uri": "https://localhost:8080/"
        },
        "outputId": "c7ebc6b5-e0ed-4c73-c9c5-85e66eda50c8"
      },
      "source": [
        "from google.colab import drive\n",
        "drive.mount('/content/drive')"
      ],
      "execution_count": null,
      "outputs": [
        {
          "output_type": "stream",
          "text": [
            "Drive already mounted at /content/drive; to attempt to forcibly remount, call drive.mount(\"/content/drive\", force_remount=True).\n"
          ],
          "name": "stdout"
        }
      ]
    },
    {
      "cell_type": "code",
      "metadata": {
        "id": "imjqTSPSE0N8"
      },
      "source": [
        "# importar os pacotes necessários\n",
        "import pandas as pd\n",
        "import matplotlib.pyplot as plt\n",
        "import numpy as np"
      ],
      "execution_count": null,
      "outputs": []
    },
    {
      "cell_type": "code",
      "metadata": {
        "id": "tqzHS6G1E5Ii",
        "colab": {
          "base_uri": "https://localhost:8080/",
          "height": 297
        },
        "outputId": "30f54178-6608-46f6-accd-6e28f837be64"
      },
      "source": [
        "arquivo_tedio = \"/content/drive/Shareddrives/MINERAÇÃO DE DADOS ENG74291/Database/dadosEstresseB.xlsx\"\n",
        "df_tedio = pd.read_excel(arquivo_tedio)\n",
        "\n",
        "# CSV apenas com as emoções. Pontos euclidianos foram removidos\n",
        "# deixar no dataframe somente com as linhas correspondentes ao game_id 1\n",
        "df_tedio = df_tedio.drop(columns=['game_name','p1', 'p2', 'p3', 'p4', 'p5', 'p6', 'p7', 'p8', 'p9', 'p10', 'p11', 'p12', 'p13', 'p14', 'p15', 'p16', 'p17', 'p18', 'p19', 'p20', 'p21', 'p22', 'p23','p24'])\n",
        "\n",
        "filtro  = df_tedio[\"game_id\"] == 1\n",
        "df_tedio = df_tedio[filtro]\n",
        "\n",
        "# visualizar as 8 primeiras entradas do df\n",
        "df_tedio.head(8)"
      ],
      "execution_count": null,
      "outputs": [
        {
          "output_type": "execute_result",
          "data": {
            "text/html": [
              "<div>\n",
              "<style scoped>\n",
              "    .dataframe tbody tr th:only-of-type {\n",
              "        vertical-align: middle;\n",
              "    }\n",
              "\n",
              "    .dataframe tbody tr th {\n",
              "        vertical-align: top;\n",
              "    }\n",
              "\n",
              "    .dataframe thead th {\n",
              "        text-align: right;\n",
              "    }\n",
              "</style>\n",
              "<table border=\"1\" class=\"dataframe\">\n",
              "  <thead>\n",
              "    <tr style=\"text-align: right;\">\n",
              "      <th></th>\n",
              "      <th>game_id</th>\n",
              "      <th>uuid</th>\n",
              "      <th>timestamp</th>\n",
              "      <th>angry</th>\n",
              "      <th>disgusted</th>\n",
              "      <th>fear</th>\n",
              "      <th>sad</th>\n",
              "      <th>surprised</th>\n",
              "      <th>happy</th>\n",
              "    </tr>\n",
              "  </thead>\n",
              "  <tbody>\n",
              "    <tr>\n",
              "      <th>0</th>\n",
              "      <td>1</td>\n",
              "      <td>6</td>\n",
              "      <td>1605708889053</td>\n",
              "      <td>0.100790</td>\n",
              "      <td>0.192510</td>\n",
              "      <td>0.020056</td>\n",
              "      <td>0.143483</td>\n",
              "      <td>0.035893</td>\n",
              "      <td>0.036650</td>\n",
              "    </tr>\n",
              "    <tr>\n",
              "      <th>1</th>\n",
              "      <td>1</td>\n",
              "      <td>6</td>\n",
              "      <td>1605708889565</td>\n",
              "      <td>0.117206</td>\n",
              "      <td>0.294099</td>\n",
              "      <td>0.019053</td>\n",
              "      <td>0.091390</td>\n",
              "      <td>0.008923</td>\n",
              "      <td>0.050300</td>\n",
              "    </tr>\n",
              "    <tr>\n",
              "      <th>2</th>\n",
              "      <td>1</td>\n",
              "      <td>6</td>\n",
              "      <td>1605708890069</td>\n",
              "      <td>0.099648</td>\n",
              "      <td>0.265178</td>\n",
              "      <td>0.022462</td>\n",
              "      <td>0.098231</td>\n",
              "      <td>0.013674</td>\n",
              "      <td>0.051873</td>\n",
              "    </tr>\n",
              "    <tr>\n",
              "      <th>3</th>\n",
              "      <td>1</td>\n",
              "      <td>6</td>\n",
              "      <td>1605708890586</td>\n",
              "      <td>0.125407</td>\n",
              "      <td>0.308587</td>\n",
              "      <td>0.020549</td>\n",
              "      <td>0.103317</td>\n",
              "      <td>0.009624</td>\n",
              "      <td>0.041843</td>\n",
              "    </tr>\n",
              "    <tr>\n",
              "      <th>4</th>\n",
              "      <td>1</td>\n",
              "      <td>6</td>\n",
              "      <td>1605708891107</td>\n",
              "      <td>0.112386</td>\n",
              "      <td>0.299351</td>\n",
              "      <td>0.021350</td>\n",
              "      <td>0.106606</td>\n",
              "      <td>0.010373</td>\n",
              "      <td>0.046205</td>\n",
              "    </tr>\n",
              "    <tr>\n",
              "      <th>5</th>\n",
              "      <td>1</td>\n",
              "      <td>6</td>\n",
              "      <td>1605708891614</td>\n",
              "      <td>0.116339</td>\n",
              "      <td>0.314887</td>\n",
              "      <td>0.024295</td>\n",
              "      <td>0.125171</td>\n",
              "      <td>0.010312</td>\n",
              "      <td>0.040529</td>\n",
              "    </tr>\n",
              "    <tr>\n",
              "      <th>6</th>\n",
              "      <td>1</td>\n",
              "      <td>6</td>\n",
              "      <td>1605708892128</td>\n",
              "      <td>0.102454</td>\n",
              "      <td>0.272277</td>\n",
              "      <td>0.020551</td>\n",
              "      <td>0.090256</td>\n",
              "      <td>0.013013</td>\n",
              "      <td>0.054382</td>\n",
              "    </tr>\n",
              "    <tr>\n",
              "      <th>7</th>\n",
              "      <td>1</td>\n",
              "      <td>6</td>\n",
              "      <td>1605708892641</td>\n",
              "      <td>0.146948</td>\n",
              "      <td>0.356513</td>\n",
              "      <td>0.023564</td>\n",
              "      <td>0.106481</td>\n",
              "      <td>0.009985</td>\n",
              "      <td>0.031880</td>\n",
              "    </tr>\n",
              "  </tbody>\n",
              "</table>\n",
              "</div>"
            ],
            "text/plain": [
              "   game_id  uuid      timestamp  ...       sad  surprised     happy\n",
              "0        1     6  1605708889053  ...  0.143483   0.035893  0.036650\n",
              "1        1     6  1605708889565  ...  0.091390   0.008923  0.050300\n",
              "2        1     6  1605708890069  ...  0.098231   0.013674  0.051873\n",
              "3        1     6  1605708890586  ...  0.103317   0.009624  0.041843\n",
              "4        1     6  1605708891107  ...  0.106606   0.010373  0.046205\n",
              "5        1     6  1605708891614  ...  0.125171   0.010312  0.040529\n",
              "6        1     6  1605708892128  ...  0.090256   0.013013  0.054382\n",
              "7        1     6  1605708892641  ...  0.106481   0.009985  0.031880\n",
              "\n",
              "[8 rows x 9 columns]"
            ]
          },
          "metadata": {
            "tags": []
          },
          "execution_count": 203
        }
      ]
    },
    {
      "cell_type": "code",
      "metadata": {
        "id": "_PgrEKH1E9DD",
        "colab": {
          "base_uri": "https://localhost:8080/"
        },
        "outputId": "12c441bb-decc-4121-c795-cf51c2ac5384"
      },
      "source": [
        "# verificar o tamanho do df\n",
        "print(\"Variáveis:\\t {}\".format(df_tedio.shape[1]))\n",
        "print(\"Entradas:\\t {}\".format(df_tedio.shape[0]))"
      ],
      "execution_count": null,
      "outputs": [
        {
          "output_type": "stream",
          "text": [
            "Variáveis:\t 9\n",
            "Entradas:\t 17892\n"
          ],
          "name": "stdout"
        }
      ]
    },
    {
      "cell_type": "code",
      "metadata": {
        "id": "4a67XjVOE_Qr",
        "colab": {
          "base_uri": "https://localhost:8080/"
        },
        "outputId": "1311909b-a959-4591-ea35-01a23a6742a2"
      },
      "source": [
        "# vizualisar os nomes das colunas\n",
        "df_tedio.columns"
      ],
      "execution_count": null,
      "outputs": [
        {
          "output_type": "execute_result",
          "data": {
            "text/plain": [
              "Index(['game_id', 'uuid', 'timestamp', 'angry', 'disgusted', 'fear', 'sad',\n",
              "       'surprised', 'happy'],\n",
              "      dtype='object')"
            ]
          },
          "metadata": {
            "tags": []
          },
          "execution_count": 205
        }
      ]
    },
    {
      "cell_type": "code",
      "metadata": {
        "id": "deRAC6RfFBJU",
        "colab": {
          "base_uri": "https://localhost:8080/"
        },
        "outputId": "0c221fca-09b1-4a2d-cfaf-b813c847ca51"
      },
      "source": [
        "# descobrir os tipos das variáveis\n",
        "df_tedio.dtypes"
      ],
      "execution_count": null,
      "outputs": [
        {
          "output_type": "execute_result",
          "data": {
            "text/plain": [
              "game_id        int64\n",
              "uuid           int64\n",
              "timestamp      int64\n",
              "angry        float64\n",
              "disgusted    float64\n",
              "fear         float64\n",
              "sad          float64\n",
              "surprised    float64\n",
              "happy        float64\n",
              "dtype: object"
            ]
          },
          "metadata": {
            "tags": []
          },
          "execution_count": 206
        }
      ]
    },
    {
      "cell_type": "markdown",
      "metadata": {
        "id": "9UjhHXvXFGf0"
      },
      "source": [
        "## 1.2 Criando classes para a base de dados"
      ]
    },
    {
      "cell_type": "code",
      "metadata": {
        "id": "7X1hKMjtFHU1"
      },
      "source": [
        "# função para classificar os dados como tédio (1) ou estresse (0)\n",
        "def def_tedio(c):\n",
        "  if c['angry'] >= 0.1 and c['disgusted'] >= 0.1:\n",
        "    return 1\n",
        "  elif c['sad'] >= 0.1 and c['surprised'] >= 0.1:\n",
        "    return 1\n",
        "  else:\n",
        "    return 0"
      ],
      "execution_count": null,
      "outputs": []
    },
    {
      "cell_type": "code",
      "metadata": {
        "id": "WySuYpemFKJ7",
        "colab": {
          "base_uri": "https://localhost:8080/",
          "height": 297
        },
        "outputId": "2fa721e8-1396-49e3-837b-6890d6cf9d27"
      },
      "source": [
        "# criar a coluna 'target' para o df_tedio\n",
        "df_tratado = pd.DataFrame(df_tedio)\n",
        "\n",
        "df_tratado['target'] = df_tedio.apply(def_tedio, axis=1)\n",
        "\n",
        "df_tratado.head(8)"
      ],
      "execution_count": null,
      "outputs": [
        {
          "output_type": "execute_result",
          "data": {
            "text/html": [
              "<div>\n",
              "<style scoped>\n",
              "    .dataframe tbody tr th:only-of-type {\n",
              "        vertical-align: middle;\n",
              "    }\n",
              "\n",
              "    .dataframe tbody tr th {\n",
              "        vertical-align: top;\n",
              "    }\n",
              "\n",
              "    .dataframe thead th {\n",
              "        text-align: right;\n",
              "    }\n",
              "</style>\n",
              "<table border=\"1\" class=\"dataframe\">\n",
              "  <thead>\n",
              "    <tr style=\"text-align: right;\">\n",
              "      <th></th>\n",
              "      <th>game_id</th>\n",
              "      <th>uuid</th>\n",
              "      <th>timestamp</th>\n",
              "      <th>angry</th>\n",
              "      <th>disgusted</th>\n",
              "      <th>fear</th>\n",
              "      <th>sad</th>\n",
              "      <th>surprised</th>\n",
              "      <th>happy</th>\n",
              "      <th>target</th>\n",
              "    </tr>\n",
              "  </thead>\n",
              "  <tbody>\n",
              "    <tr>\n",
              "      <th>0</th>\n",
              "      <td>1</td>\n",
              "      <td>6</td>\n",
              "      <td>1605708889053</td>\n",
              "      <td>0.100790</td>\n",
              "      <td>0.192510</td>\n",
              "      <td>0.020056</td>\n",
              "      <td>0.143483</td>\n",
              "      <td>0.035893</td>\n",
              "      <td>0.036650</td>\n",
              "      <td>1</td>\n",
              "    </tr>\n",
              "    <tr>\n",
              "      <th>1</th>\n",
              "      <td>1</td>\n",
              "      <td>6</td>\n",
              "      <td>1605708889565</td>\n",
              "      <td>0.117206</td>\n",
              "      <td>0.294099</td>\n",
              "      <td>0.019053</td>\n",
              "      <td>0.091390</td>\n",
              "      <td>0.008923</td>\n",
              "      <td>0.050300</td>\n",
              "      <td>1</td>\n",
              "    </tr>\n",
              "    <tr>\n",
              "      <th>2</th>\n",
              "      <td>1</td>\n",
              "      <td>6</td>\n",
              "      <td>1605708890069</td>\n",
              "      <td>0.099648</td>\n",
              "      <td>0.265178</td>\n",
              "      <td>0.022462</td>\n",
              "      <td>0.098231</td>\n",
              "      <td>0.013674</td>\n",
              "      <td>0.051873</td>\n",
              "      <td>0</td>\n",
              "    </tr>\n",
              "    <tr>\n",
              "      <th>3</th>\n",
              "      <td>1</td>\n",
              "      <td>6</td>\n",
              "      <td>1605708890586</td>\n",
              "      <td>0.125407</td>\n",
              "      <td>0.308587</td>\n",
              "      <td>0.020549</td>\n",
              "      <td>0.103317</td>\n",
              "      <td>0.009624</td>\n",
              "      <td>0.041843</td>\n",
              "      <td>1</td>\n",
              "    </tr>\n",
              "    <tr>\n",
              "      <th>4</th>\n",
              "      <td>1</td>\n",
              "      <td>6</td>\n",
              "      <td>1605708891107</td>\n",
              "      <td>0.112386</td>\n",
              "      <td>0.299351</td>\n",
              "      <td>0.021350</td>\n",
              "      <td>0.106606</td>\n",
              "      <td>0.010373</td>\n",
              "      <td>0.046205</td>\n",
              "      <td>1</td>\n",
              "    </tr>\n",
              "    <tr>\n",
              "      <th>5</th>\n",
              "      <td>1</td>\n",
              "      <td>6</td>\n",
              "      <td>1605708891614</td>\n",
              "      <td>0.116339</td>\n",
              "      <td>0.314887</td>\n",
              "      <td>0.024295</td>\n",
              "      <td>0.125171</td>\n",
              "      <td>0.010312</td>\n",
              "      <td>0.040529</td>\n",
              "      <td>1</td>\n",
              "    </tr>\n",
              "    <tr>\n",
              "      <th>6</th>\n",
              "      <td>1</td>\n",
              "      <td>6</td>\n",
              "      <td>1605708892128</td>\n",
              "      <td>0.102454</td>\n",
              "      <td>0.272277</td>\n",
              "      <td>0.020551</td>\n",
              "      <td>0.090256</td>\n",
              "      <td>0.013013</td>\n",
              "      <td>0.054382</td>\n",
              "      <td>1</td>\n",
              "    </tr>\n",
              "    <tr>\n",
              "      <th>7</th>\n",
              "      <td>1</td>\n",
              "      <td>6</td>\n",
              "      <td>1605708892641</td>\n",
              "      <td>0.146948</td>\n",
              "      <td>0.356513</td>\n",
              "      <td>0.023564</td>\n",
              "      <td>0.106481</td>\n",
              "      <td>0.009985</td>\n",
              "      <td>0.031880</td>\n",
              "      <td>1</td>\n",
              "    </tr>\n",
              "  </tbody>\n",
              "</table>\n",
              "</div>"
            ],
            "text/plain": [
              "   game_id  uuid      timestamp  ...  surprised     happy  target\n",
              "0        1     6  1605708889053  ...   0.035893  0.036650       1\n",
              "1        1     6  1605708889565  ...   0.008923  0.050300       1\n",
              "2        1     6  1605708890069  ...   0.013674  0.051873       0\n",
              "3        1     6  1605708890586  ...   0.009624  0.041843       1\n",
              "4        1     6  1605708891107  ...   0.010373  0.046205       1\n",
              "5        1     6  1605708891614  ...   0.010312  0.040529       1\n",
              "6        1     6  1605708892128  ...   0.013013  0.054382       1\n",
              "7        1     6  1605708892641  ...   0.009985  0.031880       1\n",
              "\n",
              "[8 rows x 10 columns]"
            ]
          },
          "metadata": {
            "tags": []
          },
          "execution_count": 208
        }
      ]
    },
    {
      "cell_type": "code",
      "metadata": {
        "id": "XEOPbVPoFOFE",
        "colab": {
          "base_uri": "https://localhost:8080/"
        },
        "outputId": "c240c434-4f3c-460e-d938-4ba179723345"
      },
      "source": [
        "# verificar o tipo de dado de cada coluna\n",
        "df_tratado.dtypes"
      ],
      "execution_count": null,
      "outputs": [
        {
          "output_type": "execute_result",
          "data": {
            "text/plain": [
              "game_id        int64\n",
              "uuid           int64\n",
              "timestamp      int64\n",
              "angry        float64\n",
              "disgusted    float64\n",
              "fear         float64\n",
              "sad          float64\n",
              "surprised    float64\n",
              "happy        float64\n",
              "target         int64\n",
              "dtype: object"
            ]
          },
          "metadata": {
            "tags": []
          },
          "execution_count": 209
        }
      ]
    },
    {
      "cell_type": "code",
      "metadata": {
        "id": "9YiHbL6uFRgR",
        "colab": {
          "base_uri": "https://localhost:8080/"
        },
        "outputId": "285c8709-de52-4eb5-f080-796add0f522c"
      },
      "source": [
        "# verificar que colunas tem valores NaN (Not a Number)\n",
        "df_tratado.isnull().any()"
      ],
      "execution_count": null,
      "outputs": [
        {
          "output_type": "execute_result",
          "data": {
            "text/plain": [
              "game_id      False\n",
              "uuid         False\n",
              "timestamp    False\n",
              "angry         True\n",
              "disgusted     True\n",
              "fear          True\n",
              "sad           True\n",
              "surprised     True\n",
              "happy         True\n",
              "target       False\n",
              "dtype: bool"
            ]
          },
          "metadata": {
            "tags": []
          },
          "execution_count": 210
        }
      ]
    },
    {
      "cell_type": "code",
      "metadata": {
        "id": "nvZK6hcDbLVb"
      },
      "source": [
        "# Completando os registros que tem valor NaN com 0.0\n",
        "df_tratado = df_tratado.fillna(0.0)"
      ],
      "execution_count": null,
      "outputs": []
    },
    {
      "cell_type": "markdown",
      "metadata": {
        "id": "1wmEViSFFYNp"
      },
      "source": [
        "## 1.3 Conjunto de dados para treinamento e teste"
      ]
    },
    {
      "cell_type": "code",
      "metadata": {
        "id": "qQwuUp-gFdmC"
      },
      "source": [
        "# criar os conjuntos de dados e classes para treinamento e teste\n",
        "from sklearn.model_selection import train_test_split\n",
        "\n",
        "X_treinamento, X_teste, y_treinamento, y_teste = train_test_split(df_tratado.drop(columns=['target']), df_tratado.target, test_size=0.3)"
      ],
      "execution_count": null,
      "outputs": []
    },
    {
      "cell_type": "markdown",
      "metadata": {
        "id": "9GPD14CRFhNb"
      },
      "source": [
        "## 1.4 Correlação\n",
        "Baseado em [Como selecionar as melhores features para seu modelo de Machine Learning](https://paulovasconcellos.com.br/como-selecionar-as-melhores-features-para-seu-modelo-de-machine-learning-2e9df83d062a)"
      ]
    },
    {
      "cell_type": "code",
      "metadata": {
        "colab": {
          "base_uri": "https://localhost:8080/",
          "height": 445
        },
        "id": "wblj-4QlFlb9",
        "outputId": "ab825239-6ec4-4ac8-c41b-972539b93e32"
      },
      "source": [
        "import seaborn as sns\n",
        "\n",
        "plt.figure(figsize=(10, 7))\n",
        "sns.heatmap(df_tratado.corr(),\n",
        "            annot = True,\n",
        "            fmt = '.2f',\n",
        "            cmap='Blues')\n",
        "plt.title('Correlação entre variáveis do dataset de tédio')\n",
        "plt.show()"
      ],
      "execution_count": null,
      "outputs": [
        {
          "output_type": "display_data",
          "data": {
            "image/png": "[encoded data removed]",
            "text/plain": [
              "<Figure size 720x504 with 2 Axes>"
            ]
          },
          "metadata": {
            "tags": [],
            "needs_background": "light"
          }
        }
      ]
    },
    {
      "cell_type": "markdown",
      "metadata": {
        "id": "UCeDkz9mGLv-"
      },
      "source": [
        "O valor mostrado para cada correlação vai de -1 — que indica uma correlação negativa perfeita — a +1 — uma correlação positiva perfeita. Vale lembrar que a função .corr() traz, por padrão, a correlação de Pearson, mostrando um relacionamento linear entre as variáveis. Em casos onde há um relacionamento não-linear, a matriz pode não ser uma boa medida."
      ]
    },
    {
      "cell_type": "markdown",
      "metadata": {
        "id": "cQLvtOuYGOgw"
      },
      "source": [
        "## 1.5 Feature Importance\n",
        "O feature_importance_ retornar um array onde cada elemento dele é uma feature do seu modelo. Ele irá dizer, em proporções, quão importante aquela feature é para o modelo, onde quanto maior o valor, mais importante a feature é para o modelo."
      ]
    },
    {
      "cell_type": "code",
      "metadata": {
        "colab": {
          "base_uri": "https://localhost:8080/"
        },
        "id": "FziStAjzGRRe",
        "outputId": "2adf8130-ee3f-41e5-bf50-9b9a95636a79"
      },
      "source": [
        "from sklearn.ensemble import RandomForestClassifier\n",
        "clf_RFC  = RandomForestClassifier()\n",
        "clf_RFC.fit(X_treinamento, y_treinamento)\n",
        "\n",
        "# Mostrando importância de cada feature\n",
        "clf_RFC.feature_importances_"
      ],
      "execution_count": null,
      "outputs": [
        {
          "output_type": "execute_result",
          "data": {
            "text/plain": [
              "array([0.        , 0.01449059, 0.01354798, 0.25676472, 0.24000077,\n",
              "       0.01580924, 0.18539711, 0.24153191, 0.03245769])"
            ]
          },
          "metadata": {
            "tags": []
          },
          "execution_count": 214
        }
      ]
    },
    {
      "cell_type": "markdown",
      "metadata": {
        "id": "QjOFxalYGUxc"
      },
      "source": [
        "É retornado um array com quatro elementos. Se você somar todos eles, verá que o resultado será 1. Ao analisar esse array, podemos ver que a feature mais importante para o algoritmo Floresta Randômica foi a variável 'surprised'."
      ]
    },
    {
      "cell_type": "code",
      "metadata": {
        "colab": {
          "base_uri": "https://localhost:8080/",
          "height": 298
        },
        "id": "3GDFAXthGYAN",
        "outputId": "daa0d100-1623-418c-fcbf-dfdfbbd11d56"
      },
      "source": [
        "importances = pd.Series(data=clf_RFC.feature_importances_, index=df_tratado.columns[0:9])\n",
        "sns.barplot(x=importances, y=importances.index, orient='h').set_title('Importância de cada feature')"
      ],
      "execution_count": null,
      "outputs": [
        {
          "output_type": "execute_result",
          "data": {
            "text/plain": [
              "Text(0.5, 1.0, 'Importância de cada feature')"
            ]
          },
          "metadata": {
            "tags": []
          },
          "execution_count": 215
        },
        {
          "output_type": "display_data",
          "data": {
            "image/png": "[encoded data removed]",
            "text/plain": [
              "<Figure size 432x288 with 1 Axes>"
            ]
          },
          "metadata": {
            "tags": [],
            "needs_background": "light"
          }
        }
      ]
    },
    {
      "cell_type": "markdown",
      "metadata": {
        "id": "doxegZRCGbg-"
      },
      "source": [
        "As vezes, os valores mostrados pelo feature_importances_ pode ser enviesado dependendo dos parâmetros definidos na criação do objeto. Evitar usar os parâmetros default do Floresta Randômica."
      ]
    },
    {
      "cell_type": "markdown",
      "metadata": {
        "id": "KOde8tskHpqs"
      },
      "source": [
        "# 2. Regressões"
      ]
    },
    {
      "cell_type": "markdown",
      "metadata": {
        "id": "KqITYIOVGpYv"
      },
      "source": [
        "## 2.1 Regressão Linear Simples e Multipla\n",
        "\n",
        "\n",
        "*   [Linear Regression Example](https://scikit-learn.org/stable/auto_examples/linear_model/plot_ols.html)\n",
        "*   [Implementando Regressão Linear Simples em Python](https://medium.com/data-hackers/implementando-regress%C3%A3o-linear-simples-em-python-91df53b920a8)\n",
        "*   [Regressão Linear](https://www.kaggle.com/marilivb/4-regress-o-linear)\n",
        "*   [https://www.datageeks.com.br/regressao-linear/](https://www.datageeks.com.br/regressao-linear/)"
      ]
    },
    {
      "cell_type": "code",
      "metadata": {
        "id": "kn4Qc8-XGwZ6"
      },
      "source": [
        "from sklearn import linear_model\n",
        "from sklearn.metrics import mean_squared_error, r2_score\n"
      ],
      "execution_count": null,
      "outputs": []
    },
    {
      "cell_type": "code",
      "metadata": {
        "id": "jO8xmDLZGz3u"
      },
      "source": [
        "# Criar um objeto de regressão linear\n",
        "regr = linear_model.LinearRegression()\n",
        "\n",
        "# Treinar o modelo usando os conjuntos de treinamento\n",
        "regr.fit(X_treinamento, y_treinamento)\n",
        "\n",
        "# Fazer predições usando o conjunto de teste\n",
        "y_pred = regr.predict(X_teste)"
      ],
      "execution_count": null,
      "outputs": []
    },
    {
      "cell_type": "code",
      "metadata": {
        "colab": {
          "base_uri": "https://localhost:8080/"
        },
        "id": "exvw2aRYG2UC",
        "outputId": "6b272f7c-2972-47e6-8e39-53912aefea8d"
      },
      "source": [
        "# Os coeficientes encontrados\n",
        "print('Coeficientes: \\n', regr.coef_)\n",
        "# O Erro Médio Quadrático (EMQ)\n",
        "print('Erro Médio Quadrático (EMQ): %.2f'\n",
        "      % mean_squared_error(y_teste, y_pred))\n",
        "# O coeficiente de determinação: 1 é a predição perfeita\n",
        "print('Coeficiente de determinação: %.2f'\n",
        "      % r2_score(y_teste, y_pred))"
      ],
      "execution_count": null,
      "outputs": [
        {
          "output_type": "stream",
          "text": [
            "Coeficientes: \n",
            " [ 0.00000000e+00 -1.43148094e-03  2.41792521e-11  7.61391122e-01\n",
            "  9.36520471e-01 -6.55732026e-01  7.41510975e-01  1.14651013e+00\n",
            " -5.18287604e-02]\n",
            "Erro Médio Quadrático (EMQ): 0.16\n",
            "Coeficiente de determinação: 0.35\n"
          ],
          "name": "stdout"
        }
      ]
    },
    {
      "cell_type": "markdown",
      "metadata": {
        "id": "QK1eG-s3G5xm"
      },
      "source": [
        "### 2.1.1 Diagrama de Dispersão"
      ]
    },
    {
      "cell_type": "code",
      "metadata": {
        "colab": {
          "base_uri": "https://localhost:8080/"
        },
        "id": "fM-WBfwnG7e0",
        "outputId": "f206f488-1d79-4ebe-b9a5-450589bd1032"
      },
      "source": [
        "# plotar saídas\n",
        "plt.scatter(X_teste.iloc[:,0].values, y_teste,  color='black')\n",
        "plt.plot(X_teste, y_pred, color='blue', linewidth=3)\n",
        "\n",
        "plt.xticks(())\n",
        "plt.yticks(())\n",
        "\n",
        "plt.show()"
      ],
      "execution_count": null,
      "outputs": [
        {
          "output_type": "display_data",
          "data": {
            "image/png": "[encoded data removed]",
            "text/plain": [
              "<Figure size 432x288 with 1 Axes>"
            ]
          },
          "metadata": {
            "tags": []
          }
        }
      ]
    },
    {
      "cell_type": "markdown",
      "metadata": {
        "id": "RV10sdS7HAxW"
      },
      "source": [
        "## 2.2 Regressão Logística\n",
        "\n",
        "\n",
        "*   [Logistic Regression using Python (scikit-learn)](https://towardsdatascience.com/logistic-regression-using-python-sklearn-numpy-mnist-handwriting-recognition-matplotlib-a6b31e2b166a)\n",
        "*   [Regressão Logística e Métricas de Classificação em Python](http://neylsoncrepalde.github.io/2019-11-25-regressao_logistica_python/)\n",
        "\n"
      ]
    },
    {
      "cell_type": "code",
      "metadata": {
        "colab": {
          "base_uri": "https://localhost:8080/"
        },
        "id": "oOakVAdEG_Sy",
        "outputId": "f7174841-de2a-4215-ce3e-665aa3f7aada"
      },
      "source": [
        "from sklearn.linear_model import LogisticRegression\n",
        "\n",
        "clf_LR = LogisticRegression(random_state=0).fit(X_treinamento, y_treinamento)\n",
        "clf_LR.predict(X_teste)"
      ],
      "execution_count": null,
      "outputs": [
        {
          "output_type": "execute_result",
          "data": {
            "text/plain": [
              "array([1, 1, 1, ..., 1, 1, 1])"
            ]
          },
          "metadata": {
            "tags": []
          },
          "execution_count": 220
        }
      ]
    },
    {
      "cell_type": "code",
      "metadata": {
        "colab": {
          "base_uri": "https://localhost:8080/"
        },
        "id": "WKSvVatgHFbN",
        "outputId": "2a48bbc0-e6fc-4424-f8a1-28a8514a675b"
      },
      "source": [
        "clf_LR.predict_proba(X_teste)"
      ],
      "execution_count": null,
      "outputs": [
        {
          "output_type": "execute_result",
          "data": {
            "text/plain": [
              "array([[0.44259396, 0.55740604],\n",
              "       [0.44258267, 0.55741733],\n",
              "       [0.44259411, 0.55740589],\n",
              "       ...,\n",
              "       [0.44240196, 0.55759804],\n",
              "       [0.44233993, 0.55766007],\n",
              "       [0.44264688, 0.55735312]])"
            ]
          },
          "metadata": {
            "tags": []
          },
          "execution_count": 221
        }
      ]
    },
    {
      "cell_type": "code",
      "metadata": {
        "colab": {
          "base_uri": "https://localhost:8080/"
        },
        "id": "naZMLGCAHG3q",
        "outputId": "815e4b08-acfc-4ea3-aab2-a18418d53a92"
      },
      "source": [
        "clf_LR.score(X_treinamento, y_treinamento)"
      ],
      "execution_count": null,
      "outputs": [
        {
          "output_type": "execute_result",
          "data": {
            "text/plain": [
              "0.5575694666240818"
            ]
          },
          "metadata": {
            "tags": []
          },
          "execution_count": 222
        }
      ]
    },
    {
      "cell_type": "markdown",
      "metadata": {
        "id": "1mOUK41FHM9G"
      },
      "source": [
        "### 2.2.1 Diagrama de Dispersão"
      ]
    },
    {
      "cell_type": "code",
      "metadata": {
        "colab": {
          "base_uri": "https://localhost:8080/",
          "height": 252
        },
        "id": "uuLRWhciHJlv",
        "outputId": "78ccba6f-c304-4e2a-f70d-e0118817e5e9"
      },
      "source": [
        "# plotar saídas\n",
        "plt.scatter(X_teste.iloc[:,0].values, y_teste,  color='black')\n",
        "plt.plot(X_teste, y_pred, color='blue', linewidth=3)\n",
        "\n",
        "plt.xticks(())\n",
        "plt.yticks(())\n",
        "\n",
        "plt.show()"
      ],
      "execution_count": null,
      "outputs": [
        {
          "output_type": "display_data",
          "data": {
            "image/png": "[encoded data removed]",
            "text/plain": [
              "<Figure size 432x288 with 1 Axes>"
            ]
          },
          "metadata": {
            "tags": []
          }
        }
      ]
    },
    {
      "cell_type": "markdown",
      "metadata": {
        "id": "Xj4iZ82YJiyH"
      },
      "source": [
        "# 3. Detecção de anomalias\n",
        "Referências:\n",
        "\n",
        "\n",
        "*   [Anomaly Detection Techniques in Python](https://medium.com/learningdatascience/anomaly-detection-techniques-in-python-50f650c75aaf)\n",
        "*   [4 Automatic Outlier Detection Algorithms in Python](https://machinelearningmastery.com/model-based-outlier-detection-and-removal-in-python/)\n",
        "*   [Learn how to develop highly accurate models to detect anomalies using Artificial Neural Networks with the Tensorflow library in Python3.](https://outline.com/D8jZMf)\n"
      ]
    },
    {
      "cell_type": "markdown",
      "metadata": {
        "id": "50muSTiipaKj"
      },
      "source": [
        "## 3.1 Métodos Estatísticos"
      ]
    },
    {
      "cell_type": "markdown",
      "metadata": {
        "id": "Gnm44wf_pdkD"
      },
      "source": [
        "### 3.1.1 Paramétricos: Diagrama de Caixa"
      ]
    },
    {
      "cell_type": "code",
      "metadata": {
        "colab": {
          "base_uri": "https://localhost:8080/",
          "height": 265
        },
        "id": "8axwjIOCdoJC",
        "outputId": "8910e95d-1ad7-4aa8-9ebe-0e2ae3cf1c9a"
      },
      "source": [
        "boxplot = df_tratado.boxplot(column=['angry', 'disgusted', 'fear', 'sad', 'surprised', 'happy'])"
      ],
      "execution_count": null,
      "outputs": [
        {
          "output_type": "display_data",
          "data": {
            "image/png": "[encoded data removed]",
            "text/plain": [
              "<Figure size 432x288 with 1 Axes>"
            ]
          },
          "metadata": {
            "tags": [],
            "needs_background": "light"
          }
        }
      ]
    },
    {
      "cell_type": "code",
      "metadata": {
        "colab": {
          "base_uri": "https://localhost:8080/",
          "height": 265
        },
        "id": "I458mNlWuG-K",
        "outputId": "40a80575-e99c-4e2a-f775-655747a8cf72"
      },
      "source": [
        "df_emocoes = df_tratado.copy(deep=True)\n",
        "df_emocoes = df_emocoes.drop(columns=['game_id', 'uuid', 'timestamp', 'target'])\n",
        "ax = sns.violinplot(data=df_emocoes)"
      ],
      "execution_count": null,
      "outputs": [
        {
          "output_type": "display_data",
          "data": {
            "image/png": "[encoded data removed]",
            "text/plain": [
              "<Figure size 432x288 with 1 Axes>"
            ]
          },
          "metadata": {
            "tags": [],
            "needs_background": "light"
          }
        }
      ]
    },
    {
      "cell_type": "markdown",
      "metadata": {
        "id": "d2QSTDoapiDA"
      },
      "source": [
        "### 3.1.2 Não Paramétricos: Análise de Histograma"
      ]
    },
    {
      "cell_type": "code",
      "metadata": {
        "colab": {
          "base_uri": "https://localhost:8080/",
          "height": 268
        },
        "id": "gX_o3sSVi8zk",
        "outputId": "2130d8a3-38f5-496a-e9a2-ce70570d450a"
      },
      "source": [
        "#ax = df_emocoes.plot.hist(bins=12, alpha=0.5)\n",
        "ax = df_emocoes.plot.hist()"
      ],
      "execution_count": null,
      "outputs": [
        {
          "output_type": "display_data",
          "data": {
            "image/png": "[encoded data removed]",
            "text/plain": [
              "<Figure size 432x288 with 1 Axes>"
            ]
          },
          "metadata": {
            "tags": [],
            "needs_background": "light"
          }
        }
      ]
    },
    {
      "cell_type": "markdown",
      "metadata": {
        "id": "8LYrjzY5plQs"
      },
      "source": [
        "## 3.2 Métodos Algorítmicos"
      ]
    },
    {
      "cell_type": "markdown",
      "metadata": {
        "id": "D42mzAjkpqjt"
      },
      "source": [
        "### 3.2.1 Proximidade: Local Outlier Factor (LOF)\n",
        "Referências:\n",
        "\n",
        "*   [2.7. Novelty and Outlier Detection](https://scikit-learn.org/stable/modules/outlier_detection.html)\n",
        "*   [sklearn.neighbors.LocalOutlierFactor](https://scikit-learn.org/stable/modules/generated/sklearn.neighbors.LocalOutlierFactor.html)\n",
        "*   [Outlier detection with Local Outlier Factor (LOF)](https://scikit-learn.org/stable/auto_examples/neighbors/plot_lof_outlier_detection.html)\n",
        "*   [Anomaly detection with Local Outlier Factor (LOF)](https://towardsdatascience.com/anomaly-detection-with-local-outlier-factor-lof-d91e41df10f2)"
      ]
    },
    {
      "cell_type": "code",
      "metadata": {
        "id": "HvyBtHbK6t3Z"
      },
      "source": [
        ""
      ],
      "execution_count": null,
      "outputs": []
    },
    {
      "cell_type": "markdown",
      "metadata": {
        "id": "hsguuBIQpt_F"
      },
      "source": [
        "### 3.2.2 Redes Neurais: Redes Neurais Supervisionadas\n",
        "Referências:\n",
        "\n",
        "\n",
        "*   [Comparing anomaly detection algorithms for outlier detection on toy datasets](https://scikit-learn.org/0.20/auto_examples/plot_anomaly_comparison.html)\n",
        "*   [How to use machine learning for anomaly detection and condition monitoring](https://towardsdatascience.com/how-to-use-machine-learning-for-anomaly-detection-and-condition-monitoring-6742f82900d7)\n",
        "\n"
      ]
    },
    {
      "cell_type": "markdown",
      "metadata": {
        "id": "j_HWU1AKpwux"
      },
      "source": [
        "## 3.3 Machine Learning"
      ]
    },
    {
      "cell_type": "markdown",
      "metadata": {
        "id": "4FLYQE11qJ-m"
      },
      "source": [
        "### 3.3.1. Árvores de decisão"
      ]
    },
    {
      "cell_type": "markdown",
      "metadata": {
        "id": "Zn3DEFYiqNm7"
      },
      "source": [
        "### 3.3.2 Florestas de isolamento (*Isolation Forest*)\n",
        "Referências:\n",
        "\n",
        "*   [2.7. Novelty and Outlier Detection](https://scikit-learn.org/stable/modules/outlier_detection.html)\n",
        "*   [sklearn.ensemble.IsolationForest](https://scikit-learn.org/stable/modules/generated/sklearn.ensemble.IsolationForest.html)\n",
        "*   [Anomaly Detection with Isolation Forest & Visualization](https://towardsdatascience.com/anomaly-detection-with-isolation-forest-visualization-23cd75c281e2)\n",
        "*   [Anomaly Detection Using Isolation Forest in Python](https://blog.paperspace.com/anomaly-detection-isolation-forest/)\n"
      ]
    },
    {
      "cell_type": "code",
      "metadata": {
        "colab": {
          "base_uri": "https://localhost:8080/"
        },
        "id": "Q38oExSG6-II",
        "outputId": "808eccf9-ace1-4e2c-d7e5-fd4cf1ca74c0"
      },
      "source": [
        "from sklearn.ensemble import IsolationForest\n",
        "model=IsolationForest(n_estimators=50, max_samples='auto', contamination=float(0.1),max_features=1.0)\n",
        "model.fit(df_emocoes[['angry']])"
      ],
      "execution_count": null,
      "outputs": [
        {
          "output_type": "execute_result",
          "data": {
            "text/plain": [
              "IsolationForest(behaviour='deprecated', bootstrap=False, contamination=0.1,\n",
              "                max_features=1.0, max_samples='auto', n_estimators=50,\n",
              "                n_jobs=None, random_state=None, verbose=0, warm_start=False)"
            ]
          },
          "metadata": {
            "tags": []
          },
          "execution_count": 227
        }
      ]
    },
    {
      "cell_type": "code",
      "metadata": {
        "colab": {
          "base_uri": "https://localhost:8080/"
        },
        "id": "i-wU8DRt7isD",
        "outputId": "0278fdbe-170d-46af-ef62-48ee7ea93791"
      },
      "source": [
        "df = pd.DataFrame(df_emocoes['angry'])\n",
        "df['scores']=model.decision_function(df[['angry']])\n",
        "df['anomaly']=model.predict(df[['angry']])\n",
        "df.head(20)"
      ],
      "execution_count": null,
      "outputs": [
        {
          "output_type": "execute_result",
          "data": {
            "text/html": [
              "<div>\n",
              "<style scoped>\n",
              "    .dataframe tbody tr th:only-of-type {\n",
              "        vertical-align: middle;\n",
              "    }\n",
              "\n",
              "    .dataframe tbody tr th {\n",
              "        vertical-align: top;\n",
              "    }\n",
              "\n",
              "    .dataframe thead th {\n",
              "        text-align: right;\n",
              "    }\n",
              "</style>\n",
              "<table border=\"1\" class=\"dataframe\">\n",
              "  <thead>\n",
              "    <tr style=\"text-align: right;\">\n",
              "      <th></th>\n",
              "      <th>angry</th>\n",
              "      <th>scores</th>\n",
              "      <th>anomaly</th>\n",
              "    </tr>\n",
              "  </thead>\n",
              "  <tbody>\n",
              "    <tr>\n",
              "      <th>0</th>\n",
              "      <td>0.100790</td>\n",
              "      <td>0.077722</td>\n",
              "      <td>1</td>\n",
              "    </tr>\n",
              "    <tr>\n",
              "      <th>1</th>\n",
              "      <td>0.117206</td>\n",
              "      <td>0.069248</td>\n",
              "      <td>1</td>\n",
              "    </tr>\n",
              "    <tr>\n",
              "      <th>2</th>\n",
              "      <td>0.099648</td>\n",
              "      <td>0.081151</td>\n",
              "      <td>1</td>\n",
              "    </tr>\n",
              "    <tr>\n",
              "      <th>3</th>\n",
              "      <td>0.125407</td>\n",
              "      <td>0.051632</td>\n",
              "      <td>1</td>\n",
              "    </tr>\n",
              "    <tr>\n",
              "      <th>4</th>\n",
              "      <td>0.112386</td>\n",
              "      <td>0.067172</td>\n",
              "      <td>1</td>\n",
              "    </tr>\n",
              "    <tr>\n",
              "      <th>5</th>\n",
              "      <td>0.116339</td>\n",
              "      <td>0.071265</td>\n",
              "      <td>1</td>\n",
              "    </tr>\n",
              "    <tr>\n",
              "      <th>6</th>\n",
              "      <td>0.102454</td>\n",
              "      <td>0.075620</td>\n",
              "      <td>1</td>\n",
              "    </tr>\n",
              "    <tr>\n",
              "      <th>7</th>\n",
              "      <td>0.146948</td>\n",
              "      <td>0.070668</td>\n",
              "      <td>1</td>\n",
              "    </tr>\n",
              "    <tr>\n",
              "      <th>8</th>\n",
              "      <td>0.115245</td>\n",
              "      <td>0.071281</td>\n",
              "      <td>1</td>\n",
              "    </tr>\n",
              "    <tr>\n",
              "      <th>9</th>\n",
              "      <td>0.111384</td>\n",
              "      <td>0.067728</td>\n",
              "      <td>1</td>\n",
              "    </tr>\n",
              "    <tr>\n",
              "      <th>10</th>\n",
              "      <td>0.114203</td>\n",
              "      <td>0.072939</td>\n",
              "      <td>1</td>\n",
              "    </tr>\n",
              "    <tr>\n",
              "      <th>11</th>\n",
              "      <td>0.119302</td>\n",
              "      <td>0.064990</td>\n",
              "      <td>1</td>\n",
              "    </tr>\n",
              "    <tr>\n",
              "      <th>12</th>\n",
              "      <td>0.129602</td>\n",
              "      <td>0.063264</td>\n",
              "      <td>1</td>\n",
              "    </tr>\n",
              "    <tr>\n",
              "      <th>13</th>\n",
              "      <td>0.126441</td>\n",
              "      <td>0.054636</td>\n",
              "      <td>1</td>\n",
              "    </tr>\n",
              "    <tr>\n",
              "      <th>14</th>\n",
              "      <td>0.094027</td>\n",
              "      <td>0.104104</td>\n",
              "      <td>1</td>\n",
              "    </tr>\n",
              "    <tr>\n",
              "      <th>15</th>\n",
              "      <td>0.109588</td>\n",
              "      <td>0.073720</td>\n",
              "      <td>1</td>\n",
              "    </tr>\n",
              "    <tr>\n",
              "      <th>16</th>\n",
              "      <td>0.096541</td>\n",
              "      <td>0.091120</td>\n",
              "      <td>1</td>\n",
              "    </tr>\n",
              "    <tr>\n",
              "      <th>17</th>\n",
              "      <td>0.104450</td>\n",
              "      <td>0.081947</td>\n",
              "      <td>1</td>\n",
              "    </tr>\n",
              "    <tr>\n",
              "      <th>18</th>\n",
              "      <td>0.083439</td>\n",
              "      <td>0.152623</td>\n",
              "      <td>1</td>\n",
              "    </tr>\n",
              "    <tr>\n",
              "      <th>19</th>\n",
              "      <td>0.089186</td>\n",
              "      <td>0.128184</td>\n",
              "      <td>1</td>\n",
              "    </tr>\n",
              "  </tbody>\n",
              "</table>\n",
              "</div>"
            ],
            "text/plain": [
              "       angry    scores  anomaly\n",
              "0   0.100790  0.077722        1\n",
              "1   0.117206  0.069248        1\n",
              "2   0.099648  0.081151        1\n",
              "3   0.125407  0.051632        1\n",
              "4   0.112386  0.067172        1\n",
              "5   0.116339  0.071265        1\n",
              "6   0.102454  0.075620        1\n",
              "7   0.146948  0.070668        1\n",
              "8   0.115245  0.071281        1\n",
              "9   0.111384  0.067728        1\n",
              "10  0.114203  0.072939        1\n",
              "11  0.119302  0.064990        1\n",
              "12  0.129602  0.063264        1\n",
              "13  0.126441  0.054636        1\n",
              "14  0.094027  0.104104        1\n",
              "15  0.109588  0.073720        1\n",
              "16  0.096541  0.091120        1\n",
              "17  0.104450  0.081947        1\n",
              "18  0.083439  0.152623        1\n",
              "19  0.089186  0.128184        1"
            ]
          },
          "metadata": {
            "tags": []
          },
          "execution_count": 228
        }
      ]
    },
    {
      "cell_type": "code",
      "metadata": {
        "colab": {
          "base_uri": "https://localhost:8080/"
        },
        "id": "SqH1L6gs8EGv",
        "outputId": "88cbbf62-edba-4b95-89fc-6ee0934e7d53"
      },
      "source": [
        "anomaly=df.loc[df['anomaly']==-1]\n",
        "anomaly_index=list(anomaly.index)\n",
        "print(anomaly)"
      ],
      "execution_count": null,
      "outputs": [
        {
          "output_type": "stream",
          "text": [
            "          angry    scores  anomaly\n",
            "227    0.424647 -0.016277       -1\n",
            "231    0.421033 -0.022580       -1\n",
            "244    0.416160 -0.015536       -1\n",
            "247    0.417516 -0.020451       -1\n",
            "248    0.602134 -0.049729       -1\n",
            "...         ...       ...      ...\n",
            "17523  0.541233 -0.041268       -1\n",
            "17524  0.590231 -0.049098       -1\n",
            "17525  0.611031 -0.051791       -1\n",
            "17526  0.530088 -0.041367       -1\n",
            "17527  0.373109 -0.000037       -1\n",
            "\n",
            "[1785 rows x 3 columns]\n"
          ],
          "name": "stdout"
        }
      ]
    },
    {
      "cell_type": "code",
      "metadata": {
        "colab": {
          "base_uri": "https://localhost:8080/"
        },
        "id": "ijIrQgZw8sLx",
        "outputId": "09fd157e-2a00-4905-9484-6ccffdd95884"
      },
      "source": [
        "outliers_counter = len(df[df['angry'] > 0.5])\n",
        "outliers_counter"
      ],
      "execution_count": null,
      "outputs": [
        {
          "output_type": "execute_result",
          "data": {
            "text/plain": [
              "1121"
            ]
          },
          "metadata": {
            "tags": []
          },
          "execution_count": 230
        }
      ]
    },
    {
      "cell_type": "code",
      "metadata": {
        "colab": {
          "base_uri": "https://localhost:8080/"
        },
        "id": "3xN4NinX81s-",
        "outputId": "5fba61c9-5667-4626-fcfd-560976575007"
      },
      "source": [
        "print(\"Accuracy percentage:\", 100*list(df['anomaly']).count(-1)/(outliers_counter))"
      ],
      "execution_count": null,
      "outputs": [
        {
          "output_type": "stream",
          "text": [
            "Accuracy percentage: 159.2328278322926\n"
          ],
          "name": "stdout"
        }
      ]
    },
    {
      "cell_type": "code",
      "metadata": {
        "colab": {
          "base_uri": "https://localhost:8080/"
        },
        "id": "XoobMdZs9UPn",
        "outputId": "72070f6a-e75a-4d0e-8ed7-877aa49b0a59"
      },
      "source": [
        "#specify the 12 metrics column names to be modelled\n",
        "to_model_columns=df_emocoes[0:7]\n",
        "to_model_columns\n",
        "\n",
        "clf=IsolationForest(n_estimators=100, max_samples='auto', contamination=float(.12), max_features=1.0, bootstrap=False, n_jobs=-1, random_state=42, verbose=0)\n",
        "clf.fit(df_emocoes)\n",
        "pred = clf.predict(df_emocoes)\n",
        "df_emocoes['anomaly']=pred\n",
        "outliers=df_emocoes.loc[df_emocoes['anomaly']==-1]\n",
        "outlier_index=list(outliers.index)\n",
        "print(outlier_index)\n",
        "#Find the number of anomalies and normal points here points classified -1 are anomalous\n",
        "print(df_emocoes['anomaly'].value_counts())"
      ],
      "execution_count": null,
      "outputs": [
        {
          "output_type": "stream",
          "text": [
            "[210, 364, 365, 374, 377, 378, 379, 387, 389, 390, 398, 399, 400, 401, 402, 403, 404, 407, 408, 427, 428, 429, 431, 432, 436, 438, 445, 454, 455, 458, 459, 460, 461, 469, 470, 472, 473, 477, 478, 487, 488, 511, 512, 513, 519, 520, 521, 524, 525, 576, 577, 578, 579, 592, 593, 613, 614, 616, 623, 697, 699, 700, 765, 776, 777, 779, 780, 781, 782, 783, 784, 785, 786, 787, 788, 789, 790, 791, 793, 794, 795, 796, 797, 798, 799, 800, 801, 802, 809, 810, 811, 1099, 1104, 1339, 1348, 1351, 1354, 1356, 1363, 1364, 1369, 1370, 1371, 1372, 1377, 1378, 1381, 1404, 1459, 1460, 1469, 1473, 1487, 1583, 1584, 1585, 1596, 1600, 1601, 1602, 1603, 1604, 1611, 1612, 1614, 1615, 1617, 1618, 1620, 1621, 1628, 1632, 1633, 1664, 1671, 1672, 1673, 1674, 1675, 1676, 1677, 1678, 1680, 1681, 1682, 1683, 1684, 1685, 1686, 1687, 1688, 1689, 1690, 1691, 1694, 1696, 1697, 1698, 1706, 1707, 1732, 1733, 1734, 1735, 1745, 1746, 1751, 1752, 1754, 1760, 1769, 1772, 1776, 1777, 1778, 1783, 1786, 1800, 1801, 1802, 1860, 1861, 1862, 2142, 2155, 2230, 2231, 2240, 2241, 2242, 2243, 2244, 2245, 2246, 2247, 2248, 2249, 2254, 2459, 2473, 2483, 2485, 2488, 2491, 2492, 2493, 2494, 2495, 2496, 2497, 2498, 2500, 2501, 2502, 2505, 2506, 2507, 2508, 2509, 2510, 2511, 2512, 2513, 2514, 2519, 2520, 2521, 2522, 2523, 2524, 2526, 2538, 2539, 2540, 2541, 2565, 2566, 2587, 2594, 2595, 2596, 2597, 2598, 2606, 2611, 2612, 2621, 2622, 2623, 2627, 2628, 2629, 2630, 2631, 2633, 2634, 2635, 2639, 2826, 2827, 2832, 2833, 2834, 2835, 2836, 2837, 2838, 2839, 2840, 2841, 2842, 2845, 2846, 2847, 2848, 2849, 2850, 2851, 2852, 2853, 2854, 2855, 2856, 2857, 2862, 2864, 2865, 2874, 2875, 2878, 2879, 2880, 2882, 2883, 2884, 2885, 2886, 2887, 2903, 2904, 2911, 2912, 2915, 2917, 2918, 2924, 2925, 2926, 2930, 2934, 2937, 2938, 2942, 2943, 2944, 2947, 2948, 2952, 2959, 2968, 2976, 2989, 2990, 2993, 2994, 3024, 3202, 3375, 3376, 3377, 3378, 3392, 3393, 3598, 3599, 3600, 3601, 3602, 3608, 3609, 3610, 3612, 3614, 3615, 3616, 3617, 3618, 3619, 3620, 3621, 3622, 3623, 3624, 3625, 3626, 3627, 3628, 3629, 3630, 3631, 3632, 3633, 3634, 3635, 3636, 3637, 3638, 3639, 3640, 3641, 3642, 3643, 3644, 3645, 3646, 3647, 3648, 3649, 3650, 3651, 3652, 3653, 3654, 3655, 3656, 3657, 3658, 3659, 3660, 3661, 3662, 3663, 3664, 3665, 3666, 3667, 3668, 3670, 3671, 3672, 3673, 3674, 3675, 3676, 3677, 3678, 3679, 3680, 3681, 3682, 3683, 3684, 3685, 3686, 3687, 3689, 3690, 3692, 3693, 3694, 3695, 3696, 3697, 3698, 3699, 3700, 3701, 3702, 3703, 3704, 3705, 3706, 3707, 3708, 3709, 3710, 3711, 3712, 3713, 3714, 3715, 3716, 3717, 3718, 3720, 3721, 3722, 3723, 3724, 3725, 3726, 3727, 3728, 3729, 3730, 3731, 3732, 3733, 3734, 3735, 3736, 3737, 3738, 3740, 3742, 3744, 3745, 3746, 3747, 3748, 3749, 3750, 3751, 3752, 3753, 3754, 3755, 3756, 3757, 3758, 3759, 3760, 3761, 3762, 3763, 3764, 3765, 3767, 3768, 3769, 3770, 3771, 3772, 3773, 3774, 3775, 3776, 3777, 3778, 3779, 3780, 3782, 4153, 4179, 4180, 4181, 4182, 4183, 4186, 4187, 4188, 4192, 4204, 4216, 4217, 4218, 4225, 4226, 4227, 4228, 4229, 4230, 4231, 4232, 4233, 4234, 4235, 4239, 4240, 4241, 4242, 4243, 4244, 4247, 4249, 4251, 4252, 4253, 4261, 4264, 4267, 4281, 4289, 4297, 4302, 4309, 4320, 4330, 4724, 4725, 4726, 4735, 4737, 4739, 4741, 4742, 4743, 4744, 4745, 4757, 4759, 4760, 4761, 4762, 4768, 4769, 4770, 4771, 4772, 4778, 4780, 4785, 4795, 4803, 4805, 4812, 4817, 4818, 4832, 4847, 4848, 4850, 4851, 4852, 4853, 4854, 4855, 4857, 4861, 4862, 4863, 4864, 4865, 4866, 4867, 4868, 4870, 4872, 4873, 4874, 4875, 4876, 4877, 4878, 4879, 5189, 5207, 5208, 5236, 5237, 5252, 5253, 5254, 5306, 5314, 5315, 5316, 5318, 5319, 5320, 5321, 5322, 5323, 5324, 5325, 5326, 5332, 5339, 5340, 5341, 5342, 5343, 5344, 5345, 5346, 5347, 5348, 5349, 5350, 5351, 5352, 5353, 5354, 5355, 5361, 5362, 5363, 5364, 5365, 5375, 5394, 5395, 5435, 5441, 5447, 5464, 5465, 5466, 5469, 5471, 5473, 5474, 5475, 5476, 5477, 5478, 5479, 5480, 5481, 5482, 5485, 5486, 5487, 5488, 5489, 5490, 5491, 5492, 5663, 5668, 5669, 5693, 5694, 5695, 5696, 5697, 5733, 5750, 5752, 5753, 5791, 5792, 5802, 5803, 5804, 5833, 5859, 5861, 5863, 5944, 5972, 6043, 6044, 6047, 6048, 6049, 6050, 6051, 6052, 6053, 6054, 6055, 6058, 6059, 6060, 6085, 6086, 6088, 6089, 6090, 6091, 6092, 6093, 6094, 6095, 6096, 6097, 6098, 6099, 6100, 6101, 6102, 6103, 6104, 6105, 6106, 6107, 6108, 6109, 6110, 6111, 6116, 6121, 6122, 6123, 6129, 6130, 6171, 6182, 6220, 6236, 6268, 6269, 6272, 6436, 6437, 6438, 6439, 6440, 6441, 6456, 6458, 6466, 6469, 6470, 6484, 6495, 6496, 6497, 6499, 6500, 6501, 6515, 6523, 6524, 6525, 6526, 6529, 6536, 6545, 6546, 6549, 6564, 6580, 6581, 6667, 6668, 6764, 7069, 7070, 7071, 7073, 7079, 7080, 7081, 7082, 7083, 7084, 7085, 7086, 7087, 7088, 7094, 7096, 7097, 7103, 7104, 7105, 7106, 7111, 7112, 7113, 7114, 7115, 7117, 7118, 7119, 7120, 7123, 7124, 7125, 7129, 7132, 7133, 7134, 7135, 7136, 7166, 7167, 7168, 7169, 7170, 7171, 7172, 7175, 7178, 7204, 7587, 7588, 7607, 7610, 7656, 7677, 7680, 7685, 7794, 7795, 7845, 7867, 7868, 7869, 7870, 7871, 7872, 7873, 7874, 7876, 7877, 7878, 7879, 7880, 7881, 7882, 7883, 7884, 7885, 7886, 7887, 7888, 7889, 7890, 7891, 7892, 7893, 7894, 7895, 7896, 7897, 7898, 7899, 7900, 7901, 7902, 7903, 7904, 7905, 7906, 7907, 7908, 7909, 7912, 7913, 7914, 7915, 7916, 7917, 7918, 7919, 7920, 7921, 7922, 7923, 7924, 7925, 7926, 7927, 7928, 7929, 7930, 7931, 7932, 7933, 7934, 7935, 7936, 7937, 7938, 7939, 7940, 7941, 7942, 7943, 7944, 7945, 7946, 7947, 7948, 7949, 7950, 7951, 7952, 7953, 7954, 7955, 7956, 7957, 7958, 7959, 7960, 7961, 7962, 7963, 7964, 7965, 7966, 7967, 7968, 7969, 7970, 7971, 7972, 7973, 7974, 7975, 7976, 7978, 7979, 7980, 7981, 7982, 7983, 7984, 7985, 7986, 7987, 7988, 7989, 7990, 8110, 8111, 8112, 8115, 8119, 8120, 8121, 8122, 8123, 8124, 8125, 8126, 8127, 8132, 8133, 8134, 8135, 8136, 8137, 8138, 8146, 8147, 8148, 8149, 8150, 8151, 8152, 8153, 8161, 8162, 8163, 8164, 8478, 8525, 8526, 8538, 8539, 8540, 8543, 8810, 8811, 8883, 8922, 8990, 8991, 8992, 8993, 8994, 8995, 8996, 9006, 9011, 9012, 9013, 9021, 9022, 9463, 9550, 9584, 9602, 9808, 9809, 9811, 9812, 9813, 9818, 9819, 9820, 9821, 9822, 9823, 9824, 9825, 9836, 9837, 9846, 9847, 9848, 9849, 9850, 9851, 9853, 9854, 9859, 9862, 9865, 9867, 9868, 9869, 9870, 9871, 9872, 9875, 9876, 9877, 9878, 9879, 9880, 9881, 9882, 9883, 9884, 9885, 9887, 9888, 9889, 9890, 9891, 9892, 9893, 9894, 9895, 9896, 9897, 9898, 9899, 9900, 9901, 9902, 9903, 9907, 9908, 9909, 9910, 9911, 9912, 9913, 9915, 9919, 9920, 9923, 9924, 9925, 9926, 9927, 9928, 9929, 9935, 9936, 9937, 9938, 9939, 9940, 9941, 9942, 9943, 9944, 9945, 9947, 9948, 9953, 9954, 9956, 9957, 9958, 9960, 9962, 9965, 9968, 9977, 9978, 9982, 9983, 9984, 9986, 9987, 9991, 9992, 9994, 9996, 9998, 9999, 10000, 10001, 10217, 10305, 10333, 10348, 10353, 10354, 10355, 10395, 10396, 10397, 10398, 10401, 10402, 10403, 10404, 10405, 10406, 10442, 10453, 10454, 10455, 10456, 10457, 10570, 10571, 10572, 10580, 10581, 10582, 10583, 10584, 10585, 10586, 10587, 10588, 10589, 10590, 10591, 10592, 10593, 10598, 10599, 10600, 10601, 10602, 10603, 10604, 10605, 10606, 10607, 10608, 10609, 10610, 10611, 10616, 10617, 10618, 10619, 10620, 10621, 10622, 10623, 10624, 10625, 10626, 10627, 10630, 10631, 10632, 10633, 10634, 10635, 10636, 10637, 10657, 10658, 10659, 10660, 10661, 10662, 10663, 10664, 10665, 10666, 10667, 10668, 10669, 10670, 10671, 10672, 10675, 10677, 10678, 10679, 10680, 10681, 10682, 10683, 10684, 10685, 10689, 10695, 10696, 10697, 10698, 10699, 10703, 10713, 10714, 10715, 10719, 10724, 10725, 10727, 10728, 10734, 10735, 10736, 10741, 10748, 10749, 10750, 10751, 10752, 10753, 10754, 10763, 10802, 10812, 10813, 11034, 11035, 11141, 11142, 11170, 11171, 11228, 11229, 11234, 11238, 11245, 11250, 11263, 11264, 11265, 11266, 11268, 11269, 11270, 11272, 11273, 11274, 11275, 11276, 11277, 11278, 11279, 11280, 11281, 11282, 11283, 11284, 11285, 11286, 11287, 11288, 11289, 11290, 11291, 11292, 11293, 11294, 11295, 11296, 11297, 11298, 11299, 11300, 11301, 11302, 11308, 11309, 11322, 11323, 11324, 11325, 11326, 11327, 11328, 11332, 11333, 11334, 11335, 11336, 11337, 11338, 11339, 11340, 11341, 11342, 11343, 11344, 11345, 11346, 11347, 11348, 11349, 11350, 11351, 11352, 11353, 11354, 11355, 11356, 11357, 11359, 11360, 11361, 11362, 11363, 11364, 11365, 11366, 11367, 11368, 11369, 11370, 11371, 11372, 11373, 11374, 11375, 11376, 11377, 11378, 11379, 11380, 11383, 11389, 11390, 11396, 11398, 11402, 11405, 11406, 11410, 11413, 11414, 11415, 11593, 11597, 11599, 11600, 11601, 11602, 11603, 11608, 11609, 11610, 11611, 11617, 11627, 11628, 11634, 11635, 11638, 11642, 11643, 11645, 11646, 11648, 11649, 11650, 11651, 11652, 11653, 11655, 11656, 11657, 11658, 11660, 11661, 11662, 11663, 11665, 11666, 11667, 11668, 11669, 11670, 11671, 11672, 11673, 11674, 11675, 11680, 11683, 11684, 11685, 11688, 11690, 11693, 11695, 11696, 11697, 11698, 11701, 11705, 11707, 11710, 11712, 11713, 11714, 11715, 11716, 11717, 11719, 11720, 11721, 11724, 11733, 11961, 11962, 11963, 11964, 11965, 11966, 11969, 11970, 11971, 11972, 11980, 11981, 12025, 12026, 12027, 12028, 12029, 12030, 12033, 12034, 12035, 12036, 12037, 12049, 12050, 12051, 12052, 12054, 12056, 12057, 12058, 12059, 12060, 12061, 12088, 12089, 12090, 12091, 12092, 12093, 12094, 12095, 12104, 12105, 12106, 12107, 12108, 12120, 12121, 12122, 12123, 12124, 12125, 12204, 12218, 12219, 12220, 12221, 12222, 12223, 12263, 12274, 12275, 12280, 12281, 12282, 12305, 12307, 12319, 12320, 12321, 12419, 12463, 12472, 13021, 13047, 13060, 13064, 13075, 13085, 13086, 13087, 13088, 13089, 13090, 13091, 13092, 13094, 13095, 13096, 13097, 13098, 13099, 13100, 13101, 13102, 13103, 13104, 13105, 13106, 13107, 13108, 13109, 13110, 13111, 13112, 13113, 13339, 13532, 13533, 13534, 13535, 13536, 13541, 13542, 13543, 13544, 13545, 13546, 13547, 13548, 13549, 13550, 13561, 13562, 13563, 13564, 13565, 13566, 13567, 13574, 13575, 13576, 13577, 13578, 13579, 13580, 13581, 13591, 13592, 13593, 13594, 13595, 13596, 13597, 13598, 13599, 13600, 13601, 13602, 13603, 13604, 13605, 13607, 13608, 13615, 13617, 13618, 13723, 13724, 13725, 13747, 13748, 13756, 13757, 13766, 13767, 13768, 13769, 13770, 13771, 13772, 13773, 13774, 13775, 13781, 13783, 13784, 13795, 13796, 13811, 13812, 13813, 13814, 13826, 13829, 13874, 13884, 13885, 13886, 13887, 13888, 13889, 13890, 13917, 13920, 13926, 13927, 13928, 13929, 13930, 13931, 13932, 13933, 13934, 13935, 13936, 13937, 13938, 13939, 13940, 13941, 13942, 13943, 13944, 13945, 13946, 13947, 13948, 13949, 13950, 13951, 13952, 13953, 13954, 13955, 13956, 13957, 13958, 13959, 13960, 13961, 13962, 13963, 13964, 13966, 13967, 13968, 13969, 13970, 13971, 13972, 13973, 13974, 13975, 13976, 13977, 13978, 13979, 13980, 13981, 13982, 13983, 13984, 13985, 13986, 13987, 13988, 13989, 13990, 13991, 13992, 13993, 13994, 13995, 13996, 13997, 13998, 13999, 14000, 14001, 14002, 14003, 14004, 14005, 14006, 14007, 14008, 14009, 14010, 14011, 14012, 14013, 14014, 14015, 14016, 14017, 14018, 14019, 14020, 14021, 14022, 14027, 14029, 14030, 14031, 14032, 14041, 14052, 14053, 14054, 14062, 14063, 14064, 14065, 14066, 14067, 14068, 14069, 14070, 14071, 14073, 14075, 14077, 14079, 14080, 14081, 14086, 14091, 14092, 14093, 14094, 14097, 14098, 14099, 14108, 14217, 14482, 14485, 14486, 14487, 14488, 14489, 14493, 14494, 14495, 14496, 14530, 14531, 14532, 14533, 14534, 14555, 14556, 14557, 14558, 14972, 14973, 14990, 15003, 15004, 15005, 15006, 15009, 15127, 15128, 15129, 15130, 15131, 15132, 15136, 15137, 15138, 15139, 15140, 15141, 15142, 15143, 15144, 15145, 15146, 15147, 15148, 15149, 15150, 15151, 15152, 15153, 15154, 15168, 15180, 15181, 15196, 15212, 15213, 15232, 15250, 15251, 15255, 15265, 15276, 15283, 15291, 15292, 15299, 15318, 15321, 15330, 15340, 15345, 15346, 15363, 15364, 15368, 15369, 15370, 15371, 15373, 15374, 15375, 15391, 15415, 15416, 15417, 15418, 15430, 15431, 15435, 15437, 15438, 15440, 15441, 15442, 15443, 15449, 15450, 15451, 15452, 15453, 15454, 15455, 15456, 15457, 15460, 15461, 15462, 15463, 15464, 15465, 15466, 15467, 15468, 15472, 15475, 15476, 15477, 15478, 15479, 15480, 15911, 15912, 15953, 15956, 15991, 15992, 15994, 15995, 15996, 16042, 16043, 16061, 16087, 16088, 16089, 16090, 16091, 16092, 16093, 16094, 16095, 16096, 16106, 16107, 16108, 16109, 16118, 16119, 16120, 16121, 16122, 16123, 16124, 16125, 16130, 16136, 16137, 16138, 16145, 16148, 16149, 16150, 16151, 16152, 16153, 16154, 16156, 16157, 16158, 16162, 16163, 16164, 16175, 16184, 16185, 16186, 16187, 16191, 16192, 16193, 16194, 16209, 16210, 16222, 16223, 16234, 16247, 16250, 16322, 16323, 16340, 16347, 16348, 16349, 16364, 16365, 16531, 16532, 16619, 16620, 16621, 16672, 16759, 16769, 16777, 16811, 16848, 16866, 16867, 16870, 16871, 16881, 16882, 16903, 16904, 16905, 16906, 16931, 16932, 16943, 16947, 16948, 16949, 17338, 17339, 17340, 17341, 17342, 17343, 17344, 17345, 17346, 17347, 17348, 17349, 17350, 17351, 17352, 17353, 17354, 17355, 17356, 17357, 17358, 17359, 17360, 17361, 17362, 17363, 17364, 17365, 17366, 17367, 17368, 17369, 17370, 17371, 17372, 17373, 17374, 17375, 17376, 17377, 17378, 17379, 17380, 17381, 17382, 17383, 17384, 17385, 17386, 17387, 17388, 17389, 17390, 17391, 17392, 17393, 17394, 17395, 17396, 17397, 17398, 17399, 17400, 17401, 17402, 17403, 17404, 17405, 17406, 17407, 17408, 17409, 17410, 17411, 17412, 17413, 17414, 17415, 17416, 17417, 17418, 17419, 17420, 17421, 17422, 17423, 17424, 17425, 17426, 17427, 17428, 17429, 17430, 17431, 17432, 17433, 17434, 17435, 17436, 17437, 17438, 17439, 17440, 17441, 17442, 17443, 17444, 17445, 17446, 17447, 17448, 17449, 17450, 17451, 17452, 17453, 17454, 17455, 17456, 17457, 17458, 17459, 17460, 17468, 17469, 17735, 17736, 17737, 17738, 17739, 17740, 17891]\n",
            " 1    15745\n",
            "-1     2147\n",
            "Name: anomaly, dtype: int64\n"
          ],
          "name": "stdout"
        }
      ]
    },
    {
      "cell_type": "code",
      "metadata": {
        "colab": {
          "base_uri": "https://localhost:8080/"
        },
        "id": "k_26CGxe_g9P",
        "outputId": "ebb16ff1-8dd1-405c-c96d-c986c8a775c3"
      },
      "source": [
        "from sklearn.decomposition import PCA\n",
        "pca = PCA(2)\n",
        "pca.fit(df_emocoes)\n",
        "res=pd.DataFrame(pca.transform(df_emocoes))\n",
        "Z = np.array(res)\n",
        "plt.title(\"IsolationForest\")\n",
        "plt.contourf( Z, cmap=plt.cm.Blues_r)\n",
        "b1 = plt.scatter(res[0], res[1], c='green', s=20,label=\"normal points\")\n",
        "b1 =plt.scatter(res.iloc[outlier_index,0],res.iloc[outlier_index,1], c='green',s=20,  edgecolor=\"red\",label=\"predicted outliers\")\n",
        "plt.legend(loc=\"upper right\")\n",
        "plt.show()"
      ],
      "execution_count": null,
      "outputs": [
        {
          "output_type": "display_data",
          "data": {
            "image/png": "[encoded data removed]",
            "text/plain": [
              "<Figure size 432x288 with 1 Axes>"
            ]
          },
          "metadata": {
            "tags": [],
            "needs_background": "light"
          }
        }
      ]
    },
    {
      "cell_type": "code",
      "metadata": {
        "colab": {
          "base_uri": "https://localhost:8080/"
        },
        "id": "T9nOn40EArDG",
        "outputId": "ba5faaeb-c3f2-4dd4-d3b2-1138126d6c81"
      },
      "source": [
        "import matplotlib.pyplot as plt\n",
        "from sklearn.decomposition import PCA\n",
        "from sklearn.preprocessing import StandardScaler\n",
        "from mpl_toolkits.mplot3d import Axes3D\n",
        "pca = PCA(n_components=3)  # Reduce to k=3 dimensions\n",
        "scaler = StandardScaler()\n",
        "#normalize the metrics\n",
        "X = scaler.fit_transform(df_emocoes)\n",
        "X_reduce = pca.fit_transform(X)\n",
        "fig = plt.figure()\n",
        "ax = fig.add_subplot(111, projection='3d')\n",
        "ax.set_zlabel(\"x_composite_3\")# Plot the compressed data points\n",
        "ax.scatter(X_reduce[:, 0], X_reduce[:, 1], zs=X_reduce[:, 2], s=4, lw=1, label=\"inliers\",c=\"green\")# Plot x's for the ground truth outliers\n",
        "ax.scatter(X_reduce[outlier_index,0],X_reduce[outlier_index,1], X_reduce[outlier_index,2],\n",
        "           lw=2, s=60, marker=\"x\", c=\"red\", label=\"outliers\")\n",
        "ax.legend()\n",
        "plt.show()"
      ],
      "execution_count": null,
      "outputs": [
        {
          "output_type": "display_data",
          "data": {
            "image/png": "[encoded data removed]",
            "text/plain": [
              "<Figure size 432x288 with 1 Axes>"
            ]
          },
          "metadata": {
            "tags": [],
            "needs_background": "light"
          }
        }
      ]
    }
  ]
}