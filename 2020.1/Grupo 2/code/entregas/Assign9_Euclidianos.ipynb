{
  "nbformat": 4,
  "nbformat_minor": 0,
  "metadata": {
    "colab": {
      "name": "Assign9_Euclidianos.ipynb",
      "provenance": [],
      "toc_visible": true,
      "machine_shape": "hm",
      "include_colab_link": true
    },
    "kernelspec": {
      "display_name": "Python 3",
      "name": "python3"
    },
    "language_info": {
      "name": "python"
    }
  },
  "cells": [
    {
      "cell_type": "markdown",
      "metadata": {
        "id": "view-in-github",
        "colab_type": "text"
      },
      "source": [
        "<a href=\"https://colab.research.google.com/github/renanalencar/projeto-md-emocoes/blob/main/Assign9_Euclidianos.ipynb\" target=\"_parent\"><img src=\"https://colab.research.google.com/assets/colab-badge.svg\" alt=\"Open In Colab\"/></a>"
      ]
    },
    {
      "cell_type": "markdown",
      "metadata": {
        "id": "5pOn8CDHEtl1"
      },
      "source": [
        "# 1. Dados"
      ]
    },
    {
      "cell_type": "code",
      "metadata": {
        "id": "Uvx59ETwExt9",
        "colab": {
          "base_uri": "https://localhost:8080/"
        },
        "outputId": "23035e15-a37b-42d5-aa0c-213800439d67"
      },
      "source": [
        "from google.colab import drive\n",
        "drive.mount('/content/drive')"
      ],
      "execution_count": null,
      "outputs": [
        {
          "output_type": "stream",
          "text": [
            "Drive already mounted at /content/drive; to attempt to forcibly remount, call drive.mount(\"/content/drive\", force_remount=True).\n"
          ],
          "name": "stdout"
        }
      ]
    },
    {
      "cell_type": "code",
      "metadata": {
        "id": "imjqTSPSE0N8"
      },
      "source": [
        "# importar os pacotes necessários\n",
        "import pandas as pd\n",
        "import matplotlib.pyplot as plt\n",
        "import numpy as np"
      ],
      "execution_count": null,
      "outputs": []
    },
    {
      "cell_type": "code",
      "metadata": {
        "id": "tqzHS6G1E5Ii",
        "colab": {
          "base_uri": "https://localhost:8080/",
          "height": 317
        },
        "outputId": "a666905d-4169-4dd1-ade7-f28c517a7056"
      },
      "source": [
        "arquivo_tedio = \"/content/drive/Shareddrives/MINERAÇÃO DE DADOS ENG74291/Assign6/dadosTedioProcessados.xlsx\"\n",
        "df_tedio = pd.read_excel(arquivo_tedio)\n",
        "\n",
        "df_tedio = df_tedio.drop(columns=['female', 'male', 'angry', 'disgusted', 'fear', 'sad', 'surprised', 'happy'])\n",
        "\n",
        "# deixar no dataframe somente com as linhas correspondentes ao game_id 1\n",
        "filtro  = df_tedio[\"game_id\"] == 1\n",
        "df_tedio = df_tedio[filtro]\n",
        "\n",
        "# visualizar as 8 primeiras entradas do df\n",
        "df_tedio.head(8)"
      ],
      "execution_count": null,
      "outputs": [
        {
          "output_type": "execute_result",
          "data": {
            "text/html": [
              "<div>\n",
              "<style scoped>\n",
              "    .dataframe tbody tr th:only-of-type {\n",
              "        vertical-align: middle;\n",
              "    }\n",
              "\n",
              "    .dataframe tbody tr th {\n",
              "        vertical-align: top;\n",
              "    }\n",
              "\n",
              "    .dataframe thead th {\n",
              "        text-align: right;\n",
              "    }\n",
              "</style>\n",
              "<table border=\"1\" class=\"dataframe\">\n",
              "  <thead>\n",
              "    <tr style=\"text-align: right;\">\n",
              "      <th></th>\n",
              "      <th>game_id</th>\n",
              "      <th>uuid</th>\n",
              "      <th>timestamp</th>\n",
              "      <th>p1</th>\n",
              "      <th>p2</th>\n",
              "      <th>p3</th>\n",
              "      <th>p4</th>\n",
              "      <th>p5</th>\n",
              "      <th>p6</th>\n",
              "      <th>p7</th>\n",
              "      <th>p8</th>\n",
              "      <th>p9</th>\n",
              "      <th>p10</th>\n",
              "      <th>p11</th>\n",
              "      <th>p12</th>\n",
              "      <th>p13</th>\n",
              "      <th>p14</th>\n",
              "      <th>p15</th>\n",
              "      <th>p16</th>\n",
              "      <th>p17</th>\n",
              "      <th>p18</th>\n",
              "      <th>p19</th>\n",
              "      <th>p20</th>\n",
              "      <th>p21</th>\n",
              "      <th>p22</th>\n",
              "      <th>p23</th>\n",
              "      <th>p24</th>\n",
              "    </tr>\n",
              "  </thead>\n",
              "  <tbody>\n",
              "    <tr>\n",
              "      <th>0</th>\n",
              "      <td>1</td>\n",
              "      <td>6</td>\n",
              "      <td>1605708643465</td>\n",
              "      <td>0.508354</td>\n",
              "      <td>0.438171</td>\n",
              "      <td>0.568929</td>\n",
              "      <td>0.503775</td>\n",
              "      <td>0.541945</td>\n",
              "      <td>0.412132</td>\n",
              "      <td>0.804956</td>\n",
              "      <td>0.317154</td>\n",
              "      <td>0.504712</td>\n",
              "      <td>0.159364</td>\n",
              "      <td>0.948892</td>\n",
              "      <td>0.583862</td>\n",
              "      <td>0.442474</td>\n",
              "      <td>0.539523</td>\n",
              "      <td>0.490200</td>\n",
              "      <td>0.356116</td>\n",
              "      <td>0.162099</td>\n",
              "      <td>0.567227</td>\n",
              "      <td>0.730479</td>\n",
              "      <td>0.692829</td>\n",
              "      <td>0.453265</td>\n",
              "      <td>0.240817</td>\n",
              "      <td>0.547966</td>\n",
              "      <td>0.369644</td>\n",
              "    </tr>\n",
              "    <tr>\n",
              "      <th>1</th>\n",
              "      <td>1</td>\n",
              "      <td>6</td>\n",
              "      <td>1605708643974</td>\n",
              "      <td>0.512699</td>\n",
              "      <td>0.401146</td>\n",
              "      <td>0.553978</td>\n",
              "      <td>0.515166</td>\n",
              "      <td>0.496334</td>\n",
              "      <td>0.321135</td>\n",
              "      <td>0.746664</td>\n",
              "      <td>0.349567</td>\n",
              "      <td>0.458235</td>\n",
              "      <td>0.147308</td>\n",
              "      <td>0.916702</td>\n",
              "      <td>0.671186</td>\n",
              "      <td>0.514465</td>\n",
              "      <td>0.518944</td>\n",
              "      <td>0.431107</td>\n",
              "      <td>0.567169</td>\n",
              "      <td>0.153490</td>\n",
              "      <td>0.288593</td>\n",
              "      <td>0.707789</td>\n",
              "      <td>0.392665</td>\n",
              "      <td>0.610123</td>\n",
              "      <td>0.218132</td>\n",
              "      <td>0.574083</td>\n",
              "      <td>0.298309</td>\n",
              "    </tr>\n",
              "    <tr>\n",
              "      <th>2</th>\n",
              "      <td>1</td>\n",
              "      <td>6</td>\n",
              "      <td>1605708644480</td>\n",
              "      <td>0.506603</td>\n",
              "      <td>0.438182</td>\n",
              "      <td>0.563435</td>\n",
              "      <td>0.515138</td>\n",
              "      <td>0.487306</td>\n",
              "      <td>0.316582</td>\n",
              "      <td>0.766587</td>\n",
              "      <td>0.323285</td>\n",
              "      <td>0.495010</td>\n",
              "      <td>0.156914</td>\n",
              "      <td>0.958596</td>\n",
              "      <td>0.627930</td>\n",
              "      <td>0.523984</td>\n",
              "      <td>0.490657</td>\n",
              "      <td>0.447523</td>\n",
              "      <td>0.523908</td>\n",
              "      <td>0.206125</td>\n",
              "      <td>0.510279</td>\n",
              "      <td>0.666611</td>\n",
              "      <td>0.644468</td>\n",
              "      <td>0.590516</td>\n",
              "      <td>0.299635</td>\n",
              "      <td>0.562027</td>\n",
              "      <td>0.212047</td>\n",
              "    </tr>\n",
              "    <tr>\n",
              "      <th>3</th>\n",
              "      <td>1</td>\n",
              "      <td>6</td>\n",
              "      <td>1605708644995</td>\n",
              "      <td>0.511641</td>\n",
              "      <td>0.412832</td>\n",
              "      <td>0.548867</td>\n",
              "      <td>0.525097</td>\n",
              "      <td>0.475351</td>\n",
              "      <td>0.276429</td>\n",
              "      <td>0.770756</td>\n",
              "      <td>0.284161</td>\n",
              "      <td>0.464545</td>\n",
              "      <td>0.144001</td>\n",
              "      <td>0.927550</td>\n",
              "      <td>0.594060</td>\n",
              "      <td>0.452579</td>\n",
              "      <td>0.486386</td>\n",
              "      <td>0.333938</td>\n",
              "      <td>0.601764</td>\n",
              "      <td>0.183658</td>\n",
              "      <td>0.456423</td>\n",
              "      <td>0.757045</td>\n",
              "      <td>0.605616</td>\n",
              "      <td>0.557656</td>\n",
              "      <td>0.137957</td>\n",
              "      <td>0.547788</td>\n",
              "      <td>0.482396</td>\n",
              "    </tr>\n",
              "    <tr>\n",
              "      <th>4</th>\n",
              "      <td>1</td>\n",
              "      <td>6</td>\n",
              "      <td>1605708645496</td>\n",
              "      <td>0.508116</td>\n",
              "      <td>0.408212</td>\n",
              "      <td>0.547688</td>\n",
              "      <td>0.528549</td>\n",
              "      <td>0.453773</td>\n",
              "      <td>0.272925</td>\n",
              "      <td>0.757568</td>\n",
              "      <td>0.292917</td>\n",
              "      <td>0.475886</td>\n",
              "      <td>0.170430</td>\n",
              "      <td>0.919601</td>\n",
              "      <td>0.690201</td>\n",
              "      <td>0.436305</td>\n",
              "      <td>0.475365</td>\n",
              "      <td>0.493316</td>\n",
              "      <td>0.656315</td>\n",
              "      <td>0.222828</td>\n",
              "      <td>0.371406</td>\n",
              "      <td>0.767575</td>\n",
              "      <td>0.523756</td>\n",
              "      <td>0.495205</td>\n",
              "      <td>0.150021</td>\n",
              "      <td>0.632183</td>\n",
              "      <td>0.431408</td>\n",
              "    </tr>\n",
              "    <tr>\n",
              "      <th>5</th>\n",
              "      <td>1</td>\n",
              "      <td>6</td>\n",
              "      <td>1605708646011</td>\n",
              "      <td>0.499293</td>\n",
              "      <td>0.423723</td>\n",
              "      <td>0.552927</td>\n",
              "      <td>0.535816</td>\n",
              "      <td>0.452771</td>\n",
              "      <td>0.349431</td>\n",
              "      <td>0.862724</td>\n",
              "      <td>0.203309</td>\n",
              "      <td>0.677877</td>\n",
              "      <td>NaN</td>\n",
              "      <td>NaN</td>\n",
              "      <td>0.521792</td>\n",
              "      <td>0.425967</td>\n",
              "      <td>0.466244</td>\n",
              "      <td>0.487644</td>\n",
              "      <td>0.665776</td>\n",
              "      <td>NaN</td>\n",
              "      <td>0.498084</td>\n",
              "      <td>0.698859</td>\n",
              "      <td>0.604908</td>\n",
              "      <td>0.654111</td>\n",
              "      <td>0.095276</td>\n",
              "      <td>0.588753</td>\n",
              "      <td>0.539339</td>\n",
              "    </tr>\n",
              "    <tr>\n",
              "      <th>6</th>\n",
              "      <td>1</td>\n",
              "      <td>6</td>\n",
              "      <td>1605708646525</td>\n",
              "      <td>0.512229</td>\n",
              "      <td>0.410202</td>\n",
              "      <td>0.551289</td>\n",
              "      <td>0.518838</td>\n",
              "      <td>0.488063</td>\n",
              "      <td>0.287870</td>\n",
              "      <td>0.746702</td>\n",
              "      <td>0.303827</td>\n",
              "      <td>0.450450</td>\n",
              "      <td>0.165265</td>\n",
              "      <td>0.881407</td>\n",
              "      <td>0.524280</td>\n",
              "      <td>0.497531</td>\n",
              "      <td>0.481512</td>\n",
              "      <td>0.320369</td>\n",
              "      <td>0.561154</td>\n",
              "      <td>0.186003</td>\n",
              "      <td>0.476983</td>\n",
              "      <td>0.825256</td>\n",
              "      <td>0.672080</td>\n",
              "      <td>0.536526</td>\n",
              "      <td>0.102200</td>\n",
              "      <td>0.462169</td>\n",
              "      <td>0.483916</td>\n",
              "    </tr>\n",
              "    <tr>\n",
              "      <th>7</th>\n",
              "      <td>1</td>\n",
              "      <td>6</td>\n",
              "      <td>1605708647033</td>\n",
              "      <td>0.508762</td>\n",
              "      <td>0.410813</td>\n",
              "      <td>0.551905</td>\n",
              "      <td>0.519029</td>\n",
              "      <td>0.487940</td>\n",
              "      <td>0.311347</td>\n",
              "      <td>0.744142</td>\n",
              "      <td>0.321165</td>\n",
              "      <td>0.438788</td>\n",
              "      <td>0.187241</td>\n",
              "      <td>0.926794</td>\n",
              "      <td>0.577611</td>\n",
              "      <td>0.500968</td>\n",
              "      <td>0.497372</td>\n",
              "      <td>0.362701</td>\n",
              "      <td>0.559950</td>\n",
              "      <td>0.259109</td>\n",
              "      <td>0.510396</td>\n",
              "      <td>0.787959</td>\n",
              "      <td>0.714594</td>\n",
              "      <td>0.541962</td>\n",
              "      <td>0.153237</td>\n",
              "      <td>0.533681</td>\n",
              "      <td>0.468639</td>\n",
              "    </tr>\n",
              "  </tbody>\n",
              "</table>\n",
              "</div>"
            ],
            "text/plain": [
              "   game_id  uuid      timestamp  ...       p22       p23       p24\n",
              "0        1     6  1605708643465  ...  0.240817  0.547966  0.369644\n",
              "1        1     6  1605708643974  ...  0.218132  0.574083  0.298309\n",
              "2        1     6  1605708644480  ...  0.299635  0.562027  0.212047\n",
              "3        1     6  1605708644995  ...  0.137957  0.547788  0.482396\n",
              "4        1     6  1605708645496  ...  0.150021  0.632183  0.431408\n",
              "5        1     6  1605708646011  ...  0.095276  0.588753  0.539339\n",
              "6        1     6  1605708646525  ...  0.102200  0.462169  0.483916\n",
              "7        1     6  1605708647033  ...  0.153237  0.533681  0.468639\n",
              "\n",
              "[8 rows x 27 columns]"
            ]
          },
          "metadata": {
            "tags": []
          },
          "execution_count": 11
        }
      ]
    },
    {
      "cell_type": "code",
      "metadata": {
        "id": "_PgrEKH1E9DD",
        "colab": {
          "base_uri": "https://localhost:8080/"
        },
        "outputId": "ab4d9b01-a424-4828-f1d9-0c0f9e58d2cd"
      },
      "source": [
        "# verificar o tamanho do df\n",
        "print(\"Variáveis:\\t {}\".format(df_tedio.shape[1]))\n",
        "print(\"Entradas:\\t {}\".format(df_tedio.shape[0]))"
      ],
      "execution_count": null,
      "outputs": [
        {
          "output_type": "stream",
          "text": [
            "Variáveis:\t 9\n",
            "Entradas:\t 18278\n"
          ],
          "name": "stdout"
        }
      ]
    },
    {
      "cell_type": "code",
      "metadata": {
        "id": "4a67XjVOE_Qr",
        "colab": {
          "base_uri": "https://localhost:8080/"
        },
        "outputId": "060969bd-f39d-4833-d4cc-e2a8307845a5"
      },
      "source": [
        "# vizualisar os nomes das colunas\n",
        "df_tedio.columns"
      ],
      "execution_count": null,
      "outputs": [
        {
          "output_type": "execute_result",
          "data": {
            "text/plain": [
              "Index(['game_id', 'uuid', 'timestamp', 'angry', 'disgusted', 'fear', 'sad',\n",
              "       'surprised', 'happy'],\n",
              "      dtype='object')"
            ]
          },
          "metadata": {
            "tags": []
          },
          "execution_count": 16
        }
      ]
    },
    {
      "cell_type": "code",
      "metadata": {
        "id": "deRAC6RfFBJU",
        "colab": {
          "base_uri": "https://localhost:8080/"
        },
        "outputId": "60664405-4b02-4702-9ca3-102f51ddfe87"
      },
      "source": [
        "# descobrir os tipos das variáveis\n",
        "df_tedio.dtypes"
      ],
      "execution_count": null,
      "outputs": [
        {
          "output_type": "execute_result",
          "data": {
            "text/plain": [
              "game_id        int64\n",
              "uuid           int64\n",
              "timestamp      int64\n",
              "angry        float64\n",
              "disgusted    float64\n",
              "fear         float64\n",
              "sad          float64\n",
              "surprised    float64\n",
              "happy        float64\n",
              "dtype: object"
            ]
          },
          "metadata": {
            "tags": []
          },
          "execution_count": 17
        }
      ]
    },
    {
      "cell_type": "markdown",
      "metadata": {
        "id": "9UjhHXvXFGf0"
      },
      "source": [
        "## 1.2 Criando classes para a base de dados"
      ]
    },
    {
      "cell_type": "code",
      "metadata": {
        "id": "7X1hKMjtFHU1"
      },
      "source": [
        "# função para classificar os dados como tédio (1) ou estresse (0)\n",
        "def def_tedio(c):\n",
        "  if c['angry'] >= 0.1 and c['disgusted'] >= 0.1:\n",
        "    return 1\n",
        "  elif c['sad'] >= 0.1 and c['surprised'] >= 0.1:\n",
        "    return 1\n",
        "  else:\n",
        "    return 0"
      ],
      "execution_count": null,
      "outputs": []
    },
    {
      "cell_type": "code",
      "metadata": {
        "id": "WySuYpemFKJ7",
        "colab": {
          "base_uri": "https://localhost:8080/",
          "height": 300
        },
        "outputId": "89784e1f-cb47-4da5-f11b-2d16d078ee2a"
      },
      "source": [
        "# criar a coluna 'target' para o df_tedio\n",
        "df_tratado = pd.DataFrame(df_tedio)\n",
        "\n",
        "df_tratado['target'] = df_tedio.apply(def_tedio, axis=1)\n",
        "\n",
        "df_tratado.head(8)"
      ],
      "execution_count": null,
      "outputs": [
        {
          "output_type": "execute_result",
          "data": {
            "text/html": [
              "<div>\n",
              "<style scoped>\n",
              "    .dataframe tbody tr th:only-of-type {\n",
              "        vertical-align: middle;\n",
              "    }\n",
              "\n",
              "    .dataframe tbody tr th {\n",
              "        vertical-align: top;\n",
              "    }\n",
              "\n",
              "    .dataframe thead th {\n",
              "        text-align: right;\n",
              "    }\n",
              "</style>\n",
              "<table border=\"1\" class=\"dataframe\">\n",
              "  <thead>\n",
              "    <tr style=\"text-align: right;\">\n",
              "      <th></th>\n",
              "      <th>game_id</th>\n",
              "      <th>uuid</th>\n",
              "      <th>timestamp</th>\n",
              "      <th>angry</th>\n",
              "      <th>disgusted</th>\n",
              "      <th>fear</th>\n",
              "      <th>sad</th>\n",
              "      <th>surprised</th>\n",
              "      <th>happy</th>\n",
              "      <th>target</th>\n",
              "    </tr>\n",
              "  </thead>\n",
              "  <tbody>\n",
              "    <tr>\n",
              "      <th>0</th>\n",
              "      <td>1</td>\n",
              "      <td>6</td>\n",
              "      <td>1605708643465</td>\n",
              "      <td>0.034800</td>\n",
              "      <td>0.057187</td>\n",
              "      <td>0.010910</td>\n",
              "      <td>0.125495</td>\n",
              "      <td>0.191988</td>\n",
              "      <td>0.131196</td>\n",
              "      <td>1</td>\n",
              "    </tr>\n",
              "    <tr>\n",
              "      <th>1</th>\n",
              "      <td>1</td>\n",
              "      <td>6</td>\n",
              "      <td>1605708643974</td>\n",
              "      <td>0.040922</td>\n",
              "      <td>0.065980</td>\n",
              "      <td>0.009346</td>\n",
              "      <td>0.123534</td>\n",
              "      <td>0.117035</td>\n",
              "      <td>0.136284</td>\n",
              "      <td>1</td>\n",
              "    </tr>\n",
              "    <tr>\n",
              "      <th>2</th>\n",
              "      <td>1</td>\n",
              "      <td>6</td>\n",
              "      <td>1605708644480</td>\n",
              "      <td>0.029513</td>\n",
              "      <td>0.050042</td>\n",
              "      <td>0.009480</td>\n",
              "      <td>0.120868</td>\n",
              "      <td>0.194130</td>\n",
              "      <td>0.185262</td>\n",
              "      <td>1</td>\n",
              "    </tr>\n",
              "    <tr>\n",
              "      <th>3</th>\n",
              "      <td>1</td>\n",
              "      <td>6</td>\n",
              "      <td>1605708644995</td>\n",
              "      <td>0.037817</td>\n",
              "      <td>0.071314</td>\n",
              "      <td>0.010974</td>\n",
              "      <td>0.166960</td>\n",
              "      <td>0.150470</td>\n",
              "      <td>0.122635</td>\n",
              "      <td>1</td>\n",
              "    </tr>\n",
              "    <tr>\n",
              "      <th>4</th>\n",
              "      <td>1</td>\n",
              "      <td>6</td>\n",
              "      <td>1605708645496</td>\n",
              "      <td>0.040636</td>\n",
              "      <td>0.067900</td>\n",
              "      <td>0.010229</td>\n",
              "      <td>0.137022</td>\n",
              "      <td>0.154919</td>\n",
              "      <td>0.132826</td>\n",
              "      <td>1</td>\n",
              "    </tr>\n",
              "    <tr>\n",
              "      <th>5</th>\n",
              "      <td>1</td>\n",
              "      <td>6</td>\n",
              "      <td>1605708646011</td>\n",
              "      <td>0.024871</td>\n",
              "      <td>0.045830</td>\n",
              "      <td>0.008720</td>\n",
              "      <td>0.153731</td>\n",
              "      <td>0.235671</td>\n",
              "      <td>0.183499</td>\n",
              "      <td>1</td>\n",
              "    </tr>\n",
              "    <tr>\n",
              "      <th>6</th>\n",
              "      <td>1</td>\n",
              "      <td>6</td>\n",
              "      <td>1605708646525</td>\n",
              "      <td>0.042983</td>\n",
              "      <td>0.077609</td>\n",
              "      <td>0.011438</td>\n",
              "      <td>0.175638</td>\n",
              "      <td>0.128352</td>\n",
              "      <td>0.108902</td>\n",
              "      <td>1</td>\n",
              "    </tr>\n",
              "    <tr>\n",
              "      <th>7</th>\n",
              "      <td>1</td>\n",
              "      <td>6</td>\n",
              "      <td>1605708647033</td>\n",
              "      <td>0.037752</td>\n",
              "      <td>0.062227</td>\n",
              "      <td>0.010248</td>\n",
              "      <td>0.155643</td>\n",
              "      <td>0.159876</td>\n",
              "      <td>0.125097</td>\n",
              "      <td>1</td>\n",
              "    </tr>\n",
              "  </tbody>\n",
              "</table>\n",
              "</div>"
            ],
            "text/plain": [
              "   game_id  uuid      timestamp  ...  surprised     happy  target\n",
              "0        1     6  1605708643465  ...   0.191988  0.131196       1\n",
              "1        1     6  1605708643974  ...   0.117035  0.136284       1\n",
              "2        1     6  1605708644480  ...   0.194130  0.185262       1\n",
              "3        1     6  1605708644995  ...   0.150470  0.122635       1\n",
              "4        1     6  1605708645496  ...   0.154919  0.132826       1\n",
              "5        1     6  1605708646011  ...   0.235671  0.183499       1\n",
              "6        1     6  1605708646525  ...   0.128352  0.108902       1\n",
              "7        1     6  1605708647033  ...   0.159876  0.125097       1\n",
              "\n",
              "[8 rows x 10 columns]"
            ]
          },
          "metadata": {
            "tags": []
          },
          "execution_count": 19
        }
      ]
    },
    {
      "cell_type": "code",
      "metadata": {
        "id": "XEOPbVPoFOFE",
        "colab": {
          "base_uri": "https://localhost:8080/"
        },
        "outputId": "a5b2f08a-0a20-4f36-ed6d-5886f1359b75"
      },
      "source": [
        "# verificar o tipo de dado de cada coluna\n",
        "df_tratado.dtypes"
      ],
      "execution_count": null,
      "outputs": [
        {
          "output_type": "execute_result",
          "data": {
            "text/plain": [
              "game_id        int64\n",
              "uuid           int64\n",
              "timestamp      int64\n",
              "angry        float64\n",
              "disgusted    float64\n",
              "fear         float64\n",
              "sad          float64\n",
              "surprised    float64\n",
              "happy        float64\n",
              "target         int64\n",
              "dtype: object"
            ]
          },
          "metadata": {
            "tags": []
          },
          "execution_count": 20
        }
      ]
    },
    {
      "cell_type": "code",
      "metadata": {
        "id": "9YiHbL6uFRgR",
        "colab": {
          "base_uri": "https://localhost:8080/"
        },
        "outputId": "d592b8ce-ffb9-4a67-dc5c-208b1581249b"
      },
      "source": [
        "# verificar que colunas tem valores NaN (Not a Number)\n",
        "df_tratado.isnull().any()"
      ],
      "execution_count": null,
      "outputs": [
        {
          "output_type": "execute_result",
          "data": {
            "text/plain": [
              "game_id      False\n",
              "uuid         False\n",
              "timestamp    False\n",
              "angry         True\n",
              "disgusted     True\n",
              "fear          True\n",
              "sad           True\n",
              "surprised     True\n",
              "happy         True\n",
              "target       False\n",
              "dtype: bool"
            ]
          },
          "metadata": {
            "tags": []
          },
          "execution_count": 21
        }
      ]
    },
    {
      "cell_type": "code",
      "metadata": {
        "id": "nvZK6hcDbLVb"
      },
      "source": [
        "# Completando os registros que tem valor NaN com 0.0\n",
        "df_tratado = df_tratado.fillna(0.0)"
      ],
      "execution_count": null,
      "outputs": []
    },
    {
      "cell_type": "markdown",
      "metadata": {
        "id": "1wmEViSFFYNp"
      },
      "source": [
        "## 1.3 Conjunto de dados para treinamento e teste"
      ]
    },
    {
      "cell_type": "code",
      "metadata": {
        "id": "qQwuUp-gFdmC"
      },
      "source": [
        "# criar os conjuntos de dados e classes para treinamento e teste\n",
        "from sklearn.model_selection import train_test_split\n",
        "\n",
        "X_treinamento, X_teste, y_treinamento, y_teste = train_test_split(df_tratado.drop(columns=['target']), df_tratado.target, test_size=0.3)"
      ],
      "execution_count": null,
      "outputs": []
    },
    {
      "cell_type": "markdown",
      "metadata": {
        "id": "9GPD14CRFhNb"
      },
      "source": [
        "## 1.4 Correlação\n",
        "Baseado em [Como selecionar as melhores features para seu modelo de Machine Learning](https://paulovasconcellos.com.br/como-selecionar-as-melhores-features-para-seu-modelo-de-machine-learning-2e9df83d062a)"
      ]
    },
    {
      "cell_type": "code",
      "metadata": {
        "colab": {
          "base_uri": "https://localhost:8080/",
          "height": 445
        },
        "id": "wblj-4QlFlb9",
        "outputId": "84367047-d6a7-4984-a584-270f212875d7"
      },
      "source": [
        "import seaborn as sns\n",
        "\n",
        "plt.figure(figsize=(10, 7))\n",
        "sns.heatmap(df_tratado.corr(),\n",
        "            annot = True,\n",
        "            fmt = '.2f',\n",
        "            cmap='Blues')\n",
        "plt.title('Correlação entre variáveis do dataset de tédio')\n",
        "plt.show()"
      ],
      "execution_count": null,
      "outputs": [
        {
          "output_type": "display_data",
          "data": {
            "image/png": "[encoded data removed]",
            "text/plain": [
              "<Figure size 720x504 with 2 Axes>"
            ]
          },
          "metadata": {
            "tags": [],
            "needs_background": "light"
          }
        }
      ]
    },
    {
      "cell_type": "markdown",
      "metadata": {
        "id": "UCeDkz9mGLv-"
      },
      "source": [
        "O valor mostrado para cada correlação vai de -1 — que indica uma correlação negativa perfeita — a +1 — uma correlação positiva perfeita. Vale lembrar que a função .corr() traz, por padrão, a correlação de Pearson, mostrando um relacionamento linear entre as variáveis. Em casos onde há um relacionamento não-linear, a matriz pode não ser uma boa medida."
      ]
    },
    {
      "cell_type": "markdown",
      "metadata": {
        "id": "cQLvtOuYGOgw"
      },
      "source": [
        "## 1.5 Feature Importance\n",
        "O feature_importance_ retornar um array onde cada elemento dele é uma feature do seu modelo. Ele irá dizer, em proporções, quão importante aquela feature é para o modelo, onde quanto maior o valor, mais importante a feature é para o modelo."
      ]
    },
    {
      "cell_type": "code",
      "metadata": {
        "colab": {
          "base_uri": "https://localhost:8080/"
        },
        "id": "FziStAjzGRRe",
        "outputId": "ae6fe5f1-bd47-4f6c-e937-bd51e8d59967"
      },
      "source": [
        "from sklearn.ensemble import RandomForestClassifier\n",
        "clf_RFC  = RandomForestClassifier()\n",
        "clf_RFC.fit(X_treinamento, y_treinamento)\n",
        "\n",
        "# Mostrando importância de cada feature\n",
        "clf_RFC.feature_importances_"
      ],
      "execution_count": null,
      "outputs": [
        {
          "output_type": "execute_result",
          "data": {
            "text/plain": [
              "array([0.        , 0.01688849, 0.01643772, 0.23982439, 0.23946002,\n",
              "       0.01473594, 0.18690648, 0.26245558, 0.02329138])"
            ]
          },
          "metadata": {
            "tags": []
          },
          "execution_count": 25
        }
      ]
    },
    {
      "cell_type": "markdown",
      "metadata": {
        "id": "QjOFxalYGUxc"
      },
      "source": [
        "É retornado um array com quatro elementos. Se você somar todos eles, verá que o resultado será 1. Ao analisar esse array, podemos ver que a feature mais importante para o algoritmo Floresta Randômica foi a variável 'surprised'."
      ]
    },
    {
      "cell_type": "code",
      "metadata": {
        "colab": {
          "base_uri": "https://localhost:8080/",
          "height": 300
        },
        "id": "3GDFAXthGYAN",
        "outputId": "d752a3f8-9998-41b0-f3b5-55ace761c4b3"
      },
      "source": [
        "importances = pd.Series(data=clf_RFC.feature_importances_, index=df_tratado.columns[0:9])\n",
        "sns.barplot(x=importances, y=importances.index, orient='h').set_title('Importância de cada feature')"
      ],
      "execution_count": null,
      "outputs": [
        {
          "output_type": "execute_result",
          "data": {
            "text/plain": [
              "Text(0.5, 1.0, 'Importância de cada feature')"
            ]
          },
          "metadata": {
            "tags": []
          },
          "execution_count": 26
        },
        {
          "output_type": "display_data",
          "data": {
            "image/png": "[encoded data removed]",
            "text/plain": [
              "<Figure size 432x288 with 1 Axes>"
            ]
          },
          "metadata": {
            "tags": [],
            "needs_background": "light"
          }
        }
      ]
    },
    {
      "cell_type": "markdown",
      "metadata": {
        "id": "doxegZRCGbg-"
      },
      "source": [
        "As vezes, os valores mostrados pelo feature_importances_ pode ser enviesado dependendo dos parâmetros definidos na criação do objeto. Evitar usar os parâmetros default do Floresta Randômica."
      ]
    },
    {
      "cell_type": "markdown",
      "metadata": {
        "id": "KOde8tskHpqs"
      },
      "source": [
        "# 2. Regressões"
      ]
    },
    {
      "cell_type": "markdown",
      "metadata": {
        "id": "KqITYIOVGpYv"
      },
      "source": [
        "## 2.1 Regressão Linear Simples e Multipla\n",
        "\n",
        "\n",
        "*   [Linear Regression Example](https://scikit-learn.org/stable/auto_examples/linear_model/plot_ols.html)\n",
        "*   [Implementando Regressão Linear Simples em Python](https://medium.com/data-hackers/implementando-regress%C3%A3o-linear-simples-em-python-91df53b920a8)\n",
        "*   [Regressão Linear](https://www.kaggle.com/marilivb/4-regress-o-linear)\n",
        "*   [https://www.datageeks.com.br/regressao-linear/](https://www.datageeks.com.br/regressao-linear/)"
      ]
    },
    {
      "cell_type": "code",
      "metadata": {
        "id": "kn4Qc8-XGwZ6"
      },
      "source": [
        "from sklearn import linear_model\n",
        "from sklearn.metrics import mean_squared_error, r2_score\n"
      ],
      "execution_count": null,
      "outputs": []
    },
    {
      "cell_type": "code",
      "metadata": {
        "id": "jO8xmDLZGz3u"
      },
      "source": [
        "# Criar um objeto de regressão linear\n",
        "regr = linear_model.LinearRegression()\n",
        "\n",
        "# Treinar o modelo usando os conjuntos de treinamento\n",
        "regr.fit(X_treinamento, y_treinamento)\n",
        "\n",
        "# Fazer predições usando o conjunto de teste\n",
        "y_pred = regr.predict(X_teste)"
      ],
      "execution_count": null,
      "outputs": []
    },
    {
      "cell_type": "code",
      "metadata": {
        "colab": {
          "base_uri": "https://localhost:8080/"
        },
        "id": "exvw2aRYG2UC",
        "outputId": "4865db7d-540e-4061-a9cb-8c9b3ab60218"
      },
      "source": [
        "# Os coeficientes encontrados\n",
        "print('Coeficientes: \\n', regr.coef_)\n",
        "# O Erro Médio Quadrático (EMQ)\n",
        "print('Erro Médio Quadrático (EMQ): %.2f'\n",
        "      % mean_squared_error(y_teste, y_pred))\n",
        "# O coeficiente de determinação: 1 é a predição perfeita\n",
        "print('Coeficiente de determinação: %.2f'\n",
        "      % r2_score(y_teste, y_pred))"
      ],
      "execution_count": null,
      "outputs": [
        {
          "output_type": "stream",
          "text": [
            "Coeficientes: \n",
            " [ 0.00000000e+00 -1.12900265e-03  1.97719898e-11  1.67933967e+00\n",
            "  1.20694766e+00 -1.28479480e+00  9.73020185e-01  1.71334057e+00\n",
            " -7.92701540e-02]\n",
            "Erro Médio Quadrático (EMQ): 0.14\n",
            "Coeficiente de determinação: 0.44\n"
          ],
          "name": "stdout"
        }
      ]
    },
    {
      "cell_type": "markdown",
      "metadata": {
        "id": "QK1eG-s3G5xm"
      },
      "source": [
        "### 2.1.1 Diagrama de Dispersão"
      ]
    },
    {
      "cell_type": "code",
      "metadata": {
        "colab": {
          "base_uri": "https://localhost:8080/",
          "height": 252
        },
        "id": "fM-WBfwnG7e0",
        "outputId": "84830f87-c574-4d63-bc5c-6cd1ab93e77a"
      },
      "source": [
        "# plotar saídas\n",
        "plt.scatter(X_teste.iloc[:,0].values, y_teste,  color='black')\n",
        "plt.plot(X_teste, y_pred, color='blue', linewidth=3)\n",
        "\n",
        "plt.xticks(())\n",
        "plt.yticks(())\n",
        "\n",
        "plt.show()"
      ],
      "execution_count": null,
      "outputs": [
        {
          "output_type": "display_data",
          "data": {
            "image/png": "[encoded data removed]",
            "text/plain": [
              "<Figure size 432x288 with 1 Axes>"
            ]
          },
          "metadata": {
            "tags": []
          }
        }
      ]
    },
    {
      "cell_type": "markdown",
      "metadata": {
        "id": "RV10sdS7HAxW"
      },
      "source": [
        "## 2.2 Regressão Logística\n",
        "\n",
        "\n",
        "*   [Logistic Regression using Python (scikit-learn)](https://towardsdatascience.com/logistic-regression-using-python-sklearn-numpy-mnist-handwriting-recognition-matplotlib-a6b31e2b166a)\n",
        "*   [Regressão Logística e Métricas de Classificação em Python](http://neylsoncrepalde.github.io/2019-11-25-regressao_logistica_python/)\n",
        "\n"
      ]
    },
    {
      "cell_type": "code",
      "metadata": {
        "colab": {
          "base_uri": "https://localhost:8080/"
        },
        "id": "oOakVAdEG_Sy",
        "outputId": "612c3393-544d-4875-fb6c-2d16827736ec"
      },
      "source": [
        "from sklearn.linear_model import LogisticRegression\n",
        "\n",
        "clf_LR = LogisticRegression(random_state=0).fit(X_treinamento, y_treinamento)\n",
        "clf_LR.predict(X_teste)"
      ],
      "execution_count": null,
      "outputs": [
        {
          "output_type": "execute_result",
          "data": {
            "text/plain": [
              "array([0, 0, 0, ..., 0, 0, 0])"
            ]
          },
          "metadata": {
            "tags": []
          },
          "execution_count": 34
        }
      ]
    },
    {
      "cell_type": "code",
      "metadata": {
        "colab": {
          "base_uri": "https://localhost:8080/"
        },
        "id": "WKSvVatgHFbN",
        "outputId": "2b71e043-29bb-4ae5-d461-1b429ea5318e"
      },
      "source": [
        "clf_LR.predict_proba(X_teste)"
      ],
      "execution_count": null,
      "outputs": [
        {
          "output_type": "execute_result",
          "data": {
            "text/plain": [
              "array([[0.57800055, 0.42199945],\n",
              "       [0.57785705, 0.42214295],\n",
              "       [0.57801713, 0.42198287],\n",
              "       ...,\n",
              "       [0.57761008, 0.42238992],\n",
              "       [0.5779925 , 0.4220075 ],\n",
              "       [0.57801721, 0.42198279]])"
            ]
          },
          "metadata": {
            "tags": []
          },
          "execution_count": 35
        }
      ]
    },
    {
      "cell_type": "code",
      "metadata": {
        "colab": {
          "base_uri": "https://localhost:8080/"
        },
        "id": "naZMLGCAHG3q",
        "outputId": "146bfaba-dc0e-4469-efd0-3f7c8d3b033c"
      },
      "source": [
        "clf_LR.score(X_treinamento, y_treinamento)"
      ],
      "execution_count": null,
      "outputs": [
        {
          "output_type": "execute_result",
          "data": {
            "text/plain": [
              "0.5777708300765984"
            ]
          },
          "metadata": {
            "tags": []
          },
          "execution_count": 36
        }
      ]
    },
    {
      "cell_type": "markdown",
      "metadata": {
        "id": "1mOUK41FHM9G"
      },
      "source": [
        "### 2.2.1 Diagrama de Dispersão"
      ]
    },
    {
      "cell_type": "code",
      "metadata": {
        "colab": {
          "base_uri": "https://localhost:8080/",
          "height": 252
        },
        "id": "uuLRWhciHJlv",
        "outputId": "991483e1-94cb-494b-d5c6-e09594e8da02"
      },
      "source": [
        "# plotar saídas\n",
        "plt.scatter(X_teste.iloc[:,0].values, y_teste,  color='black')\n",
        "plt.plot(X_teste, y_pred, color='blue', linewidth=3)\n",
        "\n",
        "plt.xticks(())\n",
        "plt.yticks(())\n",
        "\n",
        "plt.show()"
      ],
      "execution_count": null,
      "outputs": [
        {
          "output_type": "display_data",
          "data": {
            "image/png": "[encoded data removed]",
            "text/plain": [
              "<Figure size 432x288 with 1 Axes>"
            ]
          },
          "metadata": {
            "tags": []
          }
        }
      ]
    },
    {
      "cell_type": "markdown",
      "metadata": {
        "id": "Xj4iZ82YJiyH"
      },
      "source": [
        "# 3. Detecção de anomalias\n",
        "Referências:\n",
        "\n",
        "\n",
        "*   [Anomaly Detection Techniques in Python](https://medium.com/learningdatascience/anomaly-detection-techniques-in-python-50f650c75aaf)\n",
        "*   [4 Automatic Outlier Detection Algorithms in Python](https://machinelearningmastery.com/model-based-outlier-detection-and-removal-in-python/)\n",
        "*   [Learn how to develop highly accurate models to detect anomalies using Artificial Neural Networks with the Tensorflow library in Python3.](https://outline.com/D8jZMf)\n"
      ]
    },
    {
      "cell_type": "markdown",
      "metadata": {
        "id": "50muSTiipaKj"
      },
      "source": [
        "## 3.1 Métodos Estatísticos"
      ]
    },
    {
      "cell_type": "markdown",
      "metadata": {
        "id": "Gnm44wf_pdkD"
      },
      "source": [
        "### 3.1.1 Paramétricos: Diagrama de Caixa"
      ]
    },
    {
      "cell_type": "code",
      "metadata": {
        "colab": {
          "base_uri": "https://localhost:8080/",
          "height": 265
        },
        "id": "8axwjIOCdoJC",
        "outputId": "21a80f8f-dd42-48ca-e954-8d7d02ae4858"
      },
      "source": [
        "boxplot = df_tratado.boxplot(column=['angry', 'disgusted', 'fear', 'sad', 'surprised', 'happy'])"
      ],
      "execution_count": null,
      "outputs": [
        {
          "output_type": "display_data",
          "data": {
            "image/png": "[encoded data removed]",
            "text/plain": [
              "<Figure size 432x288 with 1 Axes>"
            ]
          },
          "metadata": {
            "tags": [],
            "needs_background": "light"
          }
        }
      ]
    },
    {
      "cell_type": "code",
      "metadata": {
        "colab": {
          "base_uri": "https://localhost:8080/",
          "height": 265
        },
        "id": "I458mNlWuG-K",
        "outputId": "bddea31e-a2af-49f2-9015-875dfd27cc0b"
      },
      "source": [
        "df_emocoes = df_tratado.copy(deep=True)\n",
        "df_emocoes = df_emocoes.drop(columns=['game_id', 'uuid', 'timestamp', 'target'])\n",
        "ax = sns.violinplot(data=df_emocoes)"
      ],
      "execution_count": null,
      "outputs": [
        {
          "output_type": "display_data",
          "data": {
            "image/png": "[encoded data removed]",
            "text/plain": [
              "<Figure size 432x288 with 1 Axes>"
            ]
          },
          "metadata": {
            "tags": [],
            "needs_background": "light"
          }
        }
      ]
    },
    {
      "cell_type": "markdown",
      "metadata": {
        "id": "d2QSTDoapiDA"
      },
      "source": [
        "### 3.1.2 Não Paramétricos: Análise de Histograma"
      ]
    },
    {
      "cell_type": "code",
      "metadata": {
        "colab": {
          "base_uri": "https://localhost:8080/",
          "height": 265
        },
        "id": "gX_o3sSVi8zk",
        "outputId": "506ebabd-3ca1-463c-f56d-e54f583df79d"
      },
      "source": [
        "#ax = df_emocoes.plot.hist(bins=12, alpha=0.5)\n",
        "ax = df_emocoes.plot.hist()"
      ],
      "execution_count": null,
      "outputs": [
        {
          "output_type": "display_data",
          "data": {
            "image/png": "[encoded data removed]",
            "text/plain": [
              "<Figure size 432x288 with 1 Axes>"
            ]
          },
          "metadata": {
            "tags": [],
            "needs_background": "light"
          }
        }
      ]
    },
    {
      "cell_type": "markdown",
      "metadata": {
        "id": "8LYrjzY5plQs"
      },
      "source": [
        "## 3.2 Métodos Algorítmicos"
      ]
    },
    {
      "cell_type": "markdown",
      "metadata": {
        "id": "D42mzAjkpqjt"
      },
      "source": [
        "### 3.2.1 Proximidade: Local Outlier Factor (LOF)\n",
        "Referências:\n",
        "\n",
        "*   [2.7. Novelty and Outlier Detection](https://scikit-learn.org/stable/modules/outlier_detection.html)\n",
        "*   [sklearn.neighbors.LocalOutlierFactor](https://scikit-learn.org/stable/modules/generated/sklearn.neighbors.LocalOutlierFactor.html)\n",
        "*   [Outlier detection with Local Outlier Factor (LOF)](https://scikit-learn.org/stable/auto_examples/neighbors/plot_lof_outlier_detection.html)\n",
        "*   [Anomaly detection with Local Outlier Factor (LOF)](https://towardsdatascience.com/anomaly-detection-with-local-outlier-factor-lof-d91e41df10f2)"
      ]
    },
    {
      "cell_type": "code",
      "metadata": {
        "id": "HvyBtHbK6t3Z"
      },
      "source": [
        ""
      ],
      "execution_count": null,
      "outputs": []
    },
    {
      "cell_type": "markdown",
      "metadata": {
        "id": "hsguuBIQpt_F"
      },
      "source": [
        "### 3.2.2 Redes Neurais: Redes Neurais Supervisionadas\n",
        "Referências:\n",
        "\n",
        "\n",
        "*   [Comparing anomaly detection algorithms for outlier detection on toy datasets](https://scikit-learn.org/0.20/auto_examples/plot_anomaly_comparison.html)\n",
        "*   [How to use machine learning for anomaly detection and condition monitoring](https://towardsdatascience.com/how-to-use-machine-learning-for-anomaly-detection-and-condition-monitoring-6742f82900d7)\n",
        "\n"
      ]
    },
    {
      "cell_type": "markdown",
      "metadata": {
        "id": "j_HWU1AKpwux"
      },
      "source": [
        "## 3.3 Machine Learning"
      ]
    },
    {
      "cell_type": "markdown",
      "metadata": {
        "id": "4FLYQE11qJ-m"
      },
      "source": [
        "### 3.3.1. Árvores de decisão"
      ]
    },
    {
      "cell_type": "markdown",
      "metadata": {
        "id": "Zn3DEFYiqNm7"
      },
      "source": [
        "### 3.3.2 Florestas de isolamento (*Isolation Forest*)\n",
        "Referências:\n",
        "\n",
        "*   [2.7. Novelty and Outlier Detection](https://scikit-learn.org/stable/modules/outlier_detection.html)\n",
        "*   [sklearn.ensemble.IsolationForest](https://scikit-learn.org/stable/modules/generated/sklearn.ensemble.IsolationForest.html)\n",
        "*   [Anomaly Detection with Isolation Forest & Visualization](https://towardsdatascience.com/anomaly-detection-with-isolation-forest-visualization-23cd75c281e2)\n",
        "*   [Anomaly Detection Using Isolation Forest in Python](https://blog.paperspace.com/anomaly-detection-isolation-forest/)\n"
      ]
    },
    {
      "cell_type": "code",
      "metadata": {
        "colab": {
          "base_uri": "https://localhost:8080/"
        },
        "id": "Q38oExSG6-II",
        "outputId": "95097320-2be1-439e-d63f-4636395e58b4"
      },
      "source": [
        "from sklearn.ensemble import IsolationForest\n",
        "model=IsolationForest(n_estimators=50, max_samples='auto', contamination=float(0.1),max_features=1.0)\n",
        "model.fit(df_emocoes[['angry']])"
      ],
      "execution_count": null,
      "outputs": [
        {
          "output_type": "execute_result",
          "data": {
            "text/plain": [
              "IsolationForest(behaviour='deprecated', bootstrap=False, contamination=0.1,\n",
              "                max_features=1.0, max_samples='auto', n_estimators=50,\n",
              "                n_jobs=None, random_state=None, verbose=0, warm_start=False)"
            ]
          },
          "metadata": {
            "tags": []
          },
          "execution_count": 52
        }
      ]
    },
    {
      "cell_type": "code",
      "metadata": {
        "colab": {
          "base_uri": "https://localhost:8080/",
          "height": 677
        },
        "id": "i-wU8DRt7isD",
        "outputId": "f84c972e-a56a-4c66-aa50-8a97bfc06479"
      },
      "source": [
        "df = pd.DataFrame(df_emocoes['angry'])\n",
        "df['scores']=model.decision_function(df[['angry']])\n",
        "df['anomaly']=model.predict(df[['angry']])\n",
        "df.head(20)"
      ],
      "execution_count": null,
      "outputs": [
        {
          "output_type": "execute_result",
          "data": {
            "text/html": [
              "<div>\n",
              "<style scoped>\n",
              "    .dataframe tbody tr th:only-of-type {\n",
              "        vertical-align: middle;\n",
              "    }\n",
              "\n",
              "    .dataframe tbody tr th {\n",
              "        vertical-align: top;\n",
              "    }\n",
              "\n",
              "    .dataframe thead th {\n",
              "        text-align: right;\n",
              "    }\n",
              "</style>\n",
              "<table border=\"1\" class=\"dataframe\">\n",
              "  <thead>\n",
              "    <tr style=\"text-align: right;\">\n",
              "      <th></th>\n",
              "      <th>angry</th>\n",
              "      <th>scores</th>\n",
              "      <th>anomaly</th>\n",
              "    </tr>\n",
              "  </thead>\n",
              "  <tbody>\n",
              "    <tr>\n",
              "      <th>0</th>\n",
              "      <td>0.034800</td>\n",
              "      <td>0.106804</td>\n",
              "      <td>1</td>\n",
              "    </tr>\n",
              "    <tr>\n",
              "      <th>1</th>\n",
              "      <td>0.040922</td>\n",
              "      <td>0.104435</td>\n",
              "      <td>1</td>\n",
              "    </tr>\n",
              "    <tr>\n",
              "      <th>2</th>\n",
              "      <td>0.029513</td>\n",
              "      <td>0.093926</td>\n",
              "      <td>1</td>\n",
              "    </tr>\n",
              "    <tr>\n",
              "      <th>3</th>\n",
              "      <td>0.037817</td>\n",
              "      <td>0.107444</td>\n",
              "      <td>1</td>\n",
              "    </tr>\n",
              "    <tr>\n",
              "      <th>4</th>\n",
              "      <td>0.040636</td>\n",
              "      <td>0.099176</td>\n",
              "      <td>1</td>\n",
              "    </tr>\n",
              "    <tr>\n",
              "      <th>5</th>\n",
              "      <td>0.024871</td>\n",
              "      <td>0.071883</td>\n",
              "      <td>1</td>\n",
              "    </tr>\n",
              "    <tr>\n",
              "      <th>6</th>\n",
              "      <td>0.042983</td>\n",
              "      <td>0.102639</td>\n",
              "      <td>1</td>\n",
              "    </tr>\n",
              "    <tr>\n",
              "      <th>7</th>\n",
              "      <td>0.037752</td>\n",
              "      <td>0.108330</td>\n",
              "      <td>1</td>\n",
              "    </tr>\n",
              "    <tr>\n",
              "      <th>8</th>\n",
              "      <td>0.032165</td>\n",
              "      <td>0.101455</td>\n",
              "      <td>1</td>\n",
              "    </tr>\n",
              "    <tr>\n",
              "      <th>9</th>\n",
              "      <td>0.036980</td>\n",
              "      <td>0.104727</td>\n",
              "      <td>1</td>\n",
              "    </tr>\n",
              "    <tr>\n",
              "      <th>10</th>\n",
              "      <td>0.044133</td>\n",
              "      <td>0.094955</td>\n",
              "      <td>1</td>\n",
              "    </tr>\n",
              "    <tr>\n",
              "      <th>11</th>\n",
              "      <td>0.047425</td>\n",
              "      <td>0.090107</td>\n",
              "      <td>1</td>\n",
              "    </tr>\n",
              "    <tr>\n",
              "      <th>12</th>\n",
              "      <td>0.036975</td>\n",
              "      <td>0.104727</td>\n",
              "      <td>1</td>\n",
              "    </tr>\n",
              "    <tr>\n",
              "      <th>13</th>\n",
              "      <td>0.038532</td>\n",
              "      <td>0.102425</td>\n",
              "      <td>1</td>\n",
              "    </tr>\n",
              "    <tr>\n",
              "      <th>14</th>\n",
              "      <td>0.050303</td>\n",
              "      <td>0.080340</td>\n",
              "      <td>1</td>\n",
              "    </tr>\n",
              "    <tr>\n",
              "      <th>15</th>\n",
              "      <td>0.059239</td>\n",
              "      <td>0.082937</td>\n",
              "      <td>1</td>\n",
              "    </tr>\n",
              "    <tr>\n",
              "      <th>16</th>\n",
              "      <td>0.042755</td>\n",
              "      <td>0.104458</td>\n",
              "      <td>1</td>\n",
              "    </tr>\n",
              "    <tr>\n",
              "      <th>17</th>\n",
              "      <td>0.040956</td>\n",
              "      <td>0.104435</td>\n",
              "      <td>1</td>\n",
              "    </tr>\n",
              "    <tr>\n",
              "      <th>18</th>\n",
              "      <td>0.044206</td>\n",
              "      <td>0.094955</td>\n",
              "      <td>1</td>\n",
              "    </tr>\n",
              "    <tr>\n",
              "      <th>19</th>\n",
              "      <td>0.038932</td>\n",
              "      <td>0.103232</td>\n",
              "      <td>1</td>\n",
              "    </tr>\n",
              "  </tbody>\n",
              "</table>\n",
              "</div>"
            ],
            "text/plain": [
              "       angry    scores  anomaly\n",
              "0   0.034800  0.106804        1\n",
              "1   0.040922  0.104435        1\n",
              "2   0.029513  0.093926        1\n",
              "3   0.037817  0.107444        1\n",
              "4   0.040636  0.099176        1\n",
              "5   0.024871  0.071883        1\n",
              "6   0.042983  0.102639        1\n",
              "7   0.037752  0.108330        1\n",
              "8   0.032165  0.101455        1\n",
              "9   0.036980  0.104727        1\n",
              "10  0.044133  0.094955        1\n",
              "11  0.047425  0.090107        1\n",
              "12  0.036975  0.104727        1\n",
              "13  0.038532  0.102425        1\n",
              "14  0.050303  0.080340        1\n",
              "15  0.059239  0.082937        1\n",
              "16  0.042755  0.104458        1\n",
              "17  0.040956  0.104435        1\n",
              "18  0.044206  0.094955        1\n",
              "19  0.038932  0.103232        1"
            ]
          },
          "metadata": {
            "tags": []
          },
          "execution_count": 53
        }
      ]
    },
    {
      "cell_type": "code",
      "metadata": {
        "colab": {
          "base_uri": "https://localhost:8080/"
        },
        "id": "SqH1L6gs8EGv",
        "outputId": "fb1fca0e-b612-42d7-e9b9-444f2572f882"
      },
      "source": [
        "anomaly=df.loc[df['anomaly']==-1]\n",
        "anomaly_index=list(anomaly.index)\n",
        "print(anomaly)"
      ],
      "execution_count": null,
      "outputs": [
        {
          "output_type": "stream",
          "text": [
            "          angry    scores  anomaly\n",
            "196    0.374793 -0.069955       -1\n",
            "197    0.353724 -0.062901       -1\n",
            "198    0.310167 -0.010416       -1\n",
            "199    0.416074 -0.105517       -1\n",
            "200    0.392648 -0.079422       -1\n",
            "...         ...       ...      ...\n",
            "17890  0.361848 -0.078691       -1\n",
            "17891  0.352857 -0.062243       -1\n",
            "17892  0.413851 -0.103740       -1\n",
            "17893  0.439740 -0.107853       -1\n",
            "17895  0.491847 -0.152428       -1\n",
            "\n",
            "[1821 rows x 3 columns]\n"
          ],
          "name": "stdout"
        }
      ]
    },
    {
      "cell_type": "code",
      "metadata": {
        "colab": {
          "base_uri": "https://localhost:8080/"
        },
        "id": "ijIrQgZw8sLx",
        "outputId": "887d8a86-4d48-4449-88f8-4e84e5cc8ab8"
      },
      "source": [
        "outliers_counter = len(df[df['angry'] > 0.5])\n",
        "outliers_counter"
      ],
      "execution_count": null,
      "outputs": [
        {
          "output_type": "execute_result",
          "data": {
            "text/plain": [
              "96"
            ]
          },
          "metadata": {
            "tags": []
          },
          "execution_count": 57
        }
      ]
    },
    {
      "cell_type": "code",
      "metadata": {
        "colab": {
          "base_uri": "https://localhost:8080/"
        },
        "id": "3xN4NinX81s-",
        "outputId": "4ca3a6c4-9fd2-4d5e-8a4c-09c9bd6641bf"
      },
      "source": [
        "print(\"Accuracy percentage:\", 100*list(df['anomaly']).count(-1)/(outliers_counter))"
      ],
      "execution_count": null,
      "outputs": [
        {
          "output_type": "stream",
          "text": [
            "Accuracy percentage: 18.96875\n"
          ],
          "name": "stdout"
        }
      ]
    },
    {
      "cell_type": "code",
      "metadata": {
        "colab": {
          "base_uri": "https://localhost:8080/"
        },
        "id": "XoobMdZs9UPn",
        "outputId": "30013725-143b-4ecb-b28a-9d8d20f3504a"
      },
      "source": [
        "#specify the 12 metrics column names to be modelled\n",
        "to_model_columns=df_emocoes[0:7]\n",
        "to_model_columns\n",
        "\n",
        "clf=IsolationForest(n_estimators=100, max_samples='auto', contamination=float(.12), max_features=1.0, bootstrap=False, n_jobs=-1, random_state=42, verbose=0)\n",
        "clf.fit(df_emocoes)\n",
        "pred = clf.predict(df_emocoes)\n",
        "df_emocoes['anomaly']=pred\n",
        "outliers=df_emocoes.loc[df_emocoes['anomaly']==-1]\n",
        "outlier_index=list(outliers.index)\n",
        "print(outlier_index)\n",
        "#Find the number of anomalies and normal points here points classified -1 are anomalous\n",
        "print(df_emocoes['anomaly'].value_counts())"
      ],
      "execution_count": null,
      "outputs": [
        {
          "output_type": "stream",
          "text": [
            "[200, 210, 222, 239, 240, 316, 375, 377, 378, 379, 380, 396, 411, 412, 413, 414, 415, 416, 417, 426, 439, 441, 442, 443, 444, 468, 485, 486, 515, 533, 535, 539, 540, 626, 641, 646, 647, 657, 691, 692, 693, 696, 697, 758, 759, 764, 771, 779, 858, 876, 877, 878, 880, 881, 883, 884, 885, 886, 887, 890, 891, 892, 893, 897, 905, 906, 913, 916, 917, 919, 920, 922, 923, 924, 925, 926, 927, 928, 930, 932, 933, 934, 935, 936, 937, 938, 939, 940, 941, 943, 944, 951, 953, 955, 956, 958, 993, 996, 1013, 1102, 1107, 1131, 1132, 1206, 1212, 1265, 1266, 1267, 1282, 1302, 1332, 1333, 1337, 1351, 1352, 1353, 1359, 1360, 1361, 1362, 1363, 1364, 1365, 1366, 1367, 1371, 1377, 1394, 1398, 1401, 1407, 1424, 1425, 1428, 1429, 1430, 1440, 1441, 1443, 1445, 1451, 1452, 1460, 1461, 1462, 1465, 1472, 1482, 1498, 1501, 1503, 1506, 1507, 1510, 1511, 1512, 1513, 1514, 1515, 1516, 1528, 1529, 1530, 1532, 1533, 1534, 1535, 1540, 1542, 1543, 1544, 1557, 1558, 1559, 1564, 1583, 1587, 1588, 1589, 1590, 1591, 1592, 1593, 1594, 1595, 1603, 1615, 1616, 1624, 1625, 1627, 1628, 1629, 1630, 1631, 1633, 1634, 1635, 1636, 1637, 1638, 1639, 1640, 1641, 1642, 1643, 1645, 1647, 1648, 1649, 1650, 1651, 1652, 1653, 1654, 1655, 1656, 1657, 1658, 1659, 1660, 1661, 1662, 1663, 1664, 1665, 1666, 1667, 1668, 1669, 1671, 1672, 1673, 1674, 1675, 1676, 1677, 1678, 1679, 1680, 1681, 1682, 1683, 1684, 1685, 1686, 1688, 1689, 1690, 1691, 1692, 1693, 1694, 1695, 1696, 1697, 1698, 1699, 1700, 1701, 1702, 1703, 1705, 1718, 1719, 1724, 1735, 1781, 1808, 1825, 1875, 2083, 2088, 2089, 2091, 2092, 2093, 2094, 2095, 2101, 2125, 2132, 2134, 2135, 2145, 2146, 2147, 2148, 2149, 2150, 2154, 2155, 2167, 2169, 2170, 2172, 2181, 2183, 2196, 2212, 2217, 2221, 2224, 2225, 2227, 2229, 2230, 2232, 2237, 2238, 2239, 2241, 2242, 2243, 2244, 2247, 2248, 2249, 2250, 2255, 2256, 2266, 2317, 2328, 2348, 2366, 2367, 2370, 2373, 2395, 2398, 2399, 2400, 2407, 2408, 2415, 2416, 2417, 2434, 2442, 2456, 2510, 2511, 2512, 2513, 2514, 2516, 2517, 2518, 2598, 2651, 2849, 2858, 2873, 2901, 2905, 2923, 2927, 2931, 2933, 2935, 2951, 2969, 2970, 2972, 2976, 2977, 2979, 2981, 2982, 2985, 2988, 3014, 3015, 3017, 3019, 3021, 3032, 3033, 3034, 3048, 3052, 3054, 3059, 3060, 3064, 3069, 3077, 3081, 3083, 3094, 3099, 3101, 3102, 3107, 3108, 3109, 3110, 3111, 3114, 3119, 3121, 3124, 3126, 3129, 3130, 3141, 3142, 3145, 3157, 3159, 3160, 3161, 3162, 3163, 3166, 3167, 3175, 3180, 3181, 3182, 3185, 3192, 3193, 3195, 3197, 3198, 3206, 3207, 3208, 3209, 3211, 3212, 3213, 3214, 3215, 3219, 3220, 3221, 3222, 3224, 3225, 3232, 3233, 3235, 3239, 3241, 3242, 3250, 3258, 3259, 3260, 3262, 3263, 3267, 3272, 3279, 3282, 3284, 3288, 3290, 3291, 3292, 3293, 3294, 3302, 3303, 3306, 3308, 3309, 3320, 3326, 3328, 3335, 3357, 3367, 3392, 3396, 3397, 3398, 3399, 3400, 3402, 3405, 3406, 3409, 3412, 3413, 3415, 3504, 3505, 3654, 3655, 3656, 3657, 3658, 3659, 3660, 3661, 3662, 3663, 3664, 3665, 3667, 3668, 3673, 3677, 3681, 3684, 3691, 3694, 3700, 3705, 3709, 3710, 3718, 3719, 3722, 3733, 3739, 3740, 3741, 3747, 3748, 3749, 3750, 3753, 3756, 3760, 3796, 3801, 4178, 4183, 4198, 4202, 4203, 4243, 4245, 4246, 4248, 4255, 4256, 4257, 4258, 4259, 4269, 4273, 4274, 4275, 4276, 4277, 4280, 4282, 4285, 4287, 4288, 4291, 4292, 4294, 4295, 4296, 4299, 4306, 4307, 4308, 4309, 4312, 4315, 4316, 4321, 4322, 4323, 4324, 4326, 4327, 4328, 4329, 4330, 4332, 4333, 4337, 4340, 4341, 4342, 4343, 4344, 4347, 4348, 4349, 4350, 4351, 4354, 4355, 4356, 4357, 4358, 4359, 4570, 4576, 4577, 4579, 4581, 4582, 4583, 4584, 4587, 4591, 4593, 4595, 4596, 4597, 4599, 4603, 4608, 4609, 4610, 4611, 4612, 4613, 4614, 4617, 4618, 4621, 4623, 4624, 4625, 4627, 4628, 4629, 4636, 4640, 4641, 4643, 4645, 4668, 4751, 4752, 4753, 4754, 4755, 4756, 4758, 4759, 4760, 4761, 4762, 4763, 4764, 4765, 4766, 4767, 4768, 4769, 4770, 4777, 4778, 4779, 4780, 4781, 4782, 4783, 4784, 4787, 4788, 4790, 4792, 4793, 4794, 4796, 4798, 4799, 4800, 4802, 4805, 4811, 4812, 4814, 4815, 4818, 4826, 4827, 4828, 4829, 4830, 4831, 4832, 4833, 4834, 4835, 4836, 4838, 4839, 4841, 4842, 4843, 4844, 4845, 4846, 4847, 4848, 4849, 4850, 4851, 4852, 4853, 4854, 4855, 4856, 4857, 4858, 4859, 4860, 4861, 4863, 4865, 4866, 4867, 4868, 4869, 4870, 4871, 4872, 4874, 4876, 4877, 4879, 4880, 4881, 4884, 4887, 4888, 4890, 4891, 4895, 4901, 4902, 4905, 4906, 4907, 4908, 4909, 4910, 4911, 4912, 4913, 4915, 4917, 4918, 4920, 4923, 4924, 4935, 4936, 4941, 4944, 4947, 4948, 5087, 5166, 5167, 5168, 5169, 5170, 5171, 5172, 5173, 5174, 5175, 5178, 5179, 5185, 5224, 5299, 5300, 5302, 5306, 5307, 5310, 5311, 5313, 5315, 5316, 5323, 5351, 5386, 5426, 5429, 5430, 5432, 5434, 5435, 5436, 5437, 5439, 5440, 5442, 5443, 5444, 5452, 5455, 5456, 5469, 5474, 5484, 5486, 5487, 5488, 5489, 5492, 5493, 5494, 5495, 5496, 5497, 5498, 5499, 5500, 5501, 5502, 5503, 5504, 5505, 5506, 5507, 5508, 5509, 5510, 5511, 5512, 5513, 5514, 5515, 5516, 5517, 5518, 5520, 5521, 5725, 5731, 5732, 5733, 5734, 5735, 5736, 5745, 5754, 5768, 5770, 5772, 5773, 5784, 5788, 5825, 5826, 5830, 5832, 5833, 5834, 5836, 5837, 5842, 5853, 5858, 5860, 5864, 5865, 5879, 5975, 5984, 6008, 6015, 6028, 6058, 6090, 6148, 6154, 6161, 6282, 6283, 6284, 6285, 6286, 6288, 6289, 6290, 6292, 6293, 6294, 6295, 6296, 6298, 6299, 6300, 6303, 6304, 6305, 6306, 6307, 6308, 6309, 6311, 6313, 6314, 6315, 6316, 6317, 6318, 6319, 6320, 6321, 6323, 6324, 6325, 6326, 6328, 6329, 6330, 6333, 6334, 6336, 6337, 6338, 6339, 6344, 6506, 6520, 6521, 6544, 6555, 6556, 6558, 6559, 6565, 6583, 6587, 6627, 6629, 6632, 6636, 6637, 6642, 6644, 6660, 6696, 6712, 6894, 7155, 7157, 7165, 7166, 7167, 7179, 7183, 7184, 7262, 7263, 7264, 7265, 7270, 7271, 7274, 7313, 7318, 7321, 7332, 7338, 7339, 7340, 7341, 7342, 7344, 7345, 7348, 7349, 7350, 7351, 7352, 7353, 7354, 7355, 7356, 7357, 7358, 7359, 7360, 7361, 7362, 7363, 7364, 7365, 7366, 7367, 7368, 7369, 7370, 7371, 7372, 7373, 7376, 7377, 7378, 7379, 7380, 7381, 7382, 7383, 7384, 7385, 7386, 7387, 7388, 7389, 7391, 7393, 7394, 7396, 7397, 7398, 7399, 7400, 7401, 7402, 7403, 7404, 7405, 7406, 7407, 7412, 7413, 7415, 7416, 7417, 7419, 7421, 7422, 7424, 7425, 7426, 7428, 7432, 7434, 7435, 7437, 7438, 7439, 7443, 7445, 7449, 7450, 7454, 7455, 7474, 7481, 7514, 7522, 7525, 7528, 7530, 7532, 7594, 7596, 7738, 7803, 7804, 7809, 7810, 7811, 7814, 7820, 7822, 7828, 7830, 7831, 7838, 7839, 7840, 7842, 7849, 7850, 7852, 7856, 7857, 7858, 7862, 7863, 7867, 7868, 7869, 7870, 7871, 7872, 7874, 7875, 7885, 7887, 7890, 7894, 7896, 7899, 7906, 7931, 7944, 8081, 8144, 8146, 8147, 8151, 8153, 8159, 8162, 8163, 8170, 8194, 8205, 8207, 8221, 8226, 8228, 8229, 8230, 8231, 8234, 8235, 8239, 8240, 8241, 8255, 8258, 8266, 8267, 8277, 8465, 8489, 8494, 8495, 8518, 8520, 8521, 8523, 8529, 8530, 8554, 8556, 8557, 8571, 8613, 8615, 8623, 8625, 8726, 8730, 8757, 8758, 8877, 8899, 8900, 8910, 8911, 8912, 8921, 8923, 8924, 8925, 8926, 8927, 8928, 8929, 8930, 8931, 8937, 8961, 8965, 8971, 8975, 8977, 8979, 8980, 8981, 8983, 8984, 8985, 8986, 8987, 8993, 8998, 8999, 9000, 9001, 9002, 9003, 9004, 9005, 9006, 9007, 9008, 9009, 9010, 9011, 9012, 9041, 9043, 9057, 9076, 9110, 9583, 9585, 9586, 9587, 9637, 9791, 9811, 9817, 9818, 9819, 9820, 9821, 9823, 9824, 9825, 9826, 9827, 9828, 9829, 9830, 9831, 9832, 9833, 9835, 9836, 9837, 9838, 9839, 9844, 9845, 9846, 9849, 9850, 9960, 9962, 9963, 9974, 9976, 9977, 9978, 9979, 9980, 9983, 9994, 10175, 10356, 10359, 10360, 10361, 10363, 10364, 10368, 10369, 10370, 10373, 10391, 10392, 10393, 10394, 10395, 10396, 10397, 10398, 10399, 10400, 10401, 10402, 10412, 10413, 10416, 10422, 10426, 10445, 10471, 10497, 10508, 10511, 10513, 10514, 10515, 10516, 10517, 10518, 10519, 10520, 10521, 10522, 10523, 10524, 10525, 10526, 10527, 10528, 10529, 10530, 10531, 10532, 10533, 10538, 10539, 10540, 10541, 10555, 10556, 10573, 10574, 10581, 10585, 10586, 10587, 10588, 10589, 10591, 10592, 10593, 10659, 10660, 10661, 10672, 10673, 10675, 10690, 10779, 10782, 10785, 10810, 10872, 10935, 10938, 11071, 11080, 11084, 11085, 11086, 11101, 11105, 11107, 11108, 11109, 11110, 11114, 11116, 11120, 11121, 11122, 11123, 11140, 11141, 11143, 11156, 11157, 11158, 11162, 11164, 11165, 11256, 11263, 11276, 11277, 11285, 11293, 11519, 11520, 11521, 11527, 11538, 11539, 11544, 11571, 11577, 11587, 11588, 11589, 11595, 11598, 11601, 11625, 11627, 11632, 11633, 11635, 11636, 11639, 11656, 11657, 11660, 11662, 11663, 11664, 11729, 11778, 11856, 11858, 11909, 11911, 11927, 11940, 11941, 11953, 11959, 11990, 11999, 12002, 12010, 12096, 12211, 12212, 12214, 12218, 12219, 12220, 12228, 12259, 12265, 12282, 12283, 12284, 12285, 12290, 12310, 12311, 12326, 12338, 12398, 12399, 12406, 12407, 12409, 12410, 12411, 12412, 12413, 12414, 12415, 12417, 12418, 12419, 12422, 12424, 12428, 12430, 12431, 12432, 12433, 12434, 12435, 12436, 12437, 12438, 12439, 12440, 12441, 12442, 12443, 12444, 12445, 12446, 12448, 12449, 12450, 12454, 12455, 12492, 12495, 12496, 12503, 12504, 12506, 12508, 12516, 12517, 12518, 12531, 12571, 12575, 12576, 12579, 12593, 12601, 12615, 12626, 12627, 12633, 12645, 12647, 12650, 12655, 12660, 12668, 12684, 12698, 12709, 12714, 12719, 12720, 12725, 12733, 12739, 12755, 12756, 12757, 12814, 12853, 13028, 13029, 13057, 13081, 13083, 13084, 13085, 13086, 13087, 13088, 13089, 13090, 13091, 13092, 13093, 13094, 13095, 13097, 13099, 13107, 13108, 13109, 13110, 13112, 13120, 13121, 13123, 13125, 13126, 13130, 13132, 13133, 13134, 13135, 13136, 13137, 13138, 13139, 13140, 13141, 13142, 13145, 13146, 13147, 13148, 13149, 13150, 13152, 13157, 13158, 13162, 13165, 13166, 13167, 13169, 13170, 13171, 13172, 13173, 13174, 13175, 13176, 13185, 13188, 13189, 13191, 13193, 13194, 13195, 13196, 13197, 13198, 13199, 13207, 13236, 13241, 13244, 13253, 13256, 13258, 13259, 13260, 13261, 13262, 13264, 13267, 13268, 13270, 13277, 13280, 13288, 13290, 13299, 13304, 13305, 13306, 13307, 13313, 13319, 13321, 13322, 13325, 13333, 13334, 13337, 13342, 13347, 13375, 13381, 13603, 13644, 13645, 13646, 13652, 13653, 13655, 13665, 13779, 13780, 13782, 13783, 13784, 13785, 13786, 13787, 13788, 13789, 13846, 14035, 14058, 14065, 14067, 14068, 14131, 14146, 14148, 14155, 14157, 14158, 14210, 14223, 14230, 14234, 14241, 14246, 14249, 14318, 14345, 14350, 14355, 14357, 14360, 14361, 14363, 14367, 14369, 14373, 14386, 14387, 14391, 14392, 14393, 14394, 14395, 14405, 14407, 14411, 14412, 14415, 14416, 14417, 14418, 14419, 14420, 14421, 14423, 14424, 14425, 14426, 14427, 14429, 14430, 14431, 14434, 14436, 14437, 14438, 14439, 14440, 14441, 14442, 14443, 14444, 14445, 14446, 14447, 14448, 14449, 14450, 14451, 14455, 14457, 14458, 14459, 14460, 14461, 14462, 14463, 14464, 14465, 14466, 14467, 14468, 14469, 14470, 14471, 14472, 14473, 14474, 14475, 14476, 14477, 14478, 14479, 14480, 14481, 14482, 14483, 14484, 14485, 14486, 14487, 14489, 14499, 14500, 14501, 14502, 14503, 14504, 14517, 14521, 14538, 14542, 14543, 14544, 14545, 14546, 14547, 14737, 14753, 14759, 14760, 14762, 14769, 14773, 14774, 14783, 14789, 14791, 14803, 14807, 14818, 14826, 14829, 14834, 14842, 14872, 14885, 14894, 14895, 14896, 15116, 15130, 15276, 15278, 15279, 15280, 15282, 15283, 15284, 15291, 15292, 15323, 15406, 15407, 15408, 15410, 15411, 15412, 15415, 15423, 15425, 15473, 15499, 15534, 15535, 15539, 15540, 15587, 15593, 15598, 15627, 15652, 15661, 15662, 15677, 15701, 15706, 15709, 15711, 15712, 15717, 15718, 15719, 15721, 15741, 15742, 15743, 15750, 15755, 15759, 15760, 15761, 15762, 15767, 15787, 15791, 15794, 15795, 15799, 15805, 15806, 15807, 16005, 16006, 16007, 16008, 16009, 16010, 16011, 16013, 16014, 16016, 16017, 16018, 16019, 16020, 16021, 16022, 16023, 16024, 16025, 16027, 16028, 16035, 16036, 16038, 16039, 16040, 16041, 16042, 16043, 16044, 16045, 16046, 16047, 16048, 16049, 16050, 16058, 16060, 16061, 16062, 16065, 16067, 16068, 16069, 16070, 16071, 16072, 16073, 16074, 16075, 16076, 16078, 16080, 16081, 16082, 16083, 16084, 16085, 16086, 16087, 16088, 16090, 16091, 16092, 16093, 16094, 16096, 16097, 16098, 16099, 16100, 16101, 16103, 16104, 16105, 16106, 16107, 16108, 16109, 16110, 16111, 16112, 16113, 16114, 16115, 16116, 16117, 16118, 16119, 16120, 16121, 16122, 16124, 16125, 16126, 16127, 16128, 16129, 16130, 16131, 16132, 16133, 16134, 16135, 16136, 16137, 16138, 16139, 16140, 16141, 16142, 16143, 16144, 16145, 16146, 16147, 16148, 16149, 16150, 16152, 16155, 16156, 16157, 16158, 16160, 16175, 16180, 16183, 16184, 16185, 16186, 16187, 16188, 16190, 16191, 16192, 16193, 16235, 16243, 16249, 16290, 16292, 16295, 16296, 16297, 16298, 16299, 16300, 16301, 16302, 16303, 16329, 16330, 16331, 16332, 16336, 16351, 16383, 16384, 16387, 16393, 16399, 16428, 16429, 16443, 16448, 16451, 16452, 16453, 16454, 16480, 16481, 16482, 16516, 16538, 16539, 16540, 16541, 16542, 16576, 16581, 16606, 16612, 16628, 16651, 16652, 16653, 16654, 16655, 16656, 16660, 16666, 16671, 16672, 16673, 16674, 16675, 16676, 16677, 16678, 16681, 16684, 16702, 16703, 16704, 16705, 16706, 16707, 16708, 16709, 16710, 16711, 16712, 16713, 16714, 16715, 16718, 16719, 16720, 16721, 16722, 16724, 16725, 16726, 16727, 16728, 16730, 16731, 16733, 16734, 16735, 16925, 16928, 16929, 16930, 16932, 16933, 16936, 16937, 16938, 16940, 16943, 16944, 16945, 16958, 16959, 16960, 16961, 16962, 16965, 16966, 16967, 16968, 16969, 16970, 16971, 16972, 16976, 16977, 16981, 16992, 16993, 16995, 16996, 17001, 17002, 17003, 17004, 17005, 17006, 17007, 17008, 17010, 17012, 17013, 17015, 17017, 17028, 17030, 17040, 17042, 17043, 17044, 17045, 17060, 17062, 17081, 17666, 18090, 18094, 18100, 18102, 18103, 18104, 18105, 18108, 18110, 18111, 18112, 18114, 18115, 18116, 18117, 18119, 18120, 18121, 18125, 18129, 18133, 18142, 18144, 18145, 18146, 18151, 18152, 18154, 18157, 18160, 18161, 18163, 18164, 18165, 18166, 18167, 18168, 18171, 18174, 18175, 18177, 18179, 18180, 18182, 18184, 18186, 18187, 18188, 18189, 18190, 18191, 18192, 18193, 18195, 18196, 18197, 18201, 18202, 18206, 18220, 18222, 18223, 18224, 18226, 18227, 18229]\n",
            " 1    16084\n",
            "-1     2194\n",
            "Name: anomaly, dtype: int64\n"
          ],
          "name": "stdout"
        }
      ]
    },
    {
      "cell_type": "code",
      "metadata": {
        "colab": {
          "base_uri": "https://localhost:8080/",
          "height": 281
        },
        "id": "k_26CGxe_g9P",
        "outputId": "c1b7beb5-e87a-4179-e443-601bce301ebb"
      },
      "source": [
        "from sklearn.decomposition import PCA\n",
        "pca = PCA(2)\n",
        "pca.fit(df_emocoes)\n",
        "res=pd.DataFrame(pca.transform(df_emocoes))\n",
        "Z = np.array(res)\n",
        "plt.title(\"IsolationForest\")\n",
        "plt.contourf( Z, cmap=plt.cm.Blues_r)\n",
        "b1 = plt.scatter(res[0], res[1], c='green', s=20,label=\"normal points\")\n",
        "b1 =plt.scatter(res.iloc[outlier_index,0],res.iloc[outlier_index,1], c='green',s=20,  edgecolor=\"red\",label=\"predicted outliers\")\n",
        "plt.legend(loc=\"upper right\")\n",
        "plt.show()"
      ],
      "execution_count": null,
      "outputs": [
        {
          "output_type": "display_data",
          "data": {
            "image/png": "[encoded data removed]",
            "text/plain": [
              "<Figure size 432x288 with 1 Axes>"
            ]
          },
          "metadata": {
            "tags": [],
            "needs_background": "light"
          }
        }
      ]
    },
    {
      "cell_type": "code",
      "metadata": {
        "colab": {
          "base_uri": "https://localhost:8080/",
          "height": 248
        },
        "id": "T9nOn40EArDG",
        "outputId": "577ee6be-2978-4e44-c55e-6acd769ceb35"
      },
      "source": [
        "import matplotlib.pyplot as plt\n",
        "from sklearn.decomposition import PCA\n",
        "from sklearn.preprocessing import StandardScaler\n",
        "from mpl_toolkits.mplot3d import Axes3D\n",
        "pca = PCA(n_components=3)  # Reduce to k=3 dimensions\n",
        "scaler = StandardScaler()\n",
        "#normalize the metrics\n",
        "X = scaler.fit_transform(df_emocoes)\n",
        "X_reduce = pca.fit_transform(X)\n",
        "fig = plt.figure()\n",
        "ax = fig.add_subplot(111, projection='3d')\n",
        "ax.set_zlabel(\"x_composite_3\")# Plot the compressed data points\n",
        "ax.scatter(X_reduce[:, 0], X_reduce[:, 1], zs=X_reduce[:, 2], s=4, lw=1, label=\"inliers\",c=\"green\")# Plot x's for the ground truth outliers\n",
        "ax.scatter(X_reduce[outlier_index,0],X_reduce[outlier_index,1], X_reduce[outlier_index,2],\n",
        "           lw=2, s=60, marker=\"x\", c=\"red\", label=\"outliers\")\n",
        "ax.legend()\n",
        "plt.show()"
      ],
      "execution_count": null,
      "outputs": [
        {
          "output_type": "display_data",
          "data": {
            "image/png": "[encoded data removed]",
            "text/plain": [
              "<Figure size 432x288 with 1 Axes>"
            ]
          },
          "metadata": {
            "tags": [],
            "needs_background": "light"
          }
        }
      ]
    }
  ]
}