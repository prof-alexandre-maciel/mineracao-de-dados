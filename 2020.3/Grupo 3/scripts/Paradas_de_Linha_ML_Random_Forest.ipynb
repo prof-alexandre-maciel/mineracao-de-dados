{
  "nbformat": 4,
  "nbformat_minor": 0,
  "metadata": {
    "colab": {
      "name": "Paradas de Linha - ML.ipynb",
      "provenance": [],
      "collapsed_sections": [
        "_fO7GMnWibIK",
        "6zpTFmT-pggN"
      ],
      "toc_visible": true
    },
    "kernelspec": {
      "name": "python3",
      "display_name": "Python 3"
    }
  },
  "cells": [
    {
      "cell_type": "markdown",
      "metadata": {
        "id": "SEzLnaHeeJtZ"
      },
      "source": [
        "# **Preprocessing**"
      ]
    },
    {
      "cell_type": "code",
      "metadata": {
        "id": "Xcbr08NVcFte"
      },
      "source": [
        "import pandas as pd, matplotlib.pyplot as plt\n",
        "%matplotlib inline"
      ],
      "execution_count": null,
      "outputs": []
    },
    {
      "cell_type": "code",
      "metadata": {
        "id": "IaRo5CJGcLiN"
      },
      "source": [
        "# Escolher o caminho onde a base está disponível.\n",
        "paradas_de_linha = pd.read_excel(\"/content/drive/My Drive/TEAMALERT_2020.xlsx\")"
      ],
      "execution_count": null,
      "outputs": []
    },
    {
      "cell_type": "code",
      "metadata": {
        "id": "kW7Jm0KncNHL",
        "colab": {
          "base_uri": "https://localhost:8080/",
          "height": 313
        },
        "outputId": "c3daa74b-d966-4b21-e6d8-f982c8535bea"
      },
      "source": [
        "paradas_de_linha.head()"
      ],
      "execution_count": null,
      "outputs": [
        {
          "output_type": "execute_result",
          "data": {
            "text/html": [
              "<div>\n",
              "<style scoped>\n",
              "    .dataframe tbody tr th:only-of-type {\n",
              "        vertical-align: middle;\n",
              "    }\n",
              "\n",
              "    .dataframe tbody tr th {\n",
              "        vertical-align: top;\n",
              "    }\n",
              "\n",
              "    .dataframe thead th {\n",
              "        text-align: right;\n",
              "    }\n",
              "</style>\n",
              "<table border=\"1\" class=\"dataframe\">\n",
              "  <thead>\n",
              "    <tr style=\"text-align: right;\">\n",
              "      <th></th>\n",
              "      <th>ProductionOrderId</th>\n",
              "      <th>CallStartTime</th>\n",
              "      <th>CallEndTime</th>\n",
              "      <th>Time_DIFF</th>\n",
              "      <th>StopLineStartTime</th>\n",
              "      <th>StopLineEndTime</th>\n",
              "      <th>ProductionDate</th>\n",
              "      <th>StopButtonStartTime</th>\n",
              "      <th>StopButtonEndTime</th>\n",
              "      <th>StopLineCommandTime</th>\n",
              "      <th>Workplace</th>\n",
              "      <th>Type_BIN</th>\n",
              "      <th>Type</th>\n",
              "      <th>Operation</th>\n",
              "    </tr>\n",
              "  </thead>\n",
              "  <tbody>\n",
              "    <tr>\n",
              "      <th>0</th>\n",
              "      <td>9701621</td>\n",
              "      <td>2020-01-18 13:09:21.110</td>\n",
              "      <td>2020-01-18 13:09:26.903</td>\n",
              "      <td>00:00:05.793000</td>\n",
              "      <td>2020-01-18 13:09:21.110</td>\n",
              "      <td>2020-01-18 13:09:26.903</td>\n",
              "      <td>2020-01-18 13:09:21.110</td>\n",
              "      <td>2020-01-18 13:09:21.110</td>\n",
              "      <td>2020-01-18 13:09:26.903</td>\n",
              "      <td>2020-01-18 13:09:21.110</td>\n",
              "      <td>WPB_S020_3_LDA001</td>\n",
              "      <td>1</td>\n",
              "      <td>fail</td>\n",
              "      <td>QCE_DEL.LDA1020_090</td>\n",
              "    </tr>\n",
              "    <tr>\n",
              "      <th>1</th>\n",
              "      <td>9701621</td>\n",
              "      <td>2020-01-20 05:11:51.987</td>\n",
              "      <td>2020-01-20 05:11:53.980</td>\n",
              "      <td>00:00:01.993000</td>\n",
              "      <td>2020-01-20 05:11:51.987</td>\n",
              "      <td>2020-01-20 05:11:53.980</td>\n",
              "      <td>2020-01-20 05:11:51.987</td>\n",
              "      <td>2020-01-20 05:11:51.987</td>\n",
              "      <td>2020-01-20 05:11:53.980</td>\n",
              "      <td>2020-01-20 05:11:51.987</td>\n",
              "      <td>WPA_S005_0_TL1001</td>\n",
              "      <td>1</td>\n",
              "      <td>fail</td>\n",
              "      <td>TRA_X08459_000.1</td>\n",
              "    </tr>\n",
              "    <tr>\n",
              "      <th>2</th>\n",
              "      <td>9701621</td>\n",
              "      <td>2020-01-20 05:11:56.570</td>\n",
              "      <td>2020-01-20 05:14:00.203</td>\n",
              "      <td>00:02:03.633000</td>\n",
              "      <td>2020-01-20 05:11:56.570</td>\n",
              "      <td>2020-01-20 05:14:00.203</td>\n",
              "      <td>2020-01-20 05:11:56.570</td>\n",
              "      <td>2020-01-20 05:11:56.570</td>\n",
              "      <td>2020-01-20 05:14:00.203</td>\n",
              "      <td>2020-01-20 05:11:56.570</td>\n",
              "      <td>WPA_S005_0_TL1001</td>\n",
              "      <td>0</td>\n",
              "      <td>operator</td>\n",
              "      <td>operator</td>\n",
              "    </tr>\n",
              "    <tr>\n",
              "      <th>3</th>\n",
              "      <td>9701621</td>\n",
              "      <td>2020-01-20 05:14:02.933</td>\n",
              "      <td>2020-01-20 05:14:47.323</td>\n",
              "      <td>00:00:44.390000</td>\n",
              "      <td>2020-01-20 05:14:02.933</td>\n",
              "      <td>2020-01-20 05:14:47.323</td>\n",
              "      <td>2020-01-20 05:14:02.933</td>\n",
              "      <td>2020-01-20 05:14:02.933</td>\n",
              "      <td>2020-01-20 05:14:47.323</td>\n",
              "      <td>2020-01-20 05:14:02.933</td>\n",
              "      <td>WPA_S005_0_TL1001</td>\n",
              "      <td>0</td>\n",
              "      <td>operator</td>\n",
              "      <td>operator</td>\n",
              "    </tr>\n",
              "    <tr>\n",
              "      <th>4</th>\n",
              "      <td>9701621</td>\n",
              "      <td>2020-01-20 06:29:43.377</td>\n",
              "      <td>2020-01-20 06:29:48.457</td>\n",
              "      <td>00:00:05.080000</td>\n",
              "      <td>2020-01-20 06:29:43.377</td>\n",
              "      <td>2020-01-20 06:29:48.457</td>\n",
              "      <td>2020-01-20 06:29:43.377</td>\n",
              "      <td>2020-01-20 06:29:43.377</td>\n",
              "      <td>2020-01-20 06:29:48.457</td>\n",
              "      <td>2020-01-20 06:29:43.377</td>\n",
              "      <td>WPA_SQ01_3_AGF002</td>\n",
              "      <td>1</td>\n",
              "      <td>fail</td>\n",
              "      <td>PCE_RASTR.MOTOR_000</td>\n",
              "    </tr>\n",
              "  </tbody>\n",
              "</table>\n",
              "</div>"
            ],
            "text/plain": [
              "   ProductionOrderId            CallStartTime  ...      Type            Operation\n",
              "0            9701621  2020-01-18 13:09:21.110  ...      fail  QCE_DEL.LDA1020_090\n",
              "1            9701621  2020-01-20 05:11:51.987  ...      fail     TRA_X08459_000.1\n",
              "2            9701621  2020-01-20 05:11:56.570  ...  operator             operator\n",
              "3            9701621  2020-01-20 05:14:02.933  ...  operator             operator\n",
              "4            9701621  2020-01-20 06:29:43.377  ...      fail  PCE_RASTR.MOTOR_000\n",
              "\n",
              "[5 rows x 14 columns]"
            ]
          },
          "metadata": {
            "tags": []
          },
          "execution_count": 67
        }
      ]
    },
    {
      "cell_type": "code",
      "metadata": {
        "id": "DC92nLpZccJN",
        "colab": {
          "base_uri": "https://localhost:8080/"
        },
        "outputId": "2b289646-3e2e-4c2b-8e2f-8fddebabd1f7"
      },
      "source": [
        "paradas_de_linha.info()"
      ],
      "execution_count": null,
      "outputs": [
        {
          "output_type": "stream",
          "text": [
            "<class 'pandas.core.frame.DataFrame'>\n",
            "RangeIndex: 579237 entries, 0 to 579236\n",
            "Data columns (total 14 columns):\n",
            " #   Column               Non-Null Count   Dtype \n",
            "---  ------               --------------   ----- \n",
            " 0   ProductionOrderId    579237 non-null  int64 \n",
            " 1   CallStartTime        579237 non-null  object\n",
            " 2   CallEndTime          579085 non-null  object\n",
            " 3   Time_DIFF            579085 non-null  object\n",
            " 4   StopLineStartTime    579237 non-null  object\n",
            " 5   StopLineEndTime      579085 non-null  object\n",
            " 6   ProductionDate       579237 non-null  object\n",
            " 7   StopButtonStartTime  579237 non-null  object\n",
            " 8   StopButtonEndTime    579085 non-null  object\n",
            " 9   StopLineCommandTime  579237 non-null  object\n",
            " 10  Workplace            579237 non-null  object\n",
            " 11  Type_BIN             579237 non-null  int64 \n",
            " 12  Type                 579237 non-null  object\n",
            " 13  Operation            579237 non-null  object\n",
            "dtypes: int64(2), object(12)\n",
            "memory usage: 61.9+ MB\n"
          ],
          "name": "stdout"
        }
      ]
    },
    {
      "cell_type": "code",
      "metadata": {
        "id": "Anyws_gCcc-5",
        "colab": {
          "base_uri": "https://localhost:8080/"
        },
        "outputId": "3d8e3acc-2d3b-4a97-d070-fe95998e2112"
      },
      "source": [
        "paradas_de_linha.isnull().sum()"
      ],
      "execution_count": null,
      "outputs": [
        {
          "output_type": "execute_result",
          "data": {
            "text/plain": [
              "ProductionOrderId        0\n",
              "CallStartTime            0\n",
              "CallEndTime            152\n",
              "Time_DIFF              152\n",
              "StopLineStartTime        0\n",
              "StopLineEndTime        152\n",
              "ProductionDate           0\n",
              "StopButtonStartTime      0\n",
              "StopButtonEndTime      152\n",
              "StopLineCommandTime      0\n",
              "Workplace                0\n",
              "Type_BIN                 0\n",
              "Type                     0\n",
              "Operation                0\n",
              "dtype: int64"
            ]
          },
          "metadata": {
            "tags": []
          },
          "execution_count": 69
        }
      ]
    },
    {
      "cell_type": "code",
      "metadata": {
        "id": "JOCDHr7gclb_",
        "colab": {
          "base_uri": "https://localhost:8080/"
        },
        "outputId": "16478f12-5adf-44f8-9c5c-bd9d48e42547"
      },
      "source": [
        "print(paradas_de_linha.columns)\n",
        "print(len(paradas_de_linha))\n",
        "\n",
        "#paradas_de_linha.dropna(inplace=True)\n",
        "#paradas_de_linha = paradas_de_linha.drop(['StopLineStartTime', 'StopLineEndTime', 'StopButtonStartTime', 'StopButtonEndTime'], axis=1)\n",
        "\n",
        "# Abaixo, remover todas as colunas que não precisam ser mais utilizadas nesse momento, como Type, StopLineStartTime, StopLineEndTime, StopButtonStartTime...\n",
        "paradas_de_linha = paradas_de_linha.drop(columns=['Type', 'StopLineStartTime', 'StopLineEndTime', 'StopButtonStartTime', 'StopButtonEndTime', 'StopLineCommandTime', 'ProductionDate'])\n",
        "\n",
        "print(paradas_de_linha.columns)\n",
        "print(len(paradas_de_linha))"
      ],
      "execution_count": null,
      "outputs": [
        {
          "output_type": "stream",
          "text": [
            "Index(['ProductionOrderId', 'CallStartTime', 'CallEndTime', 'Time_DIFF',\n",
            "       'StopLineStartTime', 'StopLineEndTime', 'ProductionDate',\n",
            "       'StopButtonStartTime', 'StopButtonEndTime', 'StopLineCommandTime',\n",
            "       'Workplace', 'Type_BIN', 'Type', 'Operation'],\n",
            "      dtype='object')\n",
            "579237\n",
            "Index(['ProductionOrderId', 'CallStartTime', 'CallEndTime', 'Time_DIFF',\n",
            "       'Workplace', 'Type_BIN', 'Operation'],\n",
            "      dtype='object')\n",
            "579237\n"
          ],
          "name": "stdout"
        }
      ]
    },
    {
      "cell_type": "code",
      "metadata": {
        "id": "8n5jzJQJcqa3",
        "colab": {
          "base_uri": "https://localhost:8080/",
          "height": 300
        },
        "outputId": "a40b8079-5ff6-4ad7-9e54-0b48549926dd"
      },
      "source": [
        "paradas_de_linha.describe()"
      ],
      "execution_count": null,
      "outputs": [
        {
          "output_type": "execute_result",
          "data": {
            "text/html": [
              "<div>\n",
              "<style scoped>\n",
              "    .dataframe tbody tr th:only-of-type {\n",
              "        vertical-align: middle;\n",
              "    }\n",
              "\n",
              "    .dataframe tbody tr th {\n",
              "        vertical-align: top;\n",
              "    }\n",
              "\n",
              "    .dataframe thead th {\n",
              "        text-align: right;\n",
              "    }\n",
              "</style>\n",
              "<table border=\"1\" class=\"dataframe\">\n",
              "  <thead>\n",
              "    <tr style=\"text-align: right;\">\n",
              "      <th></th>\n",
              "      <th>ProductionOrderId</th>\n",
              "      <th>Type_BIN</th>\n",
              "    </tr>\n",
              "  </thead>\n",
              "  <tbody>\n",
              "    <tr>\n",
              "      <th>count</th>\n",
              "      <td>5.792370e+05</td>\n",
              "      <td>579237.000000</td>\n",
              "    </tr>\n",
              "    <tr>\n",
              "      <th>mean</th>\n",
              "      <td>9.771130e+06</td>\n",
              "      <td>0.852996</td>\n",
              "    </tr>\n",
              "    <tr>\n",
              "      <th>std</th>\n",
              "      <td>2.175692e+04</td>\n",
              "      <td>0.354110</td>\n",
              "    </tr>\n",
              "    <tr>\n",
              "      <th>min</th>\n",
              "      <td>9.514531e+06</td>\n",
              "      <td>0.000000</td>\n",
              "    </tr>\n",
              "    <tr>\n",
              "      <th>25%</th>\n",
              "      <td>9.753060e+06</td>\n",
              "      <td>1.000000</td>\n",
              "    </tr>\n",
              "    <tr>\n",
              "      <th>50%</th>\n",
              "      <td>9.770454e+06</td>\n",
              "      <td>1.000000</td>\n",
              "    </tr>\n",
              "    <tr>\n",
              "      <th>75%</th>\n",
              "      <td>9.788317e+06</td>\n",
              "      <td>1.000000</td>\n",
              "    </tr>\n",
              "    <tr>\n",
              "      <th>max</th>\n",
              "      <td>9.819169e+06</td>\n",
              "      <td>1.000000</td>\n",
              "    </tr>\n",
              "  </tbody>\n",
              "</table>\n",
              "</div>"
            ],
            "text/plain": [
              "       ProductionOrderId       Type_BIN\n",
              "count       5.792370e+05  579237.000000\n",
              "mean        9.771130e+06       0.852996\n",
              "std         2.175692e+04       0.354110\n",
              "min         9.514531e+06       0.000000\n",
              "25%         9.753060e+06       1.000000\n",
              "50%         9.770454e+06       1.000000\n",
              "75%         9.788317e+06       1.000000\n",
              "max         9.819169e+06       1.000000"
            ]
          },
          "metadata": {
            "tags": []
          },
          "execution_count": 71
        }
      ]
    },
    {
      "cell_type": "code",
      "metadata": {
        "id": "EISGhqXIcr5h",
        "colab": {
          "base_uri": "https://localhost:8080/",
          "height": 206
        },
        "outputId": "04064b57-c072-4007-d00c-9f394a9f1a5b"
      },
      "source": [
        "paradas_de_linha.head()"
      ],
      "execution_count": null,
      "outputs": [
        {
          "output_type": "execute_result",
          "data": {
            "text/html": [
              "<div>\n",
              "<style scoped>\n",
              "    .dataframe tbody tr th:only-of-type {\n",
              "        vertical-align: middle;\n",
              "    }\n",
              "\n",
              "    .dataframe tbody tr th {\n",
              "        vertical-align: top;\n",
              "    }\n",
              "\n",
              "    .dataframe thead th {\n",
              "        text-align: right;\n",
              "    }\n",
              "</style>\n",
              "<table border=\"1\" class=\"dataframe\">\n",
              "  <thead>\n",
              "    <tr style=\"text-align: right;\">\n",
              "      <th></th>\n",
              "      <th>ProductionOrderId</th>\n",
              "      <th>CallStartTime</th>\n",
              "      <th>CallEndTime</th>\n",
              "      <th>Time_DIFF</th>\n",
              "      <th>Workplace</th>\n",
              "      <th>Type_BIN</th>\n",
              "      <th>Operation</th>\n",
              "    </tr>\n",
              "  </thead>\n",
              "  <tbody>\n",
              "    <tr>\n",
              "      <th>0</th>\n",
              "      <td>9701621</td>\n",
              "      <td>2020-01-18 13:09:21.110</td>\n",
              "      <td>2020-01-18 13:09:26.903</td>\n",
              "      <td>00:00:05.793000</td>\n",
              "      <td>WPB_S020_3_LDA001</td>\n",
              "      <td>1</td>\n",
              "      <td>QCE_DEL.LDA1020_090</td>\n",
              "    </tr>\n",
              "    <tr>\n",
              "      <th>1</th>\n",
              "      <td>9701621</td>\n",
              "      <td>2020-01-20 05:11:51.987</td>\n",
              "      <td>2020-01-20 05:11:53.980</td>\n",
              "      <td>00:00:01.993000</td>\n",
              "      <td>WPA_S005_0_TL1001</td>\n",
              "      <td>1</td>\n",
              "      <td>TRA_X08459_000.1</td>\n",
              "    </tr>\n",
              "    <tr>\n",
              "      <th>2</th>\n",
              "      <td>9701621</td>\n",
              "      <td>2020-01-20 05:11:56.570</td>\n",
              "      <td>2020-01-20 05:14:00.203</td>\n",
              "      <td>00:02:03.633000</td>\n",
              "      <td>WPA_S005_0_TL1001</td>\n",
              "      <td>0</td>\n",
              "      <td>operator</td>\n",
              "    </tr>\n",
              "    <tr>\n",
              "      <th>3</th>\n",
              "      <td>9701621</td>\n",
              "      <td>2020-01-20 05:14:02.933</td>\n",
              "      <td>2020-01-20 05:14:47.323</td>\n",
              "      <td>00:00:44.390000</td>\n",
              "      <td>WPA_S005_0_TL1001</td>\n",
              "      <td>0</td>\n",
              "      <td>operator</td>\n",
              "    </tr>\n",
              "    <tr>\n",
              "      <th>4</th>\n",
              "      <td>9701621</td>\n",
              "      <td>2020-01-20 06:29:43.377</td>\n",
              "      <td>2020-01-20 06:29:48.457</td>\n",
              "      <td>00:00:05.080000</td>\n",
              "      <td>WPA_SQ01_3_AGF002</td>\n",
              "      <td>1</td>\n",
              "      <td>PCE_RASTR.MOTOR_000</td>\n",
              "    </tr>\n",
              "  </tbody>\n",
              "</table>\n",
              "</div>"
            ],
            "text/plain": [
              "   ProductionOrderId            CallStartTime  ... Type_BIN            Operation\n",
              "0            9701621  2020-01-18 13:09:21.110  ...        1  QCE_DEL.LDA1020_090\n",
              "1            9701621  2020-01-20 05:11:51.987  ...        1     TRA_X08459_000.1\n",
              "2            9701621  2020-01-20 05:11:56.570  ...        0             operator\n",
              "3            9701621  2020-01-20 05:14:02.933  ...        0             operator\n",
              "4            9701621  2020-01-20 06:29:43.377  ...        1  PCE_RASTR.MOTOR_000\n",
              "\n",
              "[5 rows x 7 columns]"
            ]
          },
          "metadata": {
            "tags": []
          },
          "execution_count": 72
        }
      ]
    },
    {
      "cell_type": "code",
      "metadata": {
        "id": "7cAwAZt6ctzu",
        "colab": {
          "base_uri": "https://localhost:8080/",
          "height": 293
        },
        "outputId": "bb6a9c36-e341-49a9-d818-689a00009fd6"
      },
      "source": [
        "# label encoding\n",
        "\n",
        "from sklearn import preprocessing\n",
        "\n",
        "labelEncoder = preprocessing.LabelEncoder()\n",
        "\n",
        "paradas_de_linha['Workplace_Category'] = labelEncoder.fit_transform(paradas_de_linha['Workplace'])\n",
        "paradas_de_linha['Operation_Category'] = labelEncoder.fit_transform(paradas_de_linha['Operation'])\n",
        "\n",
        "paradas_de_linha.head()"
      ],
      "execution_count": null,
      "outputs": [
        {
          "output_type": "execute_result",
          "data": {
            "text/html": [
              "<div>\n",
              "<style scoped>\n",
              "    .dataframe tbody tr th:only-of-type {\n",
              "        vertical-align: middle;\n",
              "    }\n",
              "\n",
              "    .dataframe tbody tr th {\n",
              "        vertical-align: top;\n",
              "    }\n",
              "\n",
              "    .dataframe thead th {\n",
              "        text-align: right;\n",
              "    }\n",
              "</style>\n",
              "<table border=\"1\" class=\"dataframe\">\n",
              "  <thead>\n",
              "    <tr style=\"text-align: right;\">\n",
              "      <th></th>\n",
              "      <th>ProductionOrderId</th>\n",
              "      <th>CallStartTime</th>\n",
              "      <th>CallEndTime</th>\n",
              "      <th>Time_DIFF</th>\n",
              "      <th>Workplace</th>\n",
              "      <th>Type_BIN</th>\n",
              "      <th>Operation</th>\n",
              "      <th>Workplace_Category</th>\n",
              "      <th>Operation_Category</th>\n",
              "    </tr>\n",
              "  </thead>\n",
              "  <tbody>\n",
              "    <tr>\n",
              "      <th>0</th>\n",
              "      <td>9701621</td>\n",
              "      <td>2020-01-18 13:09:21.110</td>\n",
              "      <td>2020-01-18 13:09:26.903</td>\n",
              "      <td>00:00:05.793000</td>\n",
              "      <td>WPB_S020_3_LDA001</td>\n",
              "      <td>1</td>\n",
              "      <td>QCE_DEL.LDA1020_090</td>\n",
              "      <td>338</td>\n",
              "      <td>512</td>\n",
              "    </tr>\n",
              "    <tr>\n",
              "      <th>1</th>\n",
              "      <td>9701621</td>\n",
              "      <td>2020-01-20 05:11:51.987</td>\n",
              "      <td>2020-01-20 05:11:53.980</td>\n",
              "      <td>00:00:01.993000</td>\n",
              "      <td>WPA_S005_0_TL1001</td>\n",
              "      <td>1</td>\n",
              "      <td>TRA_X08459_000.1</td>\n",
              "      <td>22</td>\n",
              "      <td>1353</td>\n",
              "    </tr>\n",
              "    <tr>\n",
              "      <th>2</th>\n",
              "      <td>9701621</td>\n",
              "      <td>2020-01-20 05:11:56.570</td>\n",
              "      <td>2020-01-20 05:14:00.203</td>\n",
              "      <td>00:02:03.633000</td>\n",
              "      <td>WPA_S005_0_TL1001</td>\n",
              "      <td>0</td>\n",
              "      <td>operator</td>\n",
              "      <td>22</td>\n",
              "      <td>1601</td>\n",
              "    </tr>\n",
              "    <tr>\n",
              "      <th>3</th>\n",
              "      <td>9701621</td>\n",
              "      <td>2020-01-20 05:14:02.933</td>\n",
              "      <td>2020-01-20 05:14:47.323</td>\n",
              "      <td>00:00:44.390000</td>\n",
              "      <td>WPA_S005_0_TL1001</td>\n",
              "      <td>0</td>\n",
              "      <td>operator</td>\n",
              "      <td>22</td>\n",
              "      <td>1601</td>\n",
              "    </tr>\n",
              "    <tr>\n",
              "      <th>4</th>\n",
              "      <td>9701621</td>\n",
              "      <td>2020-01-20 06:29:43.377</td>\n",
              "      <td>2020-01-20 06:29:48.457</td>\n",
              "      <td>00:00:05.080000</td>\n",
              "      <td>WPA_SQ01_3_AGF002</td>\n",
              "      <td>1</td>\n",
              "      <td>PCE_RASTR.MOTOR_000</td>\n",
              "      <td>287</td>\n",
              "      <td>394</td>\n",
              "    </tr>\n",
              "  </tbody>\n",
              "</table>\n",
              "</div>"
            ],
            "text/plain": [
              "   ProductionOrderId  ... Operation_Category\n",
              "0            9701621  ...                512\n",
              "1            9701621  ...               1353\n",
              "2            9701621  ...               1601\n",
              "3            9701621  ...               1601\n",
              "4            9701621  ...                394\n",
              "\n",
              "[5 rows x 9 columns]"
            ]
          },
          "metadata": {
            "tags": []
          },
          "execution_count": 73
        }
      ]
    },
    {
      "cell_type": "code",
      "metadata": {
        "id": "T-2c42bncy2A",
        "colab": {
          "base_uri": "https://localhost:8080/",
          "height": 35
        },
        "outputId": "6f0acbc3-6d5c-417d-ef16-405aed051b66"
      },
      "source": [
        "# One hot encoder\n",
        "\n",
        "'''from sklearn.preprocessing import OneHotEncoder\n",
        "\n",
        "oneHotEncoder = OneHotEncoder(categorical_features = [0])\n",
        "\n",
        "x = oneHotEncoder.fit_transform(x).toarray()'''"
      ],
      "execution_count": null,
      "outputs": [
        {
          "output_type": "execute_result",
          "data": {
            "application/vnd.google.colaboratory.intrinsic+json": {
              "type": "string"
            },
            "text/plain": [
              "'from sklearn.preprocessing import OneHotEncoder\\n\\noneHotEncoder = OneHotEncoder(categorical_features = [0])\\n\\nx = oneHotEncoder.fit_transform(x).toarray()'"
            ]
          },
          "metadata": {
            "tags": []
          },
          "execution_count": 75
        }
      ]
    },
    {
      "cell_type": "markdown",
      "metadata": {
        "id": "G7i-1UyqiWMw"
      },
      "source": [
        "# **Tratamento de timediff em segundos**"
      ]
    },
    {
      "cell_type": "code",
      "metadata": {
        "id": "4fdYYVaDc11M"
      },
      "source": [
        "time_diff_in_seconds_list = []\n",
        "turno_da_parada_list = []\n",
        "criticidade_da_parada_list = []\n",
        "criticidade_da_parada_para_bater_meta = []\n",
        "\n",
        "#call_start_year = []\n",
        "#call_start_month = []\n",
        "#call_start_day = []\n",
        "#call_start_hour = []\n",
        "\n",
        "#call_end_year = []\n",
        "#call_end_month = []\n",
        "#call_end_day = []\n",
        "#call_end_hour = []\n",
        "\n",
        "for index, row in paradas_de_linha.iterrows():\n",
        "    if row['Time_DIFF'] is not None and row['Time_DIFF'] != \"\" and isinstance(row['Time_DIFF'], float) == False:\n",
        "      time_diff = row['Time_DIFF']\n",
        "      time_diff_in_seconds = (time_diff.hour * 60 + time_diff.minute) * 60 + time_diff.second\n",
        "      \n",
        "      time_diff_in_seconds_list.append(time_diff_in_seconds)\n",
        "\n",
        "      call_start_hour = int(row['CallStartTime'][11:13])\n",
        "      call_start_minute = int(row['CallStartTime'][14:16])\n",
        "      \n",
        "      call_end_hour = int(row['CallEndTime'][11:13])\n",
        "      call_end_minute = int(row['CallEndTime'][14:16])\n",
        "\n",
        "      turno = ''\n",
        "\n",
        "      if call_start_hour >= 6 and call_start_minute >= 1 and call_start_hour <= 15 and call_start_minute <= 48:\n",
        "        turno += 'PRIMEIRO'\n",
        "      elif call_start_hour >= 1 and call_start_minute >= 10 and call_start_hour <= 6 and call_start_minute <= 0:\n",
        "        turno += 'TERCEIRO'\n",
        "      else:\n",
        "        turno += 'SEGUNDO'\n",
        "\n",
        "      if call_end_hour >= 6 and call_end_minute >= 1 and call_end_hour <= 15 and call_end_minute <= 48:\n",
        "        if turno != 'PRIMEIRO':\n",
        "          turno += '-PRIMEIRO'\n",
        "      elif call_end_hour >= 1 and call_end_minute >= 10 and call_end_hour <= 6 and call_end_minute <= 0:\n",
        "        if turno != 'TERCEIRO': \n",
        "          turno += '-TERCEIRO'\n",
        "      else:\n",
        "        if turno != 'SEGUNDO':\n",
        "           turno += '-SEGUNDO'\n",
        "\n",
        "      turno_da_parada_list.append(turno)\n",
        "\n",
        "      criticidade = ''\n",
        "\n",
        "      if time_diff_in_seconds >= 0 and time_diff_in_seconds <= 540:\n",
        "        criticidade = 'BAIXA'\n",
        "      elif time_diff_in_seconds >= 541 and time_diff_in_seconds <= 1140:\n",
        "        criticidade = 'MEDIA'\n",
        "      elif time_diff_in_seconds >= 1141 and time_diff_in_seconds <= 1740:\n",
        "        criticidade = 'ALTA'\n",
        "      elif time_diff_in_seconds >= 1741 and time_diff_in_seconds <= 2340:\n",
        "        criticidade = 'ALTISSIMA'\n",
        "      elif time_diff_in_seconds >= 2341:\n",
        "        criticidade = 'DESASTRE'\n",
        "\n",
        "      criticidade_da_parada_list.append(criticidade)\n",
        "\n",
        "    else:\n",
        "      time_diff_in_seconds_list.append(0)\n",
        "\n",
        "      call_start_hour = int(row['CallStartTime'][11:13])\n",
        "      call_start_minute = int(row['CallStartTime'][14:16])\n",
        "\n",
        "      turno = ''\n",
        "\n",
        "      if call_start_hour >= 6 and call_start_minute >= 1 and call_start_hour <= 15 and call_start_minute <= 48:\n",
        "        turno = 'PRIMEIRO'\n",
        "      elif call_start_hour >= 1 and call_start_minute >= 10 and call_start_hour <= 6 and call_start_minute <= 0:\n",
        "        turno = 'TERCEIRO'\n",
        "      else:\n",
        "        turno = 'SEGUNDO'\n",
        "\n",
        "      turno_da_parada_list.append(turno)\n",
        "\n",
        "      criticidade_da_parada_list.append('BAIXA')\n",
        "\n",
        "      #criticidade_da_parada_para_bater_meta.append('ALERTA_GERENTE_TURNO')\n",
        "\n",
        "paradas_de_linha['TimeDiffSeconds'] = time_diff_in_seconds_list\n",
        "\n",
        "paradas_de_linha['StopLineShift'] = turno_da_parada_list\n",
        "paradas_de_linha['StopLineCriticality'] = criticidade_da_parada_list"
      ],
      "execution_count": null,
      "outputs": []
    },
    {
      "cell_type": "markdown",
      "metadata": {
        "id": "yQ8MX39F9ZFP"
      },
      "source": [
        "# **Continuação após criação de time_diff_seconds**"
      ]
    },
    {
      "cell_type": "code",
      "metadata": {
        "id": "G-pNOpdSdLKC",
        "colab": {
          "base_uri": "https://localhost:8080/"
        },
        "outputId": "6f480bdc-7694-4b0d-fe79-d334570c3cfe"
      },
      "source": [
        "print(len(paradas_de_linha))\n",
        "#paradas_de_linha = paradas_de_linha[paradas_de_linha['TimeDiffSeconds'] > 0]\n",
        "print(len(paradas_de_linha))"
      ],
      "execution_count": null,
      "outputs": [
        {
          "output_type": "stream",
          "text": [
            "579237\n",
            "579237\n"
          ],
          "name": "stdout"
        }
      ]
    },
    {
      "cell_type": "code",
      "metadata": {
        "id": "ylkelcx2dOmu",
        "colab": {
          "base_uri": "https://localhost:8080/"
        },
        "outputId": "b3ed955f-a9dd-4212-949b-9508ee75573e"
      },
      "source": [
        "paradas_de_linha.columns"
      ],
      "execution_count": null,
      "outputs": [
        {
          "output_type": "execute_result",
          "data": {
            "text/plain": [
              "Index(['ProductionOrderId', 'CallStartTime', 'CallEndTime', 'Time_DIFF',\n",
              "       'Workplace', 'Type_BIN', 'Operation', 'Workplace_Category',\n",
              "       'Operation_Category', 'TimeDiffSeconds', 'StopLineShift',\n",
              "       'StopLineCriticality'],\n",
              "      dtype='object')"
            ]
          },
          "metadata": {
            "tags": []
          },
          "execution_count": 78
        }
      ]
    },
    {
      "cell_type": "code",
      "metadata": {
        "id": "mz7A_ldMdSAP",
        "colab": {
          "base_uri": "https://localhost:8080/",
          "height": 300
        },
        "outputId": "705e194d-e1ef-4de2-ee36-50a123e45acc"
      },
      "source": [
        "paradas_de_linha.describe()"
      ],
      "execution_count": null,
      "outputs": [
        {
          "output_type": "execute_result",
          "data": {
            "text/html": [
              "<div>\n",
              "<style scoped>\n",
              "    .dataframe tbody tr th:only-of-type {\n",
              "        vertical-align: middle;\n",
              "    }\n",
              "\n",
              "    .dataframe tbody tr th {\n",
              "        vertical-align: top;\n",
              "    }\n",
              "\n",
              "    .dataframe thead th {\n",
              "        text-align: right;\n",
              "    }\n",
              "</style>\n",
              "<table border=\"1\" class=\"dataframe\">\n",
              "  <thead>\n",
              "    <tr style=\"text-align: right;\">\n",
              "      <th></th>\n",
              "      <th>ProductionOrderId</th>\n",
              "      <th>Type_BIN</th>\n",
              "      <th>Workplace_Category</th>\n",
              "      <th>Operation_Category</th>\n",
              "      <th>TimeDiffSeconds</th>\n",
              "    </tr>\n",
              "  </thead>\n",
              "  <tbody>\n",
              "    <tr>\n",
              "      <th>count</th>\n",
              "      <td>5.792370e+05</td>\n",
              "      <td>579237.000000</td>\n",
              "      <td>579237.000000</td>\n",
              "      <td>579237.000000</td>\n",
              "      <td>579237.000000</td>\n",
              "    </tr>\n",
              "    <tr>\n",
              "      <th>mean</th>\n",
              "      <td>9.771130e+06</td>\n",
              "      <td>0.852996</td>\n",
              "      <td>212.103179</td>\n",
              "      <td>878.049845</td>\n",
              "      <td>115.948607</td>\n",
              "    </tr>\n",
              "    <tr>\n",
              "      <th>std</th>\n",
              "      <td>2.175692e+04</td>\n",
              "      <td>0.354110</td>\n",
              "      <td>108.376721</td>\n",
              "      <td>498.119769</td>\n",
              "      <td>1766.016207</td>\n",
              "    </tr>\n",
              "    <tr>\n",
              "      <th>min</th>\n",
              "      <td>9.514531e+06</td>\n",
              "      <td>0.000000</td>\n",
              "      <td>0.000000</td>\n",
              "      <td>0.000000</td>\n",
              "      <td>0.000000</td>\n",
              "    </tr>\n",
              "    <tr>\n",
              "      <th>25%</th>\n",
              "      <td>9.753060e+06</td>\n",
              "      <td>1.000000</td>\n",
              "      <td>118.000000</td>\n",
              "      <td>498.000000</td>\n",
              "      <td>3.000000</td>\n",
              "    </tr>\n",
              "    <tr>\n",
              "      <th>50%</th>\n",
              "      <td>9.770454e+06</td>\n",
              "      <td>1.000000</td>\n",
              "      <td>244.000000</td>\n",
              "      <td>698.000000</td>\n",
              "      <td>8.000000</td>\n",
              "    </tr>\n",
              "    <tr>\n",
              "      <th>75%</th>\n",
              "      <td>9.788317e+06</td>\n",
              "      <td>1.000000</td>\n",
              "      <td>294.000000</td>\n",
              "      <td>1344.000000</td>\n",
              "      <td>24.000000</td>\n",
              "    </tr>\n",
              "    <tr>\n",
              "      <th>max</th>\n",
              "      <td>9.819169e+06</td>\n",
              "      <td>1.000000</td>\n",
              "      <td>385.000000</td>\n",
              "      <td>1601.000000</td>\n",
              "      <td>86391.000000</td>\n",
              "    </tr>\n",
              "  </tbody>\n",
              "</table>\n",
              "</div>"
            ],
            "text/plain": [
              "       ProductionOrderId       Type_BIN  ...  Operation_Category  TimeDiffSeconds\n",
              "count       5.792370e+05  579237.000000  ...       579237.000000    579237.000000\n",
              "mean        9.771130e+06       0.852996  ...          878.049845       115.948607\n",
              "std         2.175692e+04       0.354110  ...          498.119769      1766.016207\n",
              "min         9.514531e+06       0.000000  ...            0.000000         0.000000\n",
              "25%         9.753060e+06       1.000000  ...          498.000000         3.000000\n",
              "50%         9.770454e+06       1.000000  ...          698.000000         8.000000\n",
              "75%         9.788317e+06       1.000000  ...         1344.000000        24.000000\n",
              "max         9.819169e+06       1.000000  ...         1601.000000     86391.000000\n",
              "\n",
              "[8 rows x 5 columns]"
            ]
          },
          "metadata": {
            "tags": []
          },
          "execution_count": 79
        }
      ]
    },
    {
      "cell_type": "code",
      "metadata": {
        "id": "rU4gyzBAdSNa",
        "colab": {
          "base_uri": "https://localhost:8080/"
        },
        "outputId": "bed92fb6-fc7f-4240-aaf1-09720d65b361"
      },
      "source": [
        "paradas_de_linha = paradas_de_linha.drop(columns=['CallStartTime', 'CallEndTime', 'Time_DIFF'])\n",
        "\n",
        "print(paradas_de_linha.columns)"
      ],
      "execution_count": null,
      "outputs": [
        {
          "output_type": "stream",
          "text": [
            "Index(['ProductionOrderId', 'Workplace', 'Type_BIN', 'Operation',\n",
            "       'Workplace_Category', 'Operation_Category', 'TimeDiffSeconds',\n",
            "       'StopLineShift', 'StopLineCriticality'],\n",
            "      dtype='object')\n"
          ],
          "name": "stdout"
        }
      ]
    },
    {
      "cell_type": "code",
      "metadata": {
        "id": "vzriHTVpdUOQ",
        "colab": {
          "base_uri": "https://localhost:8080/",
          "height": 444
        },
        "outputId": "9af246b9-fc99-4018-9c88-18594275b2ee"
      },
      "source": [
        "paradas_de_linha"
      ],
      "execution_count": null,
      "outputs": [
        {
          "output_type": "execute_result",
          "data": {
            "text/html": [
              "<div>\n",
              "<style scoped>\n",
              "    .dataframe tbody tr th:only-of-type {\n",
              "        vertical-align: middle;\n",
              "    }\n",
              "\n",
              "    .dataframe tbody tr th {\n",
              "        vertical-align: top;\n",
              "    }\n",
              "\n",
              "    .dataframe thead th {\n",
              "        text-align: right;\n",
              "    }\n",
              "</style>\n",
              "<table border=\"1\" class=\"dataframe\">\n",
              "  <thead>\n",
              "    <tr style=\"text-align: right;\">\n",
              "      <th></th>\n",
              "      <th>ProductionOrderId</th>\n",
              "      <th>Workplace</th>\n",
              "      <th>Type_BIN</th>\n",
              "      <th>Operation</th>\n",
              "      <th>Workplace_Category</th>\n",
              "      <th>Operation_Category</th>\n",
              "      <th>TimeDiffSeconds</th>\n",
              "      <th>StopLineShift</th>\n",
              "      <th>StopLineCriticality</th>\n",
              "    </tr>\n",
              "  </thead>\n",
              "  <tbody>\n",
              "    <tr>\n",
              "      <th>0</th>\n",
              "      <td>9701621</td>\n",
              "      <td>WPB_S020_3_LDA001</td>\n",
              "      <td>1</td>\n",
              "      <td>QCE_DEL.LDA1020_090</td>\n",
              "      <td>338</td>\n",
              "      <td>512</td>\n",
              "      <td>5</td>\n",
              "      <td>PRIMEIRO</td>\n",
              "      <td>BAIXA</td>\n",
              "    </tr>\n",
              "    <tr>\n",
              "      <th>1</th>\n",
              "      <td>9701621</td>\n",
              "      <td>WPA_S005_0_TL1001</td>\n",
              "      <td>1</td>\n",
              "      <td>TRA_X08459_000.1</td>\n",
              "      <td>22</td>\n",
              "      <td>1353</td>\n",
              "      <td>1</td>\n",
              "      <td>SEGUNDO</td>\n",
              "      <td>BAIXA</td>\n",
              "    </tr>\n",
              "    <tr>\n",
              "      <th>2</th>\n",
              "      <td>9701621</td>\n",
              "      <td>WPA_S005_0_TL1001</td>\n",
              "      <td>0</td>\n",
              "      <td>operator</td>\n",
              "      <td>22</td>\n",
              "      <td>1601</td>\n",
              "      <td>123</td>\n",
              "      <td>SEGUNDO</td>\n",
              "      <td>BAIXA</td>\n",
              "    </tr>\n",
              "    <tr>\n",
              "      <th>3</th>\n",
              "      <td>9701621</td>\n",
              "      <td>WPA_S005_0_TL1001</td>\n",
              "      <td>0</td>\n",
              "      <td>operator</td>\n",
              "      <td>22</td>\n",
              "      <td>1601</td>\n",
              "      <td>44</td>\n",
              "      <td>SEGUNDO</td>\n",
              "      <td>BAIXA</td>\n",
              "    </tr>\n",
              "    <tr>\n",
              "      <th>4</th>\n",
              "      <td>9701621</td>\n",
              "      <td>WPA_SQ01_3_AGF002</td>\n",
              "      <td>1</td>\n",
              "      <td>PCE_RASTR.MOTOR_000</td>\n",
              "      <td>287</td>\n",
              "      <td>394</td>\n",
              "      <td>5</td>\n",
              "      <td>PRIMEIRO</td>\n",
              "      <td>BAIXA</td>\n",
              "    </tr>\n",
              "    <tr>\n",
              "      <th>...</th>\n",
              "      <td>...</td>\n",
              "      <td>...</td>\n",
              "      <td>...</td>\n",
              "      <td>...</td>\n",
              "      <td>...</td>\n",
              "      <td>...</td>\n",
              "      <td>...</td>\n",
              "      <td>...</td>\n",
              "      <td>...</td>\n",
              "    </tr>\n",
              "    <tr>\n",
              "      <th>579232</th>\n",
              "      <td>9813990</td>\n",
              "      <td>WPA_SQ02_2_CH3001</td>\n",
              "      <td>1</td>\n",
              "      <td>TRP_E57802_31Q.2</td>\n",
              "      <td>296</td>\n",
              "      <td>1537</td>\n",
              "      <td>1</td>\n",
              "      <td>SEGUNDO</td>\n",
              "      <td>BAIXA</td>\n",
              "    </tr>\n",
              "    <tr>\n",
              "      <th>579233</th>\n",
              "      <td>9813990</td>\n",
              "      <td>WPA_SQ02_2_CH3001</td>\n",
              "      <td>1</td>\n",
              "      <td>TRP_E57802_32Q.2</td>\n",
              "      <td>296</td>\n",
              "      <td>1539</td>\n",
              "      <td>1</td>\n",
              "      <td>SEGUNDO</td>\n",
              "      <td>BAIXA</td>\n",
              "    </tr>\n",
              "    <tr>\n",
              "      <th>579234</th>\n",
              "      <td>9813990</td>\n",
              "      <td>WPA_SQ03_3_CH3001</td>\n",
              "      <td>1</td>\n",
              "      <td>TRP_E57802_31Q.2</td>\n",
              "      <td>314</td>\n",
              "      <td>1537</td>\n",
              "      <td>0</td>\n",
              "      <td>SEGUNDO</td>\n",
              "      <td>BAIXA</td>\n",
              "    </tr>\n",
              "    <tr>\n",
              "      <th>579235</th>\n",
              "      <td>9813990</td>\n",
              "      <td>WPA_SQ03_3_CH3001</td>\n",
              "      <td>1</td>\n",
              "      <td>TRP_E57802_32Q.2</td>\n",
              "      <td>314</td>\n",
              "      <td>1539</td>\n",
              "      <td>0</td>\n",
              "      <td>SEGUNDO</td>\n",
              "      <td>BAIXA</td>\n",
              "    </tr>\n",
              "    <tr>\n",
              "      <th>579236</th>\n",
              "      <td>9813990</td>\n",
              "      <td>WPA_S013_7_DOR001</td>\n",
              "      <td>1</td>\n",
              "      <td>SCR_018.029_090.2</td>\n",
              "      <td>64</td>\n",
              "      <td>1046</td>\n",
              "      <td>1</td>\n",
              "      <td>SEGUNDO</td>\n",
              "      <td>BAIXA</td>\n",
              "    </tr>\n",
              "  </tbody>\n",
              "</table>\n",
              "<p>579237 rows × 9 columns</p>\n",
              "</div>"
            ],
            "text/plain": [
              "        ProductionOrderId          Workplace  ...  StopLineShift StopLineCriticality\n",
              "0                 9701621  WPB_S020_3_LDA001  ...       PRIMEIRO               BAIXA\n",
              "1                 9701621  WPA_S005_0_TL1001  ...        SEGUNDO               BAIXA\n",
              "2                 9701621  WPA_S005_0_TL1001  ...        SEGUNDO               BAIXA\n",
              "3                 9701621  WPA_S005_0_TL1001  ...        SEGUNDO               BAIXA\n",
              "4                 9701621  WPA_SQ01_3_AGF002  ...       PRIMEIRO               BAIXA\n",
              "...                   ...                ...  ...            ...                 ...\n",
              "579232            9813990  WPA_SQ02_2_CH3001  ...        SEGUNDO               BAIXA\n",
              "579233            9813990  WPA_SQ02_2_CH3001  ...        SEGUNDO               BAIXA\n",
              "579234            9813990  WPA_SQ03_3_CH3001  ...        SEGUNDO               BAIXA\n",
              "579235            9813990  WPA_SQ03_3_CH3001  ...        SEGUNDO               BAIXA\n",
              "579236            9813990  WPA_S013_7_DOR001  ...        SEGUNDO               BAIXA\n",
              "\n",
              "[579237 rows x 9 columns]"
            ]
          },
          "metadata": {
            "tags": []
          },
          "execution_count": 81
        }
      ]
    },
    {
      "cell_type": "code",
      "metadata": {
        "id": "aZkTvU54ddhO",
        "colab": {
          "base_uri": "https://localhost:8080/"
        },
        "outputId": "0570087c-519c-4b5b-8301-b81078de7d3b"
      },
      "source": [
        "print(len(paradas_de_linha))"
      ],
      "execution_count": null,
      "outputs": [
        {
          "output_type": "stream",
          "text": [
            "579237\n"
          ],
          "name": "stdout"
        }
      ]
    },
    {
      "cell_type": "code",
      "metadata": {
        "id": "E8EsHaFBdijs",
        "colab": {
          "base_uri": "https://localhost:8080/",
          "height": 300
        },
        "outputId": "30b4c05d-4801-44f1-f726-6b90b172a2ae"
      },
      "source": [
        "paradas_de_linha.describe()"
      ],
      "execution_count": null,
      "outputs": [
        {
          "output_type": "execute_result",
          "data": {
            "text/html": [
              "<div>\n",
              "<style scoped>\n",
              "    .dataframe tbody tr th:only-of-type {\n",
              "        vertical-align: middle;\n",
              "    }\n",
              "\n",
              "    .dataframe tbody tr th {\n",
              "        vertical-align: top;\n",
              "    }\n",
              "\n",
              "    .dataframe thead th {\n",
              "        text-align: right;\n",
              "    }\n",
              "</style>\n",
              "<table border=\"1\" class=\"dataframe\">\n",
              "  <thead>\n",
              "    <tr style=\"text-align: right;\">\n",
              "      <th></th>\n",
              "      <th>ProductionOrderId</th>\n",
              "      <th>Type_BIN</th>\n",
              "      <th>Workplace_Category</th>\n",
              "      <th>Operation_Category</th>\n",
              "      <th>TimeDiffSeconds</th>\n",
              "    </tr>\n",
              "  </thead>\n",
              "  <tbody>\n",
              "    <tr>\n",
              "      <th>count</th>\n",
              "      <td>5.792370e+05</td>\n",
              "      <td>579237.000000</td>\n",
              "      <td>579237.000000</td>\n",
              "      <td>579237.000000</td>\n",
              "      <td>579237.000000</td>\n",
              "    </tr>\n",
              "    <tr>\n",
              "      <th>mean</th>\n",
              "      <td>9.771130e+06</td>\n",
              "      <td>0.852996</td>\n",
              "      <td>212.103179</td>\n",
              "      <td>878.049845</td>\n",
              "      <td>115.948607</td>\n",
              "    </tr>\n",
              "    <tr>\n",
              "      <th>std</th>\n",
              "      <td>2.175692e+04</td>\n",
              "      <td>0.354110</td>\n",
              "      <td>108.376721</td>\n",
              "      <td>498.119769</td>\n",
              "      <td>1766.016207</td>\n",
              "    </tr>\n",
              "    <tr>\n",
              "      <th>min</th>\n",
              "      <td>9.514531e+06</td>\n",
              "      <td>0.000000</td>\n",
              "      <td>0.000000</td>\n",
              "      <td>0.000000</td>\n",
              "      <td>0.000000</td>\n",
              "    </tr>\n",
              "    <tr>\n",
              "      <th>25%</th>\n",
              "      <td>9.753060e+06</td>\n",
              "      <td>1.000000</td>\n",
              "      <td>118.000000</td>\n",
              "      <td>498.000000</td>\n",
              "      <td>3.000000</td>\n",
              "    </tr>\n",
              "    <tr>\n",
              "      <th>50%</th>\n",
              "      <td>9.770454e+06</td>\n",
              "      <td>1.000000</td>\n",
              "      <td>244.000000</td>\n",
              "      <td>698.000000</td>\n",
              "      <td>8.000000</td>\n",
              "    </tr>\n",
              "    <tr>\n",
              "      <th>75%</th>\n",
              "      <td>9.788317e+06</td>\n",
              "      <td>1.000000</td>\n",
              "      <td>294.000000</td>\n",
              "      <td>1344.000000</td>\n",
              "      <td>24.000000</td>\n",
              "    </tr>\n",
              "    <tr>\n",
              "      <th>max</th>\n",
              "      <td>9.819169e+06</td>\n",
              "      <td>1.000000</td>\n",
              "      <td>385.000000</td>\n",
              "      <td>1601.000000</td>\n",
              "      <td>86391.000000</td>\n",
              "    </tr>\n",
              "  </tbody>\n",
              "</table>\n",
              "</div>"
            ],
            "text/plain": [
              "       ProductionOrderId       Type_BIN  ...  Operation_Category  TimeDiffSeconds\n",
              "count       5.792370e+05  579237.000000  ...       579237.000000    579237.000000\n",
              "mean        9.771130e+06       0.852996  ...          878.049845       115.948607\n",
              "std         2.175692e+04       0.354110  ...          498.119769      1766.016207\n",
              "min         9.514531e+06       0.000000  ...            0.000000         0.000000\n",
              "25%         9.753060e+06       1.000000  ...          498.000000         3.000000\n",
              "50%         9.770454e+06       1.000000  ...          698.000000         8.000000\n",
              "75%         9.788317e+06       1.000000  ...         1344.000000        24.000000\n",
              "max         9.819169e+06       1.000000  ...         1601.000000     86391.000000\n",
              "\n",
              "[8 rows x 5 columns]"
            ]
          },
          "metadata": {
            "tags": []
          },
          "execution_count": 83
        }
      ]
    },
    {
      "cell_type": "code",
      "metadata": {
        "id": "_x496BgHdjho",
        "colab": {
          "base_uri": "https://localhost:8080/",
          "height": 226
        },
        "outputId": "b9901a73-8c93-46de-a24b-1f62cb58fe48"
      },
      "source": [
        "paradas_de_linha['StopLineShift_Category'] = labelEncoder.fit_transform(paradas_de_linha['StopLineShift'])\n",
        "paradas_de_linha['StopLineCriticality_Category'] = labelEncoder.fit_transform(paradas_de_linha['StopLineCriticality'])\n",
        "paradas_de_linha['Chassir_Category'] = labelEncoder.fit_transform(paradas_de_linha['ProductionOrderId'])\n",
        "\n",
        "paradas_de_linha.head()"
      ],
      "execution_count": null,
      "outputs": [
        {
          "output_type": "execute_result",
          "data": {
            "text/html": [
              "<div>\n",
              "<style scoped>\n",
              "    .dataframe tbody tr th:only-of-type {\n",
              "        vertical-align: middle;\n",
              "    }\n",
              "\n",
              "    .dataframe tbody tr th {\n",
              "        vertical-align: top;\n",
              "    }\n",
              "\n",
              "    .dataframe thead th {\n",
              "        text-align: right;\n",
              "    }\n",
              "</style>\n",
              "<table border=\"1\" class=\"dataframe\">\n",
              "  <thead>\n",
              "    <tr style=\"text-align: right;\">\n",
              "      <th></th>\n",
              "      <th>ProductionOrderId</th>\n",
              "      <th>Workplace</th>\n",
              "      <th>Type_BIN</th>\n",
              "      <th>Operation</th>\n",
              "      <th>Workplace_Category</th>\n",
              "      <th>Operation_Category</th>\n",
              "      <th>TimeDiffSeconds</th>\n",
              "      <th>StopLineShift</th>\n",
              "      <th>StopLineCriticality</th>\n",
              "      <th>StopLineShift_Category</th>\n",
              "      <th>StopLineCriticality_Category</th>\n",
              "      <th>Chassir_Category</th>\n",
              "    </tr>\n",
              "  </thead>\n",
              "  <tbody>\n",
              "    <tr>\n",
              "      <th>0</th>\n",
              "      <td>9701621</td>\n",
              "      <td>WPB_S020_3_LDA001</td>\n",
              "      <td>1</td>\n",
              "      <td>QCE_DEL.LDA1020_090</td>\n",
              "      <td>338</td>\n",
              "      <td>512</td>\n",
              "      <td>5</td>\n",
              "      <td>PRIMEIRO</td>\n",
              "      <td>BAIXA</td>\n",
              "      <td>0</td>\n",
              "      <td>2</td>\n",
              "      <td>37</td>\n",
              "    </tr>\n",
              "    <tr>\n",
              "      <th>1</th>\n",
              "      <td>9701621</td>\n",
              "      <td>WPA_S005_0_TL1001</td>\n",
              "      <td>1</td>\n",
              "      <td>TRA_X08459_000.1</td>\n",
              "      <td>22</td>\n",
              "      <td>1353</td>\n",
              "      <td>1</td>\n",
              "      <td>SEGUNDO</td>\n",
              "      <td>BAIXA</td>\n",
              "      <td>2</td>\n",
              "      <td>2</td>\n",
              "      <td>37</td>\n",
              "    </tr>\n",
              "    <tr>\n",
              "      <th>2</th>\n",
              "      <td>9701621</td>\n",
              "      <td>WPA_S005_0_TL1001</td>\n",
              "      <td>0</td>\n",
              "      <td>operator</td>\n",
              "      <td>22</td>\n",
              "      <td>1601</td>\n",
              "      <td>123</td>\n",
              "      <td>SEGUNDO</td>\n",
              "      <td>BAIXA</td>\n",
              "      <td>2</td>\n",
              "      <td>2</td>\n",
              "      <td>37</td>\n",
              "    </tr>\n",
              "    <tr>\n",
              "      <th>3</th>\n",
              "      <td>9701621</td>\n",
              "      <td>WPA_S005_0_TL1001</td>\n",
              "      <td>0</td>\n",
              "      <td>operator</td>\n",
              "      <td>22</td>\n",
              "      <td>1601</td>\n",
              "      <td>44</td>\n",
              "      <td>SEGUNDO</td>\n",
              "      <td>BAIXA</td>\n",
              "      <td>2</td>\n",
              "      <td>2</td>\n",
              "      <td>37</td>\n",
              "    </tr>\n",
              "    <tr>\n",
              "      <th>4</th>\n",
              "      <td>9701621</td>\n",
              "      <td>WPA_SQ01_3_AGF002</td>\n",
              "      <td>1</td>\n",
              "      <td>PCE_RASTR.MOTOR_000</td>\n",
              "      <td>287</td>\n",
              "      <td>394</td>\n",
              "      <td>5</td>\n",
              "      <td>PRIMEIRO</td>\n",
              "      <td>BAIXA</td>\n",
              "      <td>0</td>\n",
              "      <td>2</td>\n",
              "      <td>37</td>\n",
              "    </tr>\n",
              "  </tbody>\n",
              "</table>\n",
              "</div>"
            ],
            "text/plain": [
              "   ProductionOrderId  ... Chassir_Category\n",
              "0            9701621  ...               37\n",
              "1            9701621  ...               37\n",
              "2            9701621  ...               37\n",
              "3            9701621  ...               37\n",
              "4            9701621  ...               37\n",
              "\n",
              "[5 rows x 12 columns]"
            ]
          },
          "metadata": {
            "tags": []
          },
          "execution_count": 84
        }
      ]
    },
    {
      "cell_type": "markdown",
      "metadata": {
        "id": "VSrn_7AgzkoT"
      },
      "source": [
        "# **Converting TimeDiffSeconds in Bins**"
      ]
    },
    {
      "cell_type": "code",
      "metadata": {
        "id": "Qm3bRfVWzecT"
      },
      "source": [
        "time_diff_seconds_df = paradas_de_linha['TimeDiffSeconds']\n",
        "time_diff_seconds_df.sort_values(ascending=True)\n",
        "\n",
        "width_of_intervals = 15\n",
        "count_label = 0\n",
        "\n",
        "# distribuição de frequências de 15 em 15 segundos\n",
        "bins = [0, 10, 20, 30, 45, 60, 90, 120, 180, 360, 720, 1440, time_diff_seconds_df.max()]\n",
        "\n",
        "labels = [0, 1, 2, 3, 4, 5, 6, 7, 8, 9, 10, 11]\n",
        "# labels.append(count_label)\n",
        "\n",
        "# Menor valor da série\n",
        "minimum = time_diff_seconds_df.min()\n",
        "\n",
        "current_value = minimum\n",
        "# bins.append(current_value)\n",
        "\n",
        "'''while current_value < time_diff_seconds_df.max():\n",
        "    current_value += width_of_intervals\n",
        "    bins.append(current_value)\n",
        "    count_label += 1\n",
        "    labels.append(count_label)'''\n",
        "    \n",
        "# labels = labels[0:labels[len(labels)-1]]\n",
        "\n",
        "paradas_de_linha['Time_diff_seconds_bins'] = pd.cut(time_diff_seconds_df, bins=bins, labels=labels, include_lowest=True)"
      ],
      "execution_count": null,
      "outputs": []
    },
    {
      "cell_type": "code",
      "metadata": {
        "id": "GbKMhsRQ4cWx",
        "colab": {
          "base_uri": "https://localhost:8080/",
          "height": 226
        },
        "outputId": "dfaf838c-560d-48dc-cadc-cb29aa8f0065"
      },
      "source": [
        "paradas_de_linha.head()"
      ],
      "execution_count": null,
      "outputs": [
        {
          "output_type": "execute_result",
          "data": {
            "text/html": [
              "<div>\n",
              "<style scoped>\n",
              "    .dataframe tbody tr th:only-of-type {\n",
              "        vertical-align: middle;\n",
              "    }\n",
              "\n",
              "    .dataframe tbody tr th {\n",
              "        vertical-align: top;\n",
              "    }\n",
              "\n",
              "    .dataframe thead th {\n",
              "        text-align: right;\n",
              "    }\n",
              "</style>\n",
              "<table border=\"1\" class=\"dataframe\">\n",
              "  <thead>\n",
              "    <tr style=\"text-align: right;\">\n",
              "      <th></th>\n",
              "      <th>ProductionOrderId</th>\n",
              "      <th>Workplace</th>\n",
              "      <th>Type_BIN</th>\n",
              "      <th>Operation</th>\n",
              "      <th>Workplace_Category</th>\n",
              "      <th>Operation_Category</th>\n",
              "      <th>TimeDiffSeconds</th>\n",
              "      <th>StopLineShift</th>\n",
              "      <th>StopLineCriticality</th>\n",
              "      <th>StopLineShift_Category</th>\n",
              "      <th>StopLineCriticality_Category</th>\n",
              "      <th>Chassir_Category</th>\n",
              "      <th>Time_diff_seconds_bins</th>\n",
              "    </tr>\n",
              "  </thead>\n",
              "  <tbody>\n",
              "    <tr>\n",
              "      <th>0</th>\n",
              "      <td>9701621</td>\n",
              "      <td>WPB_S020_3_LDA001</td>\n",
              "      <td>1</td>\n",
              "      <td>QCE_DEL.LDA1020_090</td>\n",
              "      <td>338</td>\n",
              "      <td>512</td>\n",
              "      <td>5</td>\n",
              "      <td>PRIMEIRO</td>\n",
              "      <td>BAIXA</td>\n",
              "      <td>0</td>\n",
              "      <td>2</td>\n",
              "      <td>37</td>\n",
              "      <td>0</td>\n",
              "    </tr>\n",
              "    <tr>\n",
              "      <th>1</th>\n",
              "      <td>9701621</td>\n",
              "      <td>WPA_S005_0_TL1001</td>\n",
              "      <td>1</td>\n",
              "      <td>TRA_X08459_000.1</td>\n",
              "      <td>22</td>\n",
              "      <td>1353</td>\n",
              "      <td>1</td>\n",
              "      <td>SEGUNDO</td>\n",
              "      <td>BAIXA</td>\n",
              "      <td>2</td>\n",
              "      <td>2</td>\n",
              "      <td>37</td>\n",
              "      <td>0</td>\n",
              "    </tr>\n",
              "    <tr>\n",
              "      <th>2</th>\n",
              "      <td>9701621</td>\n",
              "      <td>WPA_S005_0_TL1001</td>\n",
              "      <td>0</td>\n",
              "      <td>operator</td>\n",
              "      <td>22</td>\n",
              "      <td>1601</td>\n",
              "      <td>123</td>\n",
              "      <td>SEGUNDO</td>\n",
              "      <td>BAIXA</td>\n",
              "      <td>2</td>\n",
              "      <td>2</td>\n",
              "      <td>37</td>\n",
              "      <td>7</td>\n",
              "    </tr>\n",
              "    <tr>\n",
              "      <th>3</th>\n",
              "      <td>9701621</td>\n",
              "      <td>WPA_S005_0_TL1001</td>\n",
              "      <td>0</td>\n",
              "      <td>operator</td>\n",
              "      <td>22</td>\n",
              "      <td>1601</td>\n",
              "      <td>44</td>\n",
              "      <td>SEGUNDO</td>\n",
              "      <td>BAIXA</td>\n",
              "      <td>2</td>\n",
              "      <td>2</td>\n",
              "      <td>37</td>\n",
              "      <td>3</td>\n",
              "    </tr>\n",
              "    <tr>\n",
              "      <th>4</th>\n",
              "      <td>9701621</td>\n",
              "      <td>WPA_SQ01_3_AGF002</td>\n",
              "      <td>1</td>\n",
              "      <td>PCE_RASTR.MOTOR_000</td>\n",
              "      <td>287</td>\n",
              "      <td>394</td>\n",
              "      <td>5</td>\n",
              "      <td>PRIMEIRO</td>\n",
              "      <td>BAIXA</td>\n",
              "      <td>0</td>\n",
              "      <td>2</td>\n",
              "      <td>37</td>\n",
              "      <td>0</td>\n",
              "    </tr>\n",
              "  </tbody>\n",
              "</table>\n",
              "</div>"
            ],
            "text/plain": [
              "   ProductionOrderId  ... Time_diff_seconds_bins\n",
              "0            9701621  ...                      0\n",
              "1            9701621  ...                      0\n",
              "2            9701621  ...                      7\n",
              "3            9701621  ...                      3\n",
              "4            9701621  ...                      0\n",
              "\n",
              "[5 rows x 13 columns]"
            ]
          },
          "metadata": {
            "tags": []
          },
          "execution_count": 86
        }
      ]
    },
    {
      "cell_type": "markdown",
      "metadata": {
        "id": "PqtoEi-qd7EZ"
      },
      "source": [
        "# **Machine Learning**"
      ]
    },
    {
      "cell_type": "code",
      "metadata": {
        "id": "PHkusbl-d9lO"
      },
      "source": [
        "#choosing features for model\n",
        "paradas_de_linha_feature_data = paradas_de_linha[[\"Chassir_Category\", \"Type_BIN\", \"Workplace_Category\", \"Operation_Category\",\n",
        "                                                  \"Time_diff_seconds_bins\", \"StopLineShift_Category\", \"StopLineCriticality_Category\"]]"
      ],
      "execution_count": null,
      "outputs": []
    },
    {
      "cell_type": "code",
      "metadata": {
        "id": "PUzgg2ELIHrf"
      },
      "source": [
        "#paradas_de_linha_feature_data.to_csv('paradas_de_linha_formatted_data.csv', index=False)"
      ],
      "execution_count": null,
      "outputs": []
    },
    {
      "cell_type": "code",
      "metadata": {
        "id": "Nio1gKkEnnP5",
        "colab": {
          "base_uri": "https://localhost:8080/",
          "height": 53
        },
        "outputId": "8410d89e-763d-4dc5-c32f-d6c050f126d9"
      },
      "source": [
        "'''paradas_de_linha_feature_data = paradas_de_linha[[\"Chassir_Category\", \"Type_BIN\", \"Workplace_Category\", \"Operation_Category\",\n",
        "                                                  \"Time_diff_seconds_bins\", \"StopLineShift_Category\", \"StopLineCriticality_Category\", \"TimeDiffSeconds\"]]'''"
      ],
      "execution_count": null,
      "outputs": [
        {
          "output_type": "execute_result",
          "data": {
            "application/vnd.google.colaboratory.intrinsic+json": {
              "type": "string"
            },
            "text/plain": [
              "'paradas_de_linha_feature_data = paradas_de_linha[[\"Chassir_Category\", \"Type_BIN\", \"Workplace_Category\", \"Operation_Category\",\\n                                                  \"Time_diff_seconds_bins\", \"StopLineShift_Category\", \"StopLineCriticality_Category\", \"TimeDiffSeconds\"]]'"
            ]
          },
          "metadata": {
            "tags": []
          },
          "execution_count": 89
        }
      ]
    },
    {
      "cell_type": "code",
      "metadata": {
        "id": "smsWgmR5eOIJ",
        "colab": {
          "base_uri": "https://localhost:8080/",
          "height": 206
        },
        "outputId": "93e9f8c0-d5a7-47ed-f16e-35a7e485fa21"
      },
      "source": [
        "paradas_de_linha_feature_data.head()"
      ],
      "execution_count": null,
      "outputs": [
        {
          "output_type": "execute_result",
          "data": {
            "text/html": [
              "<div>\n",
              "<style scoped>\n",
              "    .dataframe tbody tr th:only-of-type {\n",
              "        vertical-align: middle;\n",
              "    }\n",
              "\n",
              "    .dataframe tbody tr th {\n",
              "        vertical-align: top;\n",
              "    }\n",
              "\n",
              "    .dataframe thead th {\n",
              "        text-align: right;\n",
              "    }\n",
              "</style>\n",
              "<table border=\"1\" class=\"dataframe\">\n",
              "  <thead>\n",
              "    <tr style=\"text-align: right;\">\n",
              "      <th></th>\n",
              "      <th>Chassir_Category</th>\n",
              "      <th>Type_BIN</th>\n",
              "      <th>Workplace_Category</th>\n",
              "      <th>Operation_Category</th>\n",
              "      <th>Time_diff_seconds_bins</th>\n",
              "      <th>StopLineShift_Category</th>\n",
              "      <th>StopLineCriticality_Category</th>\n",
              "    </tr>\n",
              "  </thead>\n",
              "  <tbody>\n",
              "    <tr>\n",
              "      <th>0</th>\n",
              "      <td>37</td>\n",
              "      <td>1</td>\n",
              "      <td>338</td>\n",
              "      <td>512</td>\n",
              "      <td>0</td>\n",
              "      <td>0</td>\n",
              "      <td>2</td>\n",
              "    </tr>\n",
              "    <tr>\n",
              "      <th>1</th>\n",
              "      <td>37</td>\n",
              "      <td>1</td>\n",
              "      <td>22</td>\n",
              "      <td>1353</td>\n",
              "      <td>0</td>\n",
              "      <td>2</td>\n",
              "      <td>2</td>\n",
              "    </tr>\n",
              "    <tr>\n",
              "      <th>2</th>\n",
              "      <td>37</td>\n",
              "      <td>0</td>\n",
              "      <td>22</td>\n",
              "      <td>1601</td>\n",
              "      <td>7</td>\n",
              "      <td>2</td>\n",
              "      <td>2</td>\n",
              "    </tr>\n",
              "    <tr>\n",
              "      <th>3</th>\n",
              "      <td>37</td>\n",
              "      <td>0</td>\n",
              "      <td>22</td>\n",
              "      <td>1601</td>\n",
              "      <td>3</td>\n",
              "      <td>2</td>\n",
              "      <td>2</td>\n",
              "    </tr>\n",
              "    <tr>\n",
              "      <th>4</th>\n",
              "      <td>37</td>\n",
              "      <td>1</td>\n",
              "      <td>287</td>\n",
              "      <td>394</td>\n",
              "      <td>0</td>\n",
              "      <td>0</td>\n",
              "      <td>2</td>\n",
              "    </tr>\n",
              "  </tbody>\n",
              "</table>\n",
              "</div>"
            ],
            "text/plain": [
              "   Chassir_Category  ...  StopLineCriticality_Category\n",
              "0                37  ...                             2\n",
              "1                37  ...                             2\n",
              "2                37  ...                             2\n",
              "3                37  ...                             2\n",
              "4                37  ...                             2\n",
              "\n",
              "[5 rows x 7 columns]"
            ]
          },
          "metadata": {
            "tags": []
          },
          "execution_count": 90
        }
      ]
    },
    {
      "cell_type": "code",
      "metadata": {
        "id": "hKYmuWePn0zf",
        "colab": {
          "base_uri": "https://localhost:8080/"
        },
        "outputId": "1c819211-18f0-499d-aed6-5937c28dc99e"
      },
      "source": [
        "import collections\n",
        "\n",
        "column_collection = collections.Counter(paradas_de_linha_feature_data['Time_diff_seconds_bins'])\n",
        "quantity = column_collection.most_common()\n",
        "print(quantity)"
      ],
      "execution_count": null,
      "outputs": [
        {
          "output_type": "stream",
          "text": [
            "[(0, 326628), (1, 87245), (2, 45963), (3, 38414), (4, 26615), (5, 19298), (6, 8070), (9, 7832), (7, 6451), (8, 5903), (11, 4408), (10, 2410)]\n"
          ],
          "name": "stdout"
        }
      ]
    },
    {
      "cell_type": "code",
      "metadata": {
        "id": "J0v1aKsSd_qR"
      },
      "source": [
        "df_classe_0 = paradas_de_linha_feature_data[paradas_de_linha_feature_data['Time_diff_seconds_bins'] == 0].sample(n=2410)\n",
        "df_classe_1 = paradas_de_linha_feature_data[paradas_de_linha_feature_data['Time_diff_seconds_bins'] == 1].sample(n=2410)\n",
        "df_classe_2 = paradas_de_linha_feature_data[paradas_de_linha_feature_data['Time_diff_seconds_bins'] == 2].sample(n=2410)\n",
        "df_classe_3 = paradas_de_linha_feature_data[paradas_de_linha_feature_data['Time_diff_seconds_bins'] == 3].sample(n=2410)\n",
        "df_classe_4 = paradas_de_linha_feature_data[paradas_de_linha_feature_data['Time_diff_seconds_bins'] == 4].sample(n=2410)\n",
        "df_classe_5 = paradas_de_linha_feature_data[paradas_de_linha_feature_data['Time_diff_seconds_bins'] == 5].sample(n=2410)\n",
        "df_classe_6 = paradas_de_linha_feature_data[paradas_de_linha_feature_data['Time_diff_seconds_bins'] == 6].sample(n=2410)\n",
        "df_classe_7 = paradas_de_linha_feature_data[paradas_de_linha_feature_data['Time_diff_seconds_bins'] == 7].sample(n=2410)\n",
        "df_classe_8 = paradas_de_linha_feature_data[paradas_de_linha_feature_data['Time_diff_seconds_bins'] == 8].sample(n=2410)\n",
        "df_classe_9 = paradas_de_linha_feature_data[paradas_de_linha_feature_data['Time_diff_seconds_bins'] == 9].sample(n=2410)\n",
        "df_classe_10 = paradas_de_linha_feature_data[paradas_de_linha_feature_data['Time_diff_seconds_bins'] == 10].sample(n=2410)\n",
        "df_classe_11 = paradas_de_linha_feature_data[paradas_de_linha_feature_data['Time_diff_seconds_bins'] == 11].sample(n=2410)"
      ],
      "execution_count": null,
      "outputs": []
    },
    {
      "cell_type": "code",
      "metadata": {
        "id": "9twXK5r2eOl5",
        "colab": {
          "base_uri": "https://localhost:8080/"
        },
        "outputId": "fb34b3c4-54f1-490d-8bd0-58a732ad201c"
      },
      "source": [
        "#importing train_test_split\n",
        "from sklearn.model_selection import train_test_split\n",
        "\n",
        "train_set, temp_test_set = train_test_split(paradas_de_linha_feature_data, test_size = 0.04)\n",
        "\n",
        "test_set, validation_set = train_test_split(temp_test_set, test_size = 0.5)\n",
        "\n",
        "#creating train and test set\n",
        "train_set_class_0, test_set_class_0_temp = train_test_split(df_classe_0, test_size = 0.3)\n",
        "#test_set_class_0, validation_set_class_0 = train_test_split(test_set_class_0_temp, test_size = 0.5)\n",
        "\n",
        "train_set_class_1, test_set_class_1_temp = train_test_split(df_classe_1, test_size = 0.3)\n",
        "#test_set_class_1, validation_set_class_1 = train_test_split(test_set_class_1_temp, test_size = 0.5)\n",
        "\n",
        "train_set_class_2, test_set_class_2_temp = train_test_split(df_classe_2, test_size = 0.3)\n",
        "#test_set_class_2, validation_set_class_2 = train_test_split(test_set_class_2_temp, test_size = 0.5)\n",
        "\n",
        "train_set_class_3, test_set_class_3_temp = train_test_split(df_classe_3, test_size = 0.3)\n",
        "#test_set_class_3, validation_set_class_3 = train_test_split(test_set_class_3_temp, test_size = 0.5)\n",
        "\n",
        "train_set_class_4, test_set_class_4_temp = train_test_split(df_classe_4, test_size = 0.3)\n",
        "#test_set_class_4, validation_set_class_4 = train_test_split(test_set_class_4_temp, test_size = 0.5)\n",
        "\n",
        "train_set_class_5, test_set_class_5_temp = train_test_split(df_classe_5, test_size = 0.3)\n",
        "#test_set_class_5, validation_set_class_5 = train_test_split(test_set_class_5_temp, test_size = 0.5)\n",
        "\n",
        "train_set_class_6, test_set_class_6_temp = train_test_split(df_classe_6, test_size = 0.3)\n",
        "#test_set_class_6, validation_set_class_6 = train_test_split(test_set_class_6_temp, test_size = 0.5)\n",
        "\n",
        "train_set_class_7, test_set_class_7_temp = train_test_split(df_classe_7, test_size = 0.3)\n",
        "#test_set_class_7, validation_set_class_7 = train_test_split(test_set_class_7_temp, test_size = 0.5)\n",
        "\n",
        "train_set_class_8, test_set_class_8_temp = train_test_split(df_classe_8, test_size = 0.3)\n",
        "#test_set_class_8, validation_set_class_8 = train_test_split(test_set_class_8_temp, test_size = 0.5)\n",
        "\n",
        "train_set_class_9, test_set_class_9_temp = train_test_split(df_classe_9, test_size = 0.3)\n",
        "#test_set_class_9, validation_set_class_9 = train_test_split(test_set_class_9_temp, test_size = 0.5)\n",
        "\n",
        "train_set_class_10, test_set_class_10_temp = train_test_split(df_classe_10, test_size = 0.3)\n",
        "#test_set_class_10, validation_set_class_10 = train_test_split(test_set_class_10_temp, test_size = 0.5)\n",
        "\n",
        "train_set_class_11, test_set_class_11_temp = train_test_split(df_classe_11, test_size = 0.3)\n",
        "#test_set_class_11, validation_set_class_11 = train_test_split(test_set_class_11_temp, test_size = 0.5)\n",
        "\n",
        "df_paradas_de_linha_join_classes_train = pd.concat([train_set_class_0, train_set_class_1, train_set_class_2, train_set_class_3, train_set_class_4, train_set_class_5, train_set_class_6, train_set_class_7, train_set_class_8, train_set_class_9, train_set_class_10, train_set_class_11], axis = 0)\n",
        "df_paradas_de_linha_join_classes_test = pd.concat([test_set_class_0_temp, test_set_class_1_temp, test_set_class_2_temp, test_set_class_3_temp, test_set_class_4_temp, test_set_class_5_temp, test_set_class_6_temp, test_set_class_7_temp, test_set_class_8_temp, test_set_class_9_temp, test_set_class_10_temp, test_set_class_11_temp], axis = 0)\n",
        "# df_paradas_de_linha_join_classes_validation = pd.concat([validation_set_class_0, validation_set_class_1, validation_set_class_2, validation_set_class_3, validation_set_class_4, validation_set_class_5, validation_set_class_6, validation_set_class_7, validation_set_class_8, validation_set_class_9, validation_set_class_10, validation_set_class_11], axis = 0)\n",
        "\n",
        "#shape of the train and test set\n",
        "df_paradas_de_linha_join_classes_train.shape, df_paradas_de_linha_join_classes_test.shape"
      ],
      "execution_count": null,
      "outputs": [
        {
          "output_type": "execute_result",
          "data": {
            "text/plain": [
              "((20244, 7), (8676, 7))"
            ]
          },
          "metadata": {
            "tags": []
          },
          "execution_count": 147
        }
      ]
    },
    {
      "cell_type": "code",
      "metadata": {
        "id": "-e8IDg4teVMT"
      },
      "source": [
        "final_features = paradas_de_linha_feature_data.columns.drop(\"Time_diff_seconds_bins\")\n",
        "target = [\"Time_diff_seconds_bins\"]"
      ],
      "execution_count": null,
      "outputs": []
    },
    {
      "cell_type": "markdown",
      "metadata": {
        "id": "n_o1IeF3eYoW"
      },
      "source": [
        "# **Random Forest**"
      ]
    },
    {
      "cell_type": "code",
      "metadata": {
        "id": "2CgglHpceV7r"
      },
      "source": [
        "from sklearn.ensemble import RandomForestClassifier\n",
        "\n",
        "Xtrain = df_paradas_de_linha_join_classes_train[final_features]\n",
        "Ytrain = df_paradas_de_linha_join_classes_train[target]\n",
        "Xtest = df_paradas_de_linha_join_classes_test[final_features]\n",
        "Ytest = df_paradas_de_linha_join_classes_test[target]"
      ],
      "execution_count": null,
      "outputs": []
    },
    {
      "cell_type": "code",
      "metadata": {
        "id": "4axCuxu2elVD",
        "colab": {
          "base_uri": "https://localhost:8080/"
        },
        "outputId": "b4e48835-34b4-478f-984e-0f68015bedf2"
      },
      "source": [
        "model_random_forest = RandomForestClassifier(n_estimators=200, max_features=6, min_samples_leaf=10, n_jobs=-1, criterion='gini')\n",
        "model_random_forest.fit(Xtrain, Ytrain.values.ravel())"
      ],
      "execution_count": null,
      "outputs": [
        {
          "output_type": "execute_result",
          "data": {
            "text/plain": [
              "RandomForestClassifier(bootstrap=True, ccp_alpha=0.0, class_weight=None,\n",
              "                       criterion='gini', max_depth=None, max_features=6,\n",
              "                       max_leaf_nodes=None, max_samples=None,\n",
              "                       min_impurity_decrease=0.0, min_impurity_split=None,\n",
              "                       min_samples_leaf=12, min_samples_split=2,\n",
              "                       min_weight_fraction_leaf=0.0, n_estimators=200,\n",
              "                       n_jobs=-1, oob_score=False, random_state=None, verbose=0,\n",
              "                       warm_start=False)"
            ]
          },
          "metadata": {
            "tags": []
          },
          "execution_count": 150
        }
      ]
    },
    {
      "cell_type": "code",
      "metadata": {
        "id": "fVPnn2Lzenuu",
        "colab": {
          "base_uri": "https://localhost:8080/"
        },
        "outputId": "1ccc7fb2-7b5a-444f-8590-9c6843e0e9be"
      },
      "source": [
        "duration_time_predict = model_random_forest.predict(Xtest)\n",
        "print(duration_time_predict)"
      ],
      "execution_count": null,
      "outputs": [
        {
          "output_type": "stream",
          "text": [
            "[ 0  0  1 ... 11 11 11]\n"
          ],
          "name": "stdout"
        }
      ]
    },
    {
      "cell_type": "code",
      "metadata": {
        "id": "wy39gqULpYMZ",
        "colab": {
          "base_uri": "https://localhost:8080/"
        },
        "outputId": "3a234d52-56e6-4936-fe5f-6f877d46e570"
      },
      "source": [
        "from sklearn import metrics\n",
        "print(metrics.accuracy_score(Ytest, duration_time_predict))\n"
      ],
      "execution_count": null,
      "outputs": [
        {
          "output_type": "stream",
          "text": [
            "0.367911479944675\n"
          ],
          "name": "stdout"
        }
      ]
    },
    {
      "cell_type": "code",
      "metadata": {
        "id": "d3PaXBdaeucq",
        "colab": {
          "base_uri": "https://localhost:8080/"
        },
        "outputId": "cf278de1-51b5-4554-85ae-2fe7c002ca86"
      },
      "source": [
        "print(metrics.classification_report(duration_time_predict, Ytest))"
      ],
      "execution_count": null,
      "outputs": [
        {
          "output_type": "stream",
          "text": [
            "              precision    recall  f1-score   support\n",
            "\n",
            "           0       0.53      0.31      0.39      1255\n",
            "           1       0.18      0.18      0.18       717\n",
            "           2       0.14      0.18      0.16       573\n",
            "           3       0.17      0.20      0.18       608\n",
            "           4       0.25      0.25      0.25       710\n",
            "           5       0.14      0.17      0.15       606\n",
            "           6       0.17      0.21      0.19       583\n",
            "           7       0.16      0.18      0.17       612\n",
            "           8       0.42      0.31      0.35       990\n",
            "           9       0.46      0.70      0.56       481\n",
            "          10       0.82      0.71      0.76       843\n",
            "          11       0.97      1.00      0.98       698\n",
            "\n",
            "    accuracy                           0.37      8676\n",
            "   macro avg       0.37      0.37      0.36      8676\n",
            "weighted avg       0.40      0.37      0.37      8676\n",
            "\n"
          ],
          "name": "stdout"
        }
      ]
    },
    {
      "cell_type": "markdown",
      "metadata": {
        "id": "6zpTFmT-pggN"
      },
      "source": [
        "# **MLP**"
      ]
    },
    {
      "cell_type": "code",
      "metadata": {
        "id": "A0PoOfjeplSb"
      },
      "source": [
        "train_set, temp_test_set = train_test_split(paradas_de_linha_feature_data, test_size = 0.04)\n",
        "\n",
        "test_set, validation_set = train_test_split(temp_test_set, test_size = 0.5)"
      ],
      "execution_count": null,
      "outputs": []
    },
    {
      "cell_type": "code",
      "metadata": {
        "id": "8CCOdedZpo2t"
      },
      "source": [
        "from sklearn.ensemble import RandomForestClassifier\n",
        "\n",
        "Xtrain = train_set[final_features]\n",
        "Ytrain = train_set[target]\n",
        "Xtest = test_set[final_features]\n",
        "Ytest = test_set[target]"
      ],
      "execution_count": null,
      "outputs": []
    }
  ]
}