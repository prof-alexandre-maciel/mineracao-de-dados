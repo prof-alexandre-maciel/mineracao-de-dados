{
  "nbformat": 4,
  "nbformat_minor": 0,
  "metadata": {
    "colab": {
      "name": "Assign5.ipynb",
      "provenance": [],
      "collapsed_sections": [],
      "include_colab_link": true
    },
    "kernelspec": {
      "name": "python3",
      "display_name": "Python 3"
    }
  },
  "cells": [
    {
      "cell_type": "markdown",
      "metadata": {
        "id": "view-in-github",
        "colab_type": "text"
      },
      "source": [
        "<a href=\"https://colab.research.google.com/github/renanalencar/projeto-md-emocoes/blob/main/entregas/Assign5.ipynb\" target=\"_parent\"><img src=\"https://colab.research.google.com/assets/colab-badge.svg\" alt=\"Open In Colab\"/></a>"
      ]
    },
    {
      "cell_type": "markdown",
      "metadata": {
        "id": "eVpWkQjBwlR0"
      },
      "source": [
        "<h1><b> Pré-processamento"
      ]
    },
    {
      "cell_type": "markdown",
      "metadata": {
        "id": "JDX9iJpdMuTa"
      },
      "source": [
        "<h3><b>Importando as Bibliotecas"
      ]
    },
    {
      "cell_type": "code",
      "metadata": {
        "id": "L8IfY3YBMYuI",
        "colab": {
          "base_uri": "https://localhost:8080/"
        },
        "outputId": "c0f0188a-07e0-40d4-ee6f-7c159e79da97"
      },
      "source": [
        "import pandas as pd\n",
        "import numpy as np\n",
        "from matplotlib import pyplot\n",
        "from google.colab import drive\n",
        "drive.mount('/content/drive')"
      ],
      "execution_count": null,
      "outputs": [
        {
          "output_type": "stream",
          "text": [
            "Drive already mounted at /content/drive; to attempt to forcibly remount, call drive.mount(\"/content/drive\", force_remount=True).\n"
          ],
          "name": "stdout"
        }
      ]
    },
    {
      "cell_type": "markdown",
      "metadata": {
        "id": "pPC3q7blldrA"
      },
      "source": [
        "<b><h3>Importando a Base de dados"
      ]
    },
    {
      "cell_type": "code",
      "metadata": {
        "id": "EJLTzPmoTQK8"
      },
      "source": [
        "tedio = pd.read_excel('/content/drive/MyDrive/dadosTedioB.xlsx')\n",
        "tedio.drop('p24.1',axis=1,inplace=True)\n",
        "estresse = pd.read_excel('/content/drive/MyDrive/dadosEstresseB.xlsx')\n",
        "estresse.drop('p24.1',axis=1,inplace=True)\n",
        "tedio = tedio.drop([\"game_name\"], axis=1)"
      ],
      "execution_count": null,
      "outputs": []
    },
    {
      "cell_type": "markdown",
      "metadata": {
        "id": "Up9a7K7DKxhC"
      },
      "source": [
        "<b><h3>Calculando os valores em zeros(não nulos, mas sem capturas)"
      ]
    },
    {
      "cell_type": "code",
      "metadata": {
        "colab": {
          "base_uri": "https://localhost:8080/"
        },
        "id": "eWVC52kenSGB",
        "outputId": "4425a29b-3e96-42ce-90c6-a4210d8629a3"
      },
      "source": [
        "tedio['p2'].eq(0).sum()"
      ],
      "execution_count": null,
      "outputs": [
        {
          "output_type": "execute_result",
          "data": {
            "text/plain": [
              "2949"
            ]
          },
          "metadata": {
            "tags": []
          },
          "execution_count": 94
        }
      ]
    },
    {
      "cell_type": "markdown",
      "metadata": {
        "id": "GpWAM-0qw5kz"
      },
      "source": [
        "<b><h3> Calculando a média"
      ]
    },
    {
      "cell_type": "code",
      "metadata": {
        "colab": {
          "base_uri": "https://localhost:8080/"
        },
        "id": "Fc_gdgQdrUTu",
        "outputId": "01e828f3-faa0-4eff-9604-03c40ed9b4e6"
      },
      "source": [
        "print('A média é ' + str(tedio['p2'].mean()))"
      ],
      "execution_count": null,
      "outputs": [
        {
          "output_type": "stream",
          "text": [
            "A média é 0.011632294659395673\n"
          ],
          "name": "stdout"
        }
      ]
    },
    {
      "cell_type": "markdown",
      "metadata": {
        "id": "APSPXAybxKcj"
      },
      "source": [
        "<h3><b> Substituíndo os valores em zero pela média"
      ]
    },
    {
      "cell_type": "code",
      "metadata": {
        "id": "H73FPMWFUrzs"
      },
      "source": [
        "media = tedio\n",
        "media['p2'] = media['p2'].replace(0,media['p2'].mean())"
      ],
      "execution_count": null,
      "outputs": []
    },
    {
      "cell_type": "markdown",
      "metadata": {
        "id": "rdp1qo4vxNCr"
      },
      "source": [
        "<b><h3> Nova verificação de valores em 0"
      ]
    },
    {
      "cell_type": "code",
      "metadata": {
        "colab": {
          "base_uri": "https://localhost:8080/"
        },
        "id": "9wYAg0fFnZJi",
        "outputId": "515d928b-89e8-4f27-9d8c-55e4a9740913"
      },
      "source": [
        "media['p2'].eq(0).sum()"
      ],
      "execution_count": null,
      "outputs": [
        {
          "output_type": "execute_result",
          "data": {
            "text/plain": [
              "0"
            ]
          },
          "metadata": {
            "tags": []
          },
          "execution_count": 97
        }
      ]
    },
    {
      "cell_type": "markdown",
      "metadata": {
        "id": "C-zYn2nCxrAL"
      },
      "source": [
        "<b><h3>Descrição dos dados"
      ]
    },
    {
      "cell_type": "code",
      "metadata": {
        "colab": {
          "base_uri": "https://localhost:8080/"
        },
        "id": "hi3c-SUvxpZz",
        "outputId": "ad5a71f7-960c-4015-e5db-ebe6f7118f25"
      },
      "source": [
        "media['p2'].describe()"
      ],
      "execution_count": null,
      "outputs": [
        {
          "output_type": "execute_result",
          "data": {
            "text/plain": [
              "count    27803.000000\n",
              "mean         0.012866\n",
              "std          0.246022\n",
              "min         -2.077938\n",
              "25%         -0.091652\n",
              "50%          0.011632\n",
              "75%          0.107585\n",
              "max          4.122911\n",
              "Name: p2, dtype: float64"
            ]
          },
          "metadata": {
            "tags": []
          },
          "execution_count": 99
        }
      ]
    },
    {
      "cell_type": "markdown",
      "metadata": {
        "id": "U0AXpch-x3lL"
      },
      "source": [
        "<b><h3> Histogramas para comparação"
      ]
    },
    {
      "cell_type": "markdown",
      "metadata": {
        "id": "okOb33Q3x9Iz"
      },
      "source": [
        "<b><h4> Base Original"
      ]
    },
    {
      "cell_type": "code",
      "metadata": {
        "colab": {
          "base_uri": "https://localhost:8080/",
          "height": 282
        },
        "id": "ZsMizPhUocpf",
        "outputId": "357ca514-81eb-4a7c-ae4f-743c04b36a54"
      },
      "source": [
        "tedio['p2'].plot.hist(bins=6, alpha=0.5)"
      ],
      "execution_count": null,
      "outputs": [
        {
          "output_type": "execute_result",
          "data": {
            "text/plain": [
              "<matplotlib.axes._subplots.AxesSubplot at 0x7f3c0f4fb150>"
            ]
          },
          "metadata": {
            "tags": []
          },
          "execution_count": 100
        },
        {
          "output_type": "display_data",
          "data": {
            "image/png": "[encoded data removed]",
            "text/plain": [
              "<Figure size 432x288 with 1 Axes>"
            ]
          },
          "metadata": {
            "tags": [],
            "needs_background": "light"
          }
        }
      ]
    },
    {
      "cell_type": "markdown",
      "metadata": {
        "id": "tDz4L0pZyAWt"
      },
      "source": [
        "<b><h4> Após a substituição dos 0s pela média"
      ]
    },
    {
      "cell_type": "code",
      "metadata": {
        "id": "JT_0lFHOO69i",
        "colab": {
          "base_uri": "https://localhost:8080/",
          "height": 282
        },
        "outputId": "e769e5d9-ee55-4570-89f9-cc11f482fa2f"
      },
      "source": [
        "media['p2'].plot.hist(bins=6, alpha=0.5)"
      ],
      "execution_count": null,
      "outputs": [
        {
          "output_type": "execute_result",
          "data": {
            "text/plain": [
              "<matplotlib.axes._subplots.AxesSubplot at 0x7f3c0fbcca10>"
            ]
          },
          "metadata": {
            "tags": []
          },
          "execution_count": 101
        },
        {
          "output_type": "display_data",
          "data": {
            "image/png": "[encoded data removed]",
            "text/plain": [
              "<Figure size 432x288 with 1 Axes>"
            ]
          },
          "metadata": {
            "tags": [],
            "needs_background": "light"
          }
        }
      ]
    },
    {
      "cell_type": "markdown",
      "metadata": {
        "id": "SbqRnzaI2vOy"
      },
      "source": [
        "<b><h3>Gráfico de dispersão"
      ]
    },
    {
      "cell_type": "markdown",
      "metadata": {
        "id": "haQ2JZEDyQ80"
      },
      "source": [
        "<b><h4> Base Original"
      ]
    },
    {
      "cell_type": "code",
      "metadata": {
        "colab": {
          "base_uri": "https://localhost:8080/",
          "height": 312
        },
        "id": "DQl23XUN2_Vb",
        "outputId": "72901ed0-b144-43f4-f8cc-efdb54f47c38"
      },
      "source": [
        "tedio.plot.scatter(x='p2', y='timestamp',title=\"Dispersão de p2 em Tédio\")"
      ],
      "execution_count": null,
      "outputs": [
        {
          "output_type": "execute_result",
          "data": {
            "text/plain": [
              "<matplotlib.axes._subplots.AxesSubplot at 0x7f3c0d6b6390>"
            ]
          },
          "metadata": {
            "tags": []
          },
          "execution_count": 102
        },
        {
          "output_type": "display_data",
          "data": {
            "image/png": "[encoded data removed]",
            "text/plain": [
              "<Figure size 432x288 with 1 Axes>"
            ]
          },
          "metadata": {
            "tags": [],
            "needs_background": "light"
          }
        }
      ]
    },
    {
      "cell_type": "markdown",
      "metadata": {
        "id": "fUPwoIIQybOp"
      },
      "source": [
        "<b><h4> Após a substituição dos 0s pela média"
      ]
    },
    {
      "cell_type": "code",
      "metadata": {
        "colab": {
          "base_uri": "https://localhost:8080/",
          "height": 312
        },
        "id": "cvWor1RjZ5OJ",
        "outputId": "fabfa76a-7204-4ec1-8552-4fbc1c9ecdaa"
      },
      "source": [
        "media.plot.scatter(x='p2', y='timestamp',title=\"Dispersão de p2 em Tédio\")"
      ],
      "execution_count": null,
      "outputs": [
        {
          "output_type": "execute_result",
          "data": {
            "text/plain": [
              "<matplotlib.axes._subplots.AxesSubplot at 0x7f3c0d2e5f10>"
            ]
          },
          "metadata": {
            "tags": []
          },
          "execution_count": 103
        },
        {
          "output_type": "display_data",
          "data": {
            "image/png": "[encoded data removed]",
            "text/plain": [
              "<Figure size 432x288 with 1 Axes>"
            ]
          },
          "metadata": {
            "tags": [],
            "needs_background": "light"
          }
        }
      ]
    },
    {
      "cell_type": "markdown",
      "metadata": {
        "id": "c7dU1YTqNOLj"
      },
      "source": [
        "<b><h3>Boxplot"
      ]
    },
    {
      "cell_type": "markdown",
      "metadata": {
        "id": "JblD9ANmyisS"
      },
      "source": [
        "<b><h4> Base Original"
      ]
    },
    {
      "cell_type": "code",
      "metadata": {
        "colab": {
          "base_uri": "https://localhost:8080/",
          "height": 282
        },
        "id": "11xEAXiZUNiz",
        "outputId": "299d1b59-db8f-400c-aec7-8265eae75bab"
      },
      "source": [
        "color = {\n",
        "  \"boxes\": \"DarkGreen\",\n",
        "  \"whiskers\": \"DarkOrange\",\n",
        "  \"medians\": \"DarkBlue\",\n",
        "  \"caps\": \"Gray\",\n",
        "}\n",
        "\n",
        "tedio['p2'].plot.box(color=color, sym=\"r+\")"
      ],
      "execution_count": null,
      "outputs": [
        {
          "output_type": "execute_result",
          "data": {
            "text/plain": [
              "<matplotlib.axes._subplots.AxesSubplot at 0x7f3c0e71efd0>"
            ]
          },
          "metadata": {
            "tags": []
          },
          "execution_count": 104
        },
        {
          "output_type": "display_data",
          "data": {
            "image/png": "[encoded data removed]",
            "text/plain": [
              "<Figure size 432x288 with 1 Axes>"
            ]
          },
          "metadata": {
            "tags": [],
            "needs_background": "light"
          }
        }
      ]
    },
    {
      "cell_type": "markdown",
      "metadata": {
        "id": "XQ0DpPm0yn37"
      },
      "source": [
        "<b><h4> Após a substituição dos 0s pela média"
      ]
    },
    {
      "cell_type": "code",
      "metadata": {
        "colab": {
          "base_uri": "https://localhost:8080/",
          "height": 282
        },
        "id": "AyHxNUQgatlZ",
        "outputId": "d47a8183-2ecc-4774-f7c4-85a724343693"
      },
      "source": [
        "color = {\n",
        "  \"boxes\": \"DarkGreen\",\n",
        "  \"whiskers\": \"DarkOrange\",\n",
        "  \"medians\": \"DarkBlue\",\n",
        "  \"caps\": \"Gray\",\n",
        "}\n",
        "\n",
        "media['p2'].plot.box(color=color, sym=\"r+\")"
      ],
      "execution_count": null,
      "outputs": [
        {
          "output_type": "execute_result",
          "data": {
            "text/plain": [
              "<matplotlib.axes._subplots.AxesSubplot at 0x7f3c0c2bef10>"
            ]
          },
          "metadata": {
            "tags": []
          },
          "execution_count": 105
        },
        {
          "output_type": "display_data",
          "data": {
            "image/png": "[encoded data removed]",
            "text/plain": [
              "<Figure size 432x288 with 1 Axes>"
            ]
          },
          "metadata": {
            "tags": [],
            "needs_background": "light"
          }
        }
      ]
    },
    {
      "cell_type": "markdown",
      "metadata": {
        "id": "yvMZxTfRsGZG"
      },
      "source": [
        "<b><h3>Verificação e retirada de Outlier"
      ]
    },
    {
      "cell_type": "markdown",
      "metadata": {
        "id": "jw0pV1cHyuNi"
      },
      "source": [
        "<b><h4> Cálculo do limite superior"
      ]
    },
    {
      "cell_type": "code",
      "metadata": {
        "colab": {
          "base_uri": "https://localhost:8080/"
        },
        "id": "BQyHdzW4sKR_",
        "outputId": "16edb9e7-0690-46f3-c19c-98ad72da82b7"
      },
      "source": [
        "maximo = media['p2'].mean() + 2*media['p2'].std()\n",
        "maximo "
      ],
      "execution_count": null,
      "outputs": [
        {
          "output_type": "execute_result",
          "data": {
            "text/plain": [
              "0.5049099434141416"
            ]
          },
          "metadata": {
            "tags": []
          },
          "execution_count": 106
        }
      ]
    },
    {
      "cell_type": "markdown",
      "metadata": {
        "id": "NKiec_qTyziD"
      },
      "source": [
        "<b><h4> Cálculo do limite inferior"
      ]
    },
    {
      "cell_type": "code",
      "metadata": {
        "colab": {
          "base_uri": "https://localhost:8080/"
        },
        "id": "r1akvTkJsTZW",
        "outputId": "9db5119c-dc8b-465d-8e33-ba7d3516c6bc"
      },
      "source": [
        "minimo = media['p2'].mean() - 2*media['p2'].std()\n",
        "minimo"
      ],
      "execution_count": null,
      "outputs": [
        {
          "output_type": "execute_result",
          "data": {
            "text/plain": [
              "-0.4791777328350122"
            ]
          },
          "metadata": {
            "tags": []
          },
          "execution_count": 107
        }
      ]
    },
    {
      "cell_type": "markdown",
      "metadata": {
        "id": "efr6eLucy2KC"
      },
      "source": [
        "<b><h4> Aplicação dos limites superior e inferior como filtro para base"
      ]
    },
    {
      "cell_type": "code",
      "metadata": {
        "id": "dWwbTINMtNRi"
      },
      "source": [
        "filtro1 = media['p2'] <= maximo\n",
        "filtro2 = media['p2'] >= minimo\n",
        "media = media[filtro1]\n",
        "media = media[filtro2]"
      ],
      "execution_count": null,
      "outputs": []
    },
    {
      "cell_type": "code",
      "metadata": {
        "colab": {
          "base_uri": "https://localhost:8080/"
        },
        "id": "tI65CTrXuu-V",
        "outputId": "a7d29a6f-d2fd-4ccf-f5d3-ab40d87e5cfe"
      },
      "source": [
        "print('O tamanho era de ' + str(len(tedio['p2'])) + ' e passa a ser de ' + str(len(media['p2'])))\n",
        "print('A diferença é de ' +  str((len(tedio['p2']) -len(media['p2']))))"
      ],
      "execution_count": null,
      "outputs": [
        {
          "output_type": "stream",
          "text": [
            "O tamanho era de 27971 e passa a ser de 26342\n",
            "A diferença é de 1629\n"
          ],
          "name": "stdout"
        }
      ]
    },
    {
      "cell_type": "markdown",
      "metadata": {
        "id": "HkiK_xsEzP9L"
      },
      "source": [
        "<b><h3> Histogramas para comparação"
      ]
    },
    {
      "cell_type": "markdown",
      "metadata": {
        "id": "oJdAT_IXzWLz"
      },
      "source": [
        "<b><h4> Base Original"
      ]
    },
    {
      "cell_type": "code",
      "metadata": {
        "colab": {
          "base_uri": "https://localhost:8080/",
          "height": 282
        },
        "id": "wbKBfRBNzISN",
        "outputId": "cd198702-ba23-406c-b541-8fd824c90ce2"
      },
      "source": [
        "tedio['p2'].plot.hist(bins=6, alpha=0.5)"
      ],
      "execution_count": null,
      "outputs": [
        {
          "output_type": "execute_result",
          "data": {
            "text/plain": [
              "<matplotlib.axes._subplots.AxesSubplot at 0x7f3c076a6710>"
            ]
          },
          "metadata": {
            "tags": []
          },
          "execution_count": 113
        },
        {
          "output_type": "display_data",
          "data": {
            "image/png": "[encoded data removed]",
            "text/plain": [
              "<Figure size 432x288 with 1 Axes>"
            ]
          },
          "metadata": {
            "tags": [],
            "needs_background": "light"
          }
        }
      ]
    },
    {
      "cell_type": "markdown",
      "metadata": {
        "id": "j9UdQM4AzVGm"
      },
      "source": [
        "<b><h4> Após a retirada de outliers "
      ]
    },
    {
      "cell_type": "code",
      "metadata": {
        "colab": {
          "base_uri": "https://localhost:8080/",
          "height": 282
        },
        "id": "fYpkm59qv0__",
        "outputId": "c59750c3-711b-44dc-b4e4-91a04945d8f6"
      },
      "source": [
        "media['p2'].plot.hist(bins=6, alpha=0.5)"
      ],
      "execution_count": null,
      "outputs": [
        {
          "output_type": "execute_result",
          "data": {
            "text/plain": [
              "<matplotlib.axes._subplots.AxesSubplot at 0x7f3c0fc70910>"
            ]
          },
          "metadata": {
            "tags": []
          },
          "execution_count": 114
        },
        {
          "output_type": "display_data",
          "data": {
            "image/png": "[encoded data removed]",
            "text/plain": [
              "<Figure size 432x288 with 1 Axes>"
            ]
          },
          "metadata": {
            "tags": [],
            "needs_background": "light"
          }
        }
      ]
    },
    {
      "cell_type": "markdown",
      "metadata": {
        "id": "VQp0Fa1Jzdny"
      },
      "source": [
        "<b><h3> Gráfico de Dispersão"
      ]
    },
    {
      "cell_type": "markdown",
      "metadata": {
        "id": "CJtR2NQkz9Xh"
      },
      "source": [
        "<b><h4> Base Original"
      ]
    },
    {
      "cell_type": "code",
      "metadata": {
        "colab": {
          "base_uri": "https://localhost:8080/",
          "height": 312
        },
        "id": "AI90KTNTzsui",
        "outputId": "a65ea6ca-44be-4977-861d-82db4eae26ae"
      },
      "source": [
        "tedio.plot.scatter(x='p2', y='timestamp',title=\"Dispersão de p2 em Tédio\")"
      ],
      "execution_count": null,
      "outputs": [
        {
          "output_type": "execute_result",
          "data": {
            "text/plain": [
              "<matplotlib.axes._subplots.AxesSubplot at 0x7f3c05a730d0>"
            ]
          },
          "metadata": {
            "tags": []
          },
          "execution_count": 115
        },
        {
          "output_type": "display_data",
          "data": {
            "image/png": "[encoded data removed]",
            "text/plain": [
              "<Figure size 432x288 with 1 Axes>"
            ]
          },
          "metadata": {
            "tags": [],
            "needs_background": "light"
          }
        }
      ]
    },
    {
      "cell_type": "markdown",
      "metadata": {
        "id": "ZyBKXpS2z7_H"
      },
      "source": [
        "<b><h4> Após a retirada de outliers "
      ]
    },
    {
      "cell_type": "code",
      "metadata": {
        "colab": {
          "base_uri": "https://localhost:8080/",
          "height": 312
        },
        "id": "j3Ho2O5ewMnH",
        "outputId": "249a63a4-d7a0-4cf9-facd-37ece17f18de"
      },
      "source": [
        "media.plot.scatter(x='p2', y='timestamp',title=\"Dispersão de p2 em Tédio\")"
      ],
      "execution_count": null,
      "outputs": [
        {
          "output_type": "execute_result",
          "data": {
            "text/plain": [
              "<matplotlib.axes._subplots.AxesSubplot at 0x7f3c05aef790>"
            ]
          },
          "metadata": {
            "tags": []
          },
          "execution_count": 116
        },
        {
          "output_type": "display_data",
          "data": {
            "image/png": "[encoded data removed]",
            "text/plain": [
              "<Figure size 432x288 with 1 Axes>"
            ]
          },
          "metadata": {
            "tags": [],
            "needs_background": "light"
          }
        }
      ]
    },
    {
      "cell_type": "markdown",
      "metadata": {
        "id": "u0oW4tRAzjyx"
      },
      "source": [
        "<b><h3> Boxplot"
      ]
    },
    {
      "cell_type": "markdown",
      "metadata": {
        "id": "295FQd8I0CgB"
      },
      "source": [
        "<b><h4> Base Original"
      ]
    },
    {
      "cell_type": "code",
      "metadata": {
        "colab": {
          "base_uri": "https://localhost:8080/",
          "height": 282
        },
        "id": "JmNaEyJZ0GAW",
        "outputId": "5d9bca53-59d9-47a8-fb85-b509202572f4"
      },
      "source": [
        "color = {\n",
        "  \"boxes\": \"DarkGreen\",\n",
        "  \"whiskers\": \"DarkOrange\",\n",
        "  \"medians\": \"DarkBlue\",\n",
        "  \"caps\": \"Gray\",\n",
        "}\n",
        "\n",
        "tedio['p2'].plot.box(color=color, sym=\"r+\")"
      ],
      "execution_count": null,
      "outputs": [
        {
          "output_type": "execute_result",
          "data": {
            "text/plain": [
              "<matplotlib.axes._subplots.AxesSubplot at 0x7f3c059d5190>"
            ]
          },
          "metadata": {
            "tags": []
          },
          "execution_count": 117
        },
        {
          "output_type": "display_data",
          "data": {
            "image/png": "[encoded data removed]",
            "text/plain": [
              "<Figure size 432x288 with 1 Axes>"
            ]
          },
          "metadata": {
            "tags": [],
            "needs_background": "light"
          }
        }
      ]
    },
    {
      "cell_type": "markdown",
      "metadata": {
        "id": "vHty66AA0A4x"
      },
      "source": [
        "<b><h4> Após a retirada de outliers "
      ]
    },
    {
      "cell_type": "code",
      "metadata": {
        "colab": {
          "base_uri": "https://localhost:8080/",
          "height": 282
        },
        "id": "yC6hLLEHwFBj",
        "outputId": "798f41cb-6405-44f2-8a71-47c903e3dbab"
      },
      "source": [
        "color = {\n",
        "  \"boxes\": \"DarkGreen\",\n",
        "  \"whiskers\": \"DarkOrange\",\n",
        "  \"medians\": \"DarkBlue\",\n",
        "  \"caps\": \"Gray\",\n",
        "}\n",
        "\n",
        "media['p2'].plot.box(color=color, sym=\"r+\")"
      ],
      "execution_count": null,
      "outputs": [
        {
          "output_type": "execute_result",
          "data": {
            "text/plain": [
              "<matplotlib.axes._subplots.AxesSubplot at 0x7f3c059ff110>"
            ]
          },
          "metadata": {
            "tags": []
          },
          "execution_count": 118
        },
        {
          "output_type": "display_data",
          "data": {
            "image/png": "[encoded data removed]",
            "text/plain": [
              "<Figure size 432x288 with 1 Axes>"
            ]
          },
          "metadata": {
            "tags": [],
            "needs_background": "light"
          }
        }
      ]
    },
    {
      "cell_type": "markdown",
      "metadata": {
        "id": "XgJvOksb19Bq"
      },
      "source": [
        "<h2><b> Descrição final dos dados"
      ]
    },
    {
      "cell_type": "markdown",
      "metadata": {
        "id": "lO1s7fTO62uU"
      },
      "source": [
        "<h4><b> Base Original"
      ]
    },
    {
      "cell_type": "code",
      "metadata": {
        "colab": {
          "base_uri": "https://localhost:8080/"
        },
        "id": "PyZgrntR2kPF",
        "outputId": "00e15f13-dfb7-425a-d284-b2f6823259b5"
      },
      "source": [
        "tedio['p2'].describe()"
      ],
      "execution_count": null,
      "outputs": [
        {
          "output_type": "execute_result",
          "data": {
            "text/plain": [
              "count    27803.000000\n",
              "mean         0.012866\n",
              "std          0.246022\n",
              "min         -2.077938\n",
              "25%         -0.091652\n",
              "50%          0.011632\n",
              "75%          0.107585\n",
              "max          4.122911\n",
              "Name: p2, dtype: float64"
            ]
          },
          "metadata": {
            "tags": []
          },
          "execution_count": 120
        }
      ]
    },
    {
      "cell_type": "code",
      "metadata": {
        "colab": {
          "base_uri": "https://localhost:8080/"
        },
        "id": "CGjaRdRs53Xo",
        "outputId": "2e205453-efef-4846-8280-a4890d739c3e"
      },
      "source": [
        "print('A amplitude é de '+ str(tedio['p2'].max() - tedio['p2'].min()))"
      ],
      "execution_count": null,
      "outputs": [
        {
          "output_type": "stream",
          "text": [
            "A amplitude é de 6.200849101570231\n"
          ],
          "name": "stdout"
        }
      ]
    },
    {
      "cell_type": "markdown",
      "metadata": {
        "id": "esHeLvuE2tBo"
      },
      "source": [
        "<h4><b> Após a retirada dos outliers"
      ]
    },
    {
      "cell_type": "code",
      "metadata": {
        "colab": {
          "base_uri": "https://localhost:8080/"
        },
        "id": "48mylzQt2CGn",
        "outputId": "8f7ec0e5-c15b-409f-f2ab-edaee885fba5"
      },
      "source": [
        "media['p2'].describe()"
      ],
      "execution_count": null,
      "outputs": [
        {
          "output_type": "execute_result",
          "data": {
            "text/plain": [
              "count    26342.000000\n",
              "mean         0.010952\n",
              "std          0.157471\n",
              "min         -0.478066\n",
              "25%         -0.085624\n",
              "50%          0.011632\n",
              "75%          0.098301\n",
              "max          0.503445\n",
              "Name: p2, dtype: float64"
            ]
          },
          "metadata": {
            "tags": []
          },
          "execution_count": 119
        }
      ]
    },
    {
      "cell_type": "code",
      "metadata": {
        "colab": {
          "base_uri": "https://localhost:8080/"
        },
        "id": "zu5ULXfW6Gr7",
        "outputId": "95d7cc7c-3af1-4f3a-aca7-f3a89b475904"
      },
      "source": [
        "print('A amplitude é de '+ str(media['p2'].max() - media['p2'].min()))"
      ],
      "execution_count": null,
      "outputs": [
        {
          "output_type": "stream",
          "text": [
            "A amplitude é de 0.9815105755228521\n"
          ],
          "name": "stdout"
        }
      ]
    }
  ]
}