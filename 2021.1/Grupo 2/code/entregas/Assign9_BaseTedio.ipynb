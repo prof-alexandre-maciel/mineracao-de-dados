{
  "nbformat": 4,
  "nbformat_minor": 0,
  "metadata": {
    "colab": {
      "name": "Assign9_BaseTedio.ipynb",
      "provenance": [],
      "machine_shape": "hm",
      "include_colab_link": true
    },
    "kernelspec": {
      "display_name": "Python 3",
      "name": "python3"
    },
    "language_info": {
      "name": "python"
    }
  },
  "cells": [
    {
      "cell_type": "markdown",
      "metadata": {
        "id": "view-in-github",
        "colab_type": "text"
      },
      "source": [
        "<a href=\"https://colab.research.google.com/github/renanalencar/projeto-md-emocoes/blob/main/Assign9_BaseTedio.ipynb\" target=\"_parent\"><img src=\"https://colab.research.google.com/assets/colab-badge.svg\" alt=\"Open In Colab\"/></a>"
      ]
    },
    {
      "cell_type": "markdown",
      "metadata": {
        "id": "5pOn8CDHEtl1"
      },
      "source": [
        "# 1. Dados"
      ]
    },
    {
      "cell_type": "code",
      "metadata": {
        "id": "Uvx59ETwExt9",
        "colab": {
          "base_uri": "https://localhost:8080/"
        },
        "outputId": "7068fcb2-b25c-4f0b-e825-7b97f78a3ee8"
      },
      "source": [
        "from google.colab import drive\n",
        "drive.mount('/content/drive')"
      ],
      "execution_count": null,
      "outputs": [
        {
          "output_type": "stream",
          "text": [
            "Drive already mounted at /content/drive; to attempt to forcibly remount, call drive.mount(\"/content/drive\", force_remount=True).\n"
          ],
          "name": "stdout"
        }
      ]
    },
    {
      "cell_type": "code",
      "metadata": {
        "id": "imjqTSPSE0N8"
      },
      "source": [
        "# importar os pacotes necessários\n",
        "import pandas as pd\n",
        "import matplotlib.pyplot as plt\n",
        "import numpy as np"
      ],
      "execution_count": null,
      "outputs": []
    },
    {
      "cell_type": "code",
      "metadata": {
        "id": "tqzHS6G1E5Ii",
        "colab": {
          "base_uri": "https://localhost:8080/",
          "height": 231
        },
        "outputId": "afe64b0f-2325-47e3-f4e5-eaf5ef0521ff"
      },
      "source": [
        "arquivo_tedio = \"/content/drive/Shareddrives/MINERAÇÃO DE DADOS ENG74291/Database/dadosTedioB.xlsx\"\n",
        "df_tedio = pd.read_excel(arquivo_tedio)\n",
        "\n",
        "# CSV apenas com as emoções. Pontos euclidianos foram removidos\n",
        "# deixar no dataframe somente com as linhas correspondentes ao game_id 1\n",
        "df_tedio = df_tedio.drop(columns=['game_name','p1', 'p2', 'p3', 'p4', 'p5', 'p6', 'p7', 'p8', 'p9', 'p10', 'p11', 'p12', 'p13', 'p14', 'p15', 'p16', 'p17', 'p18', 'p19', 'p20', 'p21', 'p22', 'p23','p24'])\n",
        "\n",
        "filtro  = df_tedio[\"game_id\"] == 1\n",
        "df_tedio = df_tedio[filtro]\n",
        "\n",
        "# visualizar as 8 primeiras entradas do df\n",
        "df_tedio.head(8)"
      ],
      "execution_count": null,
      "outputs": [
        {
          "output_type": "error",
          "ename": "NameError",
          "evalue": "ignored",
          "traceback": [
            "\u001b[0;31m---------------------------------------------------------------------------\u001b[0m",
            "\u001b[0;31mNameError\u001b[0m                                 Traceback (most recent call last)",
            "\u001b[0;32m<ipython-input-1-d9239a3d9a3c>\u001b[0m in \u001b[0;36m<module>\u001b[0;34m()\u001b[0m\n\u001b[1;32m      1\u001b[0m \u001b[0marquivo_tedio\u001b[0m \u001b[0;34m=\u001b[0m \u001b[0;34m\"/content/drive/Shareddrives/MINERAÇÃO DE DADOS ENG74291/Database/dadosTedioB.xlsx\"\u001b[0m\u001b[0;34m\u001b[0m\u001b[0;34m\u001b[0m\u001b[0m\n\u001b[0;32m----> 2\u001b[0;31m \u001b[0mdf_tedio\u001b[0m \u001b[0;34m=\u001b[0m \u001b[0mpd\u001b[0m\u001b[0;34m.\u001b[0m\u001b[0mread_excel\u001b[0m\u001b[0;34m(\u001b[0m\u001b[0marquivo_tedio\u001b[0m\u001b[0;34m)\u001b[0m\u001b[0;34m\u001b[0m\u001b[0;34m\u001b[0m\u001b[0m\n\u001b[0m\u001b[1;32m      3\u001b[0m \u001b[0;34m\u001b[0m\u001b[0m\n\u001b[1;32m      4\u001b[0m \u001b[0;31m# CSV apenas com as emoções. Pontos euclidianos foram removidos\u001b[0m\u001b[0;34m\u001b[0m\u001b[0;34m\u001b[0m\u001b[0;34m\u001b[0m\u001b[0m\n\u001b[1;32m      5\u001b[0m \u001b[0;31m# deixar no dataframe somente com as linhas correspondentes ao game_id 1\u001b[0m\u001b[0;34m\u001b[0m\u001b[0;34m\u001b[0m\u001b[0;34m\u001b[0m\u001b[0m\n",
            "\u001b[0;31mNameError\u001b[0m: name 'pd' is not defined"
          ]
        }
      ]
    },
    {
      "cell_type": "code",
      "metadata": {
        "id": "_PgrEKH1E9DD",
        "colab": {
          "base_uri": "https://localhost:8080/"
        },
        "outputId": "65a34ea3-7665-45df-8d8c-f200b4103588"
      },
      "source": [
        "# verificar o tamanho do df\n",
        "print(\"Variáveis:\\t {}\".format(df_tedio.shape[1]))\n",
        "print(\"Entradas:\\t {}\".format(df_tedio.shape[0]))"
      ],
      "execution_count": null,
      "outputs": [
        {
          "output_type": "stream",
          "text": [
            "Variáveis:\t 9\n",
            "Entradas:\t 18278\n"
          ],
          "name": "stdout"
        }
      ]
    },
    {
      "cell_type": "code",
      "metadata": {
        "id": "4a67XjVOE_Qr",
        "colab": {
          "base_uri": "https://localhost:8080/"
        },
        "outputId": "23a911c3-cfd7-4dbb-e7be-79558c8b6f1e"
      },
      "source": [
        "# vizualisar os nomes das colunas\n",
        "df_tedio.columns"
      ],
      "execution_count": null,
      "outputs": [
        {
          "output_type": "execute_result",
          "data": {
            "text/plain": [
              "Index(['game_id', 'uuid', 'timestamp', 'angry', 'disgusted', 'fear', 'sad',\n",
              "       'surprised', 'happy'],\n",
              "      dtype='object')"
            ]
          },
          "metadata": {
            "tags": []
          },
          "execution_count": 40
        }
      ]
    },
    {
      "cell_type": "code",
      "metadata": {
        "id": "deRAC6RfFBJU",
        "colab": {
          "base_uri": "https://localhost:8080/"
        },
        "outputId": "eb8259c2-a74a-43c6-a297-697c29cf3569"
      },
      "source": [
        "# descobrir os tipos das variáveis\n",
        "df_tedio.dtypes"
      ],
      "execution_count": null,
      "outputs": [
        {
          "output_type": "execute_result",
          "data": {
            "text/plain": [
              "game_id        int64\n",
              "uuid           int64\n",
              "timestamp      int64\n",
              "angry        float64\n",
              "disgusted    float64\n",
              "fear         float64\n",
              "sad          float64\n",
              "surprised    float64\n",
              "happy        float64\n",
              "dtype: object"
            ]
          },
          "metadata": {
            "tags": []
          },
          "execution_count": 41
        }
      ]
    },
    {
      "cell_type": "markdown",
      "metadata": {
        "id": "9UjhHXvXFGf0"
      },
      "source": [
        "## 1.2 Criando classes para a base de dados"
      ]
    },
    {
      "cell_type": "code",
      "metadata": {
        "id": "7X1hKMjtFHU1"
      },
      "source": [
        "# função para classificar os dados como tédio (1) ou estresse (0)\n",
        "def def_tedio(c):\n",
        "  if c['angry'] >= 0.1 and c['disgusted'] >= 0.1:\n",
        "    return 1\n",
        "  elif c['sad'] >= 0.1 and c['surprised'] >= 0.1:\n",
        "    return 1\n",
        "  else:\n",
        "    return 0"
      ],
      "execution_count": null,
      "outputs": []
    },
    {
      "cell_type": "code",
      "metadata": {
        "id": "WySuYpemFKJ7",
        "colab": {
          "base_uri": "https://localhost:8080/",
          "height": 297
        },
        "outputId": "0f41ea99-e615-4924-f459-e8f9aa40d684"
      },
      "source": [
        "# criar a coluna 'target' para o df_tedio\n",
        "df_tratado = pd.DataFrame(df_tedio)\n",
        "\n",
        "df_tratado['target'] = df_tedio.apply(def_tedio, axis=1)\n",
        "\n",
        "df_tratado.head(8)"
      ],
      "execution_count": null,
      "outputs": [
        {
          "output_type": "execute_result",
          "data": {
            "text/html": [
              "<div>\n",
              "<style scoped>\n",
              "    .dataframe tbody tr th:only-of-type {\n",
              "        vertical-align: middle;\n",
              "    }\n",
              "\n",
              "    .dataframe tbody tr th {\n",
              "        vertical-align: top;\n",
              "    }\n",
              "\n",
              "    .dataframe thead th {\n",
              "        text-align: right;\n",
              "    }\n",
              "</style>\n",
              "<table border=\"1\" class=\"dataframe\">\n",
              "  <thead>\n",
              "    <tr style=\"text-align: right;\">\n",
              "      <th></th>\n",
              "      <th>game_id</th>\n",
              "      <th>uuid</th>\n",
              "      <th>timestamp</th>\n",
              "      <th>angry</th>\n",
              "      <th>disgusted</th>\n",
              "      <th>fear</th>\n",
              "      <th>sad</th>\n",
              "      <th>surprised</th>\n",
              "      <th>happy</th>\n",
              "      <th>target</th>\n",
              "    </tr>\n",
              "  </thead>\n",
              "  <tbody>\n",
              "    <tr>\n",
              "      <th>0</th>\n",
              "      <td>1</td>\n",
              "      <td>6</td>\n",
              "      <td>1605708643465</td>\n",
              "      <td>0.034800</td>\n",
              "      <td>0.057187</td>\n",
              "      <td>0.010910</td>\n",
              "      <td>0.125495</td>\n",
              "      <td>0.191988</td>\n",
              "      <td>0.131196</td>\n",
              "      <td>1</td>\n",
              "    </tr>\n",
              "    <tr>\n",
              "      <th>1</th>\n",
              "      <td>1</td>\n",
              "      <td>6</td>\n",
              "      <td>1605708643974</td>\n",
              "      <td>0.040922</td>\n",
              "      <td>0.065980</td>\n",
              "      <td>0.009346</td>\n",
              "      <td>0.123534</td>\n",
              "      <td>0.117035</td>\n",
              "      <td>0.136284</td>\n",
              "      <td>1</td>\n",
              "    </tr>\n",
              "    <tr>\n",
              "      <th>2</th>\n",
              "      <td>1</td>\n",
              "      <td>6</td>\n",
              "      <td>1605708644480</td>\n",
              "      <td>0.029513</td>\n",
              "      <td>0.050042</td>\n",
              "      <td>0.009480</td>\n",
              "      <td>0.120868</td>\n",
              "      <td>0.194130</td>\n",
              "      <td>0.185262</td>\n",
              "      <td>1</td>\n",
              "    </tr>\n",
              "    <tr>\n",
              "      <th>3</th>\n",
              "      <td>1</td>\n",
              "      <td>6</td>\n",
              "      <td>1605708644995</td>\n",
              "      <td>0.037817</td>\n",
              "      <td>0.071314</td>\n",
              "      <td>0.010974</td>\n",
              "      <td>0.166960</td>\n",
              "      <td>0.150470</td>\n",
              "      <td>0.122635</td>\n",
              "      <td>1</td>\n",
              "    </tr>\n",
              "    <tr>\n",
              "      <th>4</th>\n",
              "      <td>1</td>\n",
              "      <td>6</td>\n",
              "      <td>1605708645496</td>\n",
              "      <td>0.040636</td>\n",
              "      <td>0.067900</td>\n",
              "      <td>0.010229</td>\n",
              "      <td>0.137022</td>\n",
              "      <td>0.154919</td>\n",
              "      <td>0.132826</td>\n",
              "      <td>1</td>\n",
              "    </tr>\n",
              "    <tr>\n",
              "      <th>5</th>\n",
              "      <td>1</td>\n",
              "      <td>6</td>\n",
              "      <td>1605708646011</td>\n",
              "      <td>0.024871</td>\n",
              "      <td>0.045830</td>\n",
              "      <td>0.008720</td>\n",
              "      <td>0.153731</td>\n",
              "      <td>0.235671</td>\n",
              "      <td>0.183499</td>\n",
              "      <td>1</td>\n",
              "    </tr>\n",
              "    <tr>\n",
              "      <th>6</th>\n",
              "      <td>1</td>\n",
              "      <td>6</td>\n",
              "      <td>1605708646525</td>\n",
              "      <td>0.042983</td>\n",
              "      <td>0.077609</td>\n",
              "      <td>0.011438</td>\n",
              "      <td>0.175638</td>\n",
              "      <td>0.128352</td>\n",
              "      <td>0.108902</td>\n",
              "      <td>1</td>\n",
              "    </tr>\n",
              "    <tr>\n",
              "      <th>7</th>\n",
              "      <td>1</td>\n",
              "      <td>6</td>\n",
              "      <td>1605708647033</td>\n",
              "      <td>0.037752</td>\n",
              "      <td>0.062227</td>\n",
              "      <td>0.010248</td>\n",
              "      <td>0.155643</td>\n",
              "      <td>0.159876</td>\n",
              "      <td>0.125097</td>\n",
              "      <td>1</td>\n",
              "    </tr>\n",
              "  </tbody>\n",
              "</table>\n",
              "</div>"
            ],
            "text/plain": [
              "   game_id  uuid      timestamp  ...  surprised     happy  target\n",
              "0        1     6  1605708643465  ...   0.191988  0.131196       1\n",
              "1        1     6  1605708643974  ...   0.117035  0.136284       1\n",
              "2        1     6  1605708644480  ...   0.194130  0.185262       1\n",
              "3        1     6  1605708644995  ...   0.150470  0.122635       1\n",
              "4        1     6  1605708645496  ...   0.154919  0.132826       1\n",
              "5        1     6  1605708646011  ...   0.235671  0.183499       1\n",
              "6        1     6  1605708646525  ...   0.128352  0.108902       1\n",
              "7        1     6  1605708647033  ...   0.159876  0.125097       1\n",
              "\n",
              "[8 rows x 10 columns]"
            ]
          },
          "metadata": {
            "tags": []
          },
          "execution_count": 43
        }
      ]
    },
    {
      "cell_type": "code",
      "metadata": {
        "id": "XEOPbVPoFOFE",
        "colab": {
          "base_uri": "https://localhost:8080/"
        },
        "outputId": "b60103b5-cee6-4ba9-b36e-425c7d1bf37b"
      },
      "source": [
        "# verificar o tipo de dado de cada coluna\n",
        "df_tratado.dtypes"
      ],
      "execution_count": null,
      "outputs": [
        {
          "output_type": "execute_result",
          "data": {
            "text/plain": [
              "game_id        int64\n",
              "uuid           int64\n",
              "timestamp      int64\n",
              "angry        float64\n",
              "disgusted    float64\n",
              "fear         float64\n",
              "sad          float64\n",
              "surprised    float64\n",
              "happy        float64\n",
              "target         int64\n",
              "dtype: object"
            ]
          },
          "metadata": {
            "tags": []
          },
          "execution_count": 44
        }
      ]
    },
    {
      "cell_type": "code",
      "metadata": {
        "id": "9YiHbL6uFRgR",
        "colab": {
          "base_uri": "https://localhost:8080/"
        },
        "outputId": "6bac21bd-d328-4554-9131-258d0b53ebc2"
      },
      "source": [
        "# verificar que colunas tem valores NaN (Not a Number)\n",
        "df_tratado.isnull().any()"
      ],
      "execution_count": null,
      "outputs": [
        {
          "output_type": "execute_result",
          "data": {
            "text/plain": [
              "game_id      False\n",
              "uuid         False\n",
              "timestamp    False\n",
              "angry         True\n",
              "disgusted     True\n",
              "fear          True\n",
              "sad           True\n",
              "surprised     True\n",
              "happy         True\n",
              "target       False\n",
              "dtype: bool"
            ]
          },
          "metadata": {
            "tags": []
          },
          "execution_count": 45
        }
      ]
    },
    {
      "cell_type": "code",
      "metadata": {
        "id": "nvZK6hcDbLVb"
      },
      "source": [
        "# Completando os registros que tem valor NaN com 0.0\n",
        "df_tratado = df_tratado.fillna(0.0)"
      ],
      "execution_count": null,
      "outputs": []
    },
    {
      "cell_type": "markdown",
      "metadata": {
        "id": "1wmEViSFFYNp"
      },
      "source": [
        "## 1.3 Conjunto de dados para treinamento e teste"
      ]
    },
    {
      "cell_type": "code",
      "metadata": {
        "id": "qQwuUp-gFdmC"
      },
      "source": [
        "# criar os conjuntos de dados e classes para treinamento e teste\n",
        "from sklearn.model_selection import train_test_split\n",
        "\n",
        "X_treinamento, X_teste, y_treinamento, y_teste = train_test_split(df_tratado.drop(columns=['target']), df_tratado.target, test_size=0.3)"
      ],
      "execution_count": null,
      "outputs": []
    },
    {
      "cell_type": "markdown",
      "metadata": {
        "id": "9GPD14CRFhNb"
      },
      "source": [
        "## 1.4 Correlação\n",
        "Baseado em [Como selecionar as melhores features para seu modelo de Machine Learning](https://paulovasconcellos.com.br/como-selecionar-as-melhores-features-para-seu-modelo-de-machine-learning-2e9df83d062a)"
      ]
    },
    {
      "cell_type": "code",
      "metadata": {
        "colab": {
          "base_uri": "https://localhost:8080/",
          "height": 445
        },
        "id": "wblj-4QlFlb9",
        "outputId": "a2987ff7-532e-4a78-b59c-f60ddc24c239"
      },
      "source": [
        "import seaborn as sns\n",
        "\n",
        "plt.figure(figsize=(10, 7))\n",
        "sns.heatmap(df_tratado.corr(),\n",
        "            annot = True,\n",
        "            fmt = '.2f',\n",
        "            cmap='Blues')\n",
        "plt.title('Correlação entre variáveis do dataset de tédio')\n",
        "plt.show()"
      ],
      "execution_count": null,
      "outputs": [
        {
          "output_type": "display_data",
          "data": {
            "image/png": "[encoded data removed]",
            "text/plain": [
              "<Figure size 720x504 with 2 Axes>"
            ]
          },
          "metadata": {
            "tags": [],
            "needs_background": "light"
          }
        }
      ]
    },
    {
      "cell_type": "markdown",
      "metadata": {
        "id": "UCeDkz9mGLv-"
      },
      "source": [
        "O valor mostrado para cada correlação vai de -1 — que indica uma correlação negativa perfeita — a +1 — uma correlação positiva perfeita. Vale lembrar que a função .corr() traz, por padrão, a correlação de Pearson, mostrando um relacionamento linear entre as variáveis. Em casos onde há um relacionamento não-linear, a matriz pode não ser uma boa medida."
      ]
    },
    {
      "cell_type": "markdown",
      "metadata": {
        "id": "cQLvtOuYGOgw"
      },
      "source": [
        "## 1.5 Feature Importance\n",
        "O feature_importance_ retornar um array onde cada elemento dele é uma feature do seu modelo. Ele irá dizer, em proporções, quão importante aquela feature é para o modelo, onde quanto maior o valor, mais importante a feature é para o modelo."
      ]
    },
    {
      "cell_type": "code",
      "metadata": {
        "colab": {
          "base_uri": "https://localhost:8080/"
        },
        "id": "FziStAjzGRRe",
        "outputId": "88a6e28c-0ee1-44f5-a9ed-5c563de0e457"
      },
      "source": [
        "from sklearn.ensemble import RandomForestClassifier\n",
        "clf_RFC  = RandomForestClassifier()\n",
        "clf_RFC.fit(X_treinamento, y_treinamento)\n",
        "\n",
        "# Mostrando importância de cada feature\n",
        "clf_RFC.feature_importances_"
      ],
      "execution_count": null,
      "outputs": [
        {
          "output_type": "execute_result",
          "data": {
            "text/plain": [
              "array([0.        , 0.02072093, 0.01451138, 0.24873443, 0.23802241,\n",
              "       0.01735381, 0.1899189 , 0.23969405, 0.03104409])"
            ]
          },
          "metadata": {
            "tags": []
          },
          "execution_count": 49
        }
      ]
    },
    {
      "cell_type": "markdown",
      "metadata": {
        "id": "QjOFxalYGUxc"
      },
      "source": [
        "É retornado um array com quatro elementos. Se você somar todos eles, verá que o resultado será 1. Ao analisar esse array, podemos ver que a feature mais importante para o algoritmo Floresta Randômica foi a variável 'surprised'."
      ]
    },
    {
      "cell_type": "code",
      "metadata": {
        "colab": {
          "base_uri": "https://localhost:8080/",
          "height": 298
        },
        "id": "3GDFAXthGYAN",
        "outputId": "9c1aefeb-ca6b-4357-be9f-606144b4c6b3"
      },
      "source": [
        "importances = pd.Series(data=clf_RFC.feature_importances_, index=df_tratado.columns[0:9])\n",
        "sns.barplot(x=importances, y=importances.index, orient='h').set_title('Importância de cada feature')"
      ],
      "execution_count": null,
      "outputs": [
        {
          "output_type": "execute_result",
          "data": {
            "text/plain": [
              "Text(0.5, 1.0, 'Importância de cada feature')"
            ]
          },
          "metadata": {
            "tags": []
          },
          "execution_count": 50
        },
        {
          "output_type": "display_data",
          "data": {
            "image/png": "[encoded data removed]",
            "text/plain": [
              "<Figure size 432x288 with 1 Axes>"
            ]
          },
          "metadata": {
            "tags": [],
            "needs_background": "light"
          }
        }
      ]
    },
    {
      "cell_type": "markdown",
      "metadata": {
        "id": "doxegZRCGbg-"
      },
      "source": [
        "As vezes, os valores mostrados pelo feature_importances_ pode ser enviesado dependendo dos parâmetros definidos na criação do objeto. Evitar usar os parâmetros default do Floresta Randômica."
      ]
    },
    {
      "cell_type": "markdown",
      "metadata": {
        "id": "KOde8tskHpqs"
      },
      "source": [
        "# 2. Regressões"
      ]
    },
    {
      "cell_type": "markdown",
      "metadata": {
        "id": "KqITYIOVGpYv"
      },
      "source": [
        "## 2.1 Regressão Linear Simples e Multipla\n",
        "\n",
        "\n",
        "*   [Linear Regression Example](https://scikit-learn.org/stable/auto_examples/linear_model/plot_ols.html)\n",
        "*   [Implementando Regressão Linear Simples em Python](https://medium.com/data-hackers/implementando-regress%C3%A3o-linear-simples-em-python-91df53b920a8)\n",
        "*   [Regressão Linear](https://www.kaggle.com/marilivb/4-regress-o-linear)\n",
        "*   [https://www.datageeks.com.br/regressao-linear/](https://www.datageeks.com.br/regressao-linear/)"
      ]
    },
    {
      "cell_type": "code",
      "metadata": {
        "id": "kn4Qc8-XGwZ6"
      },
      "source": [
        "from sklearn import linear_model\n",
        "from sklearn.metrics import mean_squared_error, r2_score\n"
      ],
      "execution_count": null,
      "outputs": []
    },
    {
      "cell_type": "code",
      "metadata": {
        "id": "jO8xmDLZGz3u"
      },
      "source": [
        "# Criar um objeto de regressão linear\n",
        "regr = linear_model.LinearRegression()\n",
        "\n",
        "# Treinar o modelo usando os conjuntos de treinamento\n",
        "regr.fit(X_treinamento, y_treinamento)\n",
        "\n",
        "# Fazer predições usando o conjunto de teste\n",
        "y_pred = regr.predict(X_teste)"
      ],
      "execution_count": null,
      "outputs": []
    },
    {
      "cell_type": "code",
      "metadata": {
        "colab": {
          "base_uri": "https://localhost:8080/"
        },
        "id": "exvw2aRYG2UC",
        "outputId": "98192649-9bb2-420e-8c06-3d47988028e5"
      },
      "source": [
        "# Os coeficientes encontrados\n",
        "print('Coeficientes: \\n', regr.coef_)\n",
        "# O Erro Médio Quadrático (EMQ)\n",
        "print('Erro Médio Quadrático (EMQ): %.2f'\n",
        "      % mean_squared_error(y_teste, y_pred))\n",
        "# O coeficiente de determinação: 1 é a predição perfeita\n",
        "print('Coeficiente de determinação: %.2f'\n",
        "      % r2_score(y_teste, y_pred))"
      ],
      "execution_count": null,
      "outputs": [
        {
          "output_type": "stream",
          "text": [
            "Coeficientes: \n",
            " [ 0.00000000e+00 -9.09638188e-04  9.56022262e-12  1.08493619e+00\n",
            "  4.85046868e-01 -8.80234484e-01  6.36349683e-01  1.00323997e+00\n",
            " -7.38942095e-02]\n",
            "Erro Médio Quadrático (EMQ): 0.16\n",
            "Coeficiente de determinação: 0.35\n"
          ],
          "name": "stdout"
        }
      ]
    },
    {
      "cell_type": "markdown",
      "metadata": {
        "id": "QK1eG-s3G5xm"
      },
      "source": [
        "### 2.1.1 Diagrama de Dispersão"
      ]
    },
    {
      "cell_type": "code",
      "metadata": {
        "colab": {
          "base_uri": "https://localhost:8080/"
        },
        "id": "fM-WBfwnG7e0",
        "outputId": "93fcc2f7-1a55-441d-9aaf-c66ae2015cfa"
      },
      "source": [
        "# plotar saídas\n",
        "plt.scatter(X_teste.iloc[:,0].values, y_teste,  color='black')\n",
        "plt.plot(X_teste, y_pred, color='blue', linewidth=3)\n",
        "\n",
        "plt.xticks(())\n",
        "plt.yticks(())\n",
        "\n",
        "plt.show()"
      ],
      "execution_count": null,
      "outputs": [
        {
          "output_type": "display_data",
          "data": {
            "image/png": "[encoded data removed]",
            "text/plain": [
              "<Figure size 432x288 with 1 Axes>"
            ]
          },
          "metadata": {
            "tags": []
          }
        }
      ]
    },
    {
      "cell_type": "markdown",
      "metadata": {
        "id": "RV10sdS7HAxW"
      },
      "source": [
        "## 2.2 Regressão Logística\n",
        "\n",
        "\n",
        "*   [Logistic Regression using Python (scikit-learn)](https://towardsdatascience.com/logistic-regression-using-python-sklearn-numpy-mnist-handwriting-recognition-matplotlib-a6b31e2b166a)\n",
        "*   [Regressão Logística e Métricas de Classificação em Python](http://neylsoncrepalde.github.io/2019-11-25-regressao_logistica_python/)\n",
        "\n"
      ]
    },
    {
      "cell_type": "code",
      "metadata": {
        "colab": {
          "base_uri": "https://localhost:8080/"
        },
        "id": "oOakVAdEG_Sy",
        "outputId": "854d776c-8262-471a-e18d-aacc3d49bb5f"
      },
      "source": [
        "from sklearn.linear_model import LogisticRegression\n",
        "\n",
        "clf_LR = LogisticRegression(random_state=0).fit(X_treinamento, y_treinamento)\n",
        "clf_LR.predict(X_teste)"
      ],
      "execution_count": null,
      "outputs": [
        {
          "output_type": "execute_result",
          "data": {
            "text/plain": [
              "array([1, 1, 1, ..., 1, 1, 1])"
            ]
          },
          "metadata": {
            "tags": []
          },
          "execution_count": 55
        }
      ]
    },
    {
      "cell_type": "code",
      "metadata": {
        "colab": {
          "base_uri": "https://localhost:8080/"
        },
        "id": "WKSvVatgHFbN",
        "outputId": "42dd60a8-7e02-4778-9f5f-de8bb114b34b"
      },
      "source": [
        "clf_LR.predict_proba(X_teste)"
      ],
      "execution_count": null,
      "outputs": [
        {
          "output_type": "execute_result",
          "data": {
            "text/plain": [
              "array([[0.41718106, 0.58281894],\n",
              "       [0.41682289, 0.58317711],\n",
              "       [0.41681855, 0.58318145],\n",
              "       ...,\n",
              "       [0.41684933, 0.58315067],\n",
              "       [0.41682288, 0.58317712],\n",
              "       [0.41684054, 0.58315946]])"
            ]
          },
          "metadata": {
            "tags": []
          },
          "execution_count": 56
        }
      ]
    },
    {
      "cell_type": "code",
      "metadata": {
        "colab": {
          "base_uri": "https://localhost:8080/"
        },
        "id": "naZMLGCAHG3q",
        "outputId": "01f887b7-4f63-43f4-d8f2-0f9706a3e78a"
      },
      "source": [
        "clf_LR.score(X_treinamento, y_treinamento)"
      ],
      "execution_count": null,
      "outputs": [
        {
          "output_type": "execute_result",
          "data": {
            "text/plain": [
              "0.5830858214788182"
            ]
          },
          "metadata": {
            "tags": []
          },
          "execution_count": 57
        }
      ]
    },
    {
      "cell_type": "markdown",
      "metadata": {
        "id": "1mOUK41FHM9G"
      },
      "source": [
        "### 2.2.1 Diagrama de Dispersão"
      ]
    },
    {
      "cell_type": "code",
      "metadata": {
        "colab": {
          "base_uri": "https://localhost:8080/"
        },
        "id": "uuLRWhciHJlv",
        "outputId": "8ad1fff8-a94d-4bae-85e6-4ac80d97467b"
      },
      "source": [
        "# plotar saídas\n",
        "plt.scatter(X_teste.iloc[:,0].values, y_teste,  color='black')\n",
        "plt.plot(X_teste, y_pred, color='blue', linewidth=3)\n",
        "\n",
        "plt.xticks(())\n",
        "plt.yticks(())\n",
        "\n",
        "plt.show()"
      ],
      "execution_count": null,
      "outputs": [
        {
          "output_type": "display_data",
          "data": {
            "image/png": "[encoded data removed]",
            "text/plain": [
              "<Figure size 432x288 with 1 Axes>"
            ]
          },
          "metadata": {
            "tags": []
          }
        }
      ]
    },
    {
      "cell_type": "markdown",
      "metadata": {
        "id": "Xj4iZ82YJiyH"
      },
      "source": [
        "# 3. Detecção de anomalias\n",
        "Referências:\n",
        "\n",
        "\n",
        "*   [Anomaly Detection Techniques in Python](https://medium.com/learningdatascience/anomaly-detection-techniques-in-python-50f650c75aaf)\n",
        "*   [4 Automatic Outlier Detection Algorithms in Python](https://machinelearningmastery.com/model-based-outlier-detection-and-removal-in-python/)\n",
        "*   [Learn how to develop highly accurate models to detect anomalies using Artificial Neural Networks with the Tensorflow library in Python3.](https://outline.com/D8jZMf)\n"
      ]
    },
    {
      "cell_type": "markdown",
      "metadata": {
        "id": "50muSTiipaKj"
      },
      "source": [
        "## 3.1 Métodos Estatísticos"
      ]
    },
    {
      "cell_type": "markdown",
      "metadata": {
        "id": "Gnm44wf_pdkD"
      },
      "source": [
        "### 3.1.1 Paramétricos: Diagrama de Caixa"
      ]
    },
    {
      "cell_type": "code",
      "metadata": {
        "colab": {
          "base_uri": "https://localhost:8080/",
          "height": 265
        },
        "id": "8axwjIOCdoJC",
        "outputId": "b51c1aa9-893b-4d11-896c-cf3b0a6aed5d"
      },
      "source": [
        "boxplot = df_tratado.boxplot(column=['angry', 'disgusted', 'fear', 'sad', 'surprised', 'happy'])"
      ],
      "execution_count": null,
      "outputs": [
        {
          "output_type": "display_data",
          "data": {
            "image/png": "[encoded data removed]",
            "text/plain": [
              "<Figure size 432x288 with 1 Axes>"
            ]
          },
          "metadata": {
            "tags": [],
            "needs_background": "light"
          }
        }
      ]
    },
    {
      "cell_type": "code",
      "metadata": {
        "colab": {
          "base_uri": "https://localhost:8080/",
          "height": 265
        },
        "id": "I458mNlWuG-K",
        "outputId": "a367a68b-76af-4089-b4a6-075555d397e4"
      },
      "source": [
        "df_emocoes = df_tratado.copy(deep=True)\n",
        "df_emocoes = df_emocoes.drop(columns=['game_id', 'uuid', 'timestamp', 'target'])\n",
        "ax = sns.violinplot(data=df_emocoes)"
      ],
      "execution_count": null,
      "outputs": [
        {
          "output_type": "display_data",
          "data": {
            "image/png": "[encoded data removed]",
            "text/plain": [
              "<Figure size 432x288 with 1 Axes>"
            ]
          },
          "metadata": {
            "tags": [],
            "needs_background": "light"
          }
        }
      ]
    },
    {
      "cell_type": "markdown",
      "metadata": {
        "id": "d2QSTDoapiDA"
      },
      "source": [
        "### 3.1.2 Não Paramétricos: Análise de Histograma"
      ]
    },
    {
      "cell_type": "code",
      "metadata": {
        "colab": {
          "base_uri": "https://localhost:8080/"
        },
        "id": "gX_o3sSVi8zk",
        "outputId": "73b24e6b-0b48-4a8b-af1b-be0d1d3b4570"
      },
      "source": [
        "#ax = df_emocoes.plot.hist(bins=12, alpha=0.5)\n",
        "ax = df_emocoes.plot.hist()"
      ],
      "execution_count": null,
      "outputs": [
        {
          "output_type": "display_data",
          "data": {
            "image/png": "[encoded data removed]",
            "text/plain": [
              "<Figure size 432x288 with 1 Axes>"
            ]
          },
          "metadata": {
            "tags": [],
            "needs_background": "light"
          }
        }
      ]
    },
    {
      "cell_type": "markdown",
      "metadata": {
        "id": "8LYrjzY5plQs"
      },
      "source": [
        "## 3.2 Métodos Algorítmicos"
      ]
    },
    {
      "cell_type": "markdown",
      "metadata": {
        "id": "D42mzAjkpqjt"
      },
      "source": [
        "### 3.2.1 Proximidade: Local Outlier Factor (LOF)\n",
        "Referências:\n",
        "\n",
        "*   [2.7. Novelty and Outlier Detection](https://scikit-learn.org/stable/modules/outlier_detection.html)\n",
        "*   [sklearn.neighbors.LocalOutlierFactor](https://scikit-learn.org/stable/modules/generated/sklearn.neighbors.LocalOutlierFactor.html)\n",
        "*   [Outlier detection with Local Outlier Factor (LOF)](https://scikit-learn.org/stable/auto_examples/neighbors/plot_lof_outlier_detection.html)\n",
        "*   [Anomaly detection with Local Outlier Factor (LOF)](https://towardsdatascience.com/anomaly-detection-with-local-outlier-factor-lof-d91e41df10f2)"
      ]
    },
    {
      "cell_type": "code",
      "metadata": {
        "id": "HvyBtHbK6t3Z"
      },
      "source": [
        ""
      ],
      "execution_count": null,
      "outputs": []
    },
    {
      "cell_type": "markdown",
      "metadata": {
        "id": "hsguuBIQpt_F"
      },
      "source": [
        "### 3.2.2 Redes Neurais: Redes Neurais Supervisionadas\n",
        "Referências:\n",
        "\n",
        "\n",
        "*   [Comparing anomaly detection algorithms for outlier detection on toy datasets](https://scikit-learn.org/0.20/auto_examples/plot_anomaly_comparison.html)\n",
        "*   [How to use machine learning for anomaly detection and condition monitoring](https://towardsdatascience.com/how-to-use-machine-learning-for-anomaly-detection-and-condition-monitoring-6742f82900d7)\n",
        "\n"
      ]
    },
    {
      "cell_type": "markdown",
      "metadata": {
        "id": "j_HWU1AKpwux"
      },
      "source": [
        "## 3.3 Machine Learning"
      ]
    },
    {
      "cell_type": "markdown",
      "metadata": {
        "id": "4FLYQE11qJ-m"
      },
      "source": [
        "### 3.3.1. Árvores de decisão"
      ]
    },
    {
      "cell_type": "markdown",
      "metadata": {
        "id": "Zn3DEFYiqNm7"
      },
      "source": [
        "### 3.3.2 Florestas de isolamento (*Isolation Forest*)\n",
        "Referências:\n",
        "\n",
        "*   [2.7. Novelty and Outlier Detection](https://scikit-learn.org/stable/modules/outlier_detection.html)\n",
        "*   [sklearn.ensemble.IsolationForest](https://scikit-learn.org/stable/modules/generated/sklearn.ensemble.IsolationForest.html)\n",
        "*   [Anomaly Detection with Isolation Forest & Visualization](https://towardsdatascience.com/anomaly-detection-with-isolation-forest-visualization-23cd75c281e2)\n",
        "*   [Anomaly Detection Using Isolation Forest in Python](https://blog.paperspace.com/anomaly-detection-isolation-forest/)\n"
      ]
    },
    {
      "cell_type": "code",
      "metadata": {
        "colab": {
          "base_uri": "https://localhost:8080/"
        },
        "id": "Q38oExSG6-II",
        "outputId": "7912442b-8ef1-4273-fdef-67f980a0a7e0"
      },
      "source": [
        "from sklearn.ensemble import IsolationForest\n",
        "model=IsolationForest(n_estimators=50, max_samples='auto', contamination=float(0.1),max_features=1.0)\n",
        "model.fit(df_emocoes[['angry']])"
      ],
      "execution_count": null,
      "outputs": [
        {
          "output_type": "execute_result",
          "data": {
            "text/plain": [
              "IsolationForest(behaviour='deprecated', bootstrap=False, contamination=0.1,\n",
              "                max_features=1.0, max_samples='auto', n_estimators=50,\n",
              "                n_jobs=None, random_state=None, verbose=0, warm_start=False)"
            ]
          },
          "metadata": {
            "tags": []
          },
          "execution_count": 62
        }
      ]
    },
    {
      "cell_type": "code",
      "metadata": {
        "colab": {
          "base_uri": "https://localhost:8080/"
        },
        "id": "i-wU8DRt7isD",
        "outputId": "b72e973a-1984-4782-8ea0-fff936d48d37"
      },
      "source": [
        "df = pd.DataFrame(df_emocoes['angry'])\n",
        "df['scores']=model.decision_function(df[['angry']])\n",
        "df['anomaly']=model.predict(df[['angry']])\n",
        "df.head(20)"
      ],
      "execution_count": null,
      "outputs": [
        {
          "output_type": "execute_result",
          "data": {
            "text/html": [
              "<div>\n",
              "<style scoped>\n",
              "    .dataframe tbody tr th:only-of-type {\n",
              "        vertical-align: middle;\n",
              "    }\n",
              "\n",
              "    .dataframe tbody tr th {\n",
              "        vertical-align: top;\n",
              "    }\n",
              "\n",
              "    .dataframe thead th {\n",
              "        text-align: right;\n",
              "    }\n",
              "</style>\n",
              "<table border=\"1\" class=\"dataframe\">\n",
              "  <thead>\n",
              "    <tr style=\"text-align: right;\">\n",
              "      <th></th>\n",
              "      <th>angry</th>\n",
              "      <th>scores</th>\n",
              "      <th>anomaly</th>\n",
              "    </tr>\n",
              "  </thead>\n",
              "  <tbody>\n",
              "    <tr>\n",
              "      <th>0</th>\n",
              "      <td>0.034800</td>\n",
              "      <td>0.086725</td>\n",
              "      <td>1</td>\n",
              "    </tr>\n",
              "    <tr>\n",
              "      <th>1</th>\n",
              "      <td>0.040922</td>\n",
              "      <td>0.088306</td>\n",
              "      <td>1</td>\n",
              "    </tr>\n",
              "    <tr>\n",
              "      <th>2</th>\n",
              "      <td>0.029513</td>\n",
              "      <td>0.086371</td>\n",
              "      <td>1</td>\n",
              "    </tr>\n",
              "    <tr>\n",
              "      <th>3</th>\n",
              "      <td>0.037817</td>\n",
              "      <td>0.087472</td>\n",
              "      <td>1</td>\n",
              "    </tr>\n",
              "    <tr>\n",
              "      <th>4</th>\n",
              "      <td>0.040636</td>\n",
              "      <td>0.088923</td>\n",
              "      <td>1</td>\n",
              "    </tr>\n",
              "    <tr>\n",
              "      <th>5</th>\n",
              "      <td>0.024871</td>\n",
              "      <td>0.081299</td>\n",
              "      <td>1</td>\n",
              "    </tr>\n",
              "    <tr>\n",
              "      <th>6</th>\n",
              "      <td>0.042983</td>\n",
              "      <td>0.084006</td>\n",
              "      <td>1</td>\n",
              "    </tr>\n",
              "    <tr>\n",
              "      <th>7</th>\n",
              "      <td>0.037752</td>\n",
              "      <td>0.088090</td>\n",
              "      <td>1</td>\n",
              "    </tr>\n",
              "    <tr>\n",
              "      <th>8</th>\n",
              "      <td>0.032165</td>\n",
              "      <td>0.094851</td>\n",
              "      <td>1</td>\n",
              "    </tr>\n",
              "    <tr>\n",
              "      <th>9</th>\n",
              "      <td>0.036980</td>\n",
              "      <td>0.093011</td>\n",
              "      <td>1</td>\n",
              "    </tr>\n",
              "    <tr>\n",
              "      <th>10</th>\n",
              "      <td>0.044133</td>\n",
              "      <td>0.083277</td>\n",
              "      <td>1</td>\n",
              "    </tr>\n",
              "    <tr>\n",
              "      <th>11</th>\n",
              "      <td>0.047425</td>\n",
              "      <td>0.084064</td>\n",
              "      <td>1</td>\n",
              "    </tr>\n",
              "    <tr>\n",
              "      <th>12</th>\n",
              "      <td>0.036975</td>\n",
              "      <td>0.093011</td>\n",
              "      <td>1</td>\n",
              "    </tr>\n",
              "    <tr>\n",
              "      <th>13</th>\n",
              "      <td>0.038532</td>\n",
              "      <td>0.088356</td>\n",
              "      <td>1</td>\n",
              "    </tr>\n",
              "    <tr>\n",
              "      <th>14</th>\n",
              "      <td>0.050303</td>\n",
              "      <td>0.068231</td>\n",
              "      <td>1</td>\n",
              "    </tr>\n",
              "    <tr>\n",
              "      <th>15</th>\n",
              "      <td>0.059239</td>\n",
              "      <td>0.079632</td>\n",
              "      <td>1</td>\n",
              "    </tr>\n",
              "    <tr>\n",
              "      <th>16</th>\n",
              "      <td>0.042755</td>\n",
              "      <td>0.083370</td>\n",
              "      <td>1</td>\n",
              "    </tr>\n",
              "    <tr>\n",
              "      <th>17</th>\n",
              "      <td>0.040956</td>\n",
              "      <td>0.088306</td>\n",
              "      <td>1</td>\n",
              "    </tr>\n",
              "    <tr>\n",
              "      <th>18</th>\n",
              "      <td>0.044206</td>\n",
              "      <td>0.083277</td>\n",
              "      <td>1</td>\n",
              "    </tr>\n",
              "    <tr>\n",
              "      <th>19</th>\n",
              "      <td>0.038932</td>\n",
              "      <td>0.088356</td>\n",
              "      <td>1</td>\n",
              "    </tr>\n",
              "  </tbody>\n",
              "</table>\n",
              "</div>"
            ],
            "text/plain": [
              "       angry    scores  anomaly\n",
              "0   0.034800  0.086725        1\n",
              "1   0.040922  0.088306        1\n",
              "2   0.029513  0.086371        1\n",
              "3   0.037817  0.087472        1\n",
              "4   0.040636  0.088923        1\n",
              "5   0.024871  0.081299        1\n",
              "6   0.042983  0.084006        1\n",
              "7   0.037752  0.088090        1\n",
              "8   0.032165  0.094851        1\n",
              "9   0.036980  0.093011        1\n",
              "10  0.044133  0.083277        1\n",
              "11  0.047425  0.084064        1\n",
              "12  0.036975  0.093011        1\n",
              "13  0.038532  0.088356        1\n",
              "14  0.050303  0.068231        1\n",
              "15  0.059239  0.079632        1\n",
              "16  0.042755  0.083370        1\n",
              "17  0.040956  0.088306        1\n",
              "18  0.044206  0.083277        1\n",
              "19  0.038932  0.088356        1"
            ]
          },
          "metadata": {
            "tags": []
          },
          "execution_count": 63
        }
      ]
    },
    {
      "cell_type": "code",
      "metadata": {
        "colab": {
          "base_uri": "https://localhost:8080/"
        },
        "id": "SqH1L6gs8EGv",
        "outputId": "ba7aa303-37e9-4d86-c4e1-332738b755ca"
      },
      "source": [
        "anomaly=df.loc[df['anomaly']==-1]\n",
        "anomaly_index=list(anomaly.index)\n",
        "print(anomaly)"
      ],
      "execution_count": null,
      "outputs": [
        {
          "output_type": "stream",
          "text": [
            "          angry    scores  anomaly\n",
            "196    0.374793 -0.020253       -1\n",
            "199    0.416074 -0.047521       -1\n",
            "200    0.392648 -0.038691       -1\n",
            "212    0.369359 -0.016048       -1\n",
            "215    0.395777 -0.042483       -1\n",
            "...         ...       ...      ...\n",
            "17887  0.434880 -0.061172       -1\n",
            "17890  0.361848 -0.005372       -1\n",
            "17892  0.413851 -0.049387       -1\n",
            "17893  0.439740 -0.059517       -1\n",
            "17895  0.491847 -0.064046       -1\n",
            "\n",
            "[1825 rows x 3 columns]\n"
          ],
          "name": "stdout"
        }
      ]
    },
    {
      "cell_type": "code",
      "metadata": {
        "colab": {
          "base_uri": "https://localhost:8080/"
        },
        "id": "ijIrQgZw8sLx",
        "outputId": "f4089166-ef14-4fd8-c9d3-2ab8496e8874"
      },
      "source": [
        "outliers_counter = len(df[df['angry'] > 0.5])\n",
        "outliers_counter"
      ],
      "execution_count": null,
      "outputs": [
        {
          "output_type": "execute_result",
          "data": {
            "text/plain": [
              "921"
            ]
          },
          "metadata": {
            "tags": []
          },
          "execution_count": 65
        }
      ]
    },
    {
      "cell_type": "code",
      "metadata": {
        "colab": {
          "base_uri": "https://localhost:8080/"
        },
        "id": "3xN4NinX81s-",
        "outputId": "da6519d2-8ebe-4341-be0e-479a25b5f80d"
      },
      "source": [
        "print(\"Accuracy percentage:\", 100*list(df['anomaly']).count(-1)/(outliers_counter))"
      ],
      "execution_count": null,
      "outputs": [
        {
          "output_type": "stream",
          "text": [
            "Accuracy percentage: 198.1541802388708\n"
          ],
          "name": "stdout"
        }
      ]
    },
    {
      "cell_type": "code",
      "metadata": {
        "colab": {
          "base_uri": "https://localhost:8080/"
        },
        "id": "XoobMdZs9UPn",
        "outputId": "a41b2f2b-dfde-444b-ea7f-e587a1c57e25"
      },
      "source": [
        "#specify the 12 metrics column names to be modelled\n",
        "to_model_columns=df_emocoes[0:7]\n",
        "to_model_columns\n",
        "\n",
        "clf=IsolationForest(n_estimators=100, max_samples='auto', contamination=float(.12), max_features=1.0, bootstrap=False, n_jobs=-1, random_state=42, verbose=0)\n",
        "clf.fit(df_emocoes)\n",
        "pred = clf.predict(df_emocoes)\n",
        "df_emocoes['anomaly']=pred\n",
        "outliers=df_emocoes.loc[df_emocoes['anomaly']==-1]\n",
        "outlier_index=list(outliers.index)\n",
        "print(outlier_index)\n",
        "#Find the number of anomalies and normal points here points classified -1 are anomalous\n",
        "print(df_emocoes['anomaly'].value_counts())"
      ],
      "execution_count": null,
      "outputs": [
        {
          "output_type": "stream",
          "text": [
            "[208, 209, 320, 321, 322, 396, 398, 413, 439, 440, 441, 442, 443, 447, 466, 467, 468, 470, 482, 483, 499, 514, 515, 544, 545, 625, 626, 627, 641, 642, 646, 691, 692, 695, 757, 758, 759, 760, 761, 762, 875, 876, 877, 878, 879, 880, 881, 882, 883, 884, 885, 886, 887, 888, 889, 890, 891, 892, 893, 894, 895, 896, 897, 898, 899, 900, 901, 902, 903, 904, 905, 906, 907, 908, 909, 910, 911, 912, 913, 914, 915, 916, 917, 920, 925, 926, 928, 929, 930, 932, 935, 936, 937, 938, 939, 940, 946, 953, 955, 992, 995, 1014, 1042, 1093, 1094, 1095, 1096, 1097, 1098, 1099, 1100, 1101, 1102, 1103, 1104, 1105, 1106, 1131, 1707, 1711, 1818, 1819, 1820, 1821, 1822, 1856, 1857, 1858, 1859, 2076, 2077, 2078, 2079, 2080, 2081, 2082, 2083, 2084, 2085, 2086, 2087, 2088, 2089, 2090, 2091, 2092, 2093, 2094, 2095, 2096, 2097, 2368, 2369, 2501, 2508, 2588, 2589, 2590, 2591, 2592, 2595, 2596, 2598, 2854, 2855, 2873, 2890, 2892, 2907, 2911, 2912, 2925, 2927, 2928, 2963, 2964, 2978, 2979, 2980, 2984, 2985, 2988, 2989, 2990, 2991, 2995, 3002, 3003, 3004, 3005, 3006, 3007, 3016, 3018, 3028, 3029, 3312, 3653, 3654, 3655, 3661, 3662, 3663, 3664, 3665, 3666, 3667, 3668, 3669, 3670, 3671, 3672, 3673, 3674, 3675, 3676, 3677, 3678, 3679, 3680, 3681, 3682, 3683, 3684, 3685, 3686, 3687, 3688, 3689, 3690, 3691, 3692, 3693, 3694, 3695, 3696, 3697, 3698, 3699, 3700, 3701, 3702, 3703, 3704, 3705, 3706, 3707, 3708, 3709, 3710, 3711, 3712, 3713, 3714, 3715, 3716, 3717, 3718, 3719, 3720, 3721, 3722, 3723, 3724, 3725, 3726, 3727, 3728, 3729, 3730, 3731, 3732, 3733, 3734, 3735, 3736, 3737, 3738, 3739, 3740, 3741, 3742, 3743, 3744, 3745, 3746, 3747, 3748, 3749, 3750, 3751, 3752, 3753, 3754, 3755, 3756, 3757, 3758, 3759, 3760, 3761, 3762, 3763, 3764, 3765, 3766, 3767, 3768, 3769, 3770, 3771, 3772, 3773, 3774, 3775, 3776, 3777, 3778, 3779, 3780, 3781, 3782, 3783, 3784, 3785, 3786, 3787, 3788, 3789, 3790, 3791, 3792, 3793, 3794, 3795, 3796, 3797, 3798, 3799, 3800, 3801, 4273, 4274, 4275, 4276, 4277, 4583, 4585, 4586, 4587, 4588, 4589, 4590, 4594, 4620, 4622, 4668, 4752, 4753, 4754, 4755, 4759, 4762, 4763, 4765, 4766, 4767, 4768, 4769, 4770, 4778, 4781, 4792, 4798, 4799, 4800, 4801, 4802, 4814, 4826, 4827, 4828, 4829, 4830, 4831, 4832, 4833, 4834, 4835, 4836, 4837, 4838, 4839, 4840, 4841, 4842, 4844, 4845, 4846, 4847, 4848, 4849, 4850, 4851, 4852, 4853, 4854, 4855, 4857, 4867, 4868, 4871, 4884, 4887, 4888, 4889, 4890, 4891, 4895, 4907, 4908, 4909, 4911, 4912, 4913, 4915, 4916, 4917, 4937, 4941, 4942, 4943, 4944, 5140, 5176, 5177, 5178, 5179, 5180, 5181, 5182, 5183, 5184, 5185, 5186, 5187, 5188, 5189, 5190, 5191, 5192, 5193, 5194, 5195, 5196, 5197, 5198, 5199, 5200, 5201, 5202, 5203, 5204, 5205, 5206, 5207, 5208, 5209, 5210, 5211, 5212, 5213, 5214, 5215, 5216, 5217, 5218, 5219, 5220, 5221, 5222, 5223, 5224, 5225, 5226, 5227, 5228, 5229, 5230, 5231, 5232, 5233, 5234, 5235, 5236, 5237, 5238, 5239, 5240, 5241, 5242, 5243, 5244, 5245, 5246, 5247, 5248, 5249, 5250, 5251, 5252, 5253, 5254, 5255, 5256, 5257, 5258, 5259, 5260, 5261, 5262, 5263, 5264, 5265, 5286, 5287, 5288, 5336, 5337, 5338, 5339, 5340, 5341, 5342, 5344, 5345, 5346, 5347, 5348, 5349, 5352, 5353, 5354, 5355, 5356, 5357, 5358, 5359, 5360, 5361, 5362, 5363, 5364, 5365, 5366, 5367, 5368, 5369, 5370, 5371, 5372, 5375, 5376, 5379, 5380, 5381, 5382, 5383, 5384, 5385, 5386, 5387, 5388, 5389, 5390, 5391, 5392, 5393, 5394, 5395, 5396, 5397, 5398, 5399, 5400, 5401, 5402, 5403, 5404, 5405, 5406, 5407, 5408, 5410, 5425, 5426, 5427, 5428, 5429, 5430, 5431, 5432, 5433, 5434, 5435, 5436, 5437, 5438, 5439, 5440, 5452, 5456, 5469, 5489, 5490, 5491, 5492, 5494, 5495, 5496, 5497, 5498, 5499, 5500, 5501, 5503, 5504, 5505, 5506, 5507, 5510, 5512, 5513, 5514, 5515, 5516, 5518, 5519, 5520, 5521, 5727, 5730, 5745, 5746, 5747, 5748, 5755, 5756, 5757, 5758, 5759, 5760, 5762, 5786, 5799, 5976, 5978, 5981, 5982, 5983, 5985, 5990, 6007, 6008, 6009, 6011, 6077, 6078, 6079, 6080, 6081, 6082, 6083, 6084, 6085, 6153, 6156, 6157, 6161, 6504, 6505, 6507, 6508, 6509, 6511, 6512, 6521, 6522, 6527, 6539, 6551, 6552, 6553, 6562, 6563, 6564, 6565, 6582, 6588, 6616, 6617, 6638, 6639, 6640, 6641, 6645, 6648, 6649, 6662, 6663, 6664, 6667, 6669, 6679, 6680, 6690, 6691, 6692, 6701, 6707, 6708, 6709, 6710, 6711, 6712, 6729, 6730, 6885, 6887, 6888, 6889, 6890, 6891, 6892, 6893, 6896, 6897, 6898, 6899, 6901, 7146, 7147, 7150, 7151, 7152, 7153, 7155, 7156, 7178, 7179, 7182, 7183, 7185, 7186, 7187, 7222, 7223, 7262, 7264, 7268, 7269, 7270, 7271, 7272, 7273, 7274, 7275, 7314, 7316, 7317, 7318, 7319, 7320, 7331, 7332, 7349, 7350, 7354, 7355, 7356, 7358, 7371, 7381, 7396, 7398, 7399, 7411, 7417, 7425, 7455, 7739, 7740, 7741, 7742, 7743, 7744, 7745, 7746, 7747, 7748, 7749, 7750, 7751, 7752, 7753, 7754, 7755, 7756, 7757, 7758, 7759, 7760, 7761, 7762, 7763, 7764, 7765, 7766, 7767, 7768, 7769, 7770, 7771, 7772, 7773, 7774, 7775, 7776, 7777, 7778, 7779, 7780, 7781, 7782, 7783, 7784, 7785, 7786, 7787, 7788, 7789, 7790, 7791, 7792, 7793, 7794, 7795, 7796, 7797, 7798, 7799, 7800, 7801, 7824, 7845, 7847, 7848, 7904, 7905, 7906, 7907, 7908, 7909, 7910, 7911, 7912, 7913, 7914, 7915, 7916, 7917, 7918, 7919, 7920, 7929, 7955, 7956, 7957, 7958, 7959, 7960, 7961, 7962, 7963, 7964, 7965, 7966, 7967, 7968, 7969, 7970, 7971, 7972, 7973, 7974, 7975, 7976, 7977, 7978, 7979, 7980, 7981, 7982, 7983, 7984, 7985, 7986, 7987, 7988, 7989, 7990, 7991, 7992, 7993, 7994, 7995, 7996, 7997, 7998, 7999, 8000, 8001, 8002, 8003, 8004, 8005, 8006, 8007, 8008, 8009, 8010, 8011, 8012, 8013, 8014, 8015, 8016, 8017, 8018, 8019, 8020, 8021, 8022, 8023, 8024, 8025, 8026, 8027, 8028, 8029, 8030, 8031, 8032, 8033, 8034, 8035, 8036, 8037, 8038, 8039, 8040, 8041, 8042, 8043, 8044, 8045, 8046, 8047, 8048, 8049, 8050, 8051, 8053, 8054, 8055, 8056, 8057, 8058, 8059, 8060, 8061, 8062, 8063, 8064, 8065, 8066, 8067, 8068, 8069, 8070, 8071, 8072, 8073, 8074, 8075, 8076, 8077, 8078, 8079, 8080, 8081, 8082, 8083, 8084, 8085, 8086, 8087, 8088, 8089, 8090, 8091, 8092, 8093, 8094, 8095, 8096, 8097, 8098, 8099, 8100, 8101, 8102, 8103, 8104, 8105, 8106, 8107, 8108, 8109, 8110, 8111, 8112, 8113, 8118, 8124, 8126, 8127, 8128, 8130, 8132, 8133, 8134, 8138, 8139, 8141, 8161, 8162, 8163, 8182, 8183, 8184, 8185, 8191, 8192, 8196, 8197, 8198, 8200, 8201, 8226, 8227, 8228, 8229, 8230, 8231, 8232, 8233, 8234, 8235, 8236, 8237, 8239, 8240, 8258, 8291, 8292, 8754, 8756, 8757, 8758, 8906, 8993, 9209, 9775, 9776, 9777, 9778, 9779, 9780, 9781, 9782, 9783, 9784, 9785, 9786, 9787, 9788, 9789, 9790, 9794, 9795, 9796, 9797, 9800, 9801, 9802, 9803, 9804, 9805, 9806, 9807, 9808, 9809, 9825, 9826, 9830, 9831, 9833, 9834, 9835, 9836, 9839, 9840, 9845, 9846, 9853, 9854, 9855, 9856, 9857, 9859, 9860, 9861, 9862, 9863, 9866, 9871, 9872, 9873, 9874, 9875, 9876, 9877, 9878, 9879, 9880, 9881, 9882, 9883, 9884, 9885, 9886, 9887, 9888, 9889, 9890, 9891, 9892, 9893, 9894, 9895, 9896, 9897, 9898, 9899, 9900, 9901, 9902, 9903, 9904, 9905, 9906, 9907, 9908, 9909, 9910, 9911, 9912, 9914, 9915, 9916, 9917, 9918, 9919, 9920, 9921, 9922, 9923, 9924, 9925, 9926, 9927, 9928, 9929, 9930, 9931, 9932, 9933, 9934, 9935, 9936, 9937, 9938, 9939, 9940, 9941, 9942, 9943, 9944, 9945, 9946, 9947, 9948, 9949, 9950, 9951, 9952, 9953, 9954, 9955, 9956, 9961, 9965, 9966, 9970, 9982, 9987, 9988, 9989, 9990, 10007, 10020, 10021, 10023, 10046, 10082, 10094, 10101, 10121, 10355, 10356, 10357, 10358, 10359, 10360, 10361, 10362, 10363, 10364, 10365, 10366, 10367, 10368, 10369, 10370, 10371, 10372, 10373, 10374, 10375, 10376, 10377, 10378, 10379, 10380, 10381, 10382, 10383, 10384, 10385, 10386, 10387, 10388, 10389, 10390, 10392, 10393, 10394, 10395, 10396, 10397, 10398, 10399, 10400, 10401, 10402, 10403, 10404, 10405, 10406, 10407, 10408, 10409, 10410, 10411, 10413, 10414, 10419, 10420, 10497, 10502, 10503, 10505, 10506, 10507, 10508, 10511, 10512, 10513, 10514, 10516, 10517, 10518, 10519, 10522, 10524, 10525, 10526, 10527, 10528, 10529, 10530, 10531, 10532, 10533, 10534, 10535, 10536, 10537, 10538, 10539, 10540, 10541, 10543, 10544, 10545, 10546, 10547, 10548, 10549, 10550, 10551, 10552, 10553, 10554, 10573, 10574, 10575, 10576, 10577, 10588, 10589, 10590, 10591, 10592, 10593, 10600, 10668, 10669, 10670, 10671, 10672, 10674, 10675, 10676, 10677, 10678, 10679, 10682, 10683, 10684, 10685, 10686, 10687, 10688, 10689, 10690, 10691, 10692, 10693, 10694, 10719, 10723, 10748, 10847, 10848, 10867, 10869, 10892, 10924, 10925, 10926, 10928, 11116, 11117, 11118, 11119, 11121, 11123, 11124, 11140, 11141, 11157, 11158, 11159, 11160, 11161, 11257, 11259, 11260, 11289, 11293, 11520, 11661, 11856, 11858, 11886, 11887, 11888, 11905, 11906, 11927, 11939, 11940, 11962, 11963, 11965, 12002, 12003, 12004, 12007, 12106, 12211, 12212, 12213, 12214, 12215, 12216, 12217, 12218, 12219, 12220, 12221, 12222, 12250, 12251, 12252, 12253, 12269, 12270, 12272, 12273, 12274, 12284, 12285, 12286, 12287, 12288, 12289, 12312, 12315, 12318, 12321, 12322, 12323, 12324, 12395, 12397, 12398, 12399, 12400, 12401, 12402, 12403, 12404, 12415, 12416, 12417, 12418, 12419, 12420, 12421, 12422, 12423, 12424, 12425, 12426, 12427, 12428, 12429, 12430, 12431, 12432, 12433, 12434, 12435, 12436, 12437, 12438, 12439, 12440, 12441, 12442, 12443, 12444, 12445, 12446, 12447, 12448, 12449, 12450, 12451, 12452, 12453, 12454, 12455, 12456, 12457, 12470, 12577, 12578, 12590, 12591, 12592, 12832, 12833, 13233, 13234, 13242, 13244, 13257, 13260, 13261, 13262, 13277, 13278, 13281, 13282, 13283, 13305, 13313, 13318, 13322, 13330, 13333, 13336, 13337, 13342, 13344, 13644, 13655, 13665, 13770, 13772, 13774, 13775, 13776, 13779, 13780, 13781, 13782, 13783, 13784, 13785, 13786, 13787, 13788, 13789, 13790, 13791, 13792, 13793, 13794, 13795, 13797, 13798, 13799, 13800, 13801, 13802, 13803, 13804, 13807, 13808, 13809, 13810, 13811, 13812, 13869, 13898, 13906, 13910, 14061, 14062, 14063, 14064, 14065, 14066, 14067, 14068, 14069, 14070, 14110, 14115, 14130, 14131, 14132, 14159, 14160, 14161, 14162, 14163, 14167, 14168, 14172, 14176, 14177, 14183, 14184, 14189, 14193, 14195, 14196, 14197, 14199, 14201, 14202, 14203, 14204, 14205, 14206, 14208, 14211, 14212, 14213, 14214, 14215, 14216, 14217, 14218, 14219, 14220, 14221, 14222, 14223, 14224, 14225, 14226, 14227, 14228, 14229, 14230, 14231, 14232, 14233, 14234, 14235, 14236, 14237, 14238, 14239, 14240, 14241, 14242, 14243, 14244, 14245, 14246, 14247, 14248, 14249, 14250, 14251, 14252, 14253, 14254, 14255, 14256, 14257, 14258, 14259, 14260, 14261, 14262, 14263, 14264, 14265, 14266, 14267, 14268, 14269, 14270, 14271, 14272, 14273, 14274, 14275, 14276, 14277, 14278, 14279, 14280, 14281, 14282, 14283, 14284, 14285, 14286, 14287, 14288, 14289, 14290, 14291, 14292, 14293, 14294, 14295, 14296, 14297, 14299, 14300, 14301, 14302, 14303, 14304, 14306, 14309, 14310, 14311, 14313, 14314, 14316, 14317, 14318, 14319, 14320, 14321, 14322, 14323, 14324, 14325, 14326, 14327, 14328, 14329, 14330, 14331, 14332, 14333, 14334, 14335, 14336, 14337, 14339, 14340, 14343, 14344, 14345, 14346, 14347, 14348, 14349, 14350, 14351, 14352, 14353, 14377, 14728, 14729, 14730, 14745, 14746, 14747, 14748, 14749, 14750, 14751, 14752, 14753, 14754, 14755, 14756, 14757, 14758, 14759, 14760, 14761, 14762, 14763, 14764, 14765, 14766, 14767, 14768, 14779, 14780, 14781, 14782, 14784, 14785, 14786, 14787, 14788, 14792, 14793, 14805, 14806, 14807, 14818, 14819, 14820, 14821, 14822, 14823, 14824, 14825, 14827, 14830, 14831, 14832, 14833, 14834, 14835, 14836, 14837, 14838, 14839, 14840, 14841, 14842, 14843, 14844, 14845, 14846, 14847, 14848, 14863, 14864, 14865, 14866, 14867, 14868, 14869, 14870, 14871, 14872, 14873, 14874, 14875, 14876, 14884, 14885, 14886, 14887, 14888, 14889, 14890, 14891, 14892, 14894, 14895, 14896, 15297, 15302, 15306, 15308, 15309, 15356, 15357, 15358, 15359, 15360, 15361, 15362, 15363, 15364, 15365, 15366, 15367, 15368, 15369, 15370, 15371, 15372, 15373, 15374, 15375, 15376, 15377, 15378, 15379, 15380, 15381, 15382, 15383, 15384, 15385, 15386, 15387, 15388, 15389, 15390, 15391, 15392, 15393, 15394, 15395, 15396, 15397, 15398, 15399, 15400, 15401, 15404, 15405, 15406, 15407, 15408, 15409, 15410, 15411, 15412, 15413, 15414, 15415, 15416, 15417, 15418, 15419, 15420, 15421, 15422, 15434, 15445, 15460, 15461, 15463, 15472, 15482, 15484, 15485, 15539, 15567, 15568, 15593, 15594, 15595, 15626, 15654, 15655, 15656, 15657, 15658, 15659, 15661, 15662, 15663, 15673, 15674, 15675, 15676, 15703, 15704, 15707, 15708, 15710, 15711, 15712, 15714, 15715, 15716, 15721, 15725, 15726, 15727, 15728, 15732, 15733, 15746, 15747, 15748, 15749, 15753, 15754, 15758, 15787, 15788, 15795, 15796, 15797, 15798, 15803, 15804, 15806, 15807, 16208, 16209, 16210, 16212, 16213, 16233, 16234, 16293, 16294, 16295, 16296, 16297, 16298, 16304, 16305, 16306, 16318, 16319, 16320, 16321, 16322, 16323, 16324, 16325, 16326, 16327, 16328, 16358, 16359, 16374, 16375, 16376, 16377, 16378, 16379, 16380, 16381, 16382, 16383, 16386, 16387, 16388, 16394, 16395, 16401, 16404, 16405, 16407, 16408, 16414, 16419, 16420, 16421, 16431, 16439, 16440, 16441, 16446, 16448, 16450, 16451, 16455, 16456, 16457, 16458, 16459, 16460, 16461, 16462, 16463, 16464, 16465, 16466, 16476, 16477, 16481, 16482, 16488, 16489, 16490, 16493, 16494, 16507, 16508, 16509, 16510, 16511, 16512, 16513, 16515, 16516, 16520, 16521, 16522, 16523, 16524, 16525, 16526, 16529, 16530, 16532, 16533, 16534, 16535, 16536, 16537, 16538, 16542, 16543, 16607, 16608, 16611, 16612, 16613, 16614, 16615, 16622, 16665, 16666, 16667, 16668, 16669, 16670, 16671, 16679, 16698, 16699, 16700, 16701, 16702, 16716, 16718, 16719, 16720, 16721, 16722, 16723, 16724, 16725, 16726, 16727, 16728, 16729, 16730, 16731, 16732, 16733, 16734, 16735, 16965, 16972, 16980, 16981, 16991, 16993, 18229, 18230, 18232, 18233, 18234, 18235, 18236, 18238, 18239, 18240, 18241, 18242, 18243, 18244, 18245, 18246, 18247, 18248, 18249, 18250, 18251, 18252, 18253, 18254, 18255, 18256, 18257, 18258, 18259, 18260, 18262, 18263, 18264, 18265, 18266, 18267, 18268, 18269, 18270, 18271, 18272, 18273, 18275, 18276]\n",
            " 1    16084\n",
            "-1     2194\n",
            "Name: anomaly, dtype: int64\n"
          ],
          "name": "stdout"
        }
      ]
    },
    {
      "cell_type": "code",
      "metadata": {
        "colab": {
          "base_uri": "https://localhost:8080/"
        },
        "id": "k_26CGxe_g9P",
        "outputId": "25e9ab59-8f53-414a-9a02-7830986c8c98"
      },
      "source": [
        "from sklearn.decomposition import PCA\n",
        "pca = PCA(2)\n",
        "pca.fit(df_emocoes)\n",
        "res=pd.DataFrame(pca.transform(df_emocoes))\n",
        "Z = np.array(res)\n",
        "plt.title(\"IsolationForest\")\n",
        "plt.contourf( Z, cmap=plt.cm.Blues_r)\n",
        "b1 = plt.scatter(res[0], res[1], c='green', s=20,label=\"normal points\")\n",
        "b1 =plt.scatter(res.iloc[outlier_index,0],res.iloc[outlier_index,1], c='green',s=20,  edgecolor=\"red\",label=\"predicted outliers\")\n",
        "plt.legend(loc=\"upper right\")\n",
        "plt.show()"
      ],
      "execution_count": null,
      "outputs": [
        {
          "output_type": "display_data",
          "data": {
            "image/png": "[encoded data removed]",
            "text/plain": [
              "<Figure size 432x288 with 1 Axes>"
            ]
          },
          "metadata": {
            "tags": [],
            "needs_background": "light"
          }
        }
      ]
    },
    {
      "cell_type": "code",
      "metadata": {
        "colab": {
          "base_uri": "https://localhost:8080/"
        },
        "id": "T9nOn40EArDG",
        "outputId": "7a56e0ae-4605-48df-f54c-b7806faa4f5b"
      },
      "source": [
        "import matplotlib.pyplot as plt\n",
        "from sklearn.decomposition import PCA\n",
        "from sklearn.preprocessing import StandardScaler\n",
        "from mpl_toolkits.mplot3d import Axes3D\n",
        "pca = PCA(n_components=3)  # Reduce to k=3 dimensions\n",
        "scaler = StandardScaler()\n",
        "#normalize the metrics\n",
        "X = scaler.fit_transform(df_emocoes)\n",
        "X_reduce = pca.fit_transform(X)\n",
        "fig = plt.figure()\n",
        "ax = fig.add_subplot(111, projection='3d')\n",
        "ax.set_zlabel(\"x_composite_3\")# Plot the compressed data points\n",
        "ax.scatter(X_reduce[:, 0], X_reduce[:, 1], zs=X_reduce[:, 2], s=4, lw=1, label=\"inliers\",c=\"green\")# Plot x's for the ground truth outliers\n",
        "ax.scatter(X_reduce[outlier_index,0],X_reduce[outlier_index,1], X_reduce[outlier_index,2],\n",
        "           lw=2, s=60, marker=\"x\", c=\"red\", label=\"outliers\")\n",
        "ax.legend()\n",
        "plt.show()"
      ],
      "execution_count": null,
      "outputs": [
        {
          "output_type": "display_data",
          "data": {
            "image/png": "[encoded data removed]",
            "text/plain": [
              "<Figure size 432x288 with 1 Axes>"
            ]
          },
          "metadata": {
            "tags": [],
            "needs_background": "light"
          }
        }
      ]
    }
  ]
}