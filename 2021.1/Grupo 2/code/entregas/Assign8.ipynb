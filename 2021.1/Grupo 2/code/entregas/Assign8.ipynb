{
  "nbformat": 4,
  "nbformat_minor": 0,
  "metadata": {
    "colab": {
      "name": "Assign8.ipynb",
      "provenance": [],
      "collapsed_sections": [],
      "include_colab_link": true
    },
    "kernelspec": {
      "name": "python3",
      "display_name": "Python 3"
    },
    "language_info": {
      "name": "python"
    }
  },
  "cells": [
    {
      "cell_type": "markdown",
      "metadata": {
        "id": "view-in-github",
        "colab_type": "text"
      },
      "source": [
        "<a href=\"https://colab.research.google.com/github/renanalencar/projeto-md-emocoes/blob/main/entregas/Assign8.ipynb\" target=\"_parent\"><img src=\"https://colab.research.google.com/assets/colab-badge.svg\" alt=\"Open In Colab\"/></a>"
      ]
    },
    {
      "cell_type": "markdown",
      "metadata": {
        "id": "e-_LyLQMQc8h"
      },
      "source": [
        "# Dados"
      ]
    },
    {
      "cell_type": "code",
      "metadata": {
        "colab": {
          "base_uri": "https://localhost:8080/"
        },
        "id": "-va7V432G0c3",
        "outputId": "c5923e28-bcc0-4b92-f192-4e2865f71b34"
      },
      "source": [
        "from google.colab import drive\n",
        "drive.mount('/content/drive')"
      ],
      "execution_count": null,
      "outputs": [
        {
          "output_type": "stream",
          "text": [
            "Mounted at /content/drive\n"
          ],
          "name": "stdout"
        }
      ]
    },
    {
      "cell_type": "code",
      "metadata": {
        "id": "TNjvVDbMw59Z"
      },
      "source": [
        "# importar os pacotes necessários\n",
        "import pandas as pd\n",
        "import matplotlib.pyplot as plt"
      ],
      "execution_count": null,
      "outputs": []
    },
    {
      "cell_type": "code",
      "metadata": {
        "id": "6pUvJvX9QnOY",
        "colab": {
          "base_uri": "https://localhost:8080/",
          "height": 297
        },
        "outputId": "ed60e117-a384-48ff-eae9-42915d1a20d9"
      },
      "source": [
        "arquivo_tedio = \"/content/drive/Shareddrives/MINERAÇÃO DE DADOS ENG74291/Database/cluster01_tedio_estresse/dadosTedioB_cluster1AsCsv.csv\"\n",
        "df_tedio = pd.read_csv(arquivo_tedio)\n",
        "\n",
        "# CSV apenas com as emoções. Pontos euclidianos foram removidos\n",
        "# deixar no dataframe somente com as linhas correspondentes ao game_id 1\n",
        "filtro  = df_tedio['game_id'] == 1\n",
        "df_tedio = df_tedio[filtro]\n",
        "\n",
        "# visualizar as 8 primeiras entradas do df\n",
        "df_tedio.head(8)"
      ],
      "execution_count": null,
      "outputs": [
        {
          "output_type": "execute_result",
          "data": {
            "text/html": [
              "<div>\n",
              "<style scoped>\n",
              "    .dataframe tbody tr th:only-of-type {\n",
              "        vertical-align: middle;\n",
              "    }\n",
              "\n",
              "    .dataframe tbody tr th {\n",
              "        vertical-align: top;\n",
              "    }\n",
              "\n",
              "    .dataframe thead th {\n",
              "        text-align: right;\n",
              "    }\n",
              "</style>\n",
              "<table border=\"1\" class=\"dataframe\">\n",
              "  <thead>\n",
              "    <tr style=\"text-align: right;\">\n",
              "      <th></th>\n",
              "      <th>game_id</th>\n",
              "      <th>game_name</th>\n",
              "      <th>uuid</th>\n",
              "      <th>timestamp</th>\n",
              "      <th>angry</th>\n",
              "      <th>disgusted</th>\n",
              "      <th>fear</th>\n",
              "      <th>sad</th>\n",
              "      <th>surprised</th>\n",
              "      <th>happy</th>\n",
              "    </tr>\n",
              "  </thead>\n",
              "  <tbody>\n",
              "    <tr>\n",
              "      <th>0</th>\n",
              "      <td>1</td>\n",
              "      <td>Card Flipper</td>\n",
              "      <td>6</td>\n",
              "      <td>1605708643465</td>\n",
              "      <td>0.034800</td>\n",
              "      <td>0.057187</td>\n",
              "      <td>0.010910</td>\n",
              "      <td>0.125495</td>\n",
              "      <td>0.191988</td>\n",
              "      <td>0.131196</td>\n",
              "    </tr>\n",
              "    <tr>\n",
              "      <th>1</th>\n",
              "      <td>1</td>\n",
              "      <td>Card Flipper</td>\n",
              "      <td>6</td>\n",
              "      <td>1605708643974</td>\n",
              "      <td>0.040922</td>\n",
              "      <td>0.065980</td>\n",
              "      <td>0.009346</td>\n",
              "      <td>0.123534</td>\n",
              "      <td>0.117035</td>\n",
              "      <td>0.136284</td>\n",
              "    </tr>\n",
              "    <tr>\n",
              "      <th>2</th>\n",
              "      <td>1</td>\n",
              "      <td>Card Flipper</td>\n",
              "      <td>6</td>\n",
              "      <td>1605708644480</td>\n",
              "      <td>0.029513</td>\n",
              "      <td>0.050042</td>\n",
              "      <td>0.009480</td>\n",
              "      <td>0.120868</td>\n",
              "      <td>0.194130</td>\n",
              "      <td>0.185262</td>\n",
              "    </tr>\n",
              "    <tr>\n",
              "      <th>3</th>\n",
              "      <td>1</td>\n",
              "      <td>Card Flipper</td>\n",
              "      <td>6</td>\n",
              "      <td>1605708644995</td>\n",
              "      <td>0.037817</td>\n",
              "      <td>0.071314</td>\n",
              "      <td>0.010974</td>\n",
              "      <td>0.166960</td>\n",
              "      <td>0.150470</td>\n",
              "      <td>0.122635</td>\n",
              "    </tr>\n",
              "    <tr>\n",
              "      <th>4</th>\n",
              "      <td>1</td>\n",
              "      <td>Card Flipper</td>\n",
              "      <td>6</td>\n",
              "      <td>1605708645496</td>\n",
              "      <td>0.040636</td>\n",
              "      <td>0.067900</td>\n",
              "      <td>0.010229</td>\n",
              "      <td>0.137022</td>\n",
              "      <td>0.154919</td>\n",
              "      <td>0.132826</td>\n",
              "    </tr>\n",
              "    <tr>\n",
              "      <th>5</th>\n",
              "      <td>1</td>\n",
              "      <td>Card Flipper</td>\n",
              "      <td>6</td>\n",
              "      <td>1605708646011</td>\n",
              "      <td>0.024871</td>\n",
              "      <td>0.045830</td>\n",
              "      <td>0.008720</td>\n",
              "      <td>0.153731</td>\n",
              "      <td>0.235671</td>\n",
              "      <td>0.183499</td>\n",
              "    </tr>\n",
              "    <tr>\n",
              "      <th>6</th>\n",
              "      <td>1</td>\n",
              "      <td>Card Flipper</td>\n",
              "      <td>6</td>\n",
              "      <td>1605708646525</td>\n",
              "      <td>0.042983</td>\n",
              "      <td>0.077609</td>\n",
              "      <td>0.011438</td>\n",
              "      <td>0.175638</td>\n",
              "      <td>0.128352</td>\n",
              "      <td>0.108902</td>\n",
              "    </tr>\n",
              "    <tr>\n",
              "      <th>7</th>\n",
              "      <td>1</td>\n",
              "      <td>Card Flipper</td>\n",
              "      <td>6</td>\n",
              "      <td>1605708647033</td>\n",
              "      <td>0.037752</td>\n",
              "      <td>0.062227</td>\n",
              "      <td>0.010248</td>\n",
              "      <td>0.155643</td>\n",
              "      <td>0.159876</td>\n",
              "      <td>0.125097</td>\n",
              "    </tr>\n",
              "  </tbody>\n",
              "</table>\n",
              "</div>"
            ],
            "text/plain": [
              "   game_id     game_name  uuid  ...       sad  surprised     happy\n",
              "0        1  Card Flipper     6  ...  0.125495   0.191988  0.131196\n",
              "1        1  Card Flipper     6  ...  0.123534   0.117035  0.136284\n",
              "2        1  Card Flipper     6  ...  0.120868   0.194130  0.185262\n",
              "3        1  Card Flipper     6  ...  0.166960   0.150470  0.122635\n",
              "4        1  Card Flipper     6  ...  0.137022   0.154919  0.132826\n",
              "5        1  Card Flipper     6  ...  0.153731   0.235671  0.183499\n",
              "6        1  Card Flipper     6  ...  0.175638   0.128352  0.108902\n",
              "7        1  Card Flipper     6  ...  0.155643   0.159876  0.125097\n",
              "\n",
              "[8 rows x 10 columns]"
            ]
          },
          "metadata": {
            "tags": []
          },
          "execution_count": 28
        }
      ]
    },
    {
      "cell_type": "code",
      "metadata": {
        "colab": {
          "base_uri": "https://localhost:8080/"
        },
        "id": "nYpsDofwQpGX",
        "outputId": "b6269f78-0449-4db2-9f52-0aafd86c810a"
      },
      "source": [
        "# verificar o tamanho do df\n",
        "print(\"Variáveis:\\t {}\".format(df_tedio.shape[1]))\n",
        "print(\"Entradas:\\t {}\".format(df_tedio.shape[0]))"
      ],
      "execution_count": null,
      "outputs": [
        {
          "output_type": "stream",
          "text": [
            "Variáveis:\t 11\n",
            "Entradas:\t 5432\n"
          ],
          "name": "stdout"
        }
      ]
    },
    {
      "cell_type": "code",
      "metadata": {
        "colab": {
          "base_uri": "https://localhost:8080/"
        },
        "id": "ajlJBqO1RDmW",
        "outputId": "0fb54f4a-25a6-4e2a-cf26-c66072922615"
      },
      "source": [
        "# vizualisar os nomes das colunas\n",
        "df_tedio.columns"
      ],
      "execution_count": null,
      "outputs": [
        {
          "output_type": "execute_result",
          "data": {
            "text/plain": [
              "Index(['game_id', 'game_name', 'uuid', 'timestamp', 'angry', 'disgusted',\n",
              "       'fear', 'sad', 'surprised', 'happy'],\n",
              "      dtype='object')"
            ]
          },
          "metadata": {
            "tags": []
          },
          "execution_count": 8
        }
      ]
    },
    {
      "cell_type": "code",
      "metadata": {
        "colab": {
          "base_uri": "https://localhost:8080/"
        },
        "id": "P803Rs5VRGZv",
        "outputId": "8c4bfb9f-d69d-424e-e447-c028e2d1e27c"
      },
      "source": [
        "# descobrir os tipos das variáveis\n",
        "df_tedio.dtypes"
      ],
      "execution_count": null,
      "outputs": [
        {
          "output_type": "execute_result",
          "data": {
            "text/plain": [
              "game_id        int64\n",
              "game_name     object\n",
              "uuid           int64\n",
              "timestamp      int64\n",
              "angry        float64\n",
              "disgusted    float64\n",
              "fear         float64\n",
              "sad          float64\n",
              "surprised    float64\n",
              "happy        float64\n",
              "dtype: object"
            ]
          },
          "metadata": {
            "tags": []
          },
          "execution_count": 9
        }
      ]
    },
    {
      "cell_type": "markdown",
      "metadata": {
        "id": "RFlqgKjYWFdb"
      },
      "source": [
        "## Criando classes para a base de dados"
      ]
    },
    {
      "cell_type": "code",
      "metadata": {
        "id": "0uPXJWNnWKph"
      },
      "source": [
        "# função para classificar os dados como tédio (1) ou estresse (0)\n",
        "def def_tedio(c):\n",
        "  if c['angry'] >= 0.1 and c['disgusted'] >= 0.1:\n",
        "    return 1\n",
        "  elif c['sad'] >= 0.1 and c['surprised'] >= 0.1:\n",
        "    return 1\n",
        "  else:\n",
        "    return 0"
      ],
      "execution_count": null,
      "outputs": []
    },
    {
      "cell_type": "code",
      "metadata": {
        "colab": {
          "base_uri": "https://localhost:8080/",
          "height": 297
        },
        "id": "DLcJFazhWNl3",
        "outputId": "c6246e10-0f7a-49c4-b6cf-4da0b0e1986f"
      },
      "source": [
        "# criar a coluna 'target' para o df_tedio\n",
        "df_tratado = pd.DataFrame(df_tedio)\n",
        "\n",
        "df_tratado['target'] = df_tedio.apply(def_tedio, axis=1)\n",
        "\n",
        "df_tratado.head(8)"
      ],
      "execution_count": null,
      "outputs": [
        {
          "output_type": "execute_result",
          "data": {
            "text/html": [
              "<div>\n",
              "<style scoped>\n",
              "    .dataframe tbody tr th:only-of-type {\n",
              "        vertical-align: middle;\n",
              "    }\n",
              "\n",
              "    .dataframe tbody tr th {\n",
              "        vertical-align: top;\n",
              "    }\n",
              "\n",
              "    .dataframe thead th {\n",
              "        text-align: right;\n",
              "    }\n",
              "</style>\n",
              "<table border=\"1\" class=\"dataframe\">\n",
              "  <thead>\n",
              "    <tr style=\"text-align: right;\">\n",
              "      <th></th>\n",
              "      <th>game_id</th>\n",
              "      <th>game_name</th>\n",
              "      <th>uuid</th>\n",
              "      <th>timestamp</th>\n",
              "      <th>angry</th>\n",
              "      <th>disgusted</th>\n",
              "      <th>fear</th>\n",
              "      <th>sad</th>\n",
              "      <th>surprised</th>\n",
              "      <th>happy</th>\n",
              "      <th>target</th>\n",
              "    </tr>\n",
              "  </thead>\n",
              "  <tbody>\n",
              "    <tr>\n",
              "      <th>0</th>\n",
              "      <td>1</td>\n",
              "      <td>Card Flipper</td>\n",
              "      <td>6</td>\n",
              "      <td>1605708643465</td>\n",
              "      <td>0.034800</td>\n",
              "      <td>0.057187</td>\n",
              "      <td>0.010910</td>\n",
              "      <td>0.125495</td>\n",
              "      <td>0.191988</td>\n",
              "      <td>0.131196</td>\n",
              "      <td>1</td>\n",
              "    </tr>\n",
              "    <tr>\n",
              "      <th>1</th>\n",
              "      <td>1</td>\n",
              "      <td>Card Flipper</td>\n",
              "      <td>6</td>\n",
              "      <td>1605708643974</td>\n",
              "      <td>0.040922</td>\n",
              "      <td>0.065980</td>\n",
              "      <td>0.009346</td>\n",
              "      <td>0.123534</td>\n",
              "      <td>0.117035</td>\n",
              "      <td>0.136284</td>\n",
              "      <td>1</td>\n",
              "    </tr>\n",
              "    <tr>\n",
              "      <th>2</th>\n",
              "      <td>1</td>\n",
              "      <td>Card Flipper</td>\n",
              "      <td>6</td>\n",
              "      <td>1605708644480</td>\n",
              "      <td>0.029513</td>\n",
              "      <td>0.050042</td>\n",
              "      <td>0.009480</td>\n",
              "      <td>0.120868</td>\n",
              "      <td>0.194130</td>\n",
              "      <td>0.185262</td>\n",
              "      <td>1</td>\n",
              "    </tr>\n",
              "    <tr>\n",
              "      <th>3</th>\n",
              "      <td>1</td>\n",
              "      <td>Card Flipper</td>\n",
              "      <td>6</td>\n",
              "      <td>1605708644995</td>\n",
              "      <td>0.037817</td>\n",
              "      <td>0.071314</td>\n",
              "      <td>0.010974</td>\n",
              "      <td>0.166960</td>\n",
              "      <td>0.150470</td>\n",
              "      <td>0.122635</td>\n",
              "      <td>1</td>\n",
              "    </tr>\n",
              "    <tr>\n",
              "      <th>4</th>\n",
              "      <td>1</td>\n",
              "      <td>Card Flipper</td>\n",
              "      <td>6</td>\n",
              "      <td>1605708645496</td>\n",
              "      <td>0.040636</td>\n",
              "      <td>0.067900</td>\n",
              "      <td>0.010229</td>\n",
              "      <td>0.137022</td>\n",
              "      <td>0.154919</td>\n",
              "      <td>0.132826</td>\n",
              "      <td>1</td>\n",
              "    </tr>\n",
              "    <tr>\n",
              "      <th>5</th>\n",
              "      <td>1</td>\n",
              "      <td>Card Flipper</td>\n",
              "      <td>6</td>\n",
              "      <td>1605708646011</td>\n",
              "      <td>0.024871</td>\n",
              "      <td>0.045830</td>\n",
              "      <td>0.008720</td>\n",
              "      <td>0.153731</td>\n",
              "      <td>0.235671</td>\n",
              "      <td>0.183499</td>\n",
              "      <td>1</td>\n",
              "    </tr>\n",
              "    <tr>\n",
              "      <th>6</th>\n",
              "      <td>1</td>\n",
              "      <td>Card Flipper</td>\n",
              "      <td>6</td>\n",
              "      <td>1605708646525</td>\n",
              "      <td>0.042983</td>\n",
              "      <td>0.077609</td>\n",
              "      <td>0.011438</td>\n",
              "      <td>0.175638</td>\n",
              "      <td>0.128352</td>\n",
              "      <td>0.108902</td>\n",
              "      <td>1</td>\n",
              "    </tr>\n",
              "    <tr>\n",
              "      <th>7</th>\n",
              "      <td>1</td>\n",
              "      <td>Card Flipper</td>\n",
              "      <td>6</td>\n",
              "      <td>1605708647033</td>\n",
              "      <td>0.037752</td>\n",
              "      <td>0.062227</td>\n",
              "      <td>0.010248</td>\n",
              "      <td>0.155643</td>\n",
              "      <td>0.159876</td>\n",
              "      <td>0.125097</td>\n",
              "      <td>1</td>\n",
              "    </tr>\n",
              "  </tbody>\n",
              "</table>\n",
              "</div>"
            ],
            "text/plain": [
              "   game_id     game_name  uuid  ...  surprised     happy  target\n",
              "0        1  Card Flipper     6  ...   0.191988  0.131196       1\n",
              "1        1  Card Flipper     6  ...   0.117035  0.136284       1\n",
              "2        1  Card Flipper     6  ...   0.194130  0.185262       1\n",
              "3        1  Card Flipper     6  ...   0.150470  0.122635       1\n",
              "4        1  Card Flipper     6  ...   0.154919  0.132826       1\n",
              "5        1  Card Flipper     6  ...   0.235671  0.183499       1\n",
              "6        1  Card Flipper     6  ...   0.128352  0.108902       1\n",
              "7        1  Card Flipper     6  ...   0.159876  0.125097       1\n",
              "\n",
              "[8 rows x 11 columns]"
            ]
          },
          "metadata": {
            "tags": []
          },
          "execution_count": 27
        }
      ]
    },
    {
      "cell_type": "code",
      "metadata": {
        "colab": {
          "base_uri": "https://localhost:8080/"
        },
        "id": "wqWekyicWQ5A",
        "outputId": "b0843dc2-e2bb-4813-a98b-6902d22184c2"
      },
      "source": [
        "# verificar o tipo de dado de cada coluna\n",
        "df_tratado.dtypes"
      ],
      "execution_count": null,
      "outputs": [
        {
          "output_type": "execute_result",
          "data": {
            "text/plain": [
              "game_id        int64\n",
              "game_name     object\n",
              "uuid           int64\n",
              "timestamp      int64\n",
              "angry        float64\n",
              "disgusted    float64\n",
              "fear         float64\n",
              "sad          float64\n",
              "surprised    float64\n",
              "happy        float64\n",
              "target         int64\n",
              "dtype: object"
            ]
          },
          "metadata": {
            "tags": []
          },
          "execution_count": 12
        }
      ]
    },
    {
      "cell_type": "code",
      "metadata": {
        "colab": {
          "base_uri": "https://localhost:8080/"
        },
        "id": "6xEji7WoWSt9",
        "outputId": "37ac7a2e-5c33-494a-a7f6-124a49318666"
      },
      "source": [
        "# verificar que colunas tem valores NaN (Not a Number)\n",
        "df_tratado.isnull().any()"
      ],
      "execution_count": null,
      "outputs": [
        {
          "output_type": "execute_result",
          "data": {
            "text/plain": [
              "game_id      False\n",
              "game_name    False\n",
              "uuid         False\n",
              "timestamp    False\n",
              "angry        False\n",
              "disgusted    False\n",
              "fear         False\n",
              "sad          False\n",
              "surprised    False\n",
              "happy        False\n",
              "target       False\n",
              "dtype: bool"
            ]
          },
          "metadata": {
            "tags": []
          },
          "execution_count": 13
        }
      ]
    },
    {
      "cell_type": "code",
      "metadata": {
        "id": "R0HuXEJRWVAR"
      },
      "source": [
        "# Completando os registros que tem valor NaN com 0.0\n",
        "df_tratado = df_tratado.fillna(0.0)"
      ],
      "execution_count": null,
      "outputs": []
    },
    {
      "cell_type": "markdown",
      "metadata": {
        "id": "ZxtS2n8VWX4L"
      },
      "source": [
        "# Conjunto de dados para treinamento e teste"
      ]
    },
    {
      "cell_type": "code",
      "metadata": {
        "id": "udLeEpXbWbFD"
      },
      "source": [
        "# criar os conjuntos de dados e classes para treinamento e teste\n",
        "from sklearn.model_selection import train_test_split\n",
        "\n",
        "X_treinamento, X_teste, y_treinamento, y_teste = train_test_split(df_tratado.drop(columns=['target']), df_tratado.target, test_size=0.3)"
      ],
      "execution_count": null,
      "outputs": []
    },
    {
      "cell_type": "markdown",
      "metadata": {
        "id": "b80KSSLlKLoi"
      },
      "source": [
        "# Correlação\n",
        "Baseado em [Como selecionar as melhores features para seu modelo de Machine Learning](https://paulovasconcellos.com.br/como-selecionar-as-melhores-features-para-seu-modelo-de-machine-learning-2e9df83d062a)"
      ]
    },
    {
      "cell_type": "code",
      "metadata": {
        "colab": {
          "base_uri": "https://localhost:8080/",
          "height": 445
        },
        "id": "hJL0m2cRKNUz",
        "outputId": "a5d2cd54-04bf-40e2-db10-23a1d27aee36"
      },
      "source": [
        "plt.figure(figsize=(10, 7))\n",
        "sns.heatmap(df_tratado.corr(),\n",
        "            annot = True,\n",
        "            fmt = '.2f',\n",
        "            cmap='Blues')\n",
        "plt.title('Correlação entre variáveis do dataset de tédio')\n",
        "plt.show()"
      ],
      "execution_count": null,
      "outputs": [
        {
          "output_type": "display_data",
          "data": {
            "image/png": "[encoded data removed]",
            "text/plain": [
              "<Figure size 720x504 with 2 Axes>"
            ]
          },
          "metadata": {
            "tags": [],
            "needs_background": "light"
          }
        }
      ]
    },
    {
      "cell_type": "markdown",
      "metadata": {
        "id": "8v7cG1LVKnFh"
      },
      "source": [
        "O valor mostrado para cada correlação vai de -1 — que indica uma correlação negativa perfeita — a +1 — uma correlação positiva perfeita. Vale lembrar que a função .corr() traz, por padrão, a correlação de Pearson, mostrando um relacionamento linear entre as variáveis. Em casos onde há um relacionamento não-linear, a matriz pode não ser uma boa medida."
      ]
    },
    {
      "cell_type": "markdown",
      "metadata": {
        "id": "31csBzHDKtAE"
      },
      "source": [
        "## Feature Importance\n",
        "O feature_importance_ retornar um array onde cada elemento dele é uma feature do seu modelo. Ele irá dizer, em proporções, quão importante aquela feature é para o modelo, onde quanto maior o valor, mais importante a feature é para o modelo."
      ]
    },
    {
      "cell_type": "code",
      "metadata": {
        "colab": {
          "base_uri": "https://localhost:8080/"
        },
        "id": "wOKT3vgSK5DO",
        "outputId": "f6bb4bb4-cd7a-4abb-84c3-c3f63952ca86"
      },
      "source": [
        "from sklearn.ensemble import RandomForestClassifier\n",
        "clf_RFC  = RandomForestClassifier()\n",
        "clf_RFC.fit(X_treinamento, y_treinamento)\n",
        "\n",
        "# Mostrando importância de cada feature\n",
        "clf_RFC.feature_importances_"
      ],
      "execution_count": null,
      "outputs": [
        {
          "output_type": "execute_result",
          "data": {
            "text/plain": [
              "array([0.        , 0.02162371, 0.01026637, 0.24843513, 0.23071344,\n",
              "       0.02383836, 0.18166186, 0.24852112, 0.03494001])"
            ]
          },
          "metadata": {
            "tags": []
          },
          "execution_count": 50
        }
      ]
    },
    {
      "cell_type": "markdown",
      "metadata": {
        "id": "9r4w74bELQ1Y"
      },
      "source": [
        "É retornado um array com quatro elementos. Se você somar todos eles, verá que o resultado será 1. Ao analisar esse array, podemos ver que a feature mais importante para o algoritmo Floresta Randômica foi a variável 'surprised'."
      ]
    },
    {
      "cell_type": "code",
      "metadata": {
        "colab": {
          "base_uri": "https://localhost:8080/",
          "height": 299
        },
        "id": "iA2i8NSyLQTC",
        "outputId": "1190900e-f770-4fa7-88ab-5dfcbd443d69"
      },
      "source": [
        "importances = pd.Series(data=clf_RFC.feature_importances_, index=df_tratado.columns[0:9])\n",
        "sns.barplot(x=importances, y=importances.index, orient='h').set_title('Importância de cada feature')"
      ],
      "execution_count": null,
      "outputs": [
        {
          "output_type": "execute_result",
          "data": {
            "text/plain": [
              "Text(0.5, 1.0, 'Importância de cada feature')"
            ]
          },
          "metadata": {
            "tags": []
          },
          "execution_count": 58
        },
        {
          "output_type": "display_data",
          "data": {
            "image/png": "[encoded data removed]",
            "text/plain": [
              "<Figure size 432x288 with 1 Axes>"
            ]
          },
          "metadata": {
            "tags": [],
            "needs_background": "light"
          }
        }
      ]
    },
    {
      "cell_type": "markdown",
      "metadata": {
        "id": "ZVE2Ws3WLgow"
      },
      "source": [
        "As vezes, os valores mostrados pelo feature_importances_ pode ser enviesado dependendo dos parâmetros definidos na criação do objeto. Evite usar os parâmetros default do XXXX."
      ]
    },
    {
      "cell_type": "markdown",
      "metadata": {
        "id": "zwIncodppu1t"
      },
      "source": [
        "# Regressão Linear Simples e Multipla\n",
        "\n",
        "\n",
        "*   [Linear Regression Example](https://scikit-learn.org/stable/auto_examples/linear_model/plot_ols.html)\n",
        "*   [Implementando Regressão Linear Simples em Python](https://medium.com/data-hackers/implementando-regress%C3%A3o-linear-simples-em-python-91df53b920a8)\n",
        "*   [Regressão Linear](https://www.kaggle.com/marilivb/4-regress-o-linear)\n",
        "*   [https://www.datageeks.com.br/regressao-linear/](https://www.datageeks.com.br/regressao-linear/)\n",
        "\n"
      ]
    },
    {
      "cell_type": "code",
      "metadata": {
        "id": "acY8WTMaprou"
      },
      "source": [
        "from sklearn import linear_model\n",
        "from sklearn.metrics import mean_squared_error, r2_score\n"
      ],
      "execution_count": null,
      "outputs": []
    },
    {
      "cell_type": "code",
      "metadata": {
        "id": "cF93DGFDMEV2"
      },
      "source": [
        "# Criar um objeto de regressão linear\n",
        "regr = linear_model.LinearRegression()\n",
        "\n",
        "# Treinar o modelo usando os conjuntos de treinamento\n",
        "regr.fit(X_treinamento, y_treinamento)\n",
        "\n",
        "# Fazer predições usando o conjunto de teste\n",
        "y_pred = regr.predict(X_teste)"
      ],
      "execution_count": null,
      "outputs": []
    },
    {
      "cell_type": "code",
      "metadata": {
        "id": "HHt8jk3sY3PP"
      },
      "source": [
        "# Os coeficientes encontrados\n",
        "print('Coeficientes: \\n', regr.coef_)\n",
        "# O Erro Médio Quadrático (EMQ)\n",
        "print('Erro Médio Quadrático (EMQ): %.2f'\n",
        "      % mean_squared_error(y_teste, y_pred))\n",
        "# O coeficiente de determinação: 1 é a predição perfeita\n",
        "print('Coeficiente de determinação: %.2f'\n",
        "      % r2_score(y_teste, y_pred))"
      ],
      "execution_count": null,
      "outputs": []
    },
    {
      "cell_type": "markdown",
      "metadata": {
        "id": "IXkTyyxup3yy"
      },
      "source": [
        "## Diagrama de Dispersão"
      ]
    },
    {
      "cell_type": "code",
      "metadata": {
        "id": "c-eIl848p-2A"
      },
      "source": [
        "# plotar saídas\n",
        "plt.scatter(X_teste.iloc[:,0].values, y_teste,  color='black')\n",
        "plt.plot(X_teste, y_pred, color='blue', linewidth=3)\n",
        "\n",
        "plt.xticks(())\n",
        "plt.yticks(())\n",
        "\n",
        "plt.show()"
      ],
      "execution_count": null,
      "outputs": []
    },
    {
      "cell_type": "markdown",
      "metadata": {
        "id": "dpxB5lDHqME1"
      },
      "source": [
        "# Regressão Logística\n",
        "\n",
        "\n",
        "*   [Logistic Regression using Python (scikit-learn)](https://towardsdatascience.com/logistic-regression-using-python-sklearn-numpy-mnist-handwriting-recognition-matplotlib-a6b31e2b166a)\n",
        "*   [Regressão Logística e Métricas de Classificação em Python](http://neylsoncrepalde.github.io/2019-11-25-regressao_logistica_python/)\n",
        "\n"
      ]
    },
    {
      "cell_type": "code",
      "metadata": {
        "colab": {
          "base_uri": "https://localhost:8080/"
        },
        "id": "nP0C4_xIqRr_",
        "outputId": "d66cdedd-e226-4ebc-a495-2584e09d2139"
      },
      "source": [
        "from sklearn.linear_model import LogisticRegression\n",
        "\n",
        "clf_LR = LogisticRegression(random_state=0).fit(X_treinamento, y_treinamento)\n",
        "clf_LR.predict(X_teste)"
      ],
      "execution_count": null,
      "outputs": [
        {
          "output_type": "execute_result",
          "data": {
            "text/plain": [
              "array([1, 1, 1, ..., 1, 1, 1])"
            ]
          },
          "metadata": {
            "tags": []
          },
          "execution_count": 74
        }
      ]
    },
    {
      "cell_type": "code",
      "metadata": {
        "colab": {
          "base_uri": "https://localhost:8080/"
        },
        "id": "OqtlI5egaIzC",
        "outputId": "097d9de0-b8ba-4238-c302-d98e780131d9"
      },
      "source": [
        "clf_LR.predict_proba(X_teste)"
      ],
      "execution_count": null,
      "outputs": [
        {
          "output_type": "execute_result",
          "data": {
            "text/plain": [
              "0.5625524769101595"
            ]
          },
          "metadata": {
            "tags": []
          },
          "execution_count": 77
        }
      ]
    },
    {
      "cell_type": "code",
      "metadata": {
        "colab": {
          "base_uri": "https://localhost:8080/"
        },
        "id": "OJ0mszycaW84",
        "outputId": "dfcf2f4f-3563-46a2-dd72-ea3c8107a8cc"
      },
      "source": [
        "clf_LR.score(X_treinamento, y_treinamento)"
      ],
      "execution_count": null,
      "outputs": [
        {
          "output_type": "execute_result",
          "data": {
            "text/plain": [
              "0.5625524769101595"
            ]
          },
          "metadata": {
            "tags": []
          },
          "execution_count": 78
        }
      ]
    },
    {
      "cell_type": "markdown",
      "metadata": {
        "id": "POpiucx6qSIH"
      },
      "source": [
        "## Diagrama de Dispersão"
      ]
    },
    {
      "cell_type": "code",
      "metadata": {
        "id": "w9Mey12tbRzP",
        "colab": {
          "base_uri": "https://localhost:8080/",
          "height": 252
        },
        "outputId": "405e3903-28e0-4a53-faa2-17733109e48c"
      },
      "source": [
        "# plotar saídas\n",
        "plt.scatter(X_teste.iloc[:,0].values, y_teste,  color='black')\n",
        "plt.plot(X_teste, y_pred, color='blue', linewidth=3)\n",
        "\n",
        "plt.xticks(())\n",
        "plt.yticks(())\n",
        "\n",
        "plt.show()"
      ],
      "execution_count": null,
      "outputs": [
        {
          "output_type": "display_data",
          "data": {
            "image/png": "[encoded data removed]",
            "text/plain": [
              "<Figure size 432x288 with 1 Axes>"
            ]
          },
          "metadata": {
            "tags": []
          }
        }
      ]
    }
  ]
}